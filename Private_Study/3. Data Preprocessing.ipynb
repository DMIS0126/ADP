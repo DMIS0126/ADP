{
 "cells": [
  {
   "cell_type": "markdown",
   "source": [
    "# 데이터 전처리"
   ],
   "metadata": {
    "collapsed": false
   }
  },
  {
   "cell_type": "markdown",
   "source": [
    "### 데이터 전처리의 의미\n",
    "|      구분      | 내용                    |\n",
    "|:------------:|:----------------------|\n",
    "|   데이터 클리닝    | 결측치 처리, 이상치 확인 및 정제 등 |\n",
    "|    데이터 통합    | 다양한 데이터 파일의 결합 등      |\n",
    "|    데이터 변환    | 스케일링, 요약 등            |\n",
    "|    데이터 축소    | 변수 축소, 라벨링 등          |\n",
    "|  불균형 데이터 처리  | 언더 샘플링, 오버 샘플링 등      |\n",
    "|    데이터 분할    | train, test 데이터 분할 등  |\n"
   ],
   "metadata": {
    "collapsed": false
   }
  },
  {
   "cell_type": "markdown",
   "source": [
    "### 이상치 확인 및 정제\n",
    "#### 이상치의 의미\n",
    "* 관측값의 형식과 다른 형식의 값으로 표시된 결측치\n",
    "  * ERROR값\n",
    "* 관측값의 형식과 같은 형식의 값으로 표시된 결측치\n",
    "  * 100점 만점인 시험 컬럼에서 999점\n",
    "* 자료 수집의 오류로 발생한 이상치\n",
    "  * 거실 온도 컬럼에서 2345도\n",
    "* 다른 관측치들과는 현저히 차이나는 실제 관측치\n",
    "  * 일자별 게임 시간에서 20시간(나머지는 1~5시간)\n",
    "\n",
    "#### 이상치 확인\n",
    "이상치를 확인하는 방법은 데이터에 따라 다양하지만, 주로 boxplot에서 닫힌구간 [Q1-1.5*IQR, Q3+1.5*IQR] 밖에 있는 값을 이상치로 정의한다.\n",
    "물론, 정규화를 이용하여 이상치를 정의할 수도 있다."
   ],
   "metadata": {
    "collapsed": false
   }
  },
  {
   "cell_type": "code",
   "execution_count": 78,
   "metadata": {
    "collapsed": true
   },
   "outputs": [
    {
     "data": {
      "text/plain": "<Figure size 432x288 with 1 Axes>",
      "image/png": "[encoded data removed]"
     },
     "metadata": {
      "needs_background": "light"
     },
     "output_type": "display_data"
    },
    {
     "name": "stdout",
     "output_type": "stream",
     "text": [
      "     color_intensity\n",
      "166            10.68\n",
      "151            10.80\n",
      "159            11.75\n",
      "158            13.00\n"
     ]
    }
   ],
   "source": [
    "# IQR 방식으로 이상치 구하기\n",
    "import pandas as pd\n",
    "import matplotlib.pyplot as plt\n",
    "from sklearn.datasets import load_wine\n",
    "wine_load = load_wine()\n",
    "wine = pd.DataFrame(wine_load.data, columns = wine_load.feature_names)\n",
    "wine['class'] = wine_load.target\n",
    "wine['class'] = wine['class'].map({0:'class_0', 1:'class_1', 2:'class_2'})\n",
    "\n",
    "plt.boxplot(wine['color_intensity'])\n",
    "plt.title('color_intensity')\n",
    "plt.xlabel('wine')\n",
    "plt.show()\n",
    "\n",
    "# 이상치를 가져오는 함수 정의 후 이상치의 위치와 값 확인해보기\n",
    "import numpy as np\n",
    "def outliers_iqr(dt, col):\n",
    "    quantile_1, quantile_3 = np.percentile(dt[col], [25, 75])\n",
    "    iqr = quantile_3-quantile_1\n",
    "    lower_whis = quantile_1-1.5*iqr\n",
    "    upper_whis = quantile_3+1.5*iqr\n",
    "    outliers = dt[(dt[col]>upper_whis)|(dt[col]<lower_whis)]\n",
    "    return outliers[[col]]\n",
    "\n",
    "outliers = outliers_iqr(wine, 'color_intensity')\n",
    "print(outliers.sort_values(by='color_intensity'))"
   ]
  },
  {
   "cell_type": "markdown",
   "source": [
    "### 이상치 정제"
   ],
   "metadata": {
    "collapsed": false
   }
  },
  {
   "cell_type": "code",
   "execution_count": 79,
   "outputs": [
    {
     "name": "stdout",
     "output_type": "stream",
     "text": [
      "Original :  (178, 14)\n",
      "Drop outliers :  (174, 14)\n",
      "\n",
      "=====\n",
      "\n",
      "151    4.908678\n",
      "158    4.908678\n",
      "159    4.908678\n",
      "166    4.908678\n",
      "Name: color_intensity, dtype: float64\n"
     ]
    }
   ],
   "source": [
    "# 이상치 제거\n",
    "# 데이터의 수가 매우 많고 이상치가 존재하는 행이 전체 데이터에 비해 많지 않은 경우 이상치가 존재하는 행 전체를 삭제할 수 있다.\n",
    "\n",
    "drop_outliers = wine.drop(index=outliers.index)\n",
    "\n",
    "# 이상치를 삭제하기 전과 후의 데이터 shape\n",
    "print('Original : ', wine.shape)\n",
    "print('Drop outliers : ', drop_outliers.shape)\n",
    "print('\\n=====\\n')\n",
    "\n",
    "# 이상치 대체\n",
    "# 이상치를 대체할 때는 이상치를 Null로 만든 후 결측치화 함께 대체하면 간단하게 수행할 수 있다.\n",
    "# wine['color_intensity']의 이상치를 평균으로 대체하기\n",
    "wine.loc[outliers.index, 'color_intensity'] = None\n",
    "wine['color_intensity'].fillna(wine['color_intensity'].mean(), inplace=True)\n",
    "print(wine.loc[outliers.index, 'color_intensity'])"
   ],
   "metadata": {
    "collapsed": false
   }
  },
  {
   "cell_type": "markdown",
   "source": [
    "---"
   ],
   "metadata": {
    "collapsed": false
   }
  },
  {
   "cell_type": "markdown",
   "source": [
    "### 범주형 변수 처리(get_dummies, LabelEncoder)"
   ],
   "metadata": {
    "collapsed": false
   }
  },
  {
   "cell_type": "code",
   "execution_count": 80,
   "outputs": [
    {
     "name": "stdout",
     "output_type": "stream",
     "text": [
      "dummy 만들기\n",
      "      sepal length (cm)  sepal width (cm)  petal length (cm)  petal width (cm)   \n",
      "0                  5.1               3.5                1.4               0.2  \\\n",
      "1                  4.9               3.0                1.4               0.2   \n",
      "2                  4.7               3.2                1.3               0.2   \n",
      "3                  4.6               3.1                1.5               0.2   \n",
      "4                  5.0               3.6                1.4               0.2   \n",
      "..                 ...               ...                ...               ...   \n",
      "145                6.7               3.0                5.2               2.3   \n",
      "146                6.3               2.5                5.0               1.9   \n",
      "147                6.5               3.0                5.2               2.0   \n",
      "148                6.2               3.4                5.4               2.3   \n",
      "149                5.9               3.0                5.1               1.8   \n",
      "\n",
      "     class_Setosa  class_Versicolour  class_Virginica  \n",
      "0            True              False            False  \n",
      "1            True              False            False  \n",
      "2            True              False            False  \n",
      "3            True              False            False  \n",
      "4            True              False            False  \n",
      "..            ...                ...              ...  \n",
      "145         False              False             True  \n",
      "146         False              False             True  \n",
      "147         False              False             True  \n",
      "148         False              False             True  \n",
      "149         False              False             True  \n",
      "\n",
      "[150 rows x 7 columns]\n",
      "\n",
      "=====\n",
      "\n",
      "LabelEncoder\n",
      "      sepal length (cm)  sepal width (cm)  petal length (cm)  petal width (cm)   \n",
      "0                  5.1               3.5                1.4               0.2  \\\n",
      "1                  4.9               3.0                1.4               0.2   \n",
      "2                  4.7               3.2                1.3               0.2   \n",
      "3                  4.6               3.1                1.5               0.2   \n",
      "4                  5.0               3.6                1.4               0.2   \n",
      "..                 ...               ...                ...               ...   \n",
      "145                6.7               3.0                5.2               2.3   \n",
      "146                6.3               2.5                5.0               1.9   \n",
      "147                6.5               3.0                5.2               2.0   \n",
      "148                6.2               3.4                5.4               2.3   \n",
      "149                5.9               3.0                5.1               1.8   \n",
      "\n",
      "     class  \n",
      "0        0  \n",
      "1        0  \n",
      "2        0  \n",
      "3        0  \n",
      "4        0  \n",
      "..     ...  \n",
      "145      2  \n",
      "146      2  \n",
      "147      2  \n",
      "148      2  \n",
      "149      2  \n",
      "\n",
      "[150 rows x 5 columns]\n",
      "\n",
      "=====\n",
      "\n",
      "['Setosa' 'Versicolour' 'Virginica']\n"
     ]
    }
   ],
   "source": [
    "import pandas as pd\n",
    "from sklearn.datasets import load_iris\n",
    "iris_load = load_iris()\n",
    "iris = pd.DataFrame(iris_load.data, columns = iris_load.feature_names)\n",
    "iris['class'] = iris_load.target\n",
    "iris['class'] = iris['class'].map({0:'Setosa', 1:'Versicolour', 2:'Virginica'})\n",
    "\n",
    "# get_dummies\n",
    "# class의 각 항목에 대하여 컬럼을 만들고, True(1)/False(0)를 기입한다.\n",
    "iris_dummy = pd.get_dummies(iris, columns = ['class'])\n",
    "print('dummy 만들기\\n',iris_dummy)\n",
    "print('\\n=====\\n')\n",
    "\n",
    "# LabelEncoder\n",
    "# class에 있는 가짓수를 보고 0부터 n까지 숫자를 기입한다.\n",
    "from sklearn.preprocessing import LabelEncoder\n",
    "encoder = LabelEncoder()\n",
    "iris['class'] = encoder.fit_transform(iris['class'])\n",
    "print('LabelEncoder\\n', iris)\n",
    "print('\\n=====\\n')\n",
    "\n",
    "# encoder.inverse_transform을 통해 원래의 값을 확인할 수 있다.\n",
    "print(encoder.inverse_transform(iris['class'].unique()))"
   ],
   "metadata": {
    "collapsed": false
   }
  },
  {
   "cell_type": "markdown",
   "source": [
    "### 데이터 분할(train_test_split)"
   ],
   "metadata": {
    "collapsed": false
   }
  },
  {
   "cell_type": "code",
   "execution_count": 81,
   "outputs": [
    {
     "name": "stdout",
     "output_type": "stream",
     "text": [
      "x_train :  (120, 4) x_test :  (30, 4)\n",
      "y_train :  (120,) y_test :  (30,)\n",
      "\n",
      "=====\n",
      "\n",
      "분할 전 target\n",
      " class\n",
      "Setosa         50\n",
      "Versicolour    50\n",
      "Virginica      50\n",
      "Name: count, dtype: int64\n",
      "분할 후 train\n",
      " class\n",
      "Versicolour    41\n",
      "Setosa         40\n",
      "Virginica      39\n",
      "Name: count, dtype: int64\n",
      "x_train :  (120, 4) x_test :  (30, 4)\n",
      "y_train :  (120,) y_test :  (30,)\n",
      "\n",
      "=====\n",
      "\n",
      "stratify 설정 및 분할 전 target\n",
      " class\n",
      "Setosa         50\n",
      "Versicolour    50\n",
      "Virginica      50\n",
      "Name: count, dtype: int64\n",
      "stratify 설정 및 분할 후 train\n",
      " class\n",
      "Versicolour    40\n",
      "Virginica      40\n",
      "Setosa         40\n",
      "Name: count, dtype: int64\n"
     ]
    }
   ],
   "source": [
    "# from sklearn.model_selection import train_test_split\n",
    "# x_train, x_test, y_train, y_test = train_test_split(arrays, test_size=None, train_size=None, random_state=None, shuffle=True, stratify=None)\n",
    "    # x : 독립변수 테이블\n",
    "    # y : 종속변수 테이블\n",
    "    # test_size : 테스트 사이즈 비율\n",
    "    # randon_state : 임의의 번호 지정, 같은 숫자를 사용하면 같은 출력이 나옴\n",
    "        # 분석 모델을 튜닝할 때, 같은 데이터세트에서 분석 결과를 비교하고자 할 때 유용하게 사용할 수 있다.\n",
    "    # shuffle : True이면 추출 전에 데이터를 섞음, False면 섞지 않음\n",
    "    # stratify : None이 아닌 경우 데이터는 지정한 변수를 기준으로 계층화되어 해당 변수의 비율을 유지하도록 추출\n",
    "        # 즉, 층화임의추출 여부를 결정한다.\n",
    "\n",
    "# 전통적으로 머신러닝 방법에서는 train:test = 8:2 또는 train:validation:test = 6:2:2 정도로 나눈다.\n",
    "\n",
    "import pandas as pd\n",
    "from sklearn.datasets import load_iris\n",
    "iris_load = load_iris()\n",
    "iris = pd.DataFrame(iris_load.data, columns = iris_load.feature_names)\n",
    "iris['class'] = iris_load.target\n",
    "iris['class'] = iris['class'].map({0:'Setosa', 1:'Versicolour', 2:'Virginica'})\n",
    "\n",
    "from sklearn.model_selection import train_test_split\n",
    "target = iris.pop('class')\n",
    "x_train, x_test, y_train, y_test = train_test_split(iris, target, test_size=0.2, random_state=1004)\n",
    "print('x_train : ', x_train.shape, 'x_test : ', x_test.shape)\n",
    "print('y_train : ', y_train.shape, 'y_test : ', y_test.shape)\n",
    "print('\\n=====\\n')\n",
    "print('분할 전 target\\n', target.value_counts())\n",
    "print('분할 후 train\\n',y_train.value_counts())\n",
    "\n",
    "# stratify를 지정하지 않으면 각 범주의 개수의 비율이 원본 데이터와 달라질 수 있으므로 확인 및 처리가 필요하다.\n",
    "# 위에서 train 데이터의 target 범주가 각각 41, 40, 39개이므로 40, 40, 40과 같이 맞추기 위해 stratify 설정하기\n",
    "x_train, x_test, y_train, y_test = train_test_split(iris, target, test_size=0.2, random_state=1004, stratify=target)\n",
    "print('x_train : ', x_train.shape, 'x_test : ', x_test.shape)\n",
    "print('y_train : ', y_train.shape, 'y_test : ', y_test.shape)\n",
    "print('\\n=====\\n')\n",
    "print('stratify 설정 및 분할 전 target\\n', target.value_counts())\n",
    "print('stratify 설정 및 분할 후 train\\n',y_train.value_counts())"
   ],
   "metadata": {
    "collapsed": false
   }
  },
  {
   "cell_type": "markdown",
   "source": [
    "---"
   ],
   "metadata": {
    "collapsed": false
   }
  },
  {
   "cell_type": "markdown",
   "source": [
    "### 데이터 스케일링\n",
    "#### 데이터 스케일링 방법\n",
    "1. Scaler 선택 및 import\n",
    "2. Scaler 객체 생성\n",
    "3. train 데이터의 분포 저장 : scaler.fit(x_train)\n",
    "4. train 데이터 스케일링 : scaler.transform(x_train)\n",
    "5. test 데이터 스케일링 : scaler.transform(x_test)\n",
    "\n",
    "* 다음과 같이 fit과 transform을 한번에 할 수도 있다.\n",
    "```python\n",
    "x_train = pd.DataFrame(scaler.fit_transform(x_train), columns = x_train.columns)\n",
    "x_test = pd.DataFrame(scaler.fit_transform(x_test), columns = x_test.columns)\n",
    "```"
   ],
   "metadata": {
    "collapsed": false
   }
  },
  {
   "cell_type": "code",
   "execution_count": 82,
   "outputs": [
    {
     "name": "stdout",
     "output_type": "stream",
     "text": [
      "scaled_train\n",
      "        sepal length (cm)  sepal width (cm)  petal length (cm)   \n",
      "count       1.200000e+02      1.200000e+02       1.200000e+02  \\\n",
      "mean        8.881784e-16      2.090920e-15       3.996803e-16   \n",
      "std         1.004193e+00      1.004193e+00       1.004193e+00   \n",
      "min        -1.885558e+00     -2.371579e+00      -1.564150e+00   \n",
      "25%        -9.144553e-01     -5.660946e-01      -1.226463e+00   \n",
      "50%        -6.474020e-02     -1.147235e-01       3.212723e-01   \n",
      "75%         6.635870e-01      6.187545e-01       7.433818e-01   \n",
      "max         2.241629e+00      3.044874e+00       1.756445e+00   \n",
      "\n",
      "       petal width (cm)  \n",
      "count      1.200000e+02  \n",
      "mean      -5.625130e-16  \n",
      "std        1.004193e+00  \n",
      "min       -1.445568e+00  \n",
      "25%       -1.182139e+00  \n",
      "50%        1.350075e-01  \n",
      "75%        7.935808e-01  \n",
      "max        1.715583e+00  \n",
      "\n",
      "=====\n",
      "\n",
      "scaled_test\n",
      "        sepal length (cm)  sepal width (cm)  petal length (cm)   \n",
      "count       3.000000e+01      3.000000e+01       3.000000e+01  \\\n",
      "mean        6.883383e-16      7.031412e-16      -3.700743e-18   \n",
      "std         1.017095e+00      1.017095e+00       1.017095e+00   \n",
      "min        -1.690654e+00     -1.722446e+00      -1.467493e+00   \n",
      "25%        -9.376905e-01     -4.621196e-01      -1.274662e+00   \n",
      "50%        -4.015805e-03     -2.100544e-01       4.311501e-01   \n",
      "75%         8.393033e-01      4.831250e-01       8.316450e-01   \n",
      "max         2.525941e+00      2.310598e+00       1.617802e+00   \n",
      "\n",
      "       petal width (cm)  \n",
      "count      3.000000e+01  \n",
      "mean      -2.183439e-16  \n",
      "std        1.017095e+00  \n",
      "min       -1.321869e+00  \n",
      "25%       -1.059246e+00  \n",
      "50%        1.882131e-01  \n",
      "75%        7.791147e-01  \n",
      "max        1.566983e+00  \n"
     ]
    }
   ],
   "source": [
    "# StandardScaler\n",
    "# 표준화 방식(평균 0, 분산 1)\n",
    "# 최솟값과 최댓값의 크기를 제한하지 않아 이상치에 매우 민감하다.\n",
    "# 따라서 이상치는 미리 확인 및 정제한 후 사용하는 것이 좋다.\n",
    "# 회귀보다는 분류분석에서 유용한 방식이다.\n",
    "\n",
    "from sklearn.preprocessing import StandardScaler\n",
    "stdscaler = StandardScaler()\n",
    "\n",
    "x_train_stdsc = pd.DataFrame(stdscaler.fit_transform(x_train), columns = x_train.columns)\n",
    "x_test_stdsc = pd.DataFrame(stdscaler.fit_transform(x_test), columns = x_test.columns)\n",
    "\n",
    "# 결과 확인\n",
    "print('scaled_train\\n',x_train_stdsc.describe())\n",
    "print('\\n=====\\n')\n",
    "print('scaled_test\\n',x_test_stdsc.describe())"
   ],
   "metadata": {
    "collapsed": false
   }
  },
  {
   "cell_type": "code",
   "execution_count": 86,
   "outputs": [
    {
     "name": "stdout",
     "output_type": "stream",
     "text": [
      "scaled_train\n",
      "        sepal length (cm)  sepal width (cm)  petal length (cm)   \n",
      "count         120.000000        120.000000         120.000000  \\\n",
      "mean            0.456863          0.437847           0.471045   \n",
      "std             0.243312          0.185397           0.302414   \n",
      "min             0.000000          0.000000           0.000000   \n",
      "25%             0.235294          0.333333           0.101695   \n",
      "50%             0.441176          0.416667           0.567797   \n",
      "75%             0.617647          0.552083           0.694915   \n",
      "max             1.000000          1.000000           1.000000   \n",
      "\n",
      "       petal width (cm)  \n",
      "count        120.000000  \n",
      "mean           0.457292  \n",
      "std            0.317667  \n",
      "min            0.000000  \n",
      "25%            0.083333  \n",
      "50%            0.500000  \n",
      "75%            0.708333  \n",
      "max            1.000000  \n",
      "\n",
      "=====\n",
      "\n",
      "scaled_test\n",
      "        sepal length (cm)  sepal width (cm)  petal length (cm)   \n",
      "count          30.000000         30.000000          30.000000  \\\n",
      "mean            0.400952          0.427083           0.475641   \n",
      "std             0.241212          0.252190           0.329659   \n",
      "min             0.000000          0.000000           0.000000   \n",
      "25%             0.178571          0.312500           0.062500   \n",
      "50%             0.400000          0.375000           0.615385   \n",
      "75%             0.600000          0.546875           0.745192   \n",
      "max             1.000000          1.000000           1.000000   \n",
      "\n",
      "       petal width (cm)  \n",
      "count         30.000000  \n",
      "mean           0.457576  \n",
      "std            0.352076  \n",
      "min            0.000000  \n",
      "25%            0.090909  \n",
      "50%            0.522727  \n",
      "75%            0.727273  \n",
      "max            1.000000  \n"
     ]
    }
   ],
   "source": [
    "# Min-max Scaler\n",
    "# 최대최소변환\n",
    "# 모든 값을 0과 1 사이의 값으로 스케일링\n",
    "# (값 - 최솟값) / (최댓값 - 최솟값)\n",
    "# Standard Scaler와 마찬가지르 이상치에 매우 민감하다.\n",
    "# 따라서 이상치는 미리 확인 및 정제한 후 사용하는 것이 좋다.\n",
    "# Standard Scaler와 반대로 분류보다는 회귀에 유용한 방식이다.\n",
    "\n",
    "from sklearn.preprocessing import MinMaxScaler\n",
    "\n",
    "Mmscaler = MinMaxScaler()\n",
    "x_train_Mmsc = pd.DataFrame(Mmscaler.fit_transform(x_train), columns = x_train.columns)\n",
    "x_test_Mmsc = pd.DataFrame(Mmscaler.fit_transform(x_test), columns = x_test.columns)\n",
    "\n",
    "# 결과 확인\n",
    "print('scaled_train\\n',x_train_Mmsc.describe())\n",
    "print('\\n=====\\n')\n",
    "print('scaled_test\\n',x_test_Mmsc.describe())"
   ],
   "metadata": {
    "collapsed": false
   }
  },
  {
   "cell_type": "code",
   "execution_count": 87,
   "outputs": [
    {
     "name": "stdout",
     "output_type": "stream",
     "text": [
      "scaled_train\n",
      "        sepal length (cm)  sepal width (cm)  petal length (cm)   \n",
      "count         120.000000        120.000000         120.000000  \\\n",
      "mean            0.760173          0.693371           0.547705   \n",
      "std             0.107436          0.101126           0.258585   \n",
      "min             0.558442          0.454545           0.144928   \n",
      "25%             0.662338          0.636364           0.231884   \n",
      "50%             0.753247          0.681818           0.630435   \n",
      "75%             0.831169          0.755682           0.739130   \n",
      "max             1.000000          1.000000           1.000000   \n",
      "\n",
      "       petal width (cm)  \n",
      "count         120.00000  \n",
      "mean            0.47900  \n",
      "std             0.30496  \n",
      "min             0.04000  \n",
      "25%             0.12000  \n",
      "50%             0.52000  \n",
      "75%             0.72000  \n",
      "max             1.00000  \n",
      "\n",
      "=====\n",
      "\n",
      "scaled_test\n",
      "        sepal length (cm)  sepal width (cm)  petal length (cm)   \n",
      "count          30.000000         30.000000          30.000000  \\\n",
      "mean            0.734599          0.770833           0.573958   \n",
      "std             0.106866          0.100876           0.267848   \n",
      "min             0.556962          0.600000           0.187500   \n",
      "25%             0.636076          0.725000           0.238281   \n",
      "50%             0.734177          0.750000           0.687500   \n",
      "75%             0.822785          0.818750           0.792969   \n",
      "max             1.000000          1.000000           1.000000   \n",
      "\n",
      "       petal width (cm)  \n",
      "count         30.000000  \n",
      "mean           0.502778  \n",
      "std            0.322736  \n",
      "min            0.083333  \n",
      "25%            0.166667  \n",
      "50%            0.562500  \n",
      "75%            0.750000  \n",
      "max            1.000000  \n"
     ]
    }
   ],
   "source": [
    "# Max Abs Scaler\n",
    "# 최대절댓값과 0이 각각 1, 0이 되도록 스케일링\n",
    "# 이에 따라 모든 값은 -1과 1 사이에 표현되며, 데이터가 양수인 경우 Min-max Scaler와 동일하다.\n",
    "# 이상치에 매우 민감하며, 분류보다는 회귀분석에서 유용하다.\n",
    "\n",
    "from sklearn.preprocessing import MaxAbsScaler\n",
    "Mascaler = MaxAbsScaler()\n",
    "\n",
    "x_train_Masc = pd.DataFrame(Mascaler.fit_transform(x_train), columns = x_train.columns)\n",
    "x_test_Masc = pd.DataFrame(Mascaler.fit_transform(x_test), columns = x_test.columns)\n",
    "\n",
    "# 결과 확인\n",
    "print('scaled_train\\n',x_train_Masc.describe())\n",
    "print('\\n=====\\n')\n",
    "print('scaled_test\\n',x_test_Masc.describe())"
   ],
   "metadata": {
    "collapsed": false
   }
  },
  {
   "cell_type": "code",
   "execution_count": 88,
   "outputs": [
    {
     "name": "stdout",
     "output_type": "stream",
     "text": [
      "scaled_train\n",
      "        sepal length (cm)  sepal width (cm)  petal length (cm)   \n",
      "count         120.000000        120.000000       1.200000e+02  \\\n",
      "mean            0.041026          0.096825      -1.630952e-01   \n",
      "std             0.636354          0.847528       5.097828e-01   \n",
      "min            -1.153846         -1.904762      -9.571429e-01   \n",
      "25%            -0.538462         -0.380952      -7.857143e-01   \n",
      "50%             0.000000          0.000000       1.266348e-16   \n",
      "75%             0.461538          0.619048       2.142857e-01   \n",
      "max             1.461538          2.666667       7.285714e-01   \n",
      "\n",
      "       petal width (cm)  \n",
      "count        120.000000  \n",
      "mean          -0.068333  \n",
      "std            0.508267  \n",
      "min           -0.800000  \n",
      "25%           -0.666667  \n",
      "50%            0.000000  \n",
      "75%            0.333333  \n",
      "max            0.800000  \n",
      "\n",
      "=====\n",
      "\n",
      "scaled_test\n",
      "        sepal length (cm)  sepal width (cm)  petal length (cm)   \n",
      "count          30.000000         30.000000       3.000000e+01  \\\n",
      "mean            0.002260          0.222222      -2.046948e-01   \n",
      "std             0.572368          1.076013       4.828809e-01   \n",
      "min            -0.949153         -1.600000      -9.014085e-01   \n",
      "25%            -0.525424         -0.266667      -8.098592e-01   \n",
      "50%             0.000000          0.000000      -1.283695e-16   \n",
      "75%             0.474576          0.733333       1.901408e-01   \n",
      "max             1.423729          2.666667       5.633803e-01   \n",
      "\n",
      "       petal width (cm)  \n",
      "count      3.000000e+01  \n",
      "mean      -1.023810e-01  \n",
      "std        5.532621e-01  \n",
      "min       -8.214286e-01  \n",
      "25%       -6.785714e-01  \n",
      "50%       -8.326673e-17  \n",
      "75%        3.214286e-01  \n",
      "max        7.500000e-01  \n"
     ]
    }
   ],
   "source": [
    "# Robust Scaler\n",
    "# 평균과 분산 대신 중앙값과 사분위 값을 활용하는 방식\n",
    "# 중앙값을 0으로 설정하고 IQR을 사용하여 이상치의 영향을 최소화한다.\n",
    "# quantile_range 파라미터를 조정하여 더 넓거나 좁은 범위의 값을 이상치로 설정하여 정제할 수 있다.\n",
    "\n",
    "from sklearn.preprocessing import RobustScaler\n",
    "rbscaler = RobustScaler()\n",
    "\n",
    "x_train_rbsc = pd.DataFrame(rbscaler.fit_transform(x_train), columns = x_train.columns)\n",
    "x_test_rbsc = pd.DataFrame(rbscaler.fit_transform(x_test), columns = x_test.columns)\n",
    "\n",
    "# 결과 확인\n",
    "print('scaled_train\\n',x_train_rbsc.describe())\n",
    "print('\\n=====\\n')\n",
    "print('scaled_test\\n',x_test_rbsc.describe())"
   ],
   "metadata": {
    "collapsed": false
   }
  },
  {
   "cell_type": "code",
   "execution_count": 97,
   "outputs": [
    {
     "data": {
      "text/plain": "            0         1         2         3\n0    6.505686  3.158900  3.938184  1.308206\n1    5.675633  2.932201  3.938184  1.562056\n2    5.739483  3.083333  3.601101  1.155897\n3    6.122585  3.385598  4.275267  1.765135\n4    5.292531  3.385598  2.349079  0.749738\n..        ...       ...       ...       ...\n115  5.420232  2.856635  3.456637  1.257437\n116  5.994884  2.932201  3.504792  1.206667\n117  6.505686  3.234466  4.323422  1.714365\n118  6.058734  3.385598  4.178958  1.714365\n119  6.122585  3.007767  4.275267  1.460516\n\n[120 rows x 4 columns]",
      "text/html": "<div>\n<style scoped>\n    .dataframe tbody tr th:only-of-type {\n        vertical-align: middle;\n    }\n\n    .dataframe tbody tr th {\n        vertical-align: top;\n    }\n\n    .dataframe thead th {\n        text-align: right;\n    }\n</style>\n<table border=\"1\" class=\"dataframe\">\n  <thead>\n    <tr style=\"text-align: right;\">\n      <th></th>\n      <th>0</th>\n      <th>1</th>\n      <th>2</th>\n      <th>3</th>\n    </tr>\n  </thead>\n  <tbody>\n    <tr>\n      <th>0</th>\n      <td>6.505686</td>\n      <td>3.158900</td>\n      <td>3.938184</td>\n      <td>1.308206</td>\n    </tr>\n    <tr>\n      <th>1</th>\n      <td>5.675633</td>\n      <td>2.932201</td>\n      <td>3.938184</td>\n      <td>1.562056</td>\n    </tr>\n    <tr>\n      <th>2</th>\n      <td>5.739483</td>\n      <td>3.083333</td>\n      <td>3.601101</td>\n      <td>1.155897</td>\n    </tr>\n    <tr>\n      <th>3</th>\n      <td>6.122585</td>\n      <td>3.385598</td>\n      <td>4.275267</td>\n      <td>1.765135</td>\n    </tr>\n    <tr>\n      <th>4</th>\n      <td>5.292531</td>\n      <td>3.385598</td>\n      <td>2.349079</td>\n      <td>0.749738</td>\n    </tr>\n    <tr>\n      <th>...</th>\n      <td>...</td>\n      <td>...</td>\n      <td>...</td>\n      <td>...</td>\n    </tr>\n    <tr>\n      <th>115</th>\n      <td>5.420232</td>\n      <td>2.856635</td>\n      <td>3.456637</td>\n      <td>1.257437</td>\n    </tr>\n    <tr>\n      <th>116</th>\n      <td>5.994884</td>\n      <td>2.932201</td>\n      <td>3.504792</td>\n      <td>1.206667</td>\n    </tr>\n    <tr>\n      <th>117</th>\n      <td>6.505686</td>\n      <td>3.234466</td>\n      <td>4.323422</td>\n      <td>1.714365</td>\n    </tr>\n    <tr>\n      <th>118</th>\n      <td>6.058734</td>\n      <td>3.385598</td>\n      <td>4.178958</td>\n      <td>1.714365</td>\n    </tr>\n    <tr>\n      <th>119</th>\n      <td>6.122585</td>\n      <td>3.007767</td>\n      <td>4.275267</td>\n      <td>1.460516</td>\n    </tr>\n  </tbody>\n</table>\n<p>120 rows × 4 columns</p>\n</div>"
     },
     "execution_count": 97,
     "metadata": {},
     "output_type": "execute_result"
    }
   ],
   "source": [
    "# scaler.inverse_transform을 통해 원래의 값을 확인할 수 있다.\n",
    "x_train_rbsc_original = pd.DataFrame(rbscaler.inverse_transform(x_train_rbsc))\n",
    "x_train_stdsc_original = pd.DataFrame(stdscaler.inverse_transform(x_train_rbsc))\n",
    "\n",
    "# 왜 제대로 안되는지 모르겠다."
   ],
   "metadata": {
    "collapsed": false
   }
  },
  {
   "cell_type": "markdown",
   "source": [
    "---"
   ],
   "metadata": {
    "collapsed": false
   }
  },
  {
   "cell_type": "markdown",
   "source": [
    "### 차원 축소"
   ],
   "metadata": {
    "collapsed": false
   }
  },
  {
   "cell_type": "code",
   "execution_count": null,
   "outputs": [],
   "source": [],
   "metadata": {
    "collapsed": false
   }
  }
 ],
 "metadata": {
  "kernelspec": {
   "display_name": "Python 3",
   "language": "python",
   "name": "python3"
  },
  "language_info": {
   "codemirror_mode": {
    "name": "ipython",
    "version": 2
   },
   "file_extension": ".py",
   "mimetype": "text/x-python",
   "name": "python",
   "nbconvert_exporter": "python",
   "pygments_lexer": "ipython2",
   "version": "2.7.6"
  }
 },
 "nbformat": 4,
 "nbformat_minor": 0
}

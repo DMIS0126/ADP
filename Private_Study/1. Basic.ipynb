{
 "cells": [
  {
   "cell_type": "markdown",
   "source": [
    "# 기초\n",
    "## 정말 기본적인 EDA"
   ],
   "metadata": {
    "collapsed": false
   }
  },
  {
   "cell_type": "code",
   "execution_count": 1,
   "outputs": [
    {
     "name": "stdout",
     "output_type": "stream",
     "text": [
      "   sepal length (cm)  sepal width (cm)  petal length (cm)  petal width (cm)\n",
      "0                5.1               3.5                1.4               0.2\n",
      "1                4.9               3.0                1.4               0.2\n",
      "2                4.7               3.2                1.3               0.2\n",
      "3                4.6               3.1                1.5               0.2\n",
      "4                5.0               3.6                1.4               0.2\n",
      "\n",
      "=====\n",
      "\n",
      "     sepal length (cm)  sepal width (cm)  petal length (cm)  petal width (cm)\n",
      "145                6.7               3.0                5.2               2.3\n",
      "146                6.3               2.5                5.0               1.9\n",
      "147                6.5               3.0                5.2               2.0\n",
      "148                6.2               3.4                5.4               2.3\n",
      "149                5.9               3.0                5.1               1.8\n",
      "\n",
      "=====\n",
      "\n",
      "<class 'pandas.core.frame.DataFrame'>\n",
      "RangeIndex: 150 entries, 0 to 149\n",
      "Data columns (total 4 columns):\n",
      " #   Column             Non-Null Count  Dtype  \n",
      "---  ------             --------------  -----  \n",
      " 0   sepal length (cm)  150 non-null    float64\n",
      " 1   sepal width (cm)   150 non-null    float64\n",
      " 2   petal length (cm)  150 non-null    float64\n",
      " 3   petal width (cm)   150 non-null    float64\n",
      "dtypes: float64(4)\n",
      "memory usage: 4.8 KB\n",
      "None\n",
      "\n",
      "=====\n",
      "\n",
      "       sepal length (cm)  sepal width (cm)  petal length (cm)  \\\n",
      "count         150.000000        150.000000         150.000000   \n",
      "mean            5.843333          3.057333           3.758000   \n",
      "std             0.828066          0.435866           1.765298   \n",
      "min             4.300000          2.000000           1.000000   \n",
      "25%             5.100000          2.800000           1.600000   \n",
      "50%             5.800000          3.000000           4.350000   \n",
      "75%             6.400000          3.300000           5.100000   \n",
      "max             7.900000          4.400000           6.900000   \n",
      "\n",
      "       petal width (cm)  \n",
      "count        150.000000  \n",
      "mean           1.199333  \n",
      "std            0.762238  \n",
      "min            0.100000  \n",
      "25%            0.300000  \n",
      "50%            1.300000  \n",
      "75%            1.800000  \n",
      "max            2.500000  \n",
      "\n",
      "=====\n",
      "\n",
      "Index(['sepal length (cm)', 'sepal width (cm)', 'petal length (cm)',\n",
      "       'petal width (cm)'],\n",
      "      dtype='object')\n",
      "\n",
      "=====\n",
      "\n",
      "sepal length (cm)    0\n",
      "sepal width (cm)     0\n",
      "petal length (cm)    0\n",
      "petal width (cm)     0\n",
      "dtype: int64\n"
     ]
    }
   ],
   "source": [
    "# DataFrame 출력 및 기초 정보 확인\n",
    "import pandas as pd\n",
    "from sklearn.datasets import load_iris\n",
    "iris = load_iris()\n",
    "iris = pd.DataFrame(iris.data, columns = iris.feature_names)\n",
    "\n",
    "print(iris.head())\n",
    "print('\\n=====\\n')\n",
    "print(iris.tail())\n",
    "print('\\n=====\\n')\n",
    "print(iris.info())\n",
    "print('\\n=====\\n')\n",
    "print(iris.describe())\n",
    "\n",
    "print('\\n=====\\n')\n",
    "print(iris.columns)\n",
    "print('\\n=====\\n')\n",
    "print(iris.isna().sum())"
   ],
   "metadata": {
    "collapsed": false
   }
  },
  {
   "cell_type": "code",
   "execution_count": 2,
   "outputs": [
    {
     "data": {
      "text/plain": "     sepal_length  sepal_width  petal_length  petal_width\n0             5.1          3.5           1.4          0.2\n1             4.9          3.0           1.4          0.2\n2             4.7          3.2           1.3          0.2\n3             4.6          3.1           1.5          0.2\n4             5.0          3.6           1.4          0.2\n..            ...          ...           ...          ...\n145           6.7          3.0           5.2          2.3\n146           6.3          2.5           5.0          1.9\n147           6.5          3.0           5.2          2.0\n148           6.2          3.4           5.4          2.3\n149           5.9          3.0           5.1          1.8\n\n[150 rows x 4 columns]",
      "text/html": "<div>\n<style scoped>\n    .dataframe tbody tr th:only-of-type {\n        vertical-align: middle;\n    }\n\n    .dataframe tbody tr th {\n        vertical-align: top;\n    }\n\n    .dataframe thead th {\n        text-align: right;\n    }\n</style>\n<table border=\"1\" class=\"dataframe\">\n  <thead>\n    <tr style=\"text-align: right;\">\n      <th></th>\n      <th>sepal_length</th>\n      <th>sepal_width</th>\n      <th>petal_length</th>\n      <th>petal_width</th>\n    </tr>\n  </thead>\n  <tbody>\n    <tr>\n      <th>0</th>\n      <td>5.1</td>\n      <td>3.5</td>\n      <td>1.4</td>\n      <td>0.2</td>\n    </tr>\n    <tr>\n      <th>1</th>\n      <td>4.9</td>\n      <td>3.0</td>\n      <td>1.4</td>\n      <td>0.2</td>\n    </tr>\n    <tr>\n      <th>2</th>\n      <td>4.7</td>\n      <td>3.2</td>\n      <td>1.3</td>\n      <td>0.2</td>\n    </tr>\n    <tr>\n      <th>3</th>\n      <td>4.6</td>\n      <td>3.1</td>\n      <td>1.5</td>\n      <td>0.2</td>\n    </tr>\n    <tr>\n      <th>4</th>\n      <td>5.0</td>\n      <td>3.6</td>\n      <td>1.4</td>\n      <td>0.2</td>\n    </tr>\n    <tr>\n      <th>...</th>\n      <td>...</td>\n      <td>...</td>\n      <td>...</td>\n      <td>...</td>\n    </tr>\n    <tr>\n      <th>145</th>\n      <td>6.7</td>\n      <td>3.0</td>\n      <td>5.2</td>\n      <td>2.3</td>\n    </tr>\n    <tr>\n      <th>146</th>\n      <td>6.3</td>\n      <td>2.5</td>\n      <td>5.0</td>\n      <td>1.9</td>\n    </tr>\n    <tr>\n      <th>147</th>\n      <td>6.5</td>\n      <td>3.0</td>\n      <td>5.2</td>\n      <td>2.0</td>\n    </tr>\n    <tr>\n      <th>148</th>\n      <td>6.2</td>\n      <td>3.4</td>\n      <td>5.4</td>\n      <td>2.3</td>\n    </tr>\n    <tr>\n      <th>149</th>\n      <td>5.9</td>\n      <td>3.0</td>\n      <td>5.1</td>\n      <td>1.8</td>\n    </tr>\n  </tbody>\n</table>\n<p>150 rows × 4 columns</p>\n</div>"
     },
     "execution_count": 2,
     "metadata": {},
     "output_type": "execute_result"
    }
   ],
   "source": [
    "# 컬럼명 변경\n",
    "iris.columns = ['sepal length', 'sepal width', 'petal length', 'petal width']\n",
    "iris.columns = iris.columns.str.replace(' ', '_')\n",
    "print(iris)\n",
    "print('\\n=====\\n')\n",
    "\n",
    "# dtype 변경\n",
    "iris['sepal_length'] = iris['sepal_length'].astype('int')\n",
    "print(iris.dtypes)\n",
    "print('\\n=====\\n')\n",
    "\n",
    "# 백슬래시를 삽입하면 줄바꿈을 해도 하나의 코드로 인식할 수 있다.\n",
    "iris[['sepal_width', 'petal_length']] = \\\n",
    "iris[['sepal_width', 'petal_length']].astype('int')\n",
    "print(iris)"
   ],
   "metadata": {
    "collapsed": false
   }
  },
  {
   "cell_type": "code",
   "execution_count": 4,
   "outputs": [
    {
     "name": "stdout",
     "output_type": "stream",
     "text": [
      "   sepal_length  sepal_width  petal_length  petal_width\n",
      "0             5            3             1          0.2\n",
      "1             4            3             1          0.2\n",
      "2             4            3             1          0.2\n",
      "3             4            3             1          0.2\n",
      "4             5            3             1          0.2\n",
      "5             5            3             1          0.4\n",
      "0      3\n",
      "1      3\n",
      "2      3\n",
      "3      3\n",
      "4      3\n",
      "      ..\n",
      "145    3\n",
      "146    2\n",
      "147    3\n",
      "148    3\n",
      "149    3\n",
      "Name: sepal_width, Length: 150, dtype: int64\n",
      "   sepal_width  petal_width\n",
      "0            3          0.2\n",
      "1            3          0.2\n",
      "2            3          0.2\n",
      "3            3          0.2\n",
      "4            3          0.2\n"
     ]
    }
   ],
   "source": [
    "# 슬라이싱\n",
    "print(iris[0:6])\n",
    "print('\\n=====\\n')\n",
    "\n",
    "# 하나의 컬럽을 Series 형식으로 출력\n",
    "print(iris['sepal_width'])\n",
    "print('\\n=====\\n')\n",
    "\n",
    "# 여러 개의 컬럼을 DataFrame 형식으로 출력\n",
    "print(iris[['sepal_width', 'petal_width']].head(5))"
   ],
   "metadata": {
    "collapsed": false
   }
  },
  {
   "cell_type": "markdown",
   "source": [
    "---"
   ],
   "metadata": {
    "collapsed": false
   }
  },
  {
   "cell_type": "markdown",
   "source": [
    "### row와 column 선택하기"
   ],
   "metadata": {
    "collapsed": false
   }
  },
  {
   "cell_type": "code",
   "execution_count": 13,
   "outputs": [
    {
     "ename": "NameError",
     "evalue": "name 'iris' is not defined",
     "output_type": "error",
     "traceback": [
      "\u001B[0;31m---------------------------------------------------------------------------\u001B[0m",
      "\u001B[0;31mNameError\u001B[0m                                 Traceback (most recent call last)",
      "Cell \u001B[0;32mIn[13], line 6\u001B[0m\n\u001B[1;32m      1\u001B[0m \u001B[38;5;66;03m# 1. iloc\u001B[39;00m\n\u001B[1;32m      2\u001B[0m \u001B[38;5;66;03m# 정수로 된 위치 기반 인덱스로 행과 열을 선택하고자 할 때는 iloc[] 속성을 사용한다.\u001B[39;00m\n\u001B[1;32m      3\u001B[0m \u001B[38;5;66;03m# 인수는 하나 혹은 두 개가 사용되며 정수, 리스트, 슬라이싱, boolean array가 들어갈 수 있다.\u001B[39;00m\n\u001B[1;32m      4\u001B[0m \u001B[38;5;66;03m# 인수는 하나만 설정할 경우 행을 지정ㅈ하고, 인수를 두 개 설정할 경우 순서대로 행과 열을 지정함을 의미한다.\u001B[39;00m\n\u001B[0;32m----> 6\u001B[0m \u001B[38;5;28mprint\u001B[39m(\u001B[43miris\u001B[49m\u001B[38;5;241m.\u001B[39miloc[\u001B[38;5;241m1\u001B[39m:\u001B[38;5;241m4\u001B[39m])\n\u001B[1;32m      7\u001B[0m \u001B[38;5;28mprint\u001B[39m(iris\u001B[38;5;241m.\u001B[39miloc[[\u001B[38;5;241m1\u001B[39m, \u001B[38;5;241m3\u001B[39m, \u001B[38;5;241m5\u001B[39m], [\u001B[38;5;241m0\u001B[39m, \u001B[38;5;241m2\u001B[39m]])\n\u001B[1;32m      8\u001B[0m \u001B[38;5;28mprint\u001B[39m(\u001B[38;5;124m'\u001B[39m\u001B[38;5;130;01m\\n\u001B[39;00m\u001B[38;5;124m=====\u001B[39m\u001B[38;5;130;01m\\n\u001B[39;00m\u001B[38;5;124m'\u001B[39m)\n",
      "\u001B[0;31mNameError\u001B[0m: name 'iris' is not defined"
     ]
    }
   ],
   "source": [
    "# 1. iloc\n",
    "# 정수로 된 위치 기반 인덱스로 행과 열을 선택하고자 할 때는 iloc[] 속성을 사용한다.\n",
    "# 인수는 하나 혹은 두 개가 사용되며 정수, 리스트, 슬라이싱, boolean array가 들어갈 수 있다.\n",
    "# 인수는 하나만 설정할 경우 행을 지정ㅈ하고, 인수를 두 개 설정할 경우 순서대로 행과 열을 지정함을 의미한다.\n",
    "\n",
    "print(iris.iloc[1:4])\n",
    "print(iris.iloc[[1, 3, 5], [0, 2]])\n",
    "print('\\n=====\\n')\n",
    "\n",
    "# 2. loc\n",
    "# 레이블(인덱스의 이름 혹은 컬럼명)로 행과 열을 선택하고자 할 때는 loc[] 속성을 사용한다.\n",
    "# iloc[]와 마찬가지로 인수는 하나 혹은 두 개가 사용되며 정수, 리스트, 슬라이싱, boolean array가 들어갈 수 있다.\n",
    "# 인수를 하나만 설정할 경우 행을 지정하고, 인수를 두 개 설정할 경우 순서대로 행과 열을 지정함을 의미한다.\n",
    "# loc[]에서 슬라이싱 start:end를 사용할 때에는 start부터 end까지로, 파이썬의 기본 슬라이싱 방법과 달리 end를 포함한다는 것에 주의하자.\n",
    "\n",
    "print(iris.loc[1:3])\n",
    "print(iris.loc[[1, 2], 'sepal_length'])"
   ],
   "metadata": {
    "collapsed": false
   }
  },
  {
   "cell_type": "markdown",
   "source": [
    "---"
   ],
   "metadata": {
    "collapsed": false
   }
  },
  {
   "cell_type": "markdown",
   "source": [
    "### 조건에 맞는 데이터 탐색 및 수정"
   ],
   "metadata": {
    "collapsed": false
   }
  },
  {
   "cell_type": "code",
   "execution_count": 3,
   "outputs": [
    {
     "name": "stdout",
     "output_type": "stream",
     "text": [
      "조건이 하나인 경우\n",
      "    이름    국어    수학\n",
      "0  장화  70.0  65.0\n",
      "\n",
      "======\n",
      "\n",
      "조건이 두 개 이상인 경우\n",
      "    이름     국어     수학\n",
      "0  장화   70.0   65.0\n",
      "1  홍련   80.0  100.0\n",
      "2  콩쥐    NaN   80.0\n",
      "3  팥쥐  100.0   95.0\n",
      "4  해님    NaN    NaN\n",
      "5  달님   85.0   70.0\n",
      "\n",
      "======\n",
      "\n",
      "   이름     국어     수학    합격\n",
      "0  장화   70.0   65.0  Fail\n",
      "1  홍련   80.0  100.0  Pass\n",
      "2  콩쥐    NaN   80.0  Fail\n",
      "3  팥쥐  100.0   95.0  Pass\n",
      "4  해님    NaN    NaN  Fail\n",
      "5  달님   85.0   70.0  Pass\n",
      "6  별님   50.0   60.0  Fail\n",
      "\n",
      "======\n",
      "\n",
      "   이름     국어     수학    합격 점수\n",
      "0  장화   70.0   65.0  Fail  C\n",
      "1  홍련   80.0  100.0  Pass  B\n",
      "2  콩쥐    NaN   80.0  Fail  F\n",
      "3  팥쥐  100.0   95.0  Pass  A\n",
      "4  해님    NaN    NaN  Fail  F\n",
      "5  달님   85.0   70.0  Pass  B\n",
      "6  별님   50.0   60.0  Fail  F\n"
     ]
    }
   ],
   "source": [
    "import pandas as pd\n",
    "students = pd.DataFrame({'이름' : ['장화', '홍련', '콩쥐', '팥쥐', '해님', '달님'],\n",
    "                         '국어' : [70, 80, None, 100, None, 85],\n",
    "                         '수학' : [65, 100, 80, 95, None, 70]})\n",
    "\n",
    "# 조건이 하나인 경우\n",
    "print('조건이 하나인 경우\\n',students[students['이름'] == '장화'])\n",
    "print('\\n======\\n')\n",
    "\n",
    "# 조건이 두 개 이상인 경우(and(&)와 or(|) 연산자 사용)\n",
    "print('조건이 두 개 이상인 경우\\n', students[(students['국어'] > 80) & students['수학'] <80])\n",
    "print('\\n======\\n')\n",
    "\n",
    "# loc[]에도 조건문을 사용하여 데이터 탐색이 가능하다.\n",
    "# 또한, loc[]는 존재하지 않는 레이블을 지정할 경우 해당 레이블을 가진 새로운 행/열을 만든다는 특징이 있다.\n",
    "students.loc[6, '이름' : '수학'] = ['별님', 50, 60]\n",
    "students.loc[(students['국어']>=80) & (students['수학']>=70), '합격'] = 'Pass'\n",
    "students.loc[students['합격'] != 'Pass', '합격'] = 'Fail'\n",
    "print(students)\n",
    "print('\\n======\\n')\n",
    "\n",
    "# 하나의 컬럼에 여러 개의 조건에 따라 다른 값을 반환해야 하는 경우 numpy의 select()를 활용할 수 있다.\n",
    "# np.select(조건목록, 선택목록, default = 디폴트값)\n",
    "import numpy as np\n",
    "condition_list = [(students['국어']>=90),\n",
    "                  (students['국어']>=80) & (students['국어']<90),\n",
    "                  (students['국어']>=70) & (students['국어']<80)]\n",
    "choice_list = ['A', 'B', 'C']\n",
    "students['점수'] = np.select(condition_list, choice_list, default='F')\n",
    "print(students)"
   ],
   "metadata": {
    "collapsed": false
   }
  },
  {
   "cell_type": "markdown",
   "source": [
    "---"
   ],
   "metadata": {
    "collapsed": false
   }
  },
  {
   "cell_type": "markdown",
   "source": [
    "### 결측값 탐색 및 수정"
   ],
   "metadata": {
    "collapsed": false
   }
  },
  {
   "cell_type": "code",
   "execution_count": 21,
   "outputs": [
    {
     "name": "stdout",
     "output_type": "stream",
     "text": [
      "      이름     국어     수학     합격     점수\n",
      "0  False  False  False  False  False\n",
      "1  False  False  False  False  False\n",
      "2  False   True  False  False  False\n",
      "3  False  False  False  False  False\n",
      "4  False   True   True  False  False\n",
      "5  False  False  False  False  False\n",
      "6  False  False  False  False  False\n",
      "\n",
      "====\n",
      "\n",
      "     이름     국어     수학    합격    점수\n",
      "0  True   True   True  True  True\n",
      "1  True   True   True  True  True\n",
      "2  True  False   True  True  True\n",
      "3  True   True   True  True  True\n",
      "4  True  False  False  True  True\n",
      "5  True   True   True  True  True\n",
      "6  True   True   True  True  True\n",
      "\n",
      "====\n",
      "\n",
      "sum()은 열 합계\n",
      " 이름    0\n",
      "국어    2\n",
      "수학    1\n",
      "합격    0\n",
      "점수    0\n",
      "dtype: int64\n",
      "\n",
      "====\n",
      "\n",
      "sum(1)은 행 합계\n",
      " 0    0\n",
      "1    0\n",
      "2    1\n",
      "3    0\n",
      "4    2\n",
      "5    0\n",
      "6    0\n",
      "dtype: int64\n",
      "\n",
      "====\n",
      "\n",
      "   이름     국어     수학    합격 점수\n",
      "0  장화   70.0   65.0  Fail  C\n",
      "1  홍련   80.0  100.0  Pass  B\n",
      "3  팥쥐  100.0   95.0  Pass  A\n",
      "5  달님   85.0   70.0  Pass  B\n",
      "6  별님   50.0   60.0  Fail  F\n",
      "\n",
      "====\n",
      "\n",
      "   이름     국어     수학    합격 점수\n",
      "0  장화   70.0   65.0  Fail  C\n",
      "1  홍련   80.0  100.0  Pass  B\n",
      "2  콩쥐    NaN   80.0  Fail  F\n",
      "3  팥쥐  100.0   95.0  Pass  A\n",
      "5  달님   85.0   70.0  Pass  B\n",
      "6  별님   50.0   60.0  Fail  F\n",
      "\n",
      "====\n",
      "\n",
      "     연도       키   몸무게   시력   병결\n",
      "0  2017  160.00  53.0  1.2  1.5\n",
      "1  2018  162.00  52.0  1.1  1.5\n",
      "2  2019  165.00  52.0  1.2  1.5\n",
      "3  2020  163.25  50.0  1.2  2.0\n",
      "4  2021  163.25  51.0  1.1  1.5\n",
      "5  2022  166.00  54.0  0.8  1.0\n",
      "\n",
      "====\n",
      "\n",
      "     연도      키   몸무게   시력  병결\n",
      "0  2017  160.0  53.0  1.2   0\n",
      "1  2018  162.0  52.0  NaN   0\n",
      "2  2019  165.0   NaN  1.2   0\n",
      "3  2020  166.0  50.0  1.2   2\n",
      "4  2021  166.0  51.0  1.1   0\n",
      "5  2022  166.0  54.0  0.8   1 \n",
      "====\n",
      " 연도       int64\n",
      "키      float64\n",
      "몸무게    float64\n",
      "시력     float64\n",
      "병결       int64\n",
      "dtype: object\n",
      "\n",
      "====\n",
      "\n",
      "     연도      키   몸무게   시력  병결\n",
      "0  2017  160.0  53.0  1.2   0\n",
      "1  2018  162.0  52.0  1.2   0\n",
      "2  2019  165.0  52.0  1.2   0\n",
      "3  2020  166.0  50.0  1.2   2\n",
      "4  2021  166.0  51.0  1.1   0\n",
      "5  2022  166.0  54.0  0.8   1\n"
     ]
    }
   ],
   "source": [
    "# 1. 결측값 탐색(isna(na일 경우 True), notna(na가 아닐 경우 True))\n",
    "print(students.isna())\n",
    "print('\\n====\\n')\n",
    "print(students.notna())\n",
    "print('\\n====\\n')\n",
    "\n",
    "# EDA에서는 결측값이 몇개 있는지 sum읋 하여 보는 것이 편하다.\n",
    "# sum()은 열 합계를, sum(1)은 행 합계를 의미한다.\n",
    "print('sum()은 열 합계\\n', students.isna().sum())\n",
    "print('\\n====\\n')\n",
    "print('sum(1)은 행 합계\\n', students.isna().sum(1))\n",
    "print('\\n====\\n')\n",
    "\n",
    "# 2. 결측값 제거(dropna)\n",
    "# DataFrame.dropna(axis = 0, how = 'any', thresh = None, subset = None, inplace = False)\n",
    "    # axis : 0 또는 'index'이면 결측값이 포함된 행을 삭제하고, 1 또는 'columns'이면 결측값이 포함된 열을 삭제\n",
    "    # how : 'any'이면 결측값이 존재하는 모든 행/열 삭제, 'all'이면 모든 값이 결측값일 때 삭제\n",
    "    # thresh : 정숫값을 지정하면 결측값이 아닌 값의 개수가 그보다 클때 행 또는 열을 유지\n",
    "    # subset : 어떤 레이블에 결측값이 존재하면 삭제할지 정의\n",
    "    # inplace : True이면 해당 DataFrame에서 작업을 수행\n",
    "\n",
    "print(students.dropna()) # 결측값이 포함된 모든 행을 삭제\n",
    "print('\\n====\\n')\n",
    "print(students.dropna(thresh = 4)) # 결측값이 아닌 값의 개수가 4보다 큰 행만 남기기\n",
    "print('\\n====\\n')\n",
    "\n",
    "# 3. 결측값 대체(fillna)\n",
    "# DataFrame.fillna(value = None, method = None, axis = None, inplace = False, limit = None)\n",
    "    # value : 단일 값 혹은 dict/Series/DataFrame 형식으로 대체할 값을 직접 입력\n",
    "    # method : 'pad', 'ffill'은 이전 값으로 채우고, 'backfill', 'bfill'은 당므에 오는 값으로 채움\n",
    "    # axis : 0 또는 'index'이면 행방향으로 채우고, 1 또는 'columns'이면 열방향으로 채움\n",
    "    # limit : method 인자를 지정한 경우 limit으로 지정한 개수만큼만 대체할 수 있음\n",
    "health = pd.DataFrame({'연도' : [2017, 2018, 2019, 2020, 2021, 2022],\n",
    "                       '키' : [160, 162, 165, None, None, 166],\n",
    "                       '몸무게' : [53, 52, None, 50, 51, 54],\n",
    "                       '시력' : [1.2, None, 1.2, 1.2, 1.1, 0.8],\n",
    "                       '병결' : [None, None, None, 2, None, 1]})\n",
    "# 한 번에 대체하기\n",
    "print(health.fillna(health.mean()))\n",
    "print('\\n====\\n')\n",
    "\n",
    "# 따로 따로 대체하기\n",
    "health['키'] = health['키'].fillna(health['키'].max())\n",
    "health['병결'].fillna(0, inplace= True)\n",
    "health['병결'] = health['병결'].astype('int') # 0.5일만 빠질 순 없잖아\n",
    "print(health, '\\n====\\n', health.dtypes)\n",
    "print('\\n====\\n')\n",
    "\n",
    "# 직전 값으로 대체하기\n",
    "health.fillna(method= 'pad', inplace =True)\n",
    "print(health)"
   ],
   "metadata": {
    "collapsed": false
   }
  },
  {
   "cell_type": "code",
   "execution_count": 23,
   "outputs": [
    {
     "name": "stdout",
     "output_type": "stream",
     "text": [
      "    시력  병결\n",
      "0  1.2   0\n",
      "3  1.2   2\n",
      "4  1.1   0\n",
      "5  0.8   1\n"
     ]
    }
   ],
   "source": [
    "# 중복행 삭제\n",
    "# DataFrame.drop_duplicates()\n",
    "print(health[['시력', '병결']].drop_duplicates())"
   ],
   "metadata": {
    "collapsed": false
   }
  },
  {
   "cell_type": "markdown",
   "source": [
    "---"
   ],
   "metadata": {
    "collapsed": false
   }
  },
  {
   "cell_type": "markdown",
   "source": [
    "### 데이터 정렬"
   ],
   "metadata": {
    "collapsed": false
   }
  },
  {
   "cell_type": "code",
   "execution_count": 46,
   "outputs": [
    {
     "name": "stdout",
     "output_type": "stream",
     "text": [
      "     sepal length (cm)  sepal width (cm)  petal length (cm)  petal width (cm)\n",
      "149                5.9               3.0                5.1               1.8\n",
      "148                6.2               3.4                5.4               2.3\n",
      "147                6.5               3.0                5.2               2.0\n",
      "146                6.3               2.5                5.0               1.9\n",
      "145                6.7               3.0                5.2               2.3\n",
      "..                 ...               ...                ...               ...\n",
      "4                  5.0               3.6                1.4               0.2\n",
      "3                  4.6               3.1                1.5               0.2\n",
      "2                  4.7               3.2                1.3               0.2\n",
      "1                  4.9               3.0                1.4               0.2\n",
      "0                  5.1               3.5                1.4               0.2\n",
      "\n",
      "[150 rows x 4 columns]\n",
      "\n",
      "=====\n",
      "\n",
      "     petal length (cm)  petal width (cm)  sepal length (cm)  sepal width (cm)\n",
      "149                5.1               1.8                5.9               3.0\n",
      "148                5.4               2.3                6.2               3.4\n",
      "147                5.2               2.0                6.5               3.0\n",
      "146                5.0               1.9                6.3               2.5\n",
      "145                5.2               2.3                6.7               3.0\n",
      "..                 ...               ...                ...               ...\n",
      "4                  1.4               0.2                5.0               3.6\n",
      "3                  1.5               0.2                4.6               3.1\n",
      "2                  1.3               0.2                4.7               3.2\n",
      "1                  1.4               0.2                4.9               3.0\n",
      "0                  1.4               0.2                5.1               3.5\n",
      "\n",
      "[150 rows x 4 columns]\n",
      "     petal length (cm)  petal width (cm)  sepal length (cm)  sepal width (cm)\n",
      "22                 1.0               0.2                4.6               3.6\n",
      "13                 1.1               0.1                4.3               3.0\n",
      "14                 1.2               0.2                5.8               4.0\n",
      "35                 1.2               0.2                5.0               3.2\n",
      "16                 1.3               0.4                5.4               3.9\n",
      "..                 ...               ...                ...               ...\n",
      "131                6.4               2.0                7.9               3.8\n",
      "105                6.6               2.1                7.6               3.0\n",
      "117                6.7               2.2                7.7               3.8\n",
      "122                6.7               2.0                7.7               2.8\n",
      "118                6.9               2.3                7.7               2.6\n",
      "\n",
      "[150 rows x 4 columns]\n",
      "\n",
      "=====\n",
      "\n",
      "     petal length (cm)  petal width (cm)  sepal length (cm)  sepal width (cm)\n",
      "13                 1.1               0.1                4.3               3.0\n",
      "12                 1.4               0.1                4.8               3.0\n",
      "37                 1.4               0.1                4.9               3.6\n",
      "9                  1.5               0.1                4.9               3.1\n",
      "32                 1.5               0.1                5.2               4.1\n",
      "..                 ...               ...                ...               ...\n",
      "136                5.6               2.4                6.3               3.4\n",
      "140                5.6               2.4                6.7               3.1\n",
      "100                6.0               2.5                6.3               3.3\n",
      "144                5.7               2.5                6.7               3.3\n",
      "109                6.1               2.5                7.2               3.6\n",
      "\n",
      "[150 rows x 4 columns]\n"
     ]
    }
   ],
   "source": [
    "# 1. index를 기준으로 정렬하기\n",
    "# DataFrame.sort_index(axis = 0, ascending = True, inplace = False)\n",
    "    # axis : 0이면 행 인덱스를 기준으로, 1이면 컬럼명을 기준으로 정렬\n",
    "    # ascending : True이면 오름차순, False이면 내림차순\n",
    "    # inplace : True이면 해당 DataFrame에서 작업을 수행하고 False이면 복사본을 만들어 정렬을 수행하고 이를 반환\n",
    "import pandas as pd\n",
    "from sklearn.datasets import load_iris\n",
    "iris = load_iris()\n",
    "iris = pd.DataFrame(iris.data, columns = iris.feature_names)\n",
    "iris.sort_index(ascending = False, inplace = True)\n",
    "print(iris)\n",
    "print('\\n=====\\n')\n",
    "\n",
    "iris.sort_index(axis = 1, ascending = True, inplace = True)\n",
    "print(iris)\n",
    "\n",
    "# 2. 특정 컬럼의 값을 기준으로 정렬하기\n",
    "# DataFrame.sort_values(by, axis = 0, ascemding = True, inplace = False)\n",
    "    # by : 정렬 기준으로 사용할 컬럼의 이름 혹은 컬럼명의 리스트\n",
    "    # axis : 0이면 행 인덱스를 기준으로, 1이면 컬럼명을 기준으로 정렬\n",
    "    # ascending : True이면 오름차순, False이면 내림차순\n",
    "    # inplace : True이면 해당 DataFrame에서 작업을 수행하고 False이면 복사본을 만들어 정렬을 수행하고 이를 반환\n",
    "iris.sort_values('petal length (cm)', ascending = True, inplace = True)\n",
    "print(iris)\n",
    "print('\\n=====\\n')\n",
    "\n",
    "iris.sort_values(['petal width (cm)', 'sepal length (cm)'], inplace = True)\n",
    "print(iris)"
   ],
   "metadata": {
    "collapsed": false
   }
  },
  {
   "cell_type": "markdown",
   "source": [
    "---"
   ],
   "metadata": {
    "collapsed": false
   }
  },
  {
   "cell_type": "markdown",
   "source": [
    "### 데이터 결합"
   ],
   "metadata": {
    "collapsed": false
   }
  },
  {
   "cell_type": "code",
   "execution_count": 12,
   "outputs": [
    {
     "name": "stdout",
     "output_type": "stream",
     "text": [
      "   이름  부서  직급\n",
      "0  장화  영업  팀장\n",
      "1  홍련  회계  사원\n",
      "0  콩쥐  영업  사원\n",
      "1  팥쥐  인사  팀장\n",
      "\n",
      "=====\n",
      "\n",
      "   이름  부서  직급\n",
      "0  장화  영업  팀장\n",
      "1  홍련  회계  사원\n",
      "2  콩쥐  영업  사원\n",
      "3  팥쥐  인사  팀장\n",
      "\n",
      "=====\n",
      "\n",
      "   이름  부서   직급      급여\n",
      "0  장화  영업   팀장     NaN\n",
      "1  홍련  회계   사원     NaN\n",
      "2  콩쥐  영업  NaN  3500.0\n",
      "3  팥쥐  인사  NaN  2800.0\n",
      "\n",
      "=====\n",
      "\n",
      "   이름  부서  직급      급여\n",
      "0  장화  영업  팀장     NaN\n",
      "1  홍련  회계  사원  2500.0\n",
      "\n",
      "=====\n",
      "\n",
      "    이름   부서   직급    급여\n",
      "0   장화   영업   팀장  4500\n",
      "1   홍련   회계   사원  3500\n",
      "2  NaN  NaN  NaN  3000\n"
     ]
    }
   ],
   "source": [
    "# 단순 연결(concat)\n",
    "# pandas.concat(objs, axis = 0, ignore_index = False)\n",
    "    # objs : concat을 실행할 객체의 리스트(DataFrame, Series, Panel object)\n",
    "    # axis : 0이면 열방향으로 합치고, 1이면 행방향으로 합침\n",
    "    # ignore_index : True이면 기존 인덱스를 무시하고 0부터 시작하는 정수로 재설정\n",
    "\n",
    "import pandas as pd\n",
    "hr1 = pd.DataFrame({'이름' : ['장화', '홍련'],\n",
    "                    '부서' : ['영업', '회계'],\n",
    "                    '직급' : ['팀장', '사원']})\n",
    "hr2 = pd.DataFrame({'이름' : ['콩쥐', '팥쥐'],\n",
    "                    '직급' : ['사원', '팀장'],\n",
    "                    '부서' : ['영업', '인사']})\n",
    "print(pd.concat([hr1, hr2], axis = 0))\n",
    "print('\\n=====\\n')\n",
    "print(pd.concat([hr1, hr2], axis = 0, ignore_index = True))\n",
    "print('\\n=====\\n')\n",
    "\n",
    "# 결합하는 두 데이터프레임이 다른 컬럼을 가지고 있는 경우에는 각 데이터프레임의 컬럼을 모두 가지고 값이 없는 칸은 np.NaN으로 채워진 데이터프레임이 출력된다.\n",
    "hr3 = pd.DataFrame({'이름' : ['콩쥐', '팥쥐'],\n",
    "                    '급여' : [3500, 2800],\n",
    "                    '부서' : ['영업', '인사']})\n",
    "print(pd.concat([hr1, hr3], axis = 0, ignore_index = True))\n",
    "print('\\n=====\\n')\n",
    "\n",
    "# 행방향으로 결합하는 때도 마찬가지로 행 인덱스를 기준으로 데이터를 재조립한다.\n",
    "# 결합하는 데이터들의 ㅎ애 길이가 다른 경우 모든 값을 출력하고 정보가 없는 칸은 np.NaN으로 채운다.\n",
    "hr4 = pd.Series({1: 2500}, name = '급여')\n",
    "print(pd.concat([hr1, hr4], axis = 1))\n",
    "print('\\n=====\\n')\n",
    "\n",
    "hr5 = pd.DataFrame({'급여' : [4500, 3500, 3000]})\n",
    "print(pd.concat([hr1, hr5], axis = 1))"
   ],
   "metadata": {
    "collapsed": false
   }
  },
  {
   "cell_type": "code",
   "execution_count": 19,
   "outputs": [
    {
     "name": "stdout",
     "output_type": "stream",
     "text": [
      "   주문번호 상품코드  주문수량 상품명\n",
      "0  1001   G4     1  치킨\n",
      "1  1002   G3     4   빵\n",
      "2  1003   G3     2   빵\n",
      "3  1002   G1     2  우유\n",
      "\n",
      "=====\n",
      "\n",
      "     주문번호 상품코드  주문수량  상품명\n",
      "0  1002.0   G1   2.0   우유\n",
      "1     NaN   G2   NaN   감자\n",
      "2  1002.0   G3   4.0    빵\n",
      "3  1003.0   G3   2.0    빵\n",
      "4  1001.0   G4   1.0   치킨\n",
      "5  1004.0   G5   3.0  NaN\n",
      "\n",
      "=====\n",
      "\n",
      "   주문번호 상품코드  주문수량  상품명\n",
      "0  1002   G1     2   우유\n",
      "1  1002   G3     4    빵\n",
      "2  1003   G3     2    빵\n",
      "3  1001   G4     1   치킨\n",
      "4  1004   G5     3  NaN\n"
     ]
    }
   ],
   "source": [
    "# 조인(merge)\n",
    "# join도 있지만 merge가 다양한 조건을 사용할 수 있다.\n",
    "# DataFrame.merge(right, how='inner', on=None, left_on=None, right_on=None, left_index=False, right_index=False, sort=False, suffixes('_x', '_y'))\n",
    "    # DataFrame : 결합의 기준이 되는 데이터프레임으로 left DataFrame\n",
    "    # right : 결합의 대상이 되는 데이터프레임으로 right DataFrame\n",
    "    # how : {'left', 'right', 'outer', 'inner', 'cross'} 중 하나를 선택하여 조인의 수행방식 선택\n",
    "    # on  : key 컬럼의 이름(두 테이블에서 key 컬럼의 이름이 같은 경우)\n",
    "    # left_on/right_on : 두 테이블에서 key 컬럼의 이름이 다를 때, 'on'을 대신하여 각각 지정\n",
    "    # left_index/right_index : 왼쪽 혹은 오른쪽 데이터프레임의 인덱스를 key로 사용할 경우\n",
    "    # sort : 키값을 기준으로 정렬할지 여부\n",
    "    # suffixes : 결합한 데이터프레임에서 왼쪽/오른쪽 데이터프레임의 컬럼명에 사용할 접미사를 왼쪽-오른쪽 순서로 지정\n",
    "\n",
    "product = pd.DataFrame({'상품코드' : ['G1', 'G2', 'G3', 'G4'],\n",
    "                        '상품명' : ['우유', '감자', '빵', '치킨']})\n",
    "sale = pd.DataFrame({'주문번호' : [1001, 1002, 1002, 1003, 1004],\n",
    "                    '상품코드' : ['G4', 'G3', 'G1', 'G3', 'G5'],\n",
    "                    '주문수량' : [1, 4, 2, 2, 3]})\n",
    "print(sale.merge(product, on='상품코드', how='inner'))\n",
    "print('\\n=====\\n')\n",
    "print(sale.merge(product, on='상품코드', how='outer', sort = True))\n",
    "print('\\n=====\\n')\n",
    "print(sale.merge(product, on='상품코드', how='left', sort = True))"
   ],
   "metadata": {
    "collapsed": false
   }
  },
  {
   "cell_type": "markdown",
   "source": [
    "---"
   ],
   "metadata": {
    "collapsed": false
   }
  },
  {
   "cell_type": "markdown",
   "source": [
    "### 데이터 요약"
   ],
   "metadata": {
    "collapsed": false
   }
  },
  {
   "cell_type": "code",
   "execution_count": null,
   "outputs": [],
   "source": [],
   "metadata": {
    "collapsed": false
   }
  }
 ],
 "metadata": {
  "kernelspec": {
   "display_name": "Python 3 (ipykernel)",
   "language": "python",
   "name": "python3"
  },
  "language_info": {
   "codemirror_mode": {
    "name": "ipython",
    "version": 3
   },
   "file_extension": ".py",
   "mimetype": "text/x-python",
   "name": "python",
   "nbconvert_exporter": "python",
   "pygments_lexer": "ipython3",
   "version": "3.9.12"
  }
 },
 "nbformat": 4,
 "nbformat_minor": 1
}

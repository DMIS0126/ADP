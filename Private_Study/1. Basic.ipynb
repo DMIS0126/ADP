{
 "cells": [
  {
   "cell_type": "markdown",
   "metadata": {},
   "source": [
    "# 기초\n",
    "## 정말 기본적인 EDA"
   ]
  },
  {
   "cell_type": "code",
   "execution_count": 1,
   "metadata": {
    "ExecuteTime": {
     "end_time": "2023-05-09T11:07:24.144090Z",
     "start_time": "2023-05-09T11:07:20.380898Z"
    }
   },
   "outputs": [
    {
     "name": "stdout",
     "output_type": "stream",
     "text": [
      "   sepal length (cm)  sepal width (cm)  petal length (cm)  petal width (cm)\n",
      "0                5.1               3.5                1.4               0.2\n",
      "1                4.9               3.0                1.4               0.2\n",
      "2                4.7               3.2                1.3               0.2\n",
      "3                4.6               3.1                1.5               0.2\n",
      "4                5.0               3.6                1.4               0.2\n",
      "\n",
      "=====\n",
      "\n",
      "     sepal length (cm)  sepal width (cm)  petal length (cm)  petal width (cm)\n",
      "145                6.7               3.0                5.2               2.3\n",
      "146                6.3               2.5                5.0               1.9\n",
      "147                6.5               3.0                5.2               2.0\n",
      "148                6.2               3.4                5.4               2.3\n",
      "149                5.9               3.0                5.1               1.8\n",
      "\n",
      "=====\n",
      "\n",
      "<class 'pandas.core.frame.DataFrame'>\n",
      "RangeIndex: 150 entries, 0 to 149\n",
      "Data columns (total 4 columns):\n",
      " #   Column             Non-Null Count  Dtype  \n",
      "---  ------             --------------  -----  \n",
      " 0   sepal length (cm)  150 non-null    float64\n",
      " 1   sepal width (cm)   150 non-null    float64\n",
      " 2   petal length (cm)  150 non-null    float64\n",
      " 3   petal width (cm)   150 non-null    float64\n",
      "dtypes: float64(4)\n",
      "memory usage: 4.8 KB\n",
      "None\n",
      "\n",
      "=====\n",
      "\n",
      "       sepal length (cm)  sepal width (cm)  petal length (cm)   \n",
      "count         150.000000        150.000000         150.000000  \\\n",
      "mean            5.843333          3.057333           3.758000   \n",
      "std             0.828066          0.435866           1.765298   \n",
      "min             4.300000          2.000000           1.000000   \n",
      "25%             5.100000          2.800000           1.600000   \n",
      "50%             5.800000          3.000000           4.350000   \n",
      "75%             6.400000          3.300000           5.100000   \n",
      "max             7.900000          4.400000           6.900000   \n",
      "\n",
      "       petal width (cm)  \n",
      "count        150.000000  \n",
      "mean           1.199333  \n",
      "std            0.762238  \n",
      "min            0.100000  \n",
      "25%            0.300000  \n",
      "50%            1.300000  \n",
      "75%            1.800000  \n",
      "max            2.500000  \n",
      "\n",
      "=====\n",
      "\n",
      "Index(['sepal length (cm)', 'sepal width (cm)', 'petal length (cm)',\n",
      "       'petal width (cm)'],\n",
      "      dtype='object')\n",
      "\n",
      "=====\n",
      "\n",
      "sepal length (cm)    0\n",
      "sepal width (cm)     0\n",
      "petal length (cm)    0\n",
      "petal width (cm)     0\n",
      "dtype: int64\n"
     ]
    }
   ],
   "source": [
    "# DataFrame 출력 및 기초 정보 확인\n",
    "import pandas as pd\n",
    "from sklearn.datasets import load_iris\n",
    "iris = load_iris()\n",
    "iris = pd.DataFrame(iris.data, columns = iris.feature_names)\n",
    "\n",
    "print(iris.head())\n",
    "print('\\n=====\\n')\n",
    "print(iris.tail())\n",
    "print('\\n=====\\n')\n",
    "print(iris.info())\n",
    "print('\\n=====\\n')\n",
    "print(iris.describe())\n",
    "\n",
    "print('\\n=====\\n')\n",
    "print(iris.columns)\n",
    "print('\\n=====\\n')\n",
    "print(iris.isna().sum())"
   ]
  },
  {
   "cell_type": "code",
   "execution_count": 2,
   "metadata": {
    "ExecuteTime": {
     "end_time": "2023-05-09T11:07:24.158765Z",
     "start_time": "2023-05-09T11:07:24.146170Z"
    }
   },
   "outputs": [
    {
     "name": "stdout",
     "output_type": "stream",
     "text": [
      "     sepal_length  sepal_width  petal_length  petal_width\n",
      "0             5.1          3.5           1.4          0.2\n",
      "1             4.9          3.0           1.4          0.2\n",
      "2             4.7          3.2           1.3          0.2\n",
      "3             4.6          3.1           1.5          0.2\n",
      "4             5.0          3.6           1.4          0.2\n",
      "..            ...          ...           ...          ...\n",
      "145           6.7          3.0           5.2          2.3\n",
      "146           6.3          2.5           5.0          1.9\n",
      "147           6.5          3.0           5.2          2.0\n",
      "148           6.2          3.4           5.4          2.3\n",
      "149           5.9          3.0           5.1          1.8\n",
      "\n",
      "[150 rows x 4 columns]\n",
      "\n",
      "=====\n",
      "\n",
      "sepal_length      int64\n",
      "sepal_width     float64\n",
      "petal_length    float64\n",
      "petal_width     float64\n",
      "dtype: object\n",
      "\n",
      "=====\n",
      "\n",
      "     sepal_length  sepal_width  petal_length  petal_width\n",
      "0               5            3             1          0.2\n",
      "1               4            3             1          0.2\n",
      "2               4            3             1          0.2\n",
      "3               4            3             1          0.2\n",
      "4               5            3             1          0.2\n",
      "..            ...          ...           ...          ...\n",
      "145             6            3             5          2.3\n",
      "146             6            2             5          1.9\n",
      "147             6            3             5          2.0\n",
      "148             6            3             5          2.3\n",
      "149             5            3             5          1.8\n",
      "\n",
      "[150 rows x 4 columns]\n"
     ]
    }
   ],
   "source": [
    "# 컬럼명 변경\n",
    "iris.columns = ['sepal length', 'sepal width', 'petal length', 'petal width']\n",
    "iris.columns = iris.columns.str.replace(' ', '_')\n",
    "print(iris)\n",
    "print('\\n=====\\n')\n",
    "\n",
    "# dtype 변경\n",
    "iris['sepal_length'] = iris['sepal_length'].astype('int')\n",
    "print(iris.dtypes)\n",
    "print('\\n=====\\n')\n",
    "\n",
    "# 백슬래시를 삽입하면 줄바꿈을 해도 하나의 코드로 인식할 수 있다.\n",
    "iris[['sepal_width', 'petal_length']] = \\\n",
    "iris[['sepal_width', 'petal_length']].astype('int')\n",
    "print(iris)"
   ]
  },
  {
   "cell_type": "code",
   "execution_count": 3,
   "metadata": {
    "ExecuteTime": {
     "end_time": "2023-05-09T11:07:24.166593Z",
     "start_time": "2023-05-09T11:07:24.160200Z"
    }
   },
   "outputs": [
    {
     "name": "stdout",
     "output_type": "stream",
     "text": [
      "   sepal_length  sepal_width  petal_length  petal_width\n",
      "0             5            3             1          0.2\n",
      "1             4            3             1          0.2\n",
      "2             4            3             1          0.2\n",
      "3             4            3             1          0.2\n",
      "4             5            3             1          0.2\n",
      "5             5            3             1          0.4\n",
      "\n",
      "=====\n",
      "\n",
      "0      3\n",
      "1      3\n",
      "2      3\n",
      "3      3\n",
      "4      3\n",
      "      ..\n",
      "145    3\n",
      "146    2\n",
      "147    3\n",
      "148    3\n",
      "149    3\n",
      "Name: sepal_width, Length: 150, dtype: int64\n",
      "\n",
      "=====\n",
      "\n",
      "   sepal_width  petal_width\n",
      "0            3          0.2\n",
      "1            3          0.2\n",
      "2            3          0.2\n",
      "3            3          0.2\n",
      "4            3          0.2\n"
     ]
    }
   ],
   "source": [
    "# 슬라이싱\n",
    "print(iris[0:6])\n",
    "print('\\n=====\\n')\n",
    "\n",
    "# 하나의 컬럽을 Series 형식으로 출력\n",
    "print(iris['sepal_width'])\n",
    "print('\\n=====\\n')\n",
    "\n",
    "# 여러 개의 컬럼을 DataFrame 형식으로 출력\n",
    "print(iris[['sepal_width', 'petal_width']].head(5))"
   ]
  },
  {
   "cell_type": "markdown",
   "metadata": {},
   "source": [
    "---"
   ]
  },
  {
   "cell_type": "markdown",
   "metadata": {},
   "source": [
    "### row와 column 선택하기"
   ]
  },
  {
   "cell_type": "code",
   "execution_count": 4,
   "metadata": {
    "ExecuteTime": {
     "end_time": "2023-05-09T11:07:24.176099Z",
     "start_time": "2023-05-09T11:07:24.169262Z"
    }
   },
   "outputs": [
    {
     "name": "stdout",
     "output_type": "stream",
     "text": [
      "   sepal_length  sepal_width  petal_length  petal_width\n",
      "1             4            3             1          0.2\n",
      "2             4            3             1          0.2\n",
      "3             4            3             1          0.2\n",
      "   sepal_length  petal_length\n",
      "1             4             1\n",
      "3             4             1\n",
      "5             5             1\n",
      "\n",
      "=====\n",
      "\n",
      "   sepal_length  sepal_width  petal_length  petal_width\n",
      "1             4            3             1          0.2\n",
      "2             4            3             1          0.2\n",
      "3             4            3             1          0.2\n",
      "1    4\n",
      "2    4\n",
      "Name: sepal_length, dtype: int64\n"
     ]
    }
   ],
   "source": [
    "# 1. iloc\n",
    "# 정수로 된 위치 기반 인덱스로 행과 열을 선택하고자 할 때는 iloc[] 속성을 사용한다.\n",
    "# 인수는 하나 혹은 두 개가 사용되며 정수, 리스트, 슬라이싱, boolean array가 들어갈 수 있다.\n",
    "# 인수는 하나만 설정할 경우 행을 지정ㅈ하고, 인수를 두 개 설정할 경우 순서대로 행과 열을 지정함을 의미한다.\n",
    "\n",
    "print(iris.iloc[1:4])\n",
    "print(iris.iloc[[1, 3, 5], [0, 2]])\n",
    "print('\\n=====\\n')\n",
    "\n",
    "# 2. loc\n",
    "# 레이블(인덱스의 이름 혹은 컬럼명)로 행과 열을 선택하고자 할 때는 loc[] 속성을 사용한다.\n",
    "# iloc[]와 마찬가지로 인수는 하나 혹은 두 개가 사용되며 정수, 리스트, 슬라이싱, boolean array가 들어갈 수 있다.\n",
    "# 인수를 하나만 설정할 경우 행을 지정하고, 인수를 두 개 설정할 경우 순서대로 행과 열을 지정함을 의미한다.\n",
    "# loc[]에서 슬라이싱 start:end를 사용할 때에는 start부터 end까지로, 파이썬의 기본 슬라이싱 방법과 달리 end를 포함한다는 것에 주의하자.\n",
    "\n",
    "print(iris.loc[1:3])\n",
    "print(iris.loc[[1, 2], 'sepal_length'])"
   ]
  },
  {
   "cell_type": "markdown",
   "metadata": {},
   "source": [
    "---"
   ]
  },
  {
   "cell_type": "markdown",
   "metadata": {},
   "source": [
    "### 조건에 맞는 데이터 탐색 및 수정"
   ]
  },
  {
   "cell_type": "code",
   "execution_count": 5,
   "metadata": {
    "ExecuteTime": {
     "end_time": "2023-05-09T11:07:24.194352Z",
     "start_time": "2023-05-09T11:07:24.177214Z"
    }
   },
   "outputs": [
    {
     "name": "stdout",
     "output_type": "stream",
     "text": [
      "조건이 하나인 경우\n",
      "    이름    국어    수학\n",
      "0  장화  70.0  65.0\n",
      "\n",
      "======\n",
      "\n",
      "조건이 두 개 이상인 경우\n",
      "    이름     국어     수학\n",
      "0  장화   70.0   65.0\n",
      "1  홍련   80.0  100.0\n",
      "2  콩쥐    NaN   80.0\n",
      "3  팥쥐  100.0   95.0\n",
      "4  해님    NaN    NaN\n",
      "5  달님   85.0   70.0\n",
      "\n",
      "======\n",
      "\n",
      "   이름     국어     수학    합격\n",
      "0  장화   70.0   65.0  Fail\n",
      "1  홍련   80.0  100.0  Pass\n",
      "2  콩쥐    NaN   80.0  Fail\n",
      "3  팥쥐  100.0   95.0  Pass\n",
      "4  해님    NaN    NaN  Fail\n",
      "5  달님   85.0   70.0  Pass\n",
      "6  별님   50.0   60.0  Fail\n",
      "\n",
      "======\n",
      "\n",
      "   이름     국어     수학    합격 점수\n",
      "0  장화   70.0   65.0  Fail  C\n",
      "1  홍련   80.0  100.0  Pass  B\n",
      "2  콩쥐    NaN   80.0  Fail  F\n",
      "3  팥쥐  100.0   95.0  Pass  A\n",
      "4  해님    NaN    NaN  Fail  F\n",
      "5  달님   85.0   70.0  Pass  B\n",
      "6  별님   50.0   60.0  Fail  F\n"
     ]
    }
   ],
   "source": [
    "import pandas as pd\n",
    "students = pd.DataFrame({'이름' : ['장화', '홍련', '콩쥐', '팥쥐', '해님', '달님'],\n",
    "                         '국어' : [70, 80, None, 100, None, 85],\n",
    "                         '수학' : [65, 100, 80, 95, None, 70]})\n",
    "\n",
    "# 조건이 하나인 경우\n",
    "print('조건이 하나인 경우\\n',students[students['이름'] == '장화'])\n",
    "print('\\n======\\n')\n",
    "\n",
    "# 조건이 두 개 이상인 경우(and(&)와 or(|) 연산자 사용)\n",
    "print('조건이 두 개 이상인 경우\\n', students[(students['국어'] > 80) & students['수학'] <80])\n",
    "print('\\n======\\n')\n",
    "\n",
    "# loc[]에도 조건문을 사용하여 데이터 탐색이 가능하다.\n",
    "# 또한, loc[]는 존재하지 않는 레이블을 지정할 경우 해당 레이블을 가진 새로운 행/열을 만든다는 특징이 있다.\n",
    "students.loc[6, '이름' : '수학'] = ['별님', 50, 60]\n",
    "students.loc[(students['국어']>=80) & (students['수학']>=70), '합격'] = 'Pass'\n",
    "students.loc[students['합격'] != 'Pass', '합격'] = 'Fail'\n",
    "print(students)\n",
    "print('\\n======\\n')\n",
    "\n",
    "# 하나의 컬럼에 여러 개의 조건에 따라 다른 값을 반환해야 하는 경우 numpy의 select()를 활용할 수 있다.\n",
    "# np.select(조건목록, 선택목록, default = 디폴트값)\n",
    "import numpy as np\n",
    "condition_list = [(students['국어']>=90),\n",
    "                  (students['국어']>=80) & (students['국어']<90),\n",
    "                  (students['국어']>=70) & (students['국어']<80)]\n",
    "choice_list = ['A', 'B', 'C']\n",
    "students['점수'] = np.select(condition_list, choice_list, default='F')\n",
    "print(students)"
   ]
  },
  {
   "cell_type": "markdown",
   "metadata": {},
   "source": [
    "---"
   ]
  },
  {
   "cell_type": "markdown",
   "metadata": {},
   "source": [
    "### 결측값 탐색 및 수정"
   ]
  },
  {
   "cell_type": "code",
   "execution_count": 6,
   "metadata": {
    "ExecuteTime": {
     "end_time": "2023-05-09T11:07:24.217534Z",
     "start_time": "2023-05-09T11:07:24.195571Z"
    }
   },
   "outputs": [
    {
     "name": "stdout",
     "output_type": "stream",
     "text": [
      "      이름     국어     수학     합격     점수\n",
      "0  False  False  False  False  False\n",
      "1  False  False  False  False  False\n",
      "2  False   True  False  False  False\n",
      "3  False  False  False  False  False\n",
      "4  False   True   True  False  False\n",
      "5  False  False  False  False  False\n",
      "6  False  False  False  False  False\n",
      "\n",
      "====\n",
      "\n",
      "     이름     국어     수학    합격    점수\n",
      "0  True   True   True  True  True\n",
      "1  True   True   True  True  True\n",
      "2  True  False   True  True  True\n",
      "3  True   True   True  True  True\n",
      "4  True  False  False  True  True\n",
      "5  True   True   True  True  True\n",
      "6  True   True   True  True  True\n",
      "\n",
      "====\n",
      "\n",
      "sum()은 열 합계\n",
      " 이름    0\n",
      "국어    2\n",
      "수학    1\n",
      "합격    0\n",
      "점수    0\n",
      "dtype: int64\n",
      "\n",
      "====\n",
      "\n",
      "sum(1)은 행 합계\n",
      " 0    0\n",
      "1    0\n",
      "2    1\n",
      "3    0\n",
      "4    2\n",
      "5    0\n",
      "6    0\n",
      "dtype: int64\n",
      "\n",
      "====\n",
      "\n",
      "   이름     국어     수학    합격 점수\n",
      "0  장화   70.0   65.0  Fail  C\n",
      "1  홍련   80.0  100.0  Pass  B\n",
      "3  팥쥐  100.0   95.0  Pass  A\n",
      "5  달님   85.0   70.0  Pass  B\n",
      "6  별님   50.0   60.0  Fail  F\n",
      "\n",
      "====\n",
      "\n",
      "   이름     국어     수학    합격 점수\n",
      "0  장화   70.0   65.0  Fail  C\n",
      "1  홍련   80.0  100.0  Pass  B\n",
      "2  콩쥐    NaN   80.0  Fail  F\n",
      "3  팥쥐  100.0   95.0  Pass  A\n",
      "5  달님   85.0   70.0  Pass  B\n",
      "6  별님   50.0   60.0  Fail  F\n",
      "\n",
      "====\n",
      "\n",
      "     연도       키   몸무게   시력   병결\n",
      "0  2017  160.00  53.0  1.2  1.5\n",
      "1  2018  162.00  52.0  1.1  1.5\n",
      "2  2019  165.00  52.0  1.2  1.5\n",
      "3  2020  163.25  50.0  1.2  2.0\n",
      "4  2021  163.25  51.0  1.1  1.5\n",
      "5  2022  166.00  54.0  0.8  1.0\n",
      "\n",
      "====\n",
      "\n",
      "     연도      키   몸무게   시력  병결\n",
      "0  2017  160.0  53.0  1.2   0\n",
      "1  2018  162.0  52.0  NaN   0\n",
      "2  2019  165.0   NaN  1.2   0\n",
      "3  2020  166.0  50.0  1.2   2\n",
      "4  2021  166.0  51.0  1.1   0\n",
      "5  2022  166.0  54.0  0.8   1 \n",
      "====\n",
      " 연도       int64\n",
      "키      float64\n",
      "몸무게    float64\n",
      "시력     float64\n",
      "병결       int64\n",
      "dtype: object\n",
      "\n",
      "====\n",
      "\n",
      "     연도      키   몸무게   시력  병결\n",
      "0  2017  160.0  53.0  1.2   0\n",
      "1  2018  162.0  52.0  1.2   0\n",
      "2  2019  165.0  52.0  1.2   0\n",
      "3  2020  166.0  50.0  1.2   2\n",
      "4  2021  166.0  51.0  1.1   0\n",
      "5  2022  166.0  54.0  0.8   1\n"
     ]
    }
   ],
   "source": [
    "# 1. 결측값 탐색(isna(na일 경우 True), notna(na가 아닐 경우 True))\n",
    "print(students.isna())\n",
    "print('\\n====\\n')\n",
    "print(students.notna())\n",
    "print('\\n====\\n')\n",
    "\n",
    "# EDA에서는 결측값이 몇개 있는지 sum읋 하여 보는 것이 편하다.\n",
    "# sum()은 열 합계를, sum(1)은 행 합계를 의미한다.\n",
    "print('sum()은 열 합계\\n', students.isna().sum())\n",
    "print('\\n====\\n')\n",
    "print('sum(1)은 행 합계\\n', students.isna().sum(1))\n",
    "print('\\n====\\n')\n",
    "\n",
    "# 2. 결측값 제거(dropna)\n",
    "# DataFrame.dropna(axis = 0, how = 'any', thresh = None, subset = None, inplace = False)\n",
    "    # axis : 0 또는 'index'이면 결측값이 포함된 행을 삭제하고, 1 또는 'columns'이면 결측값이 포함된 열을 삭제\n",
    "    # how : 'any'이면 결측값이 존재하는 모든 행/열 삭제, 'all'이면 모든 값이 결측값일 때 삭제\n",
    "    # thresh : 정숫값을 지정하면 결측값이 아닌 값의 개수가 그보다 클때 행 또는 열을 유지\n",
    "    # subset : 어떤 레이블에 결측값이 존재하면 삭제할지 정의\n",
    "    # inplace : True이면 해당 DataFrame에서 작업을 수행\n",
    "\n",
    "print(students.dropna()) # 결측값이 포함된 모든 행을 삭제\n",
    "print('\\n====\\n')\n",
    "print(students.dropna(thresh = 4)) # 결측값이 아닌 값의 개수가 4보다 큰 행만 남기기\n",
    "print('\\n====\\n')\n",
    "\n",
    "# 3. 결측값 대체(fillna)\n",
    "# DataFrame.fillna(value = None, method = None, axis = None, inplace = False, limit = None)\n",
    "    # value : 단일 값 혹은 dict/Series/DataFrame 형식으로 대체할 값을 직접 입력\n",
    "    # method : 'pad', 'ffill'은 이전 값으로 채우고, 'backfill', 'bfill'은 당므에 오는 값으로 채움\n",
    "    # axis : 0 또는 'index'이면 행방향으로 채우고, 1 또는 'columns'이면 열방향으로 채움\n",
    "    # limit : method 인자를 지정한 경우 limit으로 지정한 개수만큼만 대체할 수 있음\n",
    "health = pd.DataFrame({'연도' : [2017, 2018, 2019, 2020, 2021, 2022],\n",
    "                       '키' : [160, 162, 165, None, None, 166],\n",
    "                       '몸무게' : [53, 52, None, 50, 51, 54],\n",
    "                       '시력' : [1.2, None, 1.2, 1.2, 1.1, 0.8],\n",
    "                       '병결' : [None, None, None, 2, None, 1]})\n",
    "# 한 번에 대체하기\n",
    "print(health.fillna(health.mean()))\n",
    "print('\\n====\\n')\n",
    "\n",
    "# 따로 따로 대체하기\n",
    "health['키'] = health['키'].fillna(health['키'].max())\n",
    "health['병결'].fillna(0, inplace= True)\n",
    "health['병결'] = health['병결'].astype('int') # 0.5일만 빠질 순 없잖아\n",
    "print(health, '\\n====\\n', health.dtypes)\n",
    "print('\\n====\\n')\n",
    "\n",
    "# 직전 값으로 대체하기\n",
    "health.fillna(method= 'pad', inplace =True)\n",
    "print(health)"
   ]
  },
  {
   "cell_type": "code",
   "execution_count": 7,
   "metadata": {
    "ExecuteTime": {
     "end_time": "2023-05-09T11:07:24.223316Z",
     "start_time": "2023-05-09T11:07:24.218576Z"
    }
   },
   "outputs": [
    {
     "name": "stdout",
     "output_type": "stream",
     "text": [
      "    시력  병결\n",
      "0  1.2   0\n",
      "3  1.2   2\n",
      "4  1.1   0\n",
      "5  0.8   1\n"
     ]
    }
   ],
   "source": [
    "# 중복행 삭제\n",
    "# DataFrame.drop_duplicates()\n",
    "print(health[['시력', '병결']].drop_duplicates())"
   ]
  },
  {
   "cell_type": "markdown",
   "metadata": {},
   "source": [
    "---"
   ]
  },
  {
   "cell_type": "markdown",
   "metadata": {},
   "source": [
    "### 데이터 정렬"
   ]
  },
  {
   "cell_type": "code",
   "execution_count": 8,
   "metadata": {
    "ExecuteTime": {
     "end_time": "2023-05-09T11:07:24.240969Z",
     "start_time": "2023-05-09T11:07:24.224337Z"
    }
   },
   "outputs": [
    {
     "name": "stdout",
     "output_type": "stream",
     "text": [
      "     sepal length (cm)  sepal width (cm)  petal length (cm)  petal width (cm)\n",
      "149                5.9               3.0                5.1               1.8\n",
      "148                6.2               3.4                5.4               2.3\n",
      "147                6.5               3.0                5.2               2.0\n",
      "146                6.3               2.5                5.0               1.9\n",
      "145                6.7               3.0                5.2               2.3\n",
      "..                 ...               ...                ...               ...\n",
      "4                  5.0               3.6                1.4               0.2\n",
      "3                  4.6               3.1                1.5               0.2\n",
      "2                  4.7               3.2                1.3               0.2\n",
      "1                  4.9               3.0                1.4               0.2\n",
      "0                  5.1               3.5                1.4               0.2\n",
      "\n",
      "[150 rows x 4 columns]\n",
      "\n",
      "=====\n",
      "\n",
      "     petal length (cm)  petal width (cm)  sepal length (cm)  sepal width (cm)\n",
      "149                5.1               1.8                5.9               3.0\n",
      "148                5.4               2.3                6.2               3.4\n",
      "147                5.2               2.0                6.5               3.0\n",
      "146                5.0               1.9                6.3               2.5\n",
      "145                5.2               2.3                6.7               3.0\n",
      "..                 ...               ...                ...               ...\n",
      "4                  1.4               0.2                5.0               3.6\n",
      "3                  1.5               0.2                4.6               3.1\n",
      "2                  1.3               0.2                4.7               3.2\n",
      "1                  1.4               0.2                4.9               3.0\n",
      "0                  1.4               0.2                5.1               3.5\n",
      "\n",
      "[150 rows x 4 columns]\n",
      "     petal length (cm)  petal width (cm)  sepal length (cm)  sepal width (cm)\n",
      "22                 1.0               0.2                4.6               3.6\n",
      "13                 1.1               0.1                4.3               3.0\n",
      "14                 1.2               0.2                5.8               4.0\n",
      "35                 1.2               0.2                5.0               3.2\n",
      "16                 1.3               0.4                5.4               3.9\n",
      "..                 ...               ...                ...               ...\n",
      "131                6.4               2.0                7.9               3.8\n",
      "105                6.6               2.1                7.6               3.0\n",
      "117                6.7               2.2                7.7               3.8\n",
      "122                6.7               2.0                7.7               2.8\n",
      "118                6.9               2.3                7.7               2.6\n",
      "\n",
      "[150 rows x 4 columns]\n",
      "\n",
      "=====\n",
      "\n",
      "     petal length (cm)  petal width (cm)  sepal length (cm)  sepal width (cm)\n",
      "13                 1.1               0.1                4.3               3.0\n",
      "12                 1.4               0.1                4.8               3.0\n",
      "37                 1.4               0.1                4.9               3.6\n",
      "9                  1.5               0.1                4.9               3.1\n",
      "32                 1.5               0.1                5.2               4.1\n",
      "..                 ...               ...                ...               ...\n",
      "136                5.6               2.4                6.3               3.4\n",
      "140                5.6               2.4                6.7               3.1\n",
      "100                6.0               2.5                6.3               3.3\n",
      "144                5.7               2.5                6.7               3.3\n",
      "109                6.1               2.5                7.2               3.6\n",
      "\n",
      "[150 rows x 4 columns]\n"
     ]
    }
   ],
   "source": [
    "# 1. index를 기준으로 정렬하기\n",
    "# DataFrame.sort_index(axis = 0, ascending = True, inplace = False)\n",
    "    # axis : 0이면 행 인덱스를 기준으로, 1이면 컬럼명을 기준으로 정렬\n",
    "    # ascending : True이면 오름차순, False이면 내림차순\n",
    "    # inplace : True이면 해당 DataFrame에서 작업을 수행하고 False이면 복사본을 만들어 정렬을 수행하고 이를 반환\n",
    "import pandas as pd\n",
    "from sklearn.datasets import load_iris\n",
    "iris = load_iris()\n",
    "iris = pd.DataFrame(iris.data, columns = iris.feature_names)\n",
    "iris.sort_index(ascending = False, inplace = True)\n",
    "print(iris)\n",
    "print('\\n=====\\n')\n",
    "\n",
    "iris.sort_index(axis = 1, ascending = True, inplace = True)\n",
    "print(iris)\n",
    "\n",
    "# 2. 특정 컬럼의 값을 기준으로 정렬하기\n",
    "# DataFrame.sort_values(by, axis = 0, ascemding = True, inplace = False)\n",
    "    # by : 정렬 기준으로 사용할 컬럼의 이름 혹은 컬럼명의 리스트\n",
    "    # axis : 0이면 행 인덱스를 기준으로, 1이면 컬럼명을 기준으로 정렬\n",
    "    # ascending : True이면 오름차순, False이면 내림차순\n",
    "    # inplace : True이면 해당 DataFrame에서 작업을 수행하고 False이면 복사본을 만들어 정렬을 수행하고 이를 반환\n",
    "iris.sort_values('petal length (cm)', ascending = True, inplace = True)\n",
    "print(iris)\n",
    "print('\\n=====\\n')\n",
    "\n",
    "iris.sort_values(['petal width (cm)', 'sepal length (cm)'], inplace = True)\n",
    "print(iris)"
   ]
  },
  {
   "cell_type": "markdown",
   "metadata": {},
   "source": [
    "---"
   ]
  },
  {
   "cell_type": "markdown",
   "metadata": {},
   "source": [
    "### 데이터 결합"
   ]
  },
  {
   "cell_type": "code",
   "execution_count": 9,
   "metadata": {
    "ExecuteTime": {
     "end_time": "2023-05-09T11:07:24.255262Z",
     "start_time": "2023-05-09T11:07:24.241969Z"
    }
   },
   "outputs": [
    {
     "name": "stdout",
     "output_type": "stream",
     "text": [
      "   이름  부서  직급\n",
      "0  장화  영업  팀장\n",
      "1  홍련  회계  사원\n",
      "0  콩쥐  영업  사원\n",
      "1  팥쥐  인사  팀장\n",
      "\n",
      "=====\n",
      "\n",
      "   이름  부서  직급\n",
      "0  장화  영업  팀장\n",
      "1  홍련  회계  사원\n",
      "2  콩쥐  영업  사원\n",
      "3  팥쥐  인사  팀장\n",
      "\n",
      "=====\n",
      "\n",
      "   이름  부서   직급      급여\n",
      "0  장화  영업   팀장     NaN\n",
      "1  홍련  회계   사원     NaN\n",
      "2  콩쥐  영업  NaN  3500.0\n",
      "3  팥쥐  인사  NaN  2800.0\n",
      "\n",
      "=====\n",
      "\n",
      "   이름  부서  직급      급여\n",
      "0  장화  영업  팀장     NaN\n",
      "1  홍련  회계  사원  2500.0\n",
      "\n",
      "=====\n",
      "\n",
      "    이름   부서   직급    급여\n",
      "0   장화   영업   팀장  4500\n",
      "1   홍련   회계   사원  3500\n",
      "2  NaN  NaN  NaN  3000\n"
     ]
    }
   ],
   "source": [
    "# 단순 연결(concat)\n",
    "# pandas.concat(objs, axis = 0, ignore_index = False)\n",
    "    # objs : concat을 실행할 객체의 리스트(DataFrame, Series, Panel object)\n",
    "    # axis : 0이면 열방향으로 합치고, 1이면 행방향으로 합침\n",
    "    # ignore_index : True이면 기존 인덱스를 무시하고 0부터 시작하는 정수로 재설정\n",
    "\n",
    "import pandas as pd\n",
    "hr1 = pd.DataFrame({'이름' : ['장화', '홍련'],\n",
    "                    '부서' : ['영업', '회계'],\n",
    "                    '직급' : ['팀장', '사원']})\n",
    "hr2 = pd.DataFrame({'이름' : ['콩쥐', '팥쥐'],\n",
    "                    '직급' : ['사원', '팀장'],\n",
    "                    '부서' : ['영업', '인사']})\n",
    "print(pd.concat([hr1, hr2], axis = 0))\n",
    "print('\\n=====\\n')\n",
    "print(pd.concat([hr1, hr2], axis = 0, ignore_index = True))\n",
    "print('\\n=====\\n')\n",
    "\n",
    "# 결합하는 두 데이터프레임이 다른 컬럼을 가지고 있는 경우에는 각 데이터프레임의 컬럼을 모두 가지고 값이 없는 칸은 np.NaN으로 채워진 데이터프레임이 출력된다.\n",
    "hr3 = pd.DataFrame({'이름' : ['콩쥐', '팥쥐'],\n",
    "                    '급여' : [3500, 2800],\n",
    "                    '부서' : ['영업', '인사']})\n",
    "print(pd.concat([hr1, hr3], axis = 0, ignore_index = True))\n",
    "print('\\n=====\\n')\n",
    "\n",
    "# 행방향으로 결합하는 때도 마찬가지로 행 인덱스를 기준으로 데이터를 재조립한다.\n",
    "# 결합하는 데이터들의 ㅎ애 길이가 다른 경우 모든 값을 출력하고 정보가 없는 칸은 np.NaN으로 채운다.\n",
    "hr4 = pd.Series({1: 2500}, name = '급여')\n",
    "print(pd.concat([hr1, hr4], axis = 1))\n",
    "print('\\n=====\\n')\n",
    "\n",
    "hr5 = pd.DataFrame({'급여' : [4500, 3500, 3000]})\n",
    "print(pd.concat([hr1, hr5], axis = 1))"
   ]
  },
  {
   "cell_type": "code",
   "execution_count": 10,
   "metadata": {
    "ExecuteTime": {
     "end_time": "2023-05-09T11:07:24.270976Z",
     "start_time": "2023-05-09T11:07:24.257520Z"
    }
   },
   "outputs": [
    {
     "name": "stdout",
     "output_type": "stream",
     "text": [
      "   주문번호 상품코드  주문수량 상품명\n",
      "0  1001   G4     1  치킨\n",
      "1  1002   G3     4   빵\n",
      "2  1003   G3     2   빵\n",
      "3  1002   G1     2  우유\n",
      "\n",
      "=====\n",
      "\n",
      "     주문번호 상품코드  주문수량  상품명\n",
      "0  1002.0   G1   2.0   우유\n",
      "1     NaN   G2   NaN   감자\n",
      "2  1002.0   G3   4.0    빵\n",
      "3  1003.0   G3   2.0    빵\n",
      "4  1001.0   G4   1.0   치킨\n",
      "5  1004.0   G5   3.0  NaN\n",
      "\n",
      "=====\n",
      "\n",
      "   주문번호 상품코드  주문수량  상품명\n",
      "0  1002   G1     2   우유\n",
      "1  1002   G3     4    빵\n",
      "2  1003   G3     2    빵\n",
      "3  1001   G4     1   치킨\n",
      "4  1004   G5     3  NaN\n"
     ]
    }
   ],
   "source": [
    "# 조인(merge)\n",
    "# join도 있지만 merge가 다양한 조건을 사용할 수 있다.\n",
    "# DataFrame.merge(right, how='inner', on=None, left_on=None, right_on=None, left_index=False, right_index=False, sort=False, suffixes('_x', '_y'))\n",
    "    # DataFrame : 결합의 기준이 되는 데이터프레임으로 left DataFrame\n",
    "    # right : 결합의 대상이 되는 데이터프레임으로 right DataFrame\n",
    "    # how : {'left', 'right', 'outer', 'inner', 'cross'} 중 하나를 선택하여 조인의 수행방식 선택\n",
    "    # on  : key 컬럼의 이름(두 테이블에서 key 컬럼의 이름이 같은 경우)\n",
    "    # left_on/right_on : 두 테이블에서 key 컬럼의 이름이 다를 때, 'on'을 대신하여 각각 지정\n",
    "    # left_index/right_index : 왼쪽 혹은 오른쪽 데이터프레임의 인덱스를 key로 사용할 경우\n",
    "    # sort : 키값을 기준으로 정렬할지 여부\n",
    "    # suffixes : 결합한 데이터프레임에서 왼쪽/오른쪽 데이터프레임의 컬럼명에 사용할 접미사를 왼쪽-오른쪽 순서로 지정\n",
    "\n",
    "product = pd.DataFrame({'상품코드' : ['G1', 'G2', 'G3', 'G4'],\n",
    "                        '상품명' : ['우유', '감자', '빵', '치킨']})\n",
    "sale = pd.DataFrame({'주문번호' : [1001, 1002, 1002, 1003, 1004],\n",
    "                    '상품코드' : ['G4', 'G3', 'G1', 'G3', 'G5'],\n",
    "                    '주문수량' : [1, 4, 2, 2, 3]})\n",
    "print(sale.merge(product, on='상품코드', how='inner'))\n",
    "print('\\n=====\\n')\n",
    "print(sale.merge(product, on='상품코드', how='outer', sort = True))\n",
    "print('\\n=====\\n')\n",
    "print(sale.merge(product, on='상품코드', how='left', sort = True))"
   ]
  },
  {
   "cell_type": "markdown",
   "metadata": {},
   "source": [
    "---"
   ]
  },
  {
   "cell_type": "markdown",
   "metadata": {},
   "source": [
    "### 데이터 요약"
   ]
  },
  {
   "cell_type": "code",
   "execution_count": 23,
   "metadata": {
    "ExecuteTime": {
     "end_time": "2023-05-09T11:17:03.670484Z",
     "start_time": "2023-05-09T11:17:03.643731Z"
    }
   },
   "outputs": [
    {
     "name": "stdout",
     "output_type": "stream",
     "text": [
      "            sepal length (cm)  sepal width (cm)  petal length (cm)   \n",
      "class                                                                \n",
      "setosa                  5.006             3.428              1.462  \\\n",
      "versicolor              5.936             2.770              4.260   \n",
      "virginica               6.588             2.974              5.552   \n",
      "\n",
      "            petal width (cm)  \n",
      "class                         \n",
      "setosa                 0.246  \n",
      "versicolor             1.326  \n",
      "virginica              2.026  \n",
      "\n",
      "======\n",
      "\n",
      "            sepal length (cm)  sepal width (cm)  petal length (cm)   \n",
      "class                                                                \n",
      "setosa                    5.0               3.4               1.50  \\\n",
      "versicolor                5.9               2.8               4.35   \n",
      "virginica                 6.5               3.0               5.55   \n",
      "\n",
      "            petal width (cm)  \n",
      "class                         \n",
      "setosa                   0.2  \n",
      "versicolor               1.3  \n",
      "virginica                2.0  \n"
     ]
    }
   ],
   "source": [
    "# 그룹화(groupby)\n",
    "# DataFrame.groupby(by=None, axis=0, level=None, as_index=True, sort=False, dropna=True).FUN()\n",
    "    # by : 그룹을 결정하는 데 사용하는 컬럼\n",
    "    # axis : 행(0) 또는 열(1) 지정, default는 0\n",
    "    # level : 축이 계층 구조일 때 특정 수준을 기준으로 그룹화\n",
    "    # as_index : 그룹 레이블이 인덱스로 출력될지의 여부, default는 True\n",
    "    # sort : 집계 행으로 정렬할지 여부\n",
    "    # dropna : True이면 결측값이 행/열과 함께 삭제, False이면 결측값도 그룹의 키로 처리\n",
    "    # FUN() : 집계함수\n",
    "        # count(), sum(), min(), max(), mean(), median(), std(), var(), quantile(n), first(), last(), describe()\n",
    "\n",
    "import pandas as pd\n",
    "from sklearn.datasets import load_iris\n",
    "IRIS = load_iris()\n",
    "iris = pd.DataFrame(data = IRIS.data, columns = IRIS.feature_names)\n",
    "iris['class'] = IRIS.target\n",
    "iris['class'] = iris['class'].map({0:'setosa', 1:'versicolor', 2:'virginica'})\n",
    "print(iris.groupby(by='class').mean())\n",
    "print('\\n======\\n')\n",
    "print(iris.groupby(by='class').median())"
   ]
  },
  {
   "cell_type": "code",
   "execution_count": 30,
   "metadata": {
    "ExecuteTime": {
     "end_time": "2023-05-09T11:24:44.297778Z",
     "start_time": "2023-05-09T11:24:44.262918Z"
    }
   },
   "outputs": [
    {
     "name": "stdout",
     "output_type": "stream",
     "text": [
      "class\n",
      "setosa        50\n",
      "versicolor    50\n",
      "virginica     50\n",
      "Name: count, dtype: int64\n",
      "\n",
      "=====\n",
      "\n",
      "<bound method Series.to_frame of petal width level\n",
      "middle    52\n",
      "short     50\n",
      "long      48\n",
      "Name: count, dtype: int64>\n",
      "\n",
      "=====\n",
      "\n",
      "class              setosa  versicolor  virginica\n",
      "petal width level                               \n",
      "short                  50           0          0\n",
      "middle                  0          48          4\n",
      "long                    0           2         46\n"
     ]
    }
   ],
   "source": [
    "# 도수분포표\n",
    "# pd.Series(DataFrame['컬럼명']).value_counts()\n",
    "print(pd.Series(iris['class']).value_counts())\n",
    "print('\\n=====\\n')\n",
    "\n",
    "# 위의 방법으로는 명목척도에 대해서는 잘 사용되지만, 수치형 데이터인 경우 구간으로 나누지 않고 모든 값에 대해 개수를 센다는 한계가 있다.\n",
    "# 수치형 데이터를 구간에 나누기 위해서는 다음과 같이 구간을 나눈 컬럼을 생성해야 한다.\n",
    "iris['petal width level'] = pd.qcut(iris['petal width (cm)'],\n",
    "                                   q=3, # qcut은 quantile과 같은 느낌으로 3등분 해주는 듯하다.\n",
    "                                   labels = ['short', 'middle', 'long'])\n",
    "print(pd.Series(iris['petal width level']).value_counts().to_frame)\n",
    "print('\\n=====\\n')\n",
    "\n",
    "# 두 개의 기준에 따른 데이터의 분포를 확인하고자 할 때에는 crosstab()을 이용한다.\n",
    "# pd.crosstab(index, columns, dropna=True, normalize=False)\n",
    "    # index : 열 위치에서 집계될 범주형 변수(컬럼1)\n",
    "    # columns : 행 위치에서 집계도리 범주형 변수(컬럼2)\n",
    "    # dropna : 항목이 모두 NaN인 열을 제외할지 여부\n",
    "    # normalize : 'all' 또는 True를 전달하면 모든 값에 대하여 정규화하고, 'index'를 전달하면 각 행에 대해, 'columns'가 전달되면 각 열에 대해 정규화\n",
    "print(pd.crosstab(iris['petal width level'], iris['class']))"
   ]
  },
  {
   "cell_type": "markdown",
   "metadata": {},
   "source": [
    "---"
   ]
  },
  {
   "cell_type": "markdown",
   "metadata": {},
   "source": [
    "### 데이터 재구조화"
   ]
  },
  {
   "cell_type": "code",
   "execution_count": 1,
   "metadata": {
    "ExecuteTime": {
     "end_time": "2023-05-09T11:30:53.865848Z",
     "start_time": "2023-05-09T11:30:53.836445Z"
    }
   },
   "outputs": [
    {
     "name": "stdout",
     "output_type": "stream",
     "text": [
      "   학년  반 성별  성적\n",
      "0   1  A  F  76\n",
      "1   1  A  M  88\n",
      "2   1  B  F  85\n",
      "3   1  B  M  72\n",
      "4   2  C  F  68\n",
      "5   2  C  M  70\n",
      "\n",
      "=====\n",
      "\n",
      "성별     F   M\n",
      "학년 반        \n",
      "1  A  76  88\n",
      "   B  85  72\n",
      "2  C  68  70\n"
     ]
    }
   ],
   "source": [
    "# 피벗 테이블(pivot_table)\n",
    "# DataFrame.pivot_table(index=None, columns=None, values=None, aggfunc='mean')\n",
    "    # index : 피벗 테이블에서 인덱스가 될 컬럼의 이름(두 개 이상이면 리스트로 입력)\n",
    "    # columns : 피벗 테이블에서 컬럼으로 분리할 컬럼의 이름(범주형 변수 사용)\n",
    "    # values : 피벗 테이블에서 columns의 값이 될 컬럼의 이름\n",
    "    # aggfunc : 집계함수를 사용할 경우 지정\n",
    "    \n",
    "import pandas as pd\n",
    "score = {'학년' : [1, 1, 1, 1, 2, 2],\n",
    "        '반' : ['A', 'A', 'B', 'B', 'C', 'C'],\n",
    "        '성별' : ['F', 'M', 'F', 'M', 'F', 'M'],\n",
    "        '성적' : [76, 88, 85, 72, 68, 70]}\n",
    "score = pd.DataFrame(score)\n",
    "print(score)\n",
    "print('\\n=====\\n')\n",
    "\n",
    "# 피벗 테이블 만들기 \n",
    "score = score.pivot_table(index=['학년', '반'],\n",
    "                         columns='성별',\n",
    "                         values='성적')\n",
    "print(score)"
   ]
  },
  {
   "cell_type": "code",
   "execution_count": 2,
   "metadata": {
    "ExecuteTime": {
     "end_time": "2023-05-09T11:33:03.923392Z",
     "start_time": "2023-05-09T11:33:03.903872Z"
    }
   },
   "outputs": [
    {
     "name": "stdout",
     "output_type": "stream",
     "text": [
      "   학년  반 성별  성적\n",
      "0   1  A  F  76\n",
      "1   1  B  F  85\n",
      "2   2  C  F  68\n",
      "3   1  A  M  88\n",
      "4   1  B  M  72\n",
      "5   2  C  M  70\n"
     ]
    }
   ],
   "source": [
    "# 멜트(melt)\n",
    "# 멜트는 피벗 테이블의 반대라고 생각하면 간단하다.\n",
    "# 컬럼으로 나열된 자료를 variable과 value 컬럼으로 압축하는 것이다.\n",
    "# DataFrame.melt(id_vars=None, var_name=None, value_name=None)\n",
    "\n",
    "# 위의 피벗 테이블 결과를 원래 DataFrame으로 만들기\n",
    "print(score.reset_index().melt(id_vars=['학년', '반'], var_name='성별', value_name='성적'))"
   ]
  },
  {
   "cell_type": "markdown",
   "metadata": {},
   "source": [
    "---"
   ]
  },
  {
   "cell_type": "markdown",
   "metadata": {
    "ExecuteTime": {
     "end_time": "2023-05-09T11:33:16.096353Z",
     "start_time": "2023-05-09T11:33:16.092330Z"
    }
   },
   "source": [
    "### 데이터프레임에 함수 적용하기"
   ]
  },
  {
   "cell_type": "code",
   "execution_count": null,
   "metadata": {},
   "outputs": [],
   "source": []
  }
 ],
 "metadata": {
  "kernelspec": {
   "display_name": "Python 3 (ipykernel)",
   "language": "python",
   "name": "python3"
  },
  "language_info": {
   "codemirror_mode": {
    "name": "ipython",
    "version": 3
   },
   "file_extension": ".py",
   "mimetype": "text/x-python",
   "name": "python",
   "nbconvert_exporter": "python",
   "pygments_lexer": "ipython3",
   "version": "3.9.12"
  },
  "toc": {
   "base_numbering": 1,
   "nav_menu": {},
   "number_sections": true,
   "sideBar": true,
   "skip_h1_title": false,
   "title_cell": "Table of Contents",
   "title_sidebar": "Contents",
   "toc_cell": false,
   "toc_position": {},
   "toc_section_display": true,
   "toc_window_display": false
  }
 },
 "nbformat": 4,
 "nbformat_minor": 1
}

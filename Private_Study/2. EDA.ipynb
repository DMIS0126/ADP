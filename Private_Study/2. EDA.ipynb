{
 "cells": [
  {
   "cell_type": "markdown",
   "source": [
    "# EDA와 시각화"
   ],
   "metadata": {
    "collapsed": false
   }
  },
  {
   "cell_type": "markdown",
   "source": [
    "### EDA의 의미\n",
    "EDA의 주제\n",
    "* 저항성의 강조 : 이상치 등 부분적 변동에 대한 민감성 확인\n",
    "* 잔차 계산 : 관찰 값들이 주 경향에서 벗어난 정도 파악\n",
    "* 자료변수의 재표현 : 변수를 적당한 척도로 바꾸는 것\n",
    "* 그래프를 통한 현시성 : 분석 결과를 이해하기 쉽게 시각화하는 것"
   ],
   "metadata": {
    "collapsed": false
   }
  },
  {
   "cell_type": "markdown",
   "source": [
    "### 막대그래프와 히스토그램"
   ],
   "metadata": {
    "collapsed": false
   }
  },
  {
   "cell_type": "code",
   "execution_count": 23,
   "outputs": [
    {
     "name": "stdout",
     "output_type": "stream",
     "text": [
      "     alcohol  malic_acid   ash  alcalinity_of_ash  magnesium  total_phenols   \n",
      "0      14.23        1.71  2.43               15.6      127.0           2.80  \\\n",
      "1      13.20        1.78  2.14               11.2      100.0           2.65   \n",
      "2      13.16        2.36  2.67               18.6      101.0           2.80   \n",
      "3      14.37        1.95  2.50               16.8      113.0           3.85   \n",
      "4      13.24        2.59  2.87               21.0      118.0           2.80   \n",
      "..       ...         ...   ...                ...        ...            ...   \n",
      "173    13.71        5.65  2.45               20.5       95.0           1.68   \n",
      "174    13.40        3.91  2.48               23.0      102.0           1.80   \n",
      "175    13.27        4.28  2.26               20.0      120.0           1.59   \n",
      "176    13.17        2.59  2.37               20.0      120.0           1.65   \n",
      "177    14.13        4.10  2.74               24.5       96.0           2.05   \n",
      "\n",
      "     flavanoids  nonflavanoid_phenols  proanthocyanins  color_intensity   hue   \n",
      "0          3.06                  0.28             2.29             5.64  1.04  \\\n",
      "1          2.76                  0.26             1.28             4.38  1.05   \n",
      "2          3.24                  0.30             2.81             5.68  1.03   \n",
      "3          3.49                  0.24             2.18             7.80  0.86   \n",
      "4          2.69                  0.39             1.82             4.32  1.04   \n",
      "..          ...                   ...              ...              ...   ...   \n",
      "173        0.61                  0.52             1.06             7.70  0.64   \n",
      "174        0.75                  0.43             1.41             7.30  0.70   \n",
      "175        0.69                  0.43             1.35            10.20  0.59   \n",
      "176        0.68                  0.53             1.46             9.30  0.60   \n",
      "177        0.76                  0.56             1.35             9.20  0.61   \n",
      "\n",
      "     od280/od315_of_diluted_wines  proline    class  \n",
      "0                            3.92   1065.0  class_0  \n",
      "1                            3.40   1050.0  class_0  \n",
      "2                            3.17   1185.0  class_0  \n",
      "3                            3.45   1480.0  class_0  \n",
      "4                            2.93    735.0  class_0  \n",
      "..                            ...      ...      ...  \n",
      "173                          1.74    740.0  class_2  \n",
      "174                          1.56    750.0  class_2  \n",
      "175                          1.56    835.0  class_2  \n",
      "176                          1.62    840.0  class_2  \n",
      "177                          1.60    560.0  class_2  \n",
      "\n",
      "[178 rows x 14 columns]\n",
      "\n",
      "=====\n",
      "\n",
      "class\n",
      "class_1    71\n",
      "class_0    59\n",
      "class_2    48\n",
      "Name: count, dtype: int64\n",
      "\n",
      "=====\n",
      "\n"
     ]
    },
    {
     "data": {
      "text/plain": "<Figure size 432x288 with 1 Axes>",
      "image/png": "[encoded data removed]"
     },
     "metadata": {
      "needs_background": "light"
     },
     "output_type": "display_data"
    }
   ],
   "source": [
    "# 막대그래프\n",
    "# plt.bar(x, height, width=0.8, bottom=None, align='center', data=None)\n",
    "    # x : 막대의 x 좌표\n",
    "    # height : 막대의 높이\n",
    "    # width : 막대의 너비\n",
    "    # bottom : 막대 바닥면의 y좌표(누적 막대그래프를 그릴 때 사용)\n",
    "    # align : x 좌표에 대한 막대 정렬 {'center', 'edge'}\n",
    "\n",
    "import pandas as pd\n",
    "import matplotlib.pyplot as plt\n",
    "from sklearn.datasets import load_wine\n",
    "wine_load = load_wine()\n",
    "wine = pd.DataFrame(wine_load.data, columns= wine_load.feature_names)\n",
    "wine['class'] = wine_load.target\n",
    "wine['class'] = wine['class'].map({0:'class_0', 1:'class_1', 2:'class_2'})\n",
    "print(wine)\n",
    "print('\\n=====\\n')\n",
    "\n",
    "# 도수분포표\n",
    "wine_type = wine['class'].value_counts()\n",
    "print(wine_type)\n",
    "print('\\n=====\\n')\n",
    "\n",
    "# 막대그래프 그리기\n",
    "plt.bar(wine_type.index, wine_type.values, width=0.8, bottom=None, align='center')\n",
    "plt.show()"
   ],
   "metadata": {
    "collapsed": false
   }
  },
  {
   "cell_type": "code",
   "execution_count": 24,
   "outputs": [
    {
     "data": {
      "text/plain": "<Figure size 432x288 with 1 Axes>",
      "image/png": "[encoded data removed]"
     },
     "metadata": {
      "needs_background": "light"
     },
     "output_type": "display_data"
    }
   ],
   "source": [
    "plt.barh(wine_type.index, wine_type.values, height=0.8, left=None, align='edge')\n",
    "plt.show()"
   ],
   "metadata": {
    "collapsed": false
   }
  },
  {
   "cell_type": "markdown",
   "source": [
    "#### barplot에서는 각 범주의 값의 개수 차이를 비교하고, 차이가 극단적인지 확인한다.\n",
    "* 예를 들어, 두 개의 범주를 비교할 때 각 범주의 개수 차이가 극단적일 경우 데이터 전처리 과정에서 업/다운 샘플링 등을 통해 각 범주의 개수가 유사하도록 조정해야 한다는 인사이트를 얻을 수 있다."
   ],
   "metadata": {
    "collapsed": false
   }
  },
  {
   "cell_type": "code",
   "execution_count": null,
   "outputs": [],
   "source": [],
   "metadata": {
    "collapsed": false
   }
  }
 ],
 "metadata": {
  "kernelspec": {
   "display_name": "Python 3",
   "language": "python",
   "name": "python3"
  },
  "language_info": {
   "codemirror_mode": {
    "name": "ipython",
    "version": 2
   },
   "file_extension": ".py",
   "mimetype": "text/x-python",
   "name": "python",
   "nbconvert_exporter": "python",
   "pygments_lexer": "ipython2",
   "version": "2.7.6"
  }
 },
 "nbformat": 4,
 "nbformat_minor": 0
}

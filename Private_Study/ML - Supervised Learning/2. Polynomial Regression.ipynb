{
 "cells": [
  {
   "cell_type": "markdown",
   "source": [
    "# 다항 회귀(Polynomial Regression)"
   ],
   "metadata": {
    "collapsed": false
   }
  },
  {
   "cell_type": "markdown",
   "source": [
    "* 데이터가 비선형의 형태일 때, 각 변수의 거듭제곱을 새로운 변수로 추가한 선형 모델\n",
    "* scikit-learn의 PolynomialFeatures(degree=n)을 활용한다.\n",
    "  * 만약 n=3이고, 변수가 $a,\\ b$라면 $a,\\ a^2,\\ a^3,\\ b,\\ b^2,\\ b^3$뿐만 아니라 $ab,\\ ab^2,\\ a^2b$도 변수로 추가된다.\n",
    "* 고차 다항 회귀를 적용하면 훈련데이터에 적합한 모델을 생성할 수 있지만, 과대적합의 가능성이 있어 주의할 필요가 있다."
   ],
   "metadata": {
    "collapsed": false
   }
  },
  {
   "cell_type": "markdown",
   "source": [
    "### scikit-learn의 PolynomialFeatures\n",
    "* 다항 회귀는 다항변수를 생성한 뒤 LinearRegression 함수에 적용하면 된다."
   ],
   "metadata": {
    "collapsed": false
   }
  },
  {
   "cell_type": "code",
   "execution_count": 20,
   "metadata": {
    "collapsed": true
   },
   "outputs": [
    {
     "name": "stdout",
     "output_type": "stream",
     "text": [
      "<class 'pandas.core.frame.DataFrame'>\n",
      "RangeIndex: 77 entries, 0 to 76\n",
      "Data columns (total 16 columns):\n",
      " #   Column    Non-Null Count  Dtype  \n",
      "---  ------    --------------  -----  \n",
      " 0   name      77 non-null     object \n",
      " 1   mfr       77 non-null     object \n",
      " 2   type      77 non-null     object \n",
      " 3   calories  77 non-null     int64  \n",
      " 4   protein   77 non-null     int64  \n",
      " 5   fat       77 non-null     int64  \n",
      " 6   sodium    77 non-null     int64  \n",
      " 7   fiber     77 non-null     float64\n",
      " 8   carbo     77 non-null     float64\n",
      " 9   sugars    77 non-null     int64  \n",
      " 10  potass    77 non-null     int64  \n",
      " 11  vitamins  77 non-null     int64  \n",
      " 12  shelf     77 non-null     int64  \n",
      " 13  weight    77 non-null     float64\n",
      " 14  cups      77 non-null     float64\n",
      " 15  rating    77 non-null     float64\n",
      "dtypes: float64(5), int64(8), object(3)\n",
      "memory usage: 9.8+ KB\n",
      "None\n",
      "<class 'pandas.core.frame.DataFrame'>\n",
      "Index: 76 entries, 0 to 76\n",
      "Data columns (total 13 columns):\n",
      " #   Column    Non-Null Count  Dtype  \n",
      "---  ------    --------------  -----  \n",
      " 0   calories  76 non-null     int64  \n",
      " 1   protein   76 non-null     int64  \n",
      " 2   fat       76 non-null     int64  \n",
      " 3   sodium    76 non-null     int64  \n",
      " 4   fiber     76 non-null     float64\n",
      " 5   carbo     76 non-null     float64\n",
      " 6   sugars    76 non-null     int64  \n",
      " 7   potass    76 non-null     int64  \n",
      " 8   vitamins  76 non-null     int64  \n",
      " 9   shelf     76 non-null     int64  \n",
      " 10  weight    76 non-null     float64\n",
      " 11  cups      76 non-null     float64\n",
      " 12  rating    76 non-null     float64\n",
      "dtypes: float64(5), int64(8)\n",
      "memory usage: 8.3 KB\n",
      "None\n",
      "   calories  protein  fat  sodium  fiber  carbo  sugars  potass  vitamins   \n",
      "0        70        4    1     130   10.0    5.0       6     280        25  \\\n",
      "1       120        3    5      15    2.0    8.0       8     135         0   \n",
      "2        70        4    1     260    9.0    7.0       5     320        25   \n",
      "3        50        4    0     140   14.0    8.0       0     330        25   \n",
      "4       110        2    2     200    1.0   14.0       8      -1        25   \n",
      "\n",
      "   shelf  weight  cups     rating  \n",
      "0      3     1.0  0.33  68.402973  \n",
      "1      3     1.0  1.00  33.983679  \n",
      "2      3     1.0  0.33  59.425505  \n",
      "3      3     1.0  0.50  93.704912  \n",
      "4      3     1.0  0.75  34.384843  \n"
     ]
    },
    {
     "name": "stderr",
     "output_type": "stream",
     "text": [
      "/var/folders/1j/6jv9fhvd1z9_jjk1nfw85c_h0000gn/T/ipykernel_1365/2996112633.py:19: SettingWithCopyWarning: \n",
      "A value is trying to be set on a copy of a slice from a DataFrame\n",
      "\n",
      "See the caveats in the documentation: https://pandas.pydata.org/pandas-docs/stable/user_guide/indexing.html#returning-a-view-versus-a-copy\n",
      "  cereal_2.sort_values(by='sugars', inplace=True)\n"
     ]
    },
    {
     "data": {
      "text/plain": "<Figure size 432x288 with 1 Axes>",
      "image/png": "[encoded data removed]"
     },
     "metadata": {
      "needs_background": "light"
     },
     "output_type": "display_data"
    },
    {
     "name": "stdout",
     "output_type": "stream",
     "text": [
      "(53,) (23,)\n",
      "(53,) (23,)\n",
      "[[51.63 46.66]\n",
      " [32.1  28.74]\n",
      " [55.79 59.64]\n",
      " [31.08 37.84]\n",
      " [32.1  31.44]\n",
      " [44.46 44.33]\n",
      " [38.82 40.4 ]\n",
      " [41.45 55.33]\n",
      " [41.45 49.12]\n",
      " [31.38 27.75]\n",
      " [36.56 34.38]\n",
      " [34.7  29.92]\n",
      " [65.25 63.01]\n",
      " [33.21 31.07]\n",
      " [44.46 52.08]\n",
      " [38.82 40.45]\n",
      " [51.63 53.13]\n",
      " [36.56 33.98]\n",
      " [41.45 49.51]\n",
      " [31.04 22.74]\n",
      " [31.38 39.26]\n",
      " [31.5  31.23]\n",
      " [32.1  21.87]]\n",
      "\n",
      "=====\n",
      "\n",
      "MSE\t33.565\n",
      "MAE\t4.606\n",
      "RMSE\t5.794\n",
      "ACC\t74.376%\n",
      "\n",
      "=====\n",
      "\n"
     ]
    },
    {
     "data": {
      "text/plain": "<Figure size 432x288 with 1 Axes>",
      "image/png": "[encoded data removed]"
     },
     "metadata": {
      "needs_background": "light"
     },
     "output_type": "display_data"
    }
   ],
   "source": [
    "# class sklearn.preprocessing.PolynomialFeatures(degree=2, *, interaction_only=False, include_bias=True, order='C')\n",
    "    # degree : 다항식의 차수, default는 2\n",
    "    # interaction_only : 교차항(ab, ab^2등)을 추가할지 결정한다. True인 경우 교차항만 생성, False(default)인 경우 교차항과 함께 동일한 변수의 거듭제곱 항도 추가된다.\n",
    "    # include_bias : bias 컬럼을 추가할지 결정한다. True(default)인 경우 bias 컬럼 추가, False인 경우 추가하지 않는다.\n",
    "\n",
    "import pandas as pd\n",
    "cereal = pd.read_csv('./data/cereal.csv')\n",
    "print(cereal.info())\n",
    "\n",
    "# 분석에 필요한 데이터만 추출하기 위한 전처리\n",
    "cereal.drop(columns=['name', 'mfr', 'type'], inplace=True)\n",
    "cereal = cereal[cereal['sugars'] >= 0]\n",
    "print(cereal.info())\n",
    "print(cereal.head())\n",
    "\n",
    "# 설탕함유량(sugars)에 따른 영양등급평가(rating)을 다항 회귀분석으로 예측해보기\n",
    "# 우선, 두 데이터간 선형성이 있는지 확인\n",
    "cereal_2 = cereal[['sugars', 'rating']]\n",
    "cereal_2.sort_values(by='sugars', inplace=True)\n",
    "cereal_2.reset_index(drop=True, inplace=True)\n",
    "x=cereal_2['sugars'].values\n",
    "y=cereal_2['rating'].values\n",
    "\n",
    "import matplotlib.pyplot as plt\n",
    "\n",
    "plt.scatter(x, y)\n",
    "plt.xlabel('sugars')\n",
    "plt.ylabel('rating')\n",
    "plt.show()\n",
    "\n",
    "# 7:3의 비율로 train, test 분할하기\n",
    "\n",
    "from sklearn.model_selection import train_test_split\n",
    "x_train, x_test, y_train, y_test = train_test_split(x, y, test_size=0.3, random_state=1)\n",
    "print(x_train.shape, x_test.shape)\n",
    "print(y_train.shape, y_test.shape)\n",
    "\n",
    "# 2차 다항식 조건을 설정한 뒤, x_poly 데이터 생성하기\n",
    "from sklearn.preprocessing import PolynomialFeatures\n",
    "poly_reg = PolynomialFeatures(degree=2)\n",
    "x_poly = poly_reg.fit_transform(x_train.reshape(-1, 1))\n",
    "\n",
    "from sklearn.linear_model import LinearRegression\n",
    "reg = LinearRegression()\n",
    "reg.fit(x_poly, y_train)\n",
    "\n",
    "# 모델 평가를 위해 x_test를 x_test_poly로 변환하고 predict 후 y_test와 비교해보기\n",
    "import numpy as np\n",
    "\n",
    "x_test_poly = poly_reg.fit_transform(x_test.reshape(-1, 1))\n",
    "pred = reg.predict(x_test_poly)\n",
    "\n",
    "np.set_printoptions(precision=2) # 소수점 둘째자리까지 표현\n",
    "print(np.concatenate((pred.reshape(len(pred), 1),\n",
    "                      y_test.reshape(len(y_test), 1)), 1))\n",
    "print('\\n=====\\n')\n",
    "# 다양한 성능평가지표로 예측력 평가해보기\n",
    "from sklearn.metrics import mean_squared_error, mean_absolute_error\n",
    "mse = mean_squared_error(y_test, pred)\n",
    "mae = mean_absolute_error(y_test, pred)\n",
    "rmse = np.sqrt(mse)\n",
    "acc = reg.score(poly_reg.transform(x_test.reshape(-1, 1)), y_test)\n",
    "\n",
    "print('MSE\\t{}'.format(round(mse, 3)))\n",
    "print('MAE\\t{}'.format(round(mae, 3)))\n",
    "print('RMSE\\t{}'.format(round(rmse, 3)))\n",
    "print('ACC\\t{}%'.format(round(acc*100, 3))) # 결정계수\n",
    "print('\\n=====\\n')\n",
    "\n",
    "# 다항 회귀분석 결과 시각화하기\n",
    "x_new = np.linspace(0, 15, 100).reshape(100, 1)\n",
    "x_new_poly = poly_reg.transform(x_new)\n",
    "y_new = reg.predict(x_new_poly)\n",
    "\n",
    "plt.plot(x, y, 'o', label='Actual') # o : dot\n",
    "plt.plot(x_new, y_new, 'r-', label='Predict') # r- : red+-(line)\n",
    "plt.legend(loc='upper right')\n",
    "plt.xlabel('$Sugars_1$')\n",
    "plt.ylabel('$Rating$')\n",
    "plt.show()"
   ]
  },
  {
   "cell_type": "code",
   "execution_count": 24,
   "outputs": [
    {
     "name": "stdout",
     "output_type": "stream",
     "text": [
      "(53, 12) (23, 12) (53,) (23,)\n",
      "MSE\t9.872\n",
      "MAE\t2.102\n",
      "RMSE\t3.142\n",
      "ACC\t92.429%\n",
      "\n",
      "=====\n",
      "\n"
     ]
    }
   ],
   "source": [
    "# 고차 다항 회귀 분석\n",
    "# 설명변수를 12개의 데이터로 설정하여 수행\n",
    "\n",
    "x=cereal.iloc[:, :-1].values\n",
    "y=cereal.iloc[:, -1].values\n",
    "\n",
    "from sklearn.model_selection import train_test_split\n",
    "x_train, x_test, y_train, y_test = train_test_split(x, y, test_size=0.3, random_state=1)\n",
    "print(x_train.shape, x_test.shape, y_train.shape, y_test.shape)\n",
    "\n",
    "from sklearn.preprocessing import StandardScaler\n",
    "std_scaler = StandardScaler()\n",
    "\n",
    "x_train = std_scaler.fit_transform(x_train)\n",
    "x_test = std_scaler.fit_transform(x_test)\n",
    "\n",
    "from sklearn.preprocessing import PolynomialFeatures\n",
    "poly_reg = PolynomialFeatures(degree=2)\n",
    "\n",
    "from sklearn.linear_model import LinearRegression\n",
    "x_poly = poly_reg.fit_transform(x_train)\n",
    "reg = LinearRegression()\n",
    "reg.fit(x_poly, y_train)\n",
    "\n",
    "import numpy as np\n",
    "x_test_poly = poly_reg.transform(x_test)\n",
    "pred = reg.predict(x_test_poly)\n",
    "\n",
    "from sklearn.metrics import mean_absolute_error, mean_squared_error\n",
    "mae = mean_absolute_error(y_test, pred)\n",
    "mse = mean_squared_error(y_test, pred)\n",
    "rmse = np.sqrt(mse)\n",
    "acc = reg.score(poly_reg.transform(x_test), y_test)\n",
    "\n",
    "print('MSE\\t{}'.format(round(mse, 3)))\n",
    "print('MAE\\t{}'.format(round(mae, 3)))\n",
    "print('RMSE\\t{}'.format(round(rmse, 3)))\n",
    "print('ACC\\t{}%'.format(round(acc*100, 3))) # 결정계수\n",
    "print('\\n=====\\n')"
   ],
   "metadata": {
    "collapsed": false
   }
  }
 ],
 "metadata": {
  "kernelspec": {
   "display_name": "Python 3",
   "language": "python",
   "name": "python3"
  },
  "language_info": {
   "codemirror_mode": {
    "name": "ipython",
    "version": 2
   },
   "file_extension": ".py",
   "mimetype": "text/x-python",
   "name": "python",
   "nbconvert_exporter": "python",
   "pygments_lexer": "ipython2",
   "version": "2.7.6"
  }
 },
 "nbformat": 4,
 "nbformat_minor": 0
}

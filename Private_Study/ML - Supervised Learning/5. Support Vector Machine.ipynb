{
 "cells": [
  {
   "cell_type": "markdown",
   "metadata": {},
   "source": [
    "# 서포트 벡터 머신(Support Vector Machine)"
   ]
  },
  {
   "cell_type": "markdown",
   "metadata": {},
   "source": [
    "* 새로운 데이터가 입력되었을 때, 기존 데이터를 활용해 분류하는 방법\n",
    "* 패턴인식, 자료분석 등을 위한 지도학습 모델로 회귀와 분류 문제 해결에 사용되는 알고리즘이다.\n",
    "* SVM은 최대 마진 분류기(Maximal Margin Classifier)를 일반화한 것이다.\n",
    "  * 최대 마진 분류기의 단점을 극복하고 확장성을 넓힌 것이 SVC(Support Vector Classifier)이다.\n",
    "  * SVC를 더 확장하고 비선형 클래스 경계를 수용하기 위해 SVM이 고안되었다."
   ]
  },
  {
   "cell_type": "markdown",
   "metadata": {},
   "source": [
    "### 최대 마진 분류기\n",
    "* 초평면\n",
    "  * p차원 공간에서 차원이 (p-1)인 평평한 [아핀(affine)](https://ko.wikipedia.org/wiki/%EC%95%84%ED%95%80_%EA%B3%B5%EA%B0%84) 부분공간이다.\n",
    "  * 예를 들어, 2차원 공간에서는 1차원 부분공간인 선이 초평면이고, 3차원 공간에서는 2차원 부분공간인 평면이 초평면이 된다.\n",
    "  * 즉, p차원의 초평면은 수학적으로 아래와 같이 정의할 수 있다.\n",
    "    * $\\beta_0+\\beta_1X+\\ \\cdots\\ +\\beta_{p}X_p=0$\n",
    "  * p차원 공간의 점 $X=(X_1,\\ X_{2},\\ \\cdots,\\ X_p)^{T}$가 위의 등식을 만족하면 점 $X$는 초평면상에 있다.\n",
    "  * 초평면의 등식에 >0, <0을 넣어 평면을 두 공간으로 나눌 수 있다.\n",
    "    * 이때, 관측치들에서 초평면까지의 가장 짧은 거리인 마진이 가장 큰 분리 초평면을 찾는다.\n",
    "    * 그리고 양의 초평면과 음의 초평면에 접한 관측값들을 '서포트 벡터'라 한다.\n",
    "        * 다시 말해, 서포트 벡터는 초평면에 가장 가까이에 붙어 있는 최전방 데이터이다.\n",
    "\n",
    "* SVC와 SVM에 대한 내용은 다음에.."
   ]
  },
  {
   "cell_type": "code",
   "execution_count": 1,
   "metadata": {
    "collapsed": true
   },
   "outputs": [],
   "source": [
    "# dataset이 사라졌다..\n",
    "\n",
    "# https://www.kaggle.com/sveneschlbeck/beginners-classification-dataset\n",
    "\n",
    "\n",
    "# https://blog.naver.com/winddori2002/221667083964 이거 이용해서 나중에 해보자"
   ]
  }
 ],
 "metadata": {
  "kernelspec": {
   "display_name": "Python 3 (ipykernel)",
   "language": "python",
   "name": "python3"
  },
  "language_info": {
   "codemirror_mode": {
    "name": "ipython",
    "version": 3
   },
   "file_extension": ".py",
   "mimetype": "text/x-python",
   "name": "python",
   "nbconvert_exporter": "python",
   "pygments_lexer": "ipython3",
   "version": "3.9.12"
  }
 },
 "nbformat": 4,
 "nbformat_minor": 1
}

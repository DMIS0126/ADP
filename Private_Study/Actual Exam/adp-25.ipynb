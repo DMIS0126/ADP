{
 "cells": [
  {
   "cell_type": "markdown",
   "id": "e90544a5",
   "metadata": {
    "papermill": {
     "duration": 0.016073,
     "end_time": "2023-08-24T23:06:17.888452",
     "exception": false,
     "start_time": "2023-08-24T23:06:17.872379",
     "status": "completed"
    },
    "tags": []
   },
   "source": [
    "# 1.군집분석 "
   ]
  },
  {
   "cell_type": "markdown",
   "id": "080ebc70",
   "metadata": {
    "papermill": {
     "duration": 0.015877,
     "end_time": "2023-08-24T23:06:17.918877",
     "exception": false,
     "start_time": "2023-08-24T23:06:17.903000",
     "status": "completed"
    },
    "tags": []
   },
   "source": [
    "- 데이터 경로 /kaggle/input/adp-p7/problem1.csv \n",
    "\n",
    "### 데이터 설명\n",
    "- InvoiceNo: Invoice number. Nominal, a 6-digit integral number uniquely assigned to each transaction. If this code starts with letter 'c', it indicates a cancellation.     \n",
    "- StockCode: Product (item) code. Nominal, a 5-digit integral number uniquely assigned to each distinct product.     \n",
    "- Description: Product (item) name. Nominal.    \n",
    "- Quantity: The quantities of each product (item) per transaction. Numeric.     \n",
    "- InvoiceDate: Invice Date and time. Numeric, the day and time when each transaction was generated.   \n",
    "- UnitPrice: Unit price. Numeric, Product price per unit in sterling.    \n",
    "- CustomerID: Customer number. Nominal, a 5-digit integral number uniquely assigned to each customer.     \n",
    "- Country: Country name. Nominal, the name of the country where each customer resides.     \n",
    "\n",
    "\n",
    "### 데이터 출처\n",
    "- https://archive.ics.uci.edu/ml/index.php"
   ]
  },
  {
   "cell_type": "markdown",
   "id": "f41b78ab",
   "metadata": {
    "papermill": {
     "duration": 0.013773,
     "end_time": "2023-08-24T23:06:17.946845",
     "exception": false,
     "start_time": "2023-08-24T23:06:17.933072",
     "status": "completed"
    },
    "tags": []
   },
   "source": [
    "## 1.1 F(소비자별 구매빈도), M(소비자별 총 구매액) feature를 새로 생성해서 그 결과값으로 탐색적 분석 실시\n"
   ]
  },
  {
   "cell_type": "code",
   "execution_count": 1,
   "id": "3e735131",
   "metadata": {
    "execution": {
     "iopub.execute_input": "2023-08-24T23:06:17.977170Z",
     "iopub.status.busy": "2023-08-24T23:06:17.976656Z",
     "iopub.status.idle": "2023-08-24T23:06:18.140170Z",
     "shell.execute_reply": "2023-08-24T23:06:18.139280Z"
    },
    "papermill": {
     "duration": 0.18367,
     "end_time": "2023-08-24T23:06:18.144579",
     "exception": false,
     "start_time": "2023-08-24T23:06:17.960909",
     "status": "completed"
    },
    "tags": []
   },
   "outputs": [
    {
     "data": {
      "text/html": [
       "<div>\n",
       "<style scoped>\n",
       "    .dataframe tbody tr th:only-of-type {\n",
       "        vertical-align: middle;\n",
       "    }\n",
       "\n",
       "    .dataframe tbody tr th {\n",
       "        vertical-align: top;\n",
       "    }\n",
       "\n",
       "    .dataframe thead th {\n",
       "        text-align: right;\n",
       "    }\n",
       "</style>\n",
       "<table border=\"1\" class=\"dataframe\">\n",
       "  <thead>\n",
       "    <tr style=\"text-align: right;\">\n",
       "      <th></th>\n",
       "      <th>InvoiceNo</th>\n",
       "      <th>StockCode</th>\n",
       "      <th>Description</th>\n",
       "      <th>Quantity</th>\n",
       "      <th>InvoiceDate</th>\n",
       "      <th>UnitPrice</th>\n",
       "      <th>CustomerID</th>\n",
       "      <th>Country</th>\n",
       "    </tr>\n",
       "  </thead>\n",
       "  <tbody>\n",
       "    <tr>\n",
       "      <th>0</th>\n",
       "      <td>565857</td>\n",
       "      <td>84879</td>\n",
       "      <td>ASSORTED COLOUR BIRD ORNAMENT</td>\n",
       "      <td>16</td>\n",
       "      <td>9/7/2011 14:13</td>\n",
       "      <td>1.69</td>\n",
       "      <td>14911.0</td>\n",
       "      <td>EIRE</td>\n",
       "    </tr>\n",
       "    <tr>\n",
       "      <th>1</th>\n",
       "      <td>560452</td>\n",
       "      <td>22432</td>\n",
       "      <td>WATERING CAN PINK BUNNY</td>\n",
       "      <td>6</td>\n",
       "      <td>7/19/2011 9:51</td>\n",
       "      <td>1.95</td>\n",
       "      <td>12682.0</td>\n",
       "      <td>France</td>\n",
       "    </tr>\n",
       "    <tr>\n",
       "      <th>2</th>\n",
       "      <td>578509</td>\n",
       "      <td>22492</td>\n",
       "      <td>MINI PAINT SET VINTAGE</td>\n",
       "      <td>36</td>\n",
       "      <td>11/24/2011 13:17</td>\n",
       "      <td>0.65</td>\n",
       "      <td>12705.0</td>\n",
       "      <td>Germany</td>\n",
       "    </tr>\n",
       "    <tr>\n",
       "      <th>3</th>\n",
       "      <td>579345</td>\n",
       "      <td>22728</td>\n",
       "      <td>ALARM CLOCK BAKELIKE PINK</td>\n",
       "      <td>8</td>\n",
       "      <td>11/29/2011 11:46</td>\n",
       "      <td>3.75</td>\n",
       "      <td>12727.0</td>\n",
       "      <td>France</td>\n",
       "    </tr>\n",
       "    <tr>\n",
       "      <th>4</th>\n",
       "      <td>564039</td>\n",
       "      <td>21731</td>\n",
       "      <td>RED TOADSTOOL LED NIGHT LIGHT</td>\n",
       "      <td>12</td>\n",
       "      <td>8/22/2011 12:40</td>\n",
       "      <td>1.65</td>\n",
       "      <td>12645.0</td>\n",
       "      <td>Germany</td>\n",
       "    </tr>\n",
       "  </tbody>\n",
       "</table>\n",
       "</div>"
      ],
      "text/plain": [
       "  InvoiceNo StockCode                    Description  Quantity  \\\n",
       "0    565857     84879  ASSORTED COLOUR BIRD ORNAMENT        16   \n",
       "1    560452     22432        WATERING CAN PINK BUNNY         6   \n",
       "2    578509     22492        MINI PAINT SET VINTAGE         36   \n",
       "3    579345     22728      ALARM CLOCK BAKELIKE PINK         8   \n",
       "4    564039     21731  RED TOADSTOOL LED NIGHT LIGHT        12   \n",
       "\n",
       "        InvoiceDate  UnitPrice  CustomerID  Country  \n",
       "0    9/7/2011 14:13       1.69     14911.0     EIRE  \n",
       "1    7/19/2011 9:51       1.95     12682.0   France  \n",
       "2  11/24/2011 13:17       0.65     12705.0  Germany  \n",
       "3  11/29/2011 11:46       3.75     12727.0   France  \n",
       "4   8/22/2011 12:40       1.65     12645.0  Germany  "
      ]
     },
     "execution_count": 1,
     "metadata": {},
     "output_type": "execute_result"
    }
   ],
   "source": [
    "import warnings\n",
    "warnings.filterwarnings('ignore')\n",
    "\n",
    "import pandas as pd\n",
    "import numpy as np\n",
    "import matplotlib.pyplot as plt\n",
    "\n",
    "df = pd.read_csv('/kaggle/input/adp-p7/problem1.csv')\n",
    "\n",
    "df.head()"
   ]
  },
  {
   "cell_type": "code",
   "execution_count": 2,
   "id": "74159738",
   "metadata": {
    "execution": {
     "iopub.execute_input": "2023-08-24T23:06:18.177171Z",
     "iopub.status.busy": "2023-08-24T23:06:18.176149Z",
     "iopub.status.idle": "2023-08-24T23:06:18.224881Z",
     "shell.execute_reply": "2023-08-24T23:06:18.223592Z"
    },
    "papermill": {
     "duration": 0.068077,
     "end_time": "2023-08-24T23:06:18.227984",
     "exception": false,
     "start_time": "2023-08-24T23:06:18.159907",
     "status": "completed"
    },
    "tags": []
   },
   "outputs": [
    {
     "name": "stdout",
     "output_type": "stream",
     "text": [
      "<class 'pandas.core.frame.DataFrame'>\n",
      "RangeIndex: 41024 entries, 0 to 41023\n",
      "Data columns (total 8 columns):\n",
      " #   Column       Non-Null Count  Dtype  \n",
      "---  ------       --------------  -----  \n",
      " 0   InvoiceNo    41024 non-null  object \n",
      " 1   StockCode    41024 non-null  object \n",
      " 2   Description  41024 non-null  object \n",
      " 3   Quantity     41024 non-null  int64  \n",
      " 4   InvoiceDate  41024 non-null  object \n",
      " 5   UnitPrice    41024 non-null  float64\n",
      " 6   CustomerID   41024 non-null  float64\n",
      " 7   Country      41024 non-null  object \n",
      "dtypes: float64(2), int64(1), object(5)\n",
      "memory usage: 2.5+ MB\n"
     ]
    }
   ],
   "source": [
    "df.info()"
   ]
  },
  {
   "cell_type": "code",
   "execution_count": 3,
   "id": "49e7118c",
   "metadata": {
    "execution": {
     "iopub.execute_input": "2023-08-24T23:06:18.259842Z",
     "iopub.status.busy": "2023-08-24T23:06:18.259437Z",
     "iopub.status.idle": "2023-08-24T23:06:18.268662Z",
     "shell.execute_reply": "2023-08-24T23:06:18.267457Z"
    },
    "papermill": {
     "duration": 0.028247,
     "end_time": "2023-08-24T23:06:18.271182",
     "exception": false,
     "start_time": "2023-08-24T23:06:18.242935",
     "status": "completed"
    },
    "tags": []
   },
   "outputs": [
    {
     "data": {
      "text/plain": [
       "(348,)"
      ]
     },
     "execution_count": 3,
     "metadata": {},
     "output_type": "execute_result"
    }
   ],
   "source": [
    "# Customer 수 확인\n",
    "df['CustomerID'].unique().shape"
   ]
  },
  {
   "cell_type": "code",
   "execution_count": 4,
   "id": "e422065a",
   "metadata": {
    "execution": {
     "iopub.execute_input": "2023-08-24T23:06:18.303871Z",
     "iopub.status.busy": "2023-08-24T23:06:18.303089Z",
     "iopub.status.idle": "2023-08-24T23:06:23.399955Z",
     "shell.execute_reply": "2023-08-24T23:06:23.398969Z"
    },
    "papermill": {
     "duration": 5.116575,
     "end_time": "2023-08-24T23:06:23.402803",
     "exception": false,
     "start_time": "2023-08-24T23:06:18.286228",
     "status": "completed"
    },
    "tags": []
   },
   "outputs": [],
   "source": [
    "# 결측치가 없으므로 바로 F, M feature 생성\n",
    "\n",
    "# InvoiceDate에서 시간 제거하고 일자만 남기기\n",
    "df['date'] = pd.to_datetime(df['InvoiceDate']).dt.date\n",
    "F = df.groupby('CustomerID').count()['date']\n",
    "\n",
    "df['price'] = df['UnitPrice'] * df['Quantity']\n",
    "M = df.groupby('CustomerID').sum('price')\n",
    "M = M['price']\n",
    "\n",
    "F.to_frame()\n",
    "M.to_frame()\n",
    "\n",
    "df_new = pd.concat([F, M], axis = 1)\n",
    "df_new.columns = ['F', 'M']"
   ]
  },
  {
   "cell_type": "code",
   "execution_count": 5,
   "id": "ce6897ce",
   "metadata": {
    "execution": {
     "iopub.execute_input": "2023-08-24T23:06:23.435514Z",
     "iopub.status.busy": "2023-08-24T23:06:23.434866Z",
     "iopub.status.idle": "2023-08-24T23:06:23.446834Z",
     "shell.execute_reply": "2023-08-24T23:06:23.445454Z"
    },
    "papermill": {
     "duration": 0.031089,
     "end_time": "2023-08-24T23:06:23.449597",
     "exception": false,
     "start_time": "2023-08-24T23:06:23.418508",
     "status": "completed"
    },
    "tags": []
   },
   "outputs": [
    {
     "name": "stdout",
     "output_type": "stream",
     "text": [
      "<class 'pandas.core.frame.DataFrame'>\n",
      "Float64Index: 348 entries, 12348.0 to 17097.0\n",
      "Data columns (total 2 columns):\n",
      " #   Column  Non-Null Count  Dtype  \n",
      "---  ------  --------------  -----  \n",
      " 0   F       348 non-null    int64  \n",
      " 1   M       348 non-null    float64\n",
      "dtypes: float64(1), int64(1)\n",
      "memory usage: 8.2 KB\n"
     ]
    }
   ],
   "source": [
    "df_new.info()"
   ]
  },
  {
   "cell_type": "code",
   "execution_count": 6,
   "id": "4acc3673",
   "metadata": {
    "execution": {
     "iopub.execute_input": "2023-08-24T23:06:23.483359Z",
     "iopub.status.busy": "2023-08-24T23:06:23.482929Z",
     "iopub.status.idle": "2023-08-24T23:06:23.503850Z",
     "shell.execute_reply": "2023-08-24T23:06:23.502986Z"
    },
    "papermill": {
     "duration": 0.042051,
     "end_time": "2023-08-24T23:06:23.506684",
     "exception": false,
     "start_time": "2023-08-24T23:06:23.464633",
     "status": "completed"
    },
    "tags": []
   },
   "outputs": [
    {
     "data": {
      "text/html": [
       "<div>\n",
       "<style scoped>\n",
       "    .dataframe tbody tr th:only-of-type {\n",
       "        vertical-align: middle;\n",
       "    }\n",
       "\n",
       "    .dataframe tbody tr th {\n",
       "        vertical-align: top;\n",
       "    }\n",
       "\n",
       "    .dataframe thead th {\n",
       "        text-align: right;\n",
       "    }\n",
       "</style>\n",
       "<table border=\"1\" class=\"dataframe\">\n",
       "  <thead>\n",
       "    <tr style=\"text-align: right;\">\n",
       "      <th></th>\n",
       "      <th>F</th>\n",
       "      <th>M</th>\n",
       "    </tr>\n",
       "  </thead>\n",
       "  <tbody>\n",
       "    <tr>\n",
       "      <th>count</th>\n",
       "      <td>348.000000</td>\n",
       "      <td>348.000000</td>\n",
       "    </tr>\n",
       "    <tr>\n",
       "      <th>mean</th>\n",
       "      <td>117.885057</td>\n",
       "      <td>3960.727356</td>\n",
       "    </tr>\n",
       "    <tr>\n",
       "      <th>std</th>\n",
       "      <td>354.247025</td>\n",
       "      <td>18821.144519</td>\n",
       "    </tr>\n",
       "    <tr>\n",
       "      <th>min</th>\n",
       "      <td>1.000000</td>\n",
       "      <td>-1126.000000</td>\n",
       "    </tr>\n",
       "    <tr>\n",
       "      <th>25%</th>\n",
       "      <td>23.000000</td>\n",
       "      <td>452.000000</td>\n",
       "    </tr>\n",
       "    <tr>\n",
       "      <th>50%</th>\n",
       "      <td>51.500000</td>\n",
       "      <td>1008.990000</td>\n",
       "    </tr>\n",
       "    <tr>\n",
       "      <th>75%</th>\n",
       "      <td>113.250000</td>\n",
       "      <td>2760.185000</td>\n",
       "    </tr>\n",
       "    <tr>\n",
       "      <th>max</th>\n",
       "      <td>5903.000000</td>\n",
       "      <td>279489.020000</td>\n",
       "    </tr>\n",
       "  </tbody>\n",
       "</table>\n",
       "</div>"
      ],
      "text/plain": [
       "                 F              M\n",
       "count   348.000000     348.000000\n",
       "mean    117.885057    3960.727356\n",
       "std     354.247025   18821.144519\n",
       "min       1.000000   -1126.000000\n",
       "25%      23.000000     452.000000\n",
       "50%      51.500000    1008.990000\n",
       "75%     113.250000    2760.185000\n",
       "max    5903.000000  279489.020000"
      ]
     },
     "execution_count": 6,
     "metadata": {},
     "output_type": "execute_result"
    }
   ],
   "source": [
    "df_new.describe()"
   ]
  },
  {
   "cell_type": "code",
   "execution_count": 7,
   "id": "723cbe4e",
   "metadata": {
    "execution": {
     "iopub.execute_input": "2023-08-24T23:06:23.541505Z",
     "iopub.status.busy": "2023-08-24T23:06:23.540321Z",
     "iopub.status.idle": "2023-08-24T23:06:23.916450Z",
     "shell.execute_reply": "2023-08-24T23:06:23.915310Z"
    },
    "papermill": {
     "duration": 0.396265,
     "end_time": "2023-08-24T23:06:23.919452",
     "exception": false,
     "start_time": "2023-08-24T23:06:23.523187",
     "status": "completed"
    },
    "tags": []
   },
   "outputs": [
    {
     "data": {
      "image/png": "[encoded data removed]",
      "text/plain": [
       "<Figure size 720x360 with 2 Axes>"
      ]
     },
     "metadata": {
      "needs_background": "light"
     },
     "output_type": "display_data"
    }
   ],
   "source": [
    "plt.figure(figsize = (10, 5))\n",
    "plt.subplot(1, 2, 1)\n",
    "plt.hist(df_new['F'])\n",
    "plt.xlabel('F')\n",
    "plt.ylabel('cnt_customer')\n",
    "\n",
    "plt.subplot(1, 2, 2)\n",
    "plt.hist(df_new['M'])\n",
    "plt.xlabel('M')\n",
    "plt.ylabel('cnt_customer')\n",
    "plt.show()"
   ]
  },
  {
   "cell_type": "code",
   "execution_count": 8,
   "id": "ae93fe4c",
   "metadata": {
    "execution": {
     "iopub.execute_input": "2023-08-24T23:06:23.952321Z",
     "iopub.status.busy": "2023-08-24T23:06:23.951918Z",
     "iopub.status.idle": "2023-08-24T23:06:24.228393Z",
     "shell.execute_reply": "2023-08-24T23:06:24.227246Z"
    },
    "papermill": {
     "duration": 0.29656,
     "end_time": "2023-08-24T23:06:24.231617",
     "exception": false,
     "start_time": "2023-08-24T23:06:23.935057",
     "status": "completed"
    },
    "tags": []
   },
   "outputs": [
    {
     "data": {
      "image/png": "[encoded data removed]",
      "text/plain": [
       "<Figure size 720x360 with 2 Axes>"
      ]
     },
     "metadata": {
      "needs_background": "light"
     },
     "output_type": "display_data"
    }
   ],
   "source": [
    "# 상자그림을 통한 이상치 확인\n",
    "plt.figure(figsize = (10, 5))\n",
    "plt.subplot(1, 2, 1)\n",
    "plt.boxplot(df_new['F'])\n",
    "plt.xlabel('F')\n",
    "\n",
    "plt.subplot(1, 2, 2)\n",
    "plt.boxplot(df_new['M'])\n",
    "plt.xlabel('M')\n",
    "plt.show()"
   ]
  },
  {
   "cell_type": "markdown",
   "id": "e9a2da67",
   "metadata": {
    "papermill": {
     "duration": 0.015978,
     "end_time": "2023-08-24T23:06:24.264275",
     "exception": false,
     "start_time": "2023-08-24T23:06:24.248297",
     "status": "completed"
    },
    "tags": []
   },
   "source": [
    "## 1.2 F, M feature 기반으로 군집분석 실시, 필요시 이상값 보정"
   ]
  },
  {
   "cell_type": "code",
   "execution_count": 9,
   "id": "06f88edb",
   "metadata": {
    "execution": {
     "iopub.execute_input": "2023-08-24T23:06:24.299039Z",
     "iopub.status.busy": "2023-08-24T23:06:24.298595Z",
     "iopub.status.idle": "2023-08-24T23:06:24.310560Z",
     "shell.execute_reply": "2023-08-24T23:06:24.309647Z"
    },
    "papermill": {
     "duration": 0.031912,
     "end_time": "2023-08-24T23:06:24.312911",
     "exception": false,
     "start_time": "2023-08-24T23:06:24.280999",
     "status": "completed"
    },
    "tags": []
   },
   "outputs": [
    {
     "data": {
      "text/plain": [
       "(2084,)"
      ]
     },
     "execution_count": 9,
     "metadata": {},
     "output_type": "execute_result"
    }
   ],
   "source": [
    "# Invoice 유니크한 값 구하기\n",
    "df['InvoiceDate'].unique().shape"
   ]
  },
  {
   "cell_type": "code",
   "execution_count": 10,
   "id": "6a788a53",
   "metadata": {
    "execution": {
     "iopub.execute_input": "2023-08-24T23:06:24.348889Z",
     "iopub.status.busy": "2023-08-24T23:06:24.348149Z",
     "iopub.status.idle": "2023-08-24T23:06:24.356454Z",
     "shell.execute_reply": "2023-08-24T23:06:24.355442Z"
    },
    "papermill": {
     "duration": 0.029018,
     "end_time": "2023-08-24T23:06:24.358787",
     "exception": false,
     "start_time": "2023-08-24T23:06:24.329769",
     "status": "completed"
    },
    "tags": []
   },
   "outputs": [
    {
     "data": {
      "text/plain": [
       "2"
      ]
     },
     "execution_count": 10,
     "metadata": {},
     "output_type": "execute_result"
    }
   ],
   "source": [
    "# 2084일까지 살 수 있는데, 5903이 생긴 것은 이상하다.\n",
    "# 따라서 F 변수에서 2084가 넘는 값 몇 개인지 확인\n",
    "\n",
    "df_new[df_new['F'] > 2084]['F'].count()"
   ]
  },
  {
   "cell_type": "code",
   "execution_count": 11,
   "id": "593ce0d8",
   "metadata": {
    "execution": {
     "iopub.execute_input": "2023-08-24T23:06:24.394268Z",
     "iopub.status.busy": "2023-08-24T23:06:24.393510Z",
     "iopub.status.idle": "2023-08-24T23:06:24.412195Z",
     "shell.execute_reply": "2023-08-24T23:06:24.411051Z"
    },
    "papermill": {
     "duration": 0.039338,
     "end_time": "2023-08-24T23:06:24.414912",
     "exception": false,
     "start_time": "2023-08-24T23:06:24.375574",
     "status": "completed"
    },
    "tags": []
   },
   "outputs": [
    {
     "data": {
      "text/html": [
       "<div>\n",
       "<style scoped>\n",
       "    .dataframe tbody tr th:only-of-type {\n",
       "        vertical-align: middle;\n",
       "    }\n",
       "\n",
       "    .dataframe tbody tr th {\n",
       "        vertical-align: top;\n",
       "    }\n",
       "\n",
       "    .dataframe thead th {\n",
       "        text-align: right;\n",
       "    }\n",
       "</style>\n",
       "<table border=\"1\" class=\"dataframe\">\n",
       "  <thead>\n",
       "    <tr style=\"text-align: right;\">\n",
       "      <th></th>\n",
       "      <th>F</th>\n",
       "      <th>M</th>\n",
       "    </tr>\n",
       "  </thead>\n",
       "  <tbody>\n",
       "    <tr>\n",
       "      <th>count</th>\n",
       "      <td>346.000000</td>\n",
       "      <td>346.000000</td>\n",
       "    </tr>\n",
       "    <tr>\n",
       "      <th>mean</th>\n",
       "      <td>95.479769</td>\n",
       "      <td>2792.692139</td>\n",
       "    </tr>\n",
       "    <tr>\n",
       "      <th>std</th>\n",
       "      <td>132.255510</td>\n",
       "      <td>9323.618593</td>\n",
       "    </tr>\n",
       "    <tr>\n",
       "      <th>min</th>\n",
       "      <td>1.000000</td>\n",
       "      <td>-1126.000000</td>\n",
       "    </tr>\n",
       "    <tr>\n",
       "      <th>25%</th>\n",
       "      <td>23.000000</td>\n",
       "      <td>450.300000</td>\n",
       "    </tr>\n",
       "    <tr>\n",
       "      <th>50%</th>\n",
       "      <td>51.000000</td>\n",
       "      <td>1002.555000</td>\n",
       "    </tr>\n",
       "    <tr>\n",
       "      <th>75%</th>\n",
       "      <td>111.000000</td>\n",
       "      <td>2697.665000</td>\n",
       "    </tr>\n",
       "    <tr>\n",
       "      <th>max</th>\n",
       "      <td>1420.000000</td>\n",
       "      <td>123725.450000</td>\n",
       "    </tr>\n",
       "  </tbody>\n",
       "</table>\n",
       "</div>"
      ],
      "text/plain": [
       "                 F              M\n",
       "count   346.000000     346.000000\n",
       "mean     95.479769    2792.692139\n",
       "std     132.255510    9323.618593\n",
       "min       1.000000   -1126.000000\n",
       "25%      23.000000     450.300000\n",
       "50%      51.000000    1002.555000\n",
       "75%     111.000000    2697.665000\n",
       "max    1420.000000  123725.450000"
      ]
     },
     "execution_count": 11,
     "metadata": {},
     "output_type": "execute_result"
    }
   ],
   "source": [
    "# 2개 이므로 삭제한다.\n",
    "\n",
    "df_new = df_new[df_new['F'] <= 2084]\n",
    "df_new.describe()"
   ]
  },
  {
   "cell_type": "code",
   "execution_count": 12,
   "id": "e689d851",
   "metadata": {
    "execution": {
     "iopub.execute_input": "2023-08-24T23:06:24.450871Z",
     "iopub.status.busy": "2023-08-24T23:06:24.450410Z",
     "iopub.status.idle": "2023-08-24T23:06:24.743277Z",
     "shell.execute_reply": "2023-08-24T23:06:24.742181Z"
    },
    "papermill": {
     "duration": 0.313723,
     "end_time": "2023-08-24T23:06:24.745806",
     "exception": false,
     "start_time": "2023-08-24T23:06:24.432083",
     "status": "completed"
    },
    "tags": []
   },
   "outputs": [
    {
     "data": {
      "image/png": "[encoded data removed]",
      "text/plain": [
       "<Figure size 720x360 with 2 Axes>"
      ]
     },
     "metadata": {
      "needs_background": "light"
     },
     "output_type": "display_data"
    }
   ],
   "source": [
    "# 다시 상자그림 그려보기\n",
    "plt.figure(figsize = (10, 5))\n",
    "plt.subplot(1, 2, 1)\n",
    "plt.boxplot(df_new['F'])\n",
    "plt.xlabel('F')\n",
    "\n",
    "plt.subplot(1, 2, 2)\n",
    "plt.boxplot(df_new['M'])\n",
    "plt.xlabel('M')\n",
    "plt.show()"
   ]
  },
  {
   "cell_type": "markdown",
   "id": "8bfaf136",
   "metadata": {
    "papermill": {
     "duration": 0.017184,
     "end_time": "2023-08-24T23:06:24.780194",
     "exception": false,
     "start_time": "2023-08-24T23:06:24.763010",
     "status": "completed"
    },
    "tags": []
   },
   "source": [
    "### 군집분석 실시 (feat.비계층적 군집분석)\n",
    "\n",
    "k-means 군집분석"
   ]
  },
  {
   "cell_type": "code",
   "execution_count": 13,
   "id": "5ffee791",
   "metadata": {
    "execution": {
     "iopub.execute_input": "2023-08-24T23:06:24.817632Z",
     "iopub.status.busy": "2023-08-24T23:06:24.816325Z",
     "iopub.status.idle": "2023-08-24T23:06:25.952420Z",
     "shell.execute_reply": "2023-08-24T23:06:25.951024Z"
    },
    "papermill": {
     "duration": 1.157535,
     "end_time": "2023-08-24T23:06:25.955536",
     "exception": false,
     "start_time": "2023-08-24T23:06:24.798001",
     "status": "completed"
    },
    "tags": []
   },
   "outputs": [],
   "source": [
    "# 군집분석 하기 전에 스케일링\n",
    "from sklearn.preprocessing import RobustScaler\n",
    "scaler = RobustScaler()\n",
    "\n",
    "df_new_scaled = pd.DataFrame(scaler.fit_transform(df_new), columns = df_new.columns)"
   ]
  },
  {
   "cell_type": "code",
   "execution_count": 14,
   "id": "9595e7d4",
   "metadata": {
    "execution": {
     "iopub.execute_input": "2023-08-24T23:06:25.991725Z",
     "iopub.status.busy": "2023-08-24T23:06:25.991283Z",
     "iopub.status.idle": "2023-08-24T23:06:28.329792Z",
     "shell.execute_reply": "2023-08-24T23:06:28.328481Z"
    },
    "papermill": {
     "duration": 2.360011,
     "end_time": "2023-08-24T23:06:28.332568",
     "exception": false,
     "start_time": "2023-08-24T23:06:25.972557",
     "status": "completed"
    },
    "tags": []
   },
   "outputs": [
    {
     "data": {
      "image/png": "[encoded data removed]",
      "text/plain": [
       "<Figure size 432x288 with 1 Axes>"
      ]
     },
     "metadata": {
      "needs_background": "light"
     },
     "output_type": "display_data"
    },
    {
     "data": {
      "image/png": "[encoded data removed]",
      "text/plain": [
       "<Figure size 432x288 with 1 Axes>"
      ]
     },
     "metadata": {
      "needs_background": "light"
     },
     "output_type": "display_data"
    },
    {
     "data": {
      "image/png": "[encoded data removed]",
      "text/plain": [
       "<Figure size 432x288 with 1 Axes>"
      ]
     },
     "metadata": {
      "needs_background": "light"
     },
     "output_type": "display_data"
    },
    {
     "data": {
      "image/png": "[encoded data removed]",
      "text/plain": [
       "<Figure size 432x288 with 1 Axes>"
      ]
     },
     "metadata": {
      "needs_background": "light"
     },
     "output_type": "display_data"
    }
   ],
   "source": [
    "# 시각화랑 같이 하기\n",
    "from sklearn.cluster import KMeans\n",
    "import seaborn as sns\n",
    "\n",
    "k = [3, 4, 5, 10]\n",
    "palette = ['green', 'red', 'blue', 'yellow', 'gray', 'brown', 'pink', 'purple', 'black', 'orange']\n",
    "for i in k:\n",
    "    model = KMeans(n_clusters = i, random_state = 731)\n",
    "    model.fit(df_new_scaled)\n",
    "    df_new_scaled['cluster'] = model.fit_predict(df_new_scaled)\n",
    "    sns.scatterplot(x='F', y='M', hue = 'cluster', data = df_new_scaled, palette = palette[:i])\n",
    "    plt.title('K = %d results'%i)\n",
    "    plt.show()"
   ]
  },
  {
   "cell_type": "code",
   "execution_count": 15,
   "id": "a771b2da",
   "metadata": {
    "execution": {
     "iopub.execute_input": "2023-08-24T23:06:28.372364Z",
     "iopub.status.busy": "2023-08-24T23:06:28.371921Z",
     "iopub.status.idle": "2023-08-24T23:06:30.311063Z",
     "shell.execute_reply": "2023-08-24T23:06:30.309777Z"
    },
    "papermill": {
     "duration": 1.962306,
     "end_time": "2023-08-24T23:06:30.313772",
     "exception": false,
     "start_time": "2023-08-24T23:06:28.351466",
     "status": "completed"
    },
    "tags": []
   },
   "outputs": [
    {
     "data": {
      "image/png": "[encoded data removed]",
      "text/plain": [
       "<Figure size 432x288 with 1 Axes>"
      ]
     },
     "metadata": {
      "needs_background": "light"
     },
     "output_type": "display_data"
    },
    {
     "data": {
      "image/png": "[encoded data removed]",
      "text/plain": [
       "<Figure size 432x288 with 1 Axes>"
      ]
     },
     "metadata": {
      "needs_background": "light"
     },
     "output_type": "display_data"
    },
    {
     "data": {
      "image/png": "[encoded data removed]",
      "text/plain": [
       "<Figure size 432x288 with 1 Axes>"
      ]
     },
     "metadata": {
      "needs_background": "light"
     },
     "output_type": "display_data"
    },
    {
     "data": {
      "image/png": "[encoded data removed]",
      "text/plain": [
       "<Figure size 432x288 with 1 Axes>"
      ]
     },
     "metadata": {
      "needs_background": "light"
     },
     "output_type": "display_data"
    }
   ],
   "source": [
    "# 저 위에 두 점을 없애고 다시 해야할 것 같음\n",
    "df_new_scaled.pop('cluster')\n",
    "df_new_scaled = df_new_scaled[df_new_scaled['F'] < 8]\n",
    "\n",
    "k = [3, 4, 5, 10]\n",
    "palette = ['green', 'red', 'blue', 'yellow', 'gray', 'brown', 'pink', 'purple', 'black', 'orange']\n",
    "for i in k:\n",
    "    model = KMeans(n_clusters = i, random_state = 731)\n",
    "    model.fit(df_new_scaled)\n",
    "    df_new_scaled['cluster'] = model.fit_predict(df_new_scaled)\n",
    "    sns.scatterplot(x='F', y='M', hue = 'cluster', data = df_new_scaled, palette = palette[:i])\n",
    "    plt.title('K = %d results'%i)\n",
    "    plt.show()"
   ]
  },
  {
   "cell_type": "code",
   "execution_count": 16,
   "id": "04a30345",
   "metadata": {
    "execution": {
     "iopub.execute_input": "2023-08-24T23:06:30.359256Z",
     "iopub.status.busy": "2023-08-24T23:06:30.358824Z",
     "iopub.status.idle": "2023-08-24T23:06:31.682620Z",
     "shell.execute_reply": "2023-08-24T23:06:31.681471Z"
    },
    "papermill": {
     "duration": 1.349683,
     "end_time": "2023-08-24T23:06:31.685508",
     "exception": false,
     "start_time": "2023-08-24T23:06:30.335825",
     "status": "completed"
    },
    "tags": []
   },
   "outputs": [
    {
     "data": {
      "text/plain": [
       "KElbowVisualizer(ax=<AxesSubplot:>, estimator=KMeans(n_clusters=9), k=(1, 10))"
      ]
     },
     "execution_count": 16,
     "metadata": {},
     "output_type": "execute_result"
    },
    {
     "data": {
      "image/png": "[encoded data removed]",
      "text/plain": [
       "<Figure size 576x396 with 2 Axes>"
      ]
     },
     "metadata": {},
     "output_type": "display_data"
    }
   ],
   "source": [
    "# 보기에는 k=5정도면 괜찮아보이는데, 엘보우 메소드를 이용하여 확인해보기\n",
    "# scree plot 느낌(주성분 분석)\n",
    "\n",
    "from yellowbrick.cluster import KElbowVisualizer\n",
    "\n",
    "df_new_scaled.pop('cluster')\n",
    "\n",
    "model_test = KMeans()\n",
    "visualizer = KElbowVisualizer(model_test, k=(1, 10))\n",
    "visualizer.fit(df_new_scaled)"
   ]
  },
  {
   "cell_type": "code",
   "execution_count": 17,
   "id": "90b1c264",
   "metadata": {
    "execution": {
     "iopub.execute_input": "2023-08-24T23:06:31.731808Z",
     "iopub.status.busy": "2023-08-24T23:06:31.730287Z",
     "iopub.status.idle": "2023-08-24T23:06:31.736566Z",
     "shell.execute_reply": "2023-08-24T23:06:31.735689Z"
    },
    "papermill": {
     "duration": 0.031989,
     "end_time": "2023-08-24T23:06:31.739178",
     "exception": false,
     "start_time": "2023-08-24T23:06:31.707189",
     "status": "completed"
    },
    "tags": []
   },
   "outputs": [],
   "source": [
    "# 여기서는 k=3을 추천해주긴 하지만, 산점도로 봤을 때 k=5가 마음에 드므로 k=5로 결정한다."
   ]
  },
  {
   "cell_type": "markdown",
   "id": "30b14b86",
   "metadata": {
    "papermill": {
     "duration": 0.020865,
     "end_time": "2023-08-24T23:06:31.781245",
     "exception": false,
     "start_time": "2023-08-24T23:06:31.760380",
     "status": "completed"
    },
    "tags": []
   },
   "source": [
    "## 1.3 군집 결과의 적합성을 군집 내 응집도, 군집 간 분리도의 개념을 사용해서 서술"
   ]
  },
  {
   "cell_type": "code",
   "execution_count": null,
   "id": "f0266940",
   "metadata": {
    "papermill": {
     "duration": 0.021026,
     "end_time": "2023-08-24T23:06:31.823531",
     "exception": false,
     "start_time": "2023-08-24T23:06:31.802505",
     "status": "completed"
    },
    "tags": []
   },
   "outputs": [],
   "source": []
  },
  {
   "cell_type": "markdown",
   "id": "1a3ea937",
   "metadata": {
    "papermill": {
     "duration": 0.020952,
     "end_time": "2023-08-24T23:06:31.865737",
     "exception": false,
     "start_time": "2023-08-24T23:06:31.844785",
     "status": "completed"
    },
    "tags": []
   },
   "source": [
    "## 1.4 적합된 군집 별 특성에 대한 의견과 비즈니스적 판단 제시"
   ]
  },
  {
   "cell_type": "markdown",
   "id": "92d83aa3",
   "metadata": {
    "papermill": {
     "duration": 0.022456,
     "end_time": "2023-08-24T23:06:31.910995",
     "exception": false,
     "start_time": "2023-08-24T23:06:31.888539",
     "status": "completed"
    },
    "tags": []
   },
   "source": [
    "# 2번 시계열분석\n",
    "- 경로 : /kaggle/input/adp-p7/problem2.csv\n",
    "- 데이터 설명    \n",
    "  각 raw는 관광지 A의 1990년 1월 부터 25년동안의 매달 평균 이용객 숫자이다."
   ]
  },
  {
   "cell_type": "markdown",
   "id": "660a9ff5",
   "metadata": {
    "papermill": {
     "duration": 0.021229,
     "end_time": "2023-08-24T23:06:31.953791",
     "exception": false,
     "start_time": "2023-08-24T23:06:31.932562",
     "status": "completed"
    },
    "tags": []
   },
   "source": [
    "## 2-1 EDA와 시각화를 진행하라"
   ]
  },
  {
   "cell_type": "code",
   "execution_count": null,
   "id": "86aad4b4",
   "metadata": {
    "papermill": {
     "duration": 0.021633,
     "end_time": "2023-08-24T23:06:31.997639",
     "exception": false,
     "start_time": "2023-08-24T23:06:31.976006",
     "status": "completed"
    },
    "tags": []
   },
   "outputs": [],
   "source": []
  },
  {
   "cell_type": "markdown",
   "id": "98f447de",
   "metadata": {
    "papermill": {
     "duration": 0.021456,
     "end_time": "2023-08-24T23:06:32.041684",
     "exception": false,
     "start_time": "2023-08-24T23:06:32.020228",
     "status": "completed"
    },
    "tags": []
   },
   "source": [
    "## 2-2 결측치 처리와 해당 결측치 처리 방식에 대한 논리적 근거를 제시하라"
   ]
  },
  {
   "cell_type": "code",
   "execution_count": null,
   "id": "38229935",
   "metadata": {
    "papermill": {
     "duration": 0.021543,
     "end_time": "2023-08-24T23:06:32.085902",
     "exception": false,
     "start_time": "2023-08-24T23:06:32.064359",
     "status": "completed"
    },
    "tags": []
   },
   "outputs": [],
   "source": []
  },
  {
   "cell_type": "markdown",
   "id": "10f82d33",
   "metadata": {
    "papermill": {
     "duration": 0.022009,
     "end_time": "2023-08-24T23:06:32.130687",
     "exception": false,
     "start_time": "2023-08-24T23:06:32.108678",
     "status": "completed"
    },
    "tags": []
   },
   "source": [
    "## 2-3 계절성을 반영한 시계열 모델을 제시하고 정확도 측면에서 모델 성능 평가 할 것"
   ]
  },
  {
   "cell_type": "code",
   "execution_count": null,
   "id": "bb00cfa1",
   "metadata": {
    "papermill": {
     "duration": 0.02103,
     "end_time": "2023-08-24T23:06:32.173602",
     "exception": false,
     "start_time": "2023-08-24T23:06:32.152572",
     "status": "completed"
    },
    "tags": []
   },
   "outputs": [],
   "source": []
  },
  {
   "cell_type": "markdown",
   "id": "5228dfdd",
   "metadata": {
    "papermill": {
     "duration": 0.02082,
     "end_time": "2023-08-24T23:06:32.215777",
     "exception": false,
     "start_time": "2023-08-24T23:06:32.194957",
     "status": "completed"
    },
    "tags": []
   },
   "source": [
    "## 2-4 분석 결과 활용 가능 여부에 대한 분석 전문가로서의 제안"
   ]
  },
  {
   "cell_type": "code",
   "execution_count": null,
   "id": "63054317",
   "metadata": {
    "papermill": {
     "duration": 0.020785,
     "end_time": "2023-08-24T23:06:32.257876",
     "exception": false,
     "start_time": "2023-08-24T23:06:32.237091",
     "status": "completed"
    },
    "tags": []
   },
   "outputs": [],
   "source": []
  },
  {
   "cell_type": "markdown",
   "id": "7f7d5ba2",
   "metadata": {
    "papermill": {
     "duration": 0.020707,
     "end_time": "2023-08-24T23:06:32.299856",
     "exception": false,
     "start_time": "2023-08-24T23:06:32.279149",
     "status": "completed"
    },
    "tags": []
   },
   "source": [
    "# 3번\n"
   ]
  },
  {
   "cell_type": "markdown",
   "id": "229c0ded",
   "metadata": {
    "papermill": {
     "duration": 0.020733,
     "end_time": "2023-08-24T23:06:32.341867",
     "exception": false,
     "start_time": "2023-08-24T23:06:32.321134",
     "status": "completed"
    },
    "tags": []
   },
   "source": [
    "## 3-1 서울에서 영동까지 100km/h로 가고 영동에서 서울까지 80km/로 돌아왔을 때, 평균 속도는?"
   ]
  },
  {
   "cell_type": "code",
   "execution_count": null,
   "id": "5b96f681",
   "metadata": {
    "papermill": {
     "duration": 0.021252,
     "end_time": "2023-08-24T23:06:32.384228",
     "exception": false,
     "start_time": "2023-08-24T23:06:32.362976",
     "status": "completed"
    },
    "tags": []
   },
   "outputs": [],
   "source": []
  },
  {
   "cell_type": "markdown",
   "id": "54e48825",
   "metadata": {
    "papermill": {
     "duration": 0.020745,
     "end_time": "2023-08-24T23:06:32.426121",
     "exception": false,
     "start_time": "2023-08-24T23:06:32.405376",
     "status": "completed"
    },
    "tags": []
   },
   "source": [
    "## 3-2 연매출이 3000, 4000, 5000이었다면 연평균 몇배가 증가한 것인가?"
   ]
  },
  {
   "cell_type": "code",
   "execution_count": null,
   "id": "4c87a00a",
   "metadata": {
    "papermill": {
     "duration": 0.020912,
     "end_time": "2023-08-24T23:06:32.468203",
     "exception": false,
     "start_time": "2023-08-24T23:06:32.447291",
     "status": "completed"
    },
    "tags": []
   },
   "outputs": [],
   "source": []
  },
  {
   "cell_type": "markdown",
   "id": "c34c83ef",
   "metadata": {
    "papermill": {
     "duration": 0.02092,
     "end_time": "2023-08-24T23:06:32.511212",
     "exception": false,
     "start_time": "2023-08-24T23:06:32.490292",
     "status": "completed"
    },
    "tags": []
   },
   "source": [
    "## 3-3 남성, 여성의 등산, 수영에 대한 취미 선호도 빈도표(2x2)를 보고, 남성 중에서 등산을 좋아할 확률을 구하시오\n",
    "\n",
    "![image](https://github.com/Datamanim/datarepo/blob/main/adp/25/problem3_3.png?raw=true)"
   ]
  },
  {
   "cell_type": "code",
   "execution_count": null,
   "id": "b9ff37db",
   "metadata": {
    "papermill": {
     "duration": 0.021388,
     "end_time": "2023-08-24T23:06:32.554139",
     "exception": false,
     "start_time": "2023-08-24T23:06:32.532751",
     "status": "completed"
    },
    "tags": []
   },
   "outputs": [],
   "source": []
  },
  {
   "cell_type": "markdown",
   "id": "235f04eb",
   "metadata": {
    "papermill": {
     "duration": 0.02178,
     "end_time": "2023-08-24T23:06:32.597111",
     "exception": false,
     "start_time": "2023-08-24T23:06:32.575331",
     "status": "completed"
    },
    "tags": []
   },
   "source": [
    "## 3-4 표본 10개의 분산이 90일 때 신뢰도 95%로 모분산의 신뢰구간을 추정"
   ]
  },
  {
   "cell_type": "code",
   "execution_count": null,
   "id": "cf1c6e3e",
   "metadata": {
    "papermill": {
     "duration": 0.022068,
     "end_time": "2023-08-24T23:06:32.644177",
     "exception": false,
     "start_time": "2023-08-24T23:06:32.622109",
     "status": "completed"
    },
    "tags": []
   },
   "outputs": [],
   "source": []
  },
  {
   "cell_type": "markdown",
   "id": "7690d8b0",
   "metadata": {
    "papermill": {
     "duration": 0.021175,
     "end_time": "2023-08-24T23:06:32.687241",
     "exception": false,
     "start_time": "2023-08-24T23:06:32.666066",
     "status": "completed"
    },
    "tags": []
   },
   "source": [
    "# 4번 임상 대상 20명에 대해 혈압약 투약 이전과 이후의 차이가 24, 표준편차 9  신뢰구간 95%, 차이가 존재하는지 확인하려한다."
   ]
  },
  {
   "cell_type": "markdown",
   "id": "7cdf4fcd",
   "metadata": {
    "papermill": {
     "duration": 0.02111,
     "end_time": "2023-08-24T23:06:32.729673",
     "exception": false,
     "start_time": "2023-08-24T23:06:32.708563",
     "status": "completed"
    },
    "tags": []
   },
   "source": [
    "## 4-1 귀무가설과 연구가설을 제시하시오"
   ]
  },
  {
   "cell_type": "code",
   "execution_count": null,
   "id": "7780b23a",
   "metadata": {
    "papermill": {
     "duration": 0.021063,
     "end_time": "2023-08-24T23:06:32.771935",
     "exception": false,
     "start_time": "2023-08-24T23:06:32.750872",
     "status": "completed"
    },
    "tags": []
   },
   "outputs": [],
   "source": []
  },
  {
   "cell_type": "markdown",
   "id": "b7b10640",
   "metadata": {
    "papermill": {
     "duration": 0.021217,
     "end_time": "2023-08-24T23:06:32.814390",
     "exception": false,
     "start_time": "2023-08-24T23:06:32.793173",
     "status": "completed"
    },
    "tags": []
   },
   "source": [
    "## 4-2 검정 후 귀무가설 기각 여부 제시"
   ]
  },
  {
   "cell_type": "code",
   "execution_count": null,
   "id": "d97cb896",
   "metadata": {
    "papermill": {
     "duration": 0.020932,
     "end_time": "2023-08-24T23:06:32.858325",
     "exception": false,
     "start_time": "2023-08-24T23:06:32.837393",
     "status": "completed"
    },
    "tags": []
   },
   "outputs": [],
   "source": []
  },
  {
   "cell_type": "markdown",
   "id": "28e24162",
   "metadata": {
    "papermill": {
     "duration": 0.021042,
     "end_time": "2023-08-24T23:06:32.900495",
     "exception": false,
     "start_time": "2023-08-24T23:06:32.879453",
     "status": "completed"
    },
    "tags": []
   },
   "source": [
    "# 5번 공장 X,Y,Z의 평균 출하 소요시간을 여러 일자에 거쳐 측정한 데이터이다. 각 공장의 중위수의 차이가 존재하는지 확인하려 한다.\n",
    "- problem5.csv"
   ]
  },
  {
   "cell_type": "markdown",
   "id": "d9c3d06e",
   "metadata": {
    "papermill": {
     "duration": 0.02102,
     "end_time": "2023-08-24T23:06:32.942764",
     "exception": false,
     "start_time": "2023-08-24T23:06:32.921744",
     "status": "completed"
    },
    "tags": []
   },
   "source": [
    "## 5-1. 연구가설과 귀무가설을 설정하시오"
   ]
  },
  {
   "cell_type": "code",
   "execution_count": null,
   "id": "00d61bfc",
   "metadata": {
    "papermill": {
     "duration": 0.020957,
     "end_time": "2023-08-24T23:06:32.985017",
     "exception": false,
     "start_time": "2023-08-24T23:06:32.964060",
     "status": "completed"
    },
    "tags": []
   },
   "outputs": [],
   "source": []
  },
  {
   "cell_type": "markdown",
   "id": "94bb1e6f",
   "metadata": {
    "papermill": {
     "duration": 0.021086,
     "end_time": "2023-08-24T23:06:33.027338",
     "exception": false,
     "start_time": "2023-08-24T23:06:33.006252",
     "status": "completed"
    },
    "tags": []
   },
   "source": [
    "## 5-2. 검정통계량을 구하고 가설을 채택하시오"
   ]
  },
  {
   "cell_type": "code",
   "execution_count": null,
   "id": "7071bb22",
   "metadata": {
    "papermill": {
     "duration": 0.021153,
     "end_time": "2023-08-24T23:06:33.069896",
     "exception": false,
     "start_time": "2023-08-24T23:06:33.048743",
     "status": "completed"
    },
    "tags": []
   },
   "outputs": [],
   "source": []
  },
  {
   "cell_type": "markdown",
   "id": "0ce4a724",
   "metadata": {
    "papermill": {
     "duration": 0.021667,
     "end_time": "2023-08-24T23:06:33.113054",
     "exception": false,
     "start_time": "2023-08-24T23:06:33.091387",
     "status": "completed"
    },
    "tags": []
   },
   "source": [
    "# 6번 1개년 50억원, 2개년 60억원, 3개년 70억원의 예산을 가지고 NPV(순현재가치)가 가장 높아지는 안을 제시하시오.\n",
    "\n",
    "![image](https://github.com/Datamanim/datarepo/blob/main/adp/25/problem6.png?raw=true)"
   ]
  },
  {
   "cell_type": "code",
   "execution_count": null,
   "id": "ec700b23",
   "metadata": {
    "papermill": {
     "duration": 0.021301,
     "end_time": "2023-08-24T23:06:33.155957",
     "exception": false,
     "start_time": "2023-08-24T23:06:33.134656",
     "status": "completed"
    },
    "tags": []
   },
   "outputs": [],
   "source": []
  }
 ],
 "metadata": {
  "kernelspec": {
   "display_name": "Python 3",
   "language": "python",
   "name": "python3"
  },
  "language_info": {
   "codemirror_mode": {
    "name": "ipython",
    "version": 3
   },
   "file_extension": ".py",
   "mimetype": "text/x-python",
   "name": "python",
   "nbconvert_exporter": "python",
   "pygments_lexer": "ipython3",
   "version": "3.7.12"
  },
  "papermill": {
   "default_parameters": {},
   "duration": 27.826155,
   "end_time": "2023-08-24T23:06:34.103732",
   "environment_variables": {},
   "exception": null,
   "input_path": "__notebook__.ipynb",
   "output_path": "__notebook__.ipynb",
   "parameters": {},
   "start_time": "2023-08-24T23:06:06.277577",
   "version": "2.3.4"
  }
 },
 "nbformat": 4,
 "nbformat_minor": 5
}

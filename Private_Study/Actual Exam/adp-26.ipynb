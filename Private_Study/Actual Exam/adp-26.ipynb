{
 "metadata": {
  "kernelspec": {
   "language": "python",
   "display_name": "Python 3",
   "name": "python3"
  },
  "language_info": {
   "name": "python",
   "version": "3.7.12",
   "mimetype": "text/x-python",
   "codemirror_mode": {
    "name": "ipython",
    "version": 3
   },
   "pygments_lexer": "ipython3",
   "nbconvert_exporter": "python",
   "file_extension": ".py"
  }
 },
 "nbformat_minor": 4,
 "nbformat": 4,
 "cells": [
  {
   "cell_type": "markdown",
   "source": [
    " 1번\n",
    "- 데이터 경로 /kaggle/input/adp-p6/problem1.csv \n",
    "\n",
    "### 데이터 설명\n",
    "- InvoiceNo: Invoice number. Nominal, a 6-digit integral number uniquely assigned to each transaction. If this code starts with letter 'c', it indicates a cancellation.     \n",
    "- StockCode: Product (item) code. Nominal, a 5-digit integral number uniquely assigned to each distinct product.     \n",
    "- Description: Product (item) name. Nominal.    \n",
    "- Quantity: The quantities of each product (item) per transaction. Numeric.     \n",
    "- InvoiceDate: Invice Date and time. Numeric, the day and time when each transaction was generated.   \n",
    "- UnitPrice: Unit price. Numeric, Product price per unit in sterling.    \n",
    "- CustomerID: Customer number. Nominal, a 5-digit integral number uniquely assigned to each customer.     \n",
    "- Country: Country name. Nominal, the name of the country where each customer resides.     \n",
    "\n",
    "\n",
    "### 데이터 출처\n",
    "- https://archive.ics.uci.edu/ml/index.php"
   ],
   "metadata": {}
  },
  {
   "cell_type": "code",
   "source": [
    "import pandas as pd"
   ],
   "metadata": {
    "execution": {
     "iopub.status.busy": "2023-05-31T13:38:59.405223Z",
     "iopub.execute_input": "2023-05-31T13:38:59.405715Z",
     "iopub.status.idle": "2023-05-31T13:38:59.410577Z",
     "shell.execute_reply.started": "2023-05-31T13:38:59.405679Z",
     "shell.execute_reply": "2023-05-31T13:38:59.409512Z"
    },
    "trusted": true
   },
   "execution_count": null,
   "outputs": []
  },
  {
   "cell_type": "code",
   "source": [
    "df =pd.read_csv('/kaggle/input/adp-p6/problem1.csv')\n",
    "df.head()"
   ],
   "metadata": {
    "execution": {
     "iopub.status.busy": "2023-05-31T13:38:59.421126Z",
     "iopub.execute_input": "2023-05-31T13:38:59.422584Z",
     "iopub.status.idle": "2023-05-31T13:38:59.517309Z",
     "shell.execute_reply.started": "2023-05-31T13:38:59.422540Z",
     "shell.execute_reply": "2023-05-31T13:38:59.515953Z"
    },
    "trusted": true
   },
   "execution_count": null,
   "outputs": []
  },
  {
   "cell_type": "markdown",
   "source": [
    "## 1-1. 결측치를 확인하고, 결측치 제거할 것"
   ],
   "metadata": {}
  },
  {
   "cell_type": "code",
   "source": [
    "df.info()\n",
    "df.isnull().sum()"
   ],
   "metadata": {
    "execution": {
     "iopub.status.busy": "2023-05-31T13:38:59.519654Z",
     "iopub.execute_input": "2023-05-31T13:38:59.520551Z",
     "iopub.status.idle": "2023-05-31T13:38:59.581274Z",
     "shell.execute_reply.started": "2023-05-31T13:38:59.520500Z",
     "shell.execute_reply": "2023-05-31T13:38:59.580090Z"
    },
    "trusted": true
   },
   "execution_count": null,
   "outputs": []
  },
  {
   "cell_type": "code",
   "source": [
    "df.dropna(inplace = True)\n",
    "df.info()"
   ],
   "metadata": {
    "execution": {
     "iopub.status.busy": "2023-05-31T13:38:59.582764Z",
     "iopub.execute_input": "2023-05-31T13:38:59.583156Z",
     "iopub.status.idle": "2023-05-31T13:38:59.643357Z",
     "shell.execute_reply.started": "2023-05-31T13:38:59.583122Z",
     "shell.execute_reply": "2023-05-31T13:38:59.642030Z"
    },
    "trusted": true
   },
   "execution_count": null,
   "outputs": []
  },
  {
   "cell_type": "markdown",
   "source": [
    "## 1-2. 이상치 제거하는 방법을 설명하고, 이상치 제거하고 난 결과를 통계적으로 나타낼 것"
   ],
   "metadata": {}
  },
  {
   "cell_type": "markdown",
   "source": [
    "### 이상치 확인 및 정제\n",
    "#### 이상치의 의미\n",
    "* 관측값의 형식과 다른 형식의 값으로 표시된 결측치\n",
    "  * ERROR값\n",
    "* 관측값의 형식과 같은 형식의 값으로 표시된 결측치\n",
    "  * 100점 만점인 시험 컬럼에서 999점\n",
    "* 자료 수집의 오류로 발생한 이상치\n",
    "  * 거실 온도 컬럼에서 2345도\n",
    "* 다른 관측치들과는 현저히 차이나는 실제 관측치\n",
    "  * 일자별 게임 시간에서 20시간(나머지는 1~5시간)\n",
    "\n",
    "#### 이상치 확인\n",
    "이상치를 확인하는 방법은 데이터에 따라 다양하지만, 주로 boxplot에서 닫힌구간 [Q1-1.5*IQR, Q3+1.5*IQR] 밖에 있는 값을 이상치로 정의한다.\n",
    "물론, 정규화를 이용하여 이상치를 정의할 수도 있다."
   ],
   "metadata": {}
  },
  {
   "cell_type": "code",
   "source": [
    "# boxplot을 통해 이상치 확인하기\n",
    "import matplotlib.pyplot as plt\n",
    "import seaborn as sns\n",
    "\n",
    "x = df[['Quantity', 'UnitPrice']]\n",
    "\n",
    "x_melt = pd.melt(x, var_name='col', value_name='value')\n",
    "\n",
    "plt.figure(figsize=(20, 10))\n",
    "sns.boxplot(x='col', y='value', data = x_melt)\n",
    "plt.xticks(range(2), x.columns)\n",
    "plt.show()"
   ],
   "metadata": {
    "execution": {
     "iopub.status.busy": "2023-05-31T13:38:59.646838Z",
     "iopub.execute_input": "2023-05-31T13:38:59.647217Z",
     "iopub.status.idle": "2023-05-31T13:38:59.984154Z",
     "shell.execute_reply.started": "2023-05-31T13:38:59.647183Z",
     "shell.execute_reply": "2023-05-31T13:38:59.983088Z"
    },
    "trusted": true,
    "ExecuteTime": {
     "end_time": "2023-08-20T21:57:22.187948Z",
     "start_time": "2023-08-20T21:57:21.754383Z"
    }
   },
   "execution_count": 1,
   "outputs": [
    {
     "ename": "NameError",
     "evalue": "name 'df' is not defined",
     "output_type": "error",
     "traceback": [
      "\u001B[0;31m---------------------------------------------------------------------------\u001B[0m",
      "\u001B[0;31mNameError\u001B[0m                                 Traceback (most recent call last)",
      "Cell \u001B[0;32mIn[1], line 5\u001B[0m\n\u001B[1;32m      2\u001B[0m \u001B[38;5;28;01mimport\u001B[39;00m \u001B[38;5;21;01mmatplotlib\u001B[39;00m\u001B[38;5;21;01m.\u001B[39;00m\u001B[38;5;21;01mpyplot\u001B[39;00m \u001B[38;5;28;01mas\u001B[39;00m \u001B[38;5;21;01mplt\u001B[39;00m\n\u001B[1;32m      3\u001B[0m \u001B[38;5;28;01mimport\u001B[39;00m \u001B[38;5;21;01mseaborn\u001B[39;00m \u001B[38;5;28;01mas\u001B[39;00m \u001B[38;5;21;01msns\u001B[39;00m\n\u001B[0;32m----> 5\u001B[0m x \u001B[38;5;241m=\u001B[39m \u001B[43mdf\u001B[49m[[\u001B[38;5;124m'\u001B[39m\u001B[38;5;124mQuantity\u001B[39m\u001B[38;5;124m'\u001B[39m, \u001B[38;5;124m'\u001B[39m\u001B[38;5;124mUnitPrice\u001B[39m\u001B[38;5;124m'\u001B[39m]]\n\u001B[1;32m      7\u001B[0m x_melt \u001B[38;5;241m=\u001B[39m pd\u001B[38;5;241m.\u001B[39mmelt(x, var_name\u001B[38;5;241m=\u001B[39m\u001B[38;5;124m'\u001B[39m\u001B[38;5;124mcol\u001B[39m\u001B[38;5;124m'\u001B[39m, value_name\u001B[38;5;241m=\u001B[39m\u001B[38;5;124m'\u001B[39m\u001B[38;5;124mvalue\u001B[39m\u001B[38;5;124m'\u001B[39m)\n\u001B[1;32m      9\u001B[0m plt\u001B[38;5;241m.\u001B[39mfigure(figsize\u001B[38;5;241m=\u001B[39m(\u001B[38;5;241m20\u001B[39m, \u001B[38;5;241m10\u001B[39m))\n",
      "\u001B[0;31mNameError\u001B[0m: name 'df' is not defined"
     ]
    }
   ]
  },
  {
   "cell_type": "code",
   "source": [
    "# 이상치를 가져오는 함수 정의 후 이상치의 위치와 값 확인해보기\n",
    "import numpy as np\n",
    "def outliers_iqr(dt, col):\n",
    "    quantile_1, quantile_3 = np.percentile(dt[col], [25, 75])\n",
    "    iqr = quantile_3-quantile_1\n",
    "    lower_whis = quantile_1-1.5*iqr\n",
    "    upper_whis = quantile_3+1.5*iqr\n",
    "    outliers = dt[(dt[col]>upper_whis)|(dt[col]<lower_whis)]\n",
    "    return outliers[[col]]\n",
    "\n",
    "outliers_Quantity = outliers_iqr(df, 'Quantity')\n",
    "print(outliers_Quantity)\n",
    "outliers_UnitPrice = outliers_iqr(df, 'UnitPrice')\n",
    "print(outliers_UnitPrice)\n",
    "\n",
    "print('Quantity 변수의 이상치 비율 : ', round(100*len(outliers_Quantity)/len(df), 2), '%')\n",
    "print('UnitPrice 변수의 이상치 비율 : ', round(100*len(outliers_UnitPrice)/len(df), 2), '%')"
   ],
   "metadata": {
    "execution": {
     "iopub.status.busy": "2023-05-31T13:38:59.985581Z",
     "iopub.execute_input": "2023-05-31T13:38:59.985938Z",
     "iopub.status.idle": "2023-05-31T13:39:00.010424Z",
     "shell.execute_reply.started": "2023-05-31T13:38:59.985907Z",
     "shell.execute_reply": "2023-05-31T13:39:00.009291Z"
    },
    "trusted": true,
    "ExecuteTime": {
     "start_time": "2023-08-20T21:57:22.186541Z"
    }
   },
   "execution_count": null,
   "outputs": []
  },
  {
   "cell_type": "code",
   "source": [
    "# 이상치 제거\n",
    "# 데이터의 수가 매우 많고 이상치가 존재하는 행이 전체 데이터에 비해 많지 않은 경우 이상치가 존재하는 행 전체를 삭제할 수 있다.\n",
    "\n",
    "drop_outliers = df.drop(index=outliers_Quantity.index)\n",
    "drop_outliers = df.drop(index=outliers_UnitPrice.index)\n",
    "\n",
    "# 이상치를 삭제하기 전과 후의 데이터 shape\n",
    "print('Original : ', df.shape)\n",
    "print('Drop outliers : ', drop_outliers.shape)"
   ],
   "metadata": {
    "execution": {
     "iopub.status.busy": "2023-05-31T13:39:00.012153Z",
     "iopub.execute_input": "2023-05-31T13:39:00.012865Z",
     "iopub.status.idle": "2023-05-31T13:39:00.032036Z",
     "shell.execute_reply.started": "2023-05-31T13:39:00.012827Z",
     "shell.execute_reply": "2023-05-31T13:39:00.031140Z"
    },
    "trusted": true
   },
   "execution_count": null,
   "outputs": []
  },
  {
   "cell_type": "markdown",
   "source": [
    "## 1-3 전처리한 데이터로 Kmeans, DBSCAN 등 방법으로 군집을 생성할 것"
   ],
   "metadata": {}
  },
  {
   "cell_type": "markdown",
   "source": [
    "* K-means의 장점\n",
    "    * 일반적인 군집화에서 가장 많이 활용되는 알고리즘이다.\n",
    "    * 알고리즘이 쉽고 간결하다.\n",
    "* K-means의 단점\n",
    "    * 거리 기반 알고리즘으로 속성의 개수가 매우 많을 경우 군집화 정확도가 떨어진다.\n",
    "        * 이를 위해 PCA로 차원을 축소하고 적용해야할 필요가 있을 수도 있다.\n",
    "    * 반복을 수행하는데, 반복 횟수가 많을 경우 수행 시간이 느려진다.\n",
    "    * 몇 개의 군집을 선택해야 할지가 하이퍼파라미터로 정해져 있어 가이드하기 어렵다."
   ],
   "metadata": {}
  },
  {
   "cell_type": "code",
   "source": [
    "# Kmeans 수행 전 전처리\n",
    "import warnings\n",
    "warnings.filterwarnings('ignore')\n",
    "\n",
    "# 수치형 변수 스케일링 해주기(feat. Standard)\n",
    "# CustomerID, Description은 필요 없어 보이므로 삭제\n",
    "from sklearn.preprocessing import StandardScaler\n",
    "scaler = StandardScaler()\n",
    "\n",
    "df1 = df[['Quantity', 'UnitPrice']]\n",
    "df1 = pd.DataFrame(scaler.fit_transform(df1), columns = df1.columns)\n",
    "\n",
    "# object형 변수 라벨인코딩 해주기\n",
    "from sklearn.preprocessing import LabelEncoder\n",
    "encoder = LabelEncoder()\n",
    "\n",
    "df2 = df[['InvoiceNo', 'StockCode', 'InvoiceDate', 'Country']]\n",
    "df2['InvoiceNo'] = encoder.fit_transform(df2['InvoiceNo'])\n",
    "df2['StockCode'] = encoder.fit_transform(df2['StockCode'])\n",
    "df2['InvoiceDate'] = encoder.fit_transform(df2['InvoiceDate'])\n",
    "df2['Country'] = encoder.fit_transform(df2['Country'])\n",
    "\n",
    "df3 = pd.merge(df1, df2, left_index=True,right_index=True, how='inner')\n",
    "\n",
    "# Kmeans 수행\n",
    "from sklearn.cluster import KMeans\n",
    "import matplotlib.pyplot as plt\n",
    "\n",
    "# n_clusters = 5로 군집 수행\n",
    "kmeans = KMeans(n_clusters = 3, random_state=731).fit(df1)\n",
    "\n",
    "df_clustered = df1\n",
    "df_clustered['cluster'] = kmeans.labels_\n",
    "\n",
    "df_clustered"
   ],
   "metadata": {
    "execution": {
     "iopub.status.busy": "2023-05-31T13:39:00.033528Z",
     "iopub.execute_input": "2023-05-31T13:39:00.033890Z",
     "iopub.status.idle": "2023-05-31T13:39:01.249958Z",
     "shell.execute_reply.started": "2023-05-31T13:39:00.033856Z",
     "shell.execute_reply": "2023-05-31T13:39:01.248913Z"
    },
    "trusted": true
   },
   "execution_count": null,
   "outputs": []
  },
  {
   "cell_type": "code",
   "source": [
    "# 군집이 잘 되었는지, 주성분 분석을 이용하여 설명변수를 2개로 만들어 2차원으로 차원을 축소하고 평면 위에 산점도로 나타내보기\n",
    "from sklearn.decomposition import PCA\n",
    "\n",
    "df4 = df3[df3.columns.difference(['Country', 'cluster'])]\n",
    "\n",
    "pca = PCA(n_components = 2)\n",
    "pca_transformed = pd.DataFrame(pca.fit_transform(df4), columns = ['p1', 'p2'])\n",
    "\n",
    "pca_transformed['cluster'] = df_clustered['cluster'].astype('int')\n",
    "pca_transformed"
   ],
   "metadata": {
    "execution": {
     "iopub.status.busy": "2023-05-31T13:39:01.252218Z",
     "iopub.execute_input": "2023-05-31T13:39:01.252787Z",
     "iopub.status.idle": "2023-05-31T13:39:01.401154Z",
     "shell.execute_reply.started": "2023-05-31T13:39:01.252751Z",
     "shell.execute_reply": "2023-05-31T13:39:01.399417Z"
    },
    "trusted": true
   },
   "execution_count": null,
   "outputs": []
  },
  {
   "cell_type": "code",
   "source": [
    "sns.scatterplot(data = pca_transformed, x='p1', y='p2', hue='cluster')\n",
    "plt.show()"
   ],
   "metadata": {
    "execution": {
     "iopub.status.busy": "2023-05-31T13:39:01.404540Z",
     "iopub.execute_input": "2023-05-31T13:39:01.406891Z",
     "iopub.status.idle": "2023-05-31T13:39:04.118097Z",
     "shell.execute_reply.started": "2023-05-31T13:39:01.406824Z",
     "shell.execute_reply": "2023-05-31T13:39:04.117211Z"
    },
    "trusted": true
   },
   "execution_count": null,
   "outputs": []
  },
  {
   "cell_type": "markdown",
   "source": [
    "스케일링 해도 문제네.."
   ],
   "metadata": {}
  },
  {
   "cell_type": "markdown",
   "source": [
    "# 2번"
   ],
   "metadata": {}
  },
  {
   "cell_type": "markdown",
   "source": [
    "## 2-1. 위에서 생성한 군집들의 특성을 분석할 것"
   ],
   "metadata": {}
  },
  {
   "cell_type": "code",
   "source": [],
   "metadata": {},
   "execution_count": null,
   "outputs": []
  },
  {
   "cell_type": "markdown",
   "source": [
    "## 2-2. 각 군집 별 대표 추천 상품을 도출할 것"
   ],
   "metadata": {}
  },
  {
   "cell_type": "markdown",
   "source": [],
   "metadata": {}
  },
  {
   "cell_type": "code",
   "source": [],
   "metadata": {},
   "execution_count": null,
   "outputs": []
  },
  {
   "cell_type": "markdown",
   "source": [
    "## 2-3. CustomerID가 12413인 고객을 대상으로 상품을 추천할 것"
   ],
   "metadata": {}
  },
  {
   "cell_type": "code",
   "source": [],
   "metadata": {},
   "execution_count": null,
   "outputs": []
  },
  {
   "cell_type": "markdown",
   "source": [
    "# 3번\n",
    "### 철강제품의 불량률을 조사하고자 한다. 이 때, 불량률의 90%, 추정오차한계가 5% 이내가 되기 위하여 적절한 표본의 크기 중 최소값은 얼마인가?"
   ],
   "metadata": {}
  },
  {
   "cell_type": "markdown",
   "source": [
    "90%와 관련된 Z값은 1.645이고, $\\hat{p}=0.9,\\ \\hat{q}=0.1,$ $d(허용오차)=0.05$이므로"
   ],
   "metadata": {}
  },
  {
   "cell_type": "code",
   "source": [
    "import math\n",
    "z=1.645\n",
    "p_hat=0.9\n",
    "q_hat=1-p_hat\n",
    "d=0.05\n",
    "\n",
    "n=(z**2 * p_hat * q_hat)/(d**2)\n",
    "print('조건을 만족시키는 표본의 크기 n 중 최솟값은 ',math.ceil(n), '이다.')"
   ],
   "metadata": {
    "execution": {
     "iopub.status.busy": "2023-06-01T21:20:32.619620Z",
     "iopub.execute_input": "2023-06-01T21:20:32.620028Z",
     "iopub.status.idle": "2023-06-01T21:20:32.628762Z",
     "shell.execute_reply.started": "2023-06-01T21:20:32.619994Z",
     "shell.execute_reply": "2023-06-01T21:20:32.626835Z"
    },
    "trusted": true
   },
   "execution_count": null,
   "outputs": []
  },
  {
   "cell_type": "markdown",
   "source": [
    "# 4번\n",
    "### 다음은 1월부터 9월까지의 은의 가격이다\n",
    "![image](https://github.com/Datamanim/datarepo/blob/main/adp/26/problem2.png?raw=true)"
   ],
   "metadata": {}
  },
  {
   "cell_type": "markdown",
   "source": [
    "## 4-1 은의 가격 및 이동평균값 3이 설정된 시계열 그래프를 그려라"
   ],
   "metadata": {}
  },
  {
   "cell_type": "code",
   "source": [
    "# df 생성\n",
    "import pandas as pd\n",
    "\n",
    "df = pd.DataFrame({'month' : ['2023-1', '2023-2', '2023-3', '2023-4', '2023-5', '2023-6', '2023-7', '2023-8', '2023-9'],\n",
    "                  'USD/oz' : [12.14, 42.6, 34.4, 35.29, 30.96, 57.12, 37.84, 42.49, 31.38]})\n",
    "\n",
    "df"
   ],
   "metadata": {
    "execution": {
     "iopub.status.busy": "2023-06-01T21:29:48.960524Z",
     "iopub.execute_input": "2023-06-01T21:29:48.961068Z",
     "iopub.status.idle": "2023-06-01T21:29:48.982633Z",
     "shell.execute_reply.started": "2023-06-01T21:29:48.961021Z",
     "shell.execute_reply": "2023-06-01T21:29:48.981229Z"
    },
    "trusted": true,
    "ExecuteTime": {
     "end_time": "2023-08-20T22:27:53.707100Z",
     "start_time": "2023-08-20T22:27:53.696987Z"
    }
   },
   "execution_count": 1,
   "outputs": [
    {
     "data": {
      "text/plain": "    month  USD/oz\n0  2023-1   12.14\n1  2023-2   42.60\n2  2023-3   34.40\n3  2023-4   35.29\n4  2023-5   30.96\n5  2023-6   57.12\n6  2023-7   37.84\n7  2023-8   42.49\n8  2023-9   31.38",
      "text/html": "<div>\n<style scoped>\n    .dataframe tbody tr th:only-of-type {\n        vertical-align: middle;\n    }\n\n    .dataframe tbody tr th {\n        vertical-align: top;\n    }\n\n    .dataframe thead th {\n        text-align: right;\n    }\n</style>\n<table border=\"1\" class=\"dataframe\">\n  <thead>\n    <tr style=\"text-align: right;\">\n      <th></th>\n      <th>month</th>\n      <th>USD/oz</th>\n    </tr>\n  </thead>\n  <tbody>\n    <tr>\n      <th>0</th>\n      <td>2023-1</td>\n      <td>12.14</td>\n    </tr>\n    <tr>\n      <th>1</th>\n      <td>2023-2</td>\n      <td>42.60</td>\n    </tr>\n    <tr>\n      <th>2</th>\n      <td>2023-3</td>\n      <td>34.40</td>\n    </tr>\n    <tr>\n      <th>3</th>\n      <td>2023-4</td>\n      <td>35.29</td>\n    </tr>\n    <tr>\n      <th>4</th>\n      <td>2023-5</td>\n      <td>30.96</td>\n    </tr>\n    <tr>\n      <th>5</th>\n      <td>2023-6</td>\n      <td>57.12</td>\n    </tr>\n    <tr>\n      <th>6</th>\n      <td>2023-7</td>\n      <td>37.84</td>\n    </tr>\n    <tr>\n      <th>7</th>\n      <td>2023-8</td>\n      <td>42.49</td>\n    </tr>\n    <tr>\n      <th>8</th>\n      <td>2023-9</td>\n      <td>31.38</td>\n    </tr>\n  </tbody>\n</table>\n</div>"
     },
     "execution_count": 1,
     "metadata": {},
     "output_type": "execute_result"
    }
   ]
  },
  {
   "cell_type": "code",
   "source": [
    "# dtype 변경\n",
    "df['month'] = pd.to_datetime(df['month'], format = '%Y-%m')\n",
    "df.set_index('month', inplace = True)\n",
    "df"
   ],
   "metadata": {
    "execution": {
     "iopub.status.busy": "2023-06-01T21:29:56.371599Z",
     "iopub.execute_input": "2023-06-01T21:29:56.372007Z",
     "iopub.status.idle": "2023-06-01T21:29:56.389526Z",
     "shell.execute_reply.started": "2023-06-01T21:29:56.371973Z",
     "shell.execute_reply": "2023-06-01T21:29:56.388250Z"
    },
    "trusted": true,
    "ExecuteTime": {
     "end_time": "2023-08-20T22:27:53.716858Z",
     "start_time": "2023-08-20T22:27:53.711183Z"
    }
   },
   "execution_count": 2,
   "outputs": [
    {
     "data": {
      "text/plain": "            USD/oz\nmonth             \n2023-01-01   12.14\n2023-02-01   42.60\n2023-03-01   34.40\n2023-04-01   35.29\n2023-05-01   30.96\n2023-06-01   57.12\n2023-07-01   37.84\n2023-08-01   42.49\n2023-09-01   31.38",
      "text/html": "<div>\n<style scoped>\n    .dataframe tbody tr th:only-of-type {\n        vertical-align: middle;\n    }\n\n    .dataframe tbody tr th {\n        vertical-align: top;\n    }\n\n    .dataframe thead th {\n        text-align: right;\n    }\n</style>\n<table border=\"1\" class=\"dataframe\">\n  <thead>\n    <tr style=\"text-align: right;\">\n      <th></th>\n      <th>USD/oz</th>\n    </tr>\n    <tr>\n      <th>month</th>\n      <th></th>\n    </tr>\n  </thead>\n  <tbody>\n    <tr>\n      <th>2023-01-01</th>\n      <td>12.14</td>\n    </tr>\n    <tr>\n      <th>2023-02-01</th>\n      <td>42.60</td>\n    </tr>\n    <tr>\n      <th>2023-03-01</th>\n      <td>34.40</td>\n    </tr>\n    <tr>\n      <th>2023-04-01</th>\n      <td>35.29</td>\n    </tr>\n    <tr>\n      <th>2023-05-01</th>\n      <td>30.96</td>\n    </tr>\n    <tr>\n      <th>2023-06-01</th>\n      <td>57.12</td>\n    </tr>\n    <tr>\n      <th>2023-07-01</th>\n      <td>37.84</td>\n    </tr>\n    <tr>\n      <th>2023-08-01</th>\n      <td>42.49</td>\n    </tr>\n    <tr>\n      <th>2023-09-01</th>\n      <td>31.38</td>\n    </tr>\n  </tbody>\n</table>\n</div>"
     },
     "execution_count": 2,
     "metadata": {},
     "output_type": "execute_result"
    }
   ]
  },
  {
   "cell_type": "code",
   "source": [
    "# 시계열 그래프 그리기\n",
    "import matplotlib.pyplot as plt\n",
    "plt.plot(df.index, df['USD/oz'])\n",
    "plt.show()"
   ],
   "metadata": {
    "execution": {
     "iopub.status.busy": "2023-06-01T21:29:58.218656Z",
     "iopub.execute_input": "2023-06-01T21:29:58.219139Z",
     "iopub.status.idle": "2023-06-01T21:29:58.513990Z",
     "shell.execute_reply.started": "2023-06-01T21:29:58.219101Z",
     "shell.execute_reply": "2023-06-01T21:29:58.511668Z"
    },
    "trusted": true,
    "ExecuteTime": {
     "end_time": "2023-08-20T22:27:53.945696Z",
     "start_time": "2023-08-20T22:27:53.715249Z"
    }
   },
   "execution_count": 3,
   "outputs": [
    {
     "data": {
      "text/plain": "<Figure size 640x480 with 1 Axes>",
      "image/png": "[encoded data removed]"
     },
     "metadata": {},
     "output_type": "display_data"
    }
   ]
  },
  {
   "cell_type": "code",
   "source": [
    "# 이동평균 3 적용한 것과 같이 나타내기\n",
    "df['USD/oz_3'] = df['USD/oz'].shift(3)\n",
    "df[['USD/oz', 'USD/oz_3']].plot(figsize=(10, 10))\n",
    "plt.show()"
   ],
   "metadata": {
    "execution": {
     "iopub.status.busy": "2023-06-01T21:33:16.828649Z",
     "iopub.execute_input": "2023-06-01T21:33:16.829089Z",
     "iopub.status.idle": "2023-06-01T21:33:17.130020Z",
     "shell.execute_reply.started": "2023-06-01T21:33:16.829054Z",
     "shell.execute_reply": "2023-06-01T21:33:17.128708Z"
    },
    "trusted": true,
    "ExecuteTime": {
     "end_time": "2023-08-20T22:27:54.103612Z",
     "start_time": "2023-08-20T22:27:53.944492Z"
    }
   },
   "execution_count": 4,
   "outputs": [
    {
     "data": {
      "text/plain": "<Figure size 1000x1000 with 1 Axes>",
      "image/png": "[encoded data removed]"
     },
     "metadata": {},
     "output_type": "display_data"
    }
   ]
  },
  {
   "cell_type": "markdown",
   "source": [
    "## 4-2 1월 대비 9월의 은의 가격은 몇 % 올랐는가? 소수점 두번째 자리에서 반올림"
   ],
   "metadata": {}
  },
  {
   "cell_type": "code",
   "source": [
    "jan = df.loc['2023-01-01','USD/oz']\n",
    "sep = df.loc['2023-09-01','USD/oz']\n",
    "print('1월 대비 9월의 은의 가격은 ', round(((100*(sep-jan))/jan), 2), '% 올랐다.')"
   ],
   "metadata": {
    "execution": {
     "iopub.status.busy": "2023-06-01T21:35:57.098062Z",
     "iopub.execute_input": "2023-06-01T21:35:57.098481Z",
     "iopub.status.idle": "2023-06-01T21:35:57.108727Z",
     "shell.execute_reply.started": "2023-06-01T21:35:57.098447Z",
     "shell.execute_reply": "2023-06-01T21:35:57.106979Z"
    },
    "trusted": true,
    "ExecuteTime": {
     "end_time": "2023-08-20T22:28:47.153477Z",
     "start_time": "2023-08-20T22:28:47.144727Z"
    }
   },
   "execution_count": 5,
   "outputs": [
    {
     "name": "stdout",
     "output_type": "stream",
     "text": [
      "1월 대비 9월의 은의 가격은  158.48 % 올랐다.\n"
     ]
    }
   ]
  },
  {
   "cell_type": "markdown",
   "source": [
    "# 5번 A,B,C 자치구별 W 의원에 대한 찬성, 반대 지지를 나타낸다.      \n",
    "# 자치구별 지지율이 같은지에 대해서 검정하라\n",
    "\n"
   ],
   "metadata": {}
  },
  {
   "cell_type": "markdown",
   "source": [
    "![image](https://github.com/Datamanim/datarepo/blob/main/adp/26/problem3.png?raw=true)"
   ],
   "metadata": {}
  },
  {
   "cell_type": "markdown",
   "source": [
    "## 5-1 연구가설과 귀무가설을 설정하라"
   ],
   "metadata": {}
  },
  {
   "cell_type": "markdown",
   "source": [
    "* 귀무가설 : 자치구별 지지율은 같다.\n",
    "* 대립가설 : 자치구별 지지율은 다르다."
   ],
   "metadata": {}
  },
  {
   "cell_type": "markdown",
   "source": [
    "## 5-2 검정통계량 구하고 결론을 내라"
   ],
   "metadata": {}
  },
  {
   "cell_type": "code",
   "source": [
    "# 지지율에 대한  df 생성\n",
    "import pandas as pd\n",
    "\n",
    "df = pd.DataFrame({'A' : [176/(176+124)],\n",
    "                   'B' : [193/(193+107)],\n",
    "                   'C' : [159/(159+141)]})\n",
    "print(df)\n",
    "n=300"
   ],
   "metadata": {
    "execution": {
     "iopub.status.busy": "2023-06-01T21:46:27.232231Z",
     "iopub.execute_input": "2023-06-01T21:46:27.232707Z",
     "iopub.status.idle": "2023-06-01T21:46:27.244806Z",
     "shell.execute_reply.started": "2023-06-01T21:46:27.232669Z",
     "shell.execute_reply": "2023-06-01T21:46:27.243680Z"
    },
    "trusted": true,
    "ExecuteTime": {
     "end_time": "2023-08-20T22:29:01.807199Z",
     "start_time": "2023-08-20T22:29:01.786899Z"
    }
   },
   "execution_count": 6,
   "outputs": [
    {
     "name": "stdout",
     "output_type": "stream",
     "text": [
      "          A         B     C\n",
      "0  0.586667  0.643333  0.53\n"
     ]
    }
   ]
  },
  {
   "cell_type": "code",
   "source": [
    "import numpy as np\n",
    "\n",
    "p_a = df.iloc[0, 0]\n",
    "p_b = df.iloc[0, 1]\n",
    "p_c = df.iloc[0, 2]\n",
    "\n",
    "m_ab = (369)/(600)\n",
    "m_bc = (352)/(600)\n",
    "m_ca = (335)/(600)\n",
    "\n",
    "# A=B?\n",
    "# 귀무가설 : A=B이다.\n",
    "# 대립가설 : A!=B이다.\n",
    "Z_ba = (p_b-p_a)/(np.sqrt((m_ab * (1-m_ab))/n))\n",
    "\n",
    "# A=C?\n",
    "# 귀무가설 : A=C이다.\n",
    "# 대립가설 : A!=C이다.\n",
    "Z_ca = (p_c-p_a)/(np.sqrt((m_ca * (1-m_ca))/n))\n",
    "\n",
    "# B=C?\n",
    "# 귀무가설 : B=C이다.\n",
    "# 대립가설 : B!=C이다.\n",
    "Z_bc = (p_c-p_b)/(np.sqrt((m_bc * (1-m_bc))/n))\n",
    "print(Z_ba, Z_ca, Z_bc)"
   ],
   "metadata": {
    "execution": {
     "iopub.status.busy": "2023-06-01T21:44:39.413070Z",
     "iopub.execute_input": "2023-06-01T21:44:39.413530Z",
     "iopub.status.idle": "2023-06-01T21:44:39.424491Z",
     "shell.execute_reply.started": "2023-06-01T21:44:39.413492Z",
     "shell.execute_reply": "2023-06-01T21:44:39.423011Z"
    },
    "trusted": true,
    "ExecuteTime": {
     "end_time": "2023-08-20T22:34:13.373557Z",
     "start_time": "2023-08-20T22:34:13.366556Z"
    }
   },
   "execution_count": 9,
   "outputs": [
    {
     "name": "stdout",
     "output_type": "stream",
     "text": [
      "2.0170672190388546 -1.9764881000906767 -3.9863219216896035\n"
     ]
    }
   ]
  },
  {
   "cell_type": "markdown",
   "source": [
    "유의수준 5%하에서 Z값은 1.96이므로 기각역은 +-1.96이 된다.\n",
    "이때, Z_ba = 2.01... 이므로 검정통계량은 기각역 안에 위치하게 된다.\n",
    "즉, 귀무가설이 기각되고, 대립가설을 채택한다.\n",
    "따라서 A, B 두 자치구의 지지율은 같지 않다.\n",
    "\n",
    "같은 방법으로, 유의수준 5%하에서 Z값은 1.96이므로 기각역은 +-1.96이 된다.\n",
    "이때, Z_ca = -1.97... 이므로 검정통계량은 기각역 안에 위치하게 된다.\n",
    "즉, 귀무가설이 기각되고, 대립가설을 채택한다. 따라서 A, C 두 자치구의 지지율은 같지 않다.\n",
    "\n",
    "유의수준 5%하에서 Z값은 1.96이므로 기각역은 +-1.96이 된다.\n",
    "이때, Z_bc = -3.98... 이므로 검정통계량은 기각역 안에 위치하게 된다.\n",
    "즉, 귀무가설이 기각되고, 대립가설을 채택한다. 따라서 B, C 두 자치구의 지지율은 같지 않다.\n",
    "\n",
    "#### 따라서, 세 자치구 A, B, C의 지지율은 서로 같지 않음을 알 수 있다."
   ],
   "metadata": {}
  },
  {
   "cell_type": "markdown",
   "source": [
    "# 6번 \n",
    "## A초등학교 남학생 16명과 여학생 9명의 혈압을 측정한 problem4.csv파일을 가지고 남녀학생의 평균 혈압에 차이가 없는지 분석하라. 단, 남학생과 여학생의 혈압 데이터는 정규분포를 따르며 등분산임을 가정한다."
   ],
   "metadata": {}
  },
  {
   "cell_type": "markdown",
   "source": [
    "## 6-1. 연구가설과 귀무가설 설정하라"
   ],
   "metadata": {}
  },
  {
   "cell_type": "markdown",
   "source": [
    "* 귀무가설 : 남녀 학생의 평균 혈압에는 차이가 없다.\n",
    "* 대립가설 : 남녀 학생의 평균 혈압에는 차이가 있다."
   ],
   "metadata": {}
  },
  {
   "cell_type": "markdown",
   "source": [
    "## 6-2. 통계량을 구하고, 연구가설 채택여부를 기술하라."
   ],
   "metadata": {}
  },
  {
   "cell_type": "code",
   "source": [
    "# df 만들기\n",
    "import pandas as pd\n",
    "\n",
    "df = pd.read_csv('/kaggle/input/adp-p6/problem4.csv')\n",
    "df.head()"
   ],
   "metadata": {
    "execution": {
     "iopub.status.busy": "2023-06-01T21:50:15.950440Z",
     "iopub.execute_input": "2023-06-01T21:50:15.950870Z",
     "iopub.status.idle": "2023-06-01T21:50:15.983209Z",
     "shell.execute_reply.started": "2023-06-01T21:50:15.950832Z",
     "shell.execute_reply": "2023-06-01T21:50:15.982274Z"
    },
    "trusted": true,
    "ExecuteTime": {
     "end_time": "2023-08-30T22:11:22.704519Z",
     "start_time": "2023-08-30T22:11:22.344841Z"
    }
   },
   "execution_count": 2,
   "outputs": [
    {
     "ename": "FileNotFoundError",
     "evalue": "[Errno 2] No such file or directory: '/kaggle/input/adp-p6/problem4.csv'",
     "output_type": "error",
     "traceback": [
      "\u001B[0;31m---------------------------------------------------------------------------\u001B[0m",
      "\u001B[0;31mFileNotFoundError\u001B[0m                         Traceback (most recent call last)",
      "Cell \u001B[0;32mIn[2], line 4\u001B[0m\n\u001B[1;32m      1\u001B[0m \u001B[38;5;66;03m# df 만들기\u001B[39;00m\n\u001B[1;32m      2\u001B[0m \u001B[38;5;28;01mimport\u001B[39;00m \u001B[38;5;21;01mpandas\u001B[39;00m \u001B[38;5;28;01mas\u001B[39;00m \u001B[38;5;21;01mpd\u001B[39;00m\n\u001B[0;32m----> 4\u001B[0m df \u001B[38;5;241m=\u001B[39m \u001B[43mpd\u001B[49m\u001B[38;5;241;43m.\u001B[39;49m\u001B[43mread_csv\u001B[49m\u001B[43m(\u001B[49m\u001B[38;5;124;43m'\u001B[39;49m\u001B[38;5;124;43m/kaggle/input/adp-p6/problem4.csv\u001B[39;49m\u001B[38;5;124;43m'\u001B[39;49m\u001B[43m)\u001B[49m\n\u001B[1;32m      5\u001B[0m df\u001B[38;5;241m.\u001B[39mhead()\n",
      "File \u001B[0;32m~/opt/anaconda3/envs/ADP/lib/python3.10/site-packages/pandas/util/_decorators.py:311\u001B[0m, in \u001B[0;36mdeprecate_nonkeyword_arguments.<locals>.decorate.<locals>.wrapper\u001B[0;34m(*args, **kwargs)\u001B[0m\n\u001B[1;32m    305\u001B[0m \u001B[38;5;28;01mif\u001B[39;00m \u001B[38;5;28mlen\u001B[39m(args) \u001B[38;5;241m>\u001B[39m num_allow_args:\n\u001B[1;32m    306\u001B[0m     warnings\u001B[38;5;241m.\u001B[39mwarn(\n\u001B[1;32m    307\u001B[0m         msg\u001B[38;5;241m.\u001B[39mformat(arguments\u001B[38;5;241m=\u001B[39marguments),\n\u001B[1;32m    308\u001B[0m         \u001B[38;5;167;01mFutureWarning\u001B[39;00m,\n\u001B[1;32m    309\u001B[0m         stacklevel\u001B[38;5;241m=\u001B[39mstacklevel,\n\u001B[1;32m    310\u001B[0m     )\n\u001B[0;32m--> 311\u001B[0m \u001B[38;5;28;01mreturn\u001B[39;00m \u001B[43mfunc\u001B[49m\u001B[43m(\u001B[49m\u001B[38;5;241;43m*\u001B[39;49m\u001B[43margs\u001B[49m\u001B[43m,\u001B[49m\u001B[43m \u001B[49m\u001B[38;5;241;43m*\u001B[39;49m\u001B[38;5;241;43m*\u001B[39;49m\u001B[43mkwargs\u001B[49m\u001B[43m)\u001B[49m\n",
      "File \u001B[0;32m~/opt/anaconda3/envs/ADP/lib/python3.10/site-packages/pandas/io/parsers/readers.py:678\u001B[0m, in \u001B[0;36mread_csv\u001B[0;34m(filepath_or_buffer, sep, delimiter, header, names, index_col, usecols, squeeze, prefix, mangle_dupe_cols, dtype, engine, converters, true_values, false_values, skipinitialspace, skiprows, skipfooter, nrows, na_values, keep_default_na, na_filter, verbose, skip_blank_lines, parse_dates, infer_datetime_format, keep_date_col, date_parser, dayfirst, cache_dates, iterator, chunksize, compression, thousands, decimal, lineterminator, quotechar, quoting, doublequote, escapechar, comment, encoding, encoding_errors, dialect, error_bad_lines, warn_bad_lines, on_bad_lines, delim_whitespace, low_memory, memory_map, float_precision, storage_options)\u001B[0m\n\u001B[1;32m    663\u001B[0m kwds_defaults \u001B[38;5;241m=\u001B[39m _refine_defaults_read(\n\u001B[1;32m    664\u001B[0m     dialect,\n\u001B[1;32m    665\u001B[0m     delimiter,\n\u001B[0;32m   (...)\u001B[0m\n\u001B[1;32m    674\u001B[0m     defaults\u001B[38;5;241m=\u001B[39m{\u001B[38;5;124m\"\u001B[39m\u001B[38;5;124mdelimiter\u001B[39m\u001B[38;5;124m\"\u001B[39m: \u001B[38;5;124m\"\u001B[39m\u001B[38;5;124m,\u001B[39m\u001B[38;5;124m\"\u001B[39m},\n\u001B[1;32m    675\u001B[0m )\n\u001B[1;32m    676\u001B[0m kwds\u001B[38;5;241m.\u001B[39mupdate(kwds_defaults)\n\u001B[0;32m--> 678\u001B[0m \u001B[38;5;28;01mreturn\u001B[39;00m \u001B[43m_read\u001B[49m\u001B[43m(\u001B[49m\u001B[43mfilepath_or_buffer\u001B[49m\u001B[43m,\u001B[49m\u001B[43m \u001B[49m\u001B[43mkwds\u001B[49m\u001B[43m)\u001B[49m\n",
      "File \u001B[0;32m~/opt/anaconda3/envs/ADP/lib/python3.10/site-packages/pandas/io/parsers/readers.py:575\u001B[0m, in \u001B[0;36m_read\u001B[0;34m(filepath_or_buffer, kwds)\u001B[0m\n\u001B[1;32m    572\u001B[0m _validate_names(kwds\u001B[38;5;241m.\u001B[39mget(\u001B[38;5;124m\"\u001B[39m\u001B[38;5;124mnames\u001B[39m\u001B[38;5;124m\"\u001B[39m, \u001B[38;5;28;01mNone\u001B[39;00m))\n\u001B[1;32m    574\u001B[0m \u001B[38;5;66;03m# Create the parser.\u001B[39;00m\n\u001B[0;32m--> 575\u001B[0m parser \u001B[38;5;241m=\u001B[39m \u001B[43mTextFileReader\u001B[49m\u001B[43m(\u001B[49m\u001B[43mfilepath_or_buffer\u001B[49m\u001B[43m,\u001B[49m\u001B[43m \u001B[49m\u001B[38;5;241;43m*\u001B[39;49m\u001B[38;5;241;43m*\u001B[39;49m\u001B[43mkwds\u001B[49m\u001B[43m)\u001B[49m\n\u001B[1;32m    577\u001B[0m \u001B[38;5;28;01mif\u001B[39;00m chunksize \u001B[38;5;129;01mor\u001B[39;00m iterator:\n\u001B[1;32m    578\u001B[0m     \u001B[38;5;28;01mreturn\u001B[39;00m parser\n",
      "File \u001B[0;32m~/opt/anaconda3/envs/ADP/lib/python3.10/site-packages/pandas/io/parsers/readers.py:932\u001B[0m, in \u001B[0;36mTextFileReader.__init__\u001B[0;34m(self, f, engine, **kwds)\u001B[0m\n\u001B[1;32m    929\u001B[0m     \u001B[38;5;28mself\u001B[39m\u001B[38;5;241m.\u001B[39moptions[\u001B[38;5;124m\"\u001B[39m\u001B[38;5;124mhas_index_names\u001B[39m\u001B[38;5;124m\"\u001B[39m] \u001B[38;5;241m=\u001B[39m kwds[\u001B[38;5;124m\"\u001B[39m\u001B[38;5;124mhas_index_names\u001B[39m\u001B[38;5;124m\"\u001B[39m]\n\u001B[1;32m    931\u001B[0m \u001B[38;5;28mself\u001B[39m\u001B[38;5;241m.\u001B[39mhandles: IOHandles \u001B[38;5;241m|\u001B[39m \u001B[38;5;28;01mNone\u001B[39;00m \u001B[38;5;241m=\u001B[39m \u001B[38;5;28;01mNone\u001B[39;00m\n\u001B[0;32m--> 932\u001B[0m \u001B[38;5;28mself\u001B[39m\u001B[38;5;241m.\u001B[39m_engine \u001B[38;5;241m=\u001B[39m \u001B[38;5;28;43mself\u001B[39;49m\u001B[38;5;241;43m.\u001B[39;49m\u001B[43m_make_engine\u001B[49m\u001B[43m(\u001B[49m\u001B[43mf\u001B[49m\u001B[43m,\u001B[49m\u001B[43m \u001B[49m\u001B[38;5;28;43mself\u001B[39;49m\u001B[38;5;241;43m.\u001B[39;49m\u001B[43mengine\u001B[49m\u001B[43m)\u001B[49m\n",
      "File \u001B[0;32m~/opt/anaconda3/envs/ADP/lib/python3.10/site-packages/pandas/io/parsers/readers.py:1216\u001B[0m, in \u001B[0;36mTextFileReader._make_engine\u001B[0;34m(self, f, engine)\u001B[0m\n\u001B[1;32m   1212\u001B[0m     mode \u001B[38;5;241m=\u001B[39m \u001B[38;5;124m\"\u001B[39m\u001B[38;5;124mrb\u001B[39m\u001B[38;5;124m\"\u001B[39m\n\u001B[1;32m   1213\u001B[0m \u001B[38;5;66;03m# error: No overload variant of \"get_handle\" matches argument types\u001B[39;00m\n\u001B[1;32m   1214\u001B[0m \u001B[38;5;66;03m# \"Union[str, PathLike[str], ReadCsvBuffer[bytes], ReadCsvBuffer[str]]\"\u001B[39;00m\n\u001B[1;32m   1215\u001B[0m \u001B[38;5;66;03m# , \"str\", \"bool\", \"Any\", \"Any\", \"Any\", \"Any\", \"Any\"\u001B[39;00m\n\u001B[0;32m-> 1216\u001B[0m \u001B[38;5;28mself\u001B[39m\u001B[38;5;241m.\u001B[39mhandles \u001B[38;5;241m=\u001B[39m \u001B[43mget_handle\u001B[49m\u001B[43m(\u001B[49m\u001B[43m  \u001B[49m\u001B[38;5;66;43;03m# type: ignore[call-overload]\u001B[39;49;00m\n\u001B[1;32m   1217\u001B[0m \u001B[43m    \u001B[49m\u001B[43mf\u001B[49m\u001B[43m,\u001B[49m\n\u001B[1;32m   1218\u001B[0m \u001B[43m    \u001B[49m\u001B[43mmode\u001B[49m\u001B[43m,\u001B[49m\n\u001B[1;32m   1219\u001B[0m \u001B[43m    \u001B[49m\u001B[43mencoding\u001B[49m\u001B[38;5;241;43m=\u001B[39;49m\u001B[38;5;28;43mself\u001B[39;49m\u001B[38;5;241;43m.\u001B[39;49m\u001B[43moptions\u001B[49m\u001B[38;5;241;43m.\u001B[39;49m\u001B[43mget\u001B[49m\u001B[43m(\u001B[49m\u001B[38;5;124;43m\"\u001B[39;49m\u001B[38;5;124;43mencoding\u001B[39;49m\u001B[38;5;124;43m\"\u001B[39;49m\u001B[43m,\u001B[49m\u001B[43m \u001B[49m\u001B[38;5;28;43;01mNone\u001B[39;49;00m\u001B[43m)\u001B[49m\u001B[43m,\u001B[49m\n\u001B[1;32m   1220\u001B[0m \u001B[43m    \u001B[49m\u001B[43mcompression\u001B[49m\u001B[38;5;241;43m=\u001B[39;49m\u001B[38;5;28;43mself\u001B[39;49m\u001B[38;5;241;43m.\u001B[39;49m\u001B[43moptions\u001B[49m\u001B[38;5;241;43m.\u001B[39;49m\u001B[43mget\u001B[49m\u001B[43m(\u001B[49m\u001B[38;5;124;43m\"\u001B[39;49m\u001B[38;5;124;43mcompression\u001B[39;49m\u001B[38;5;124;43m\"\u001B[39;49m\u001B[43m,\u001B[49m\u001B[43m \u001B[49m\u001B[38;5;28;43;01mNone\u001B[39;49;00m\u001B[43m)\u001B[49m\u001B[43m,\u001B[49m\n\u001B[1;32m   1221\u001B[0m \u001B[43m    \u001B[49m\u001B[43mmemory_map\u001B[49m\u001B[38;5;241;43m=\u001B[39;49m\u001B[38;5;28;43mself\u001B[39;49m\u001B[38;5;241;43m.\u001B[39;49m\u001B[43moptions\u001B[49m\u001B[38;5;241;43m.\u001B[39;49m\u001B[43mget\u001B[49m\u001B[43m(\u001B[49m\u001B[38;5;124;43m\"\u001B[39;49m\u001B[38;5;124;43mmemory_map\u001B[39;49m\u001B[38;5;124;43m\"\u001B[39;49m\u001B[43m,\u001B[49m\u001B[43m \u001B[49m\u001B[38;5;28;43;01mFalse\u001B[39;49;00m\u001B[43m)\u001B[49m\u001B[43m,\u001B[49m\n\u001B[1;32m   1222\u001B[0m \u001B[43m    \u001B[49m\u001B[43mis_text\u001B[49m\u001B[38;5;241;43m=\u001B[39;49m\u001B[43mis_text\u001B[49m\u001B[43m,\u001B[49m\n\u001B[1;32m   1223\u001B[0m \u001B[43m    \u001B[49m\u001B[43merrors\u001B[49m\u001B[38;5;241;43m=\u001B[39;49m\u001B[38;5;28;43mself\u001B[39;49m\u001B[38;5;241;43m.\u001B[39;49m\u001B[43moptions\u001B[49m\u001B[38;5;241;43m.\u001B[39;49m\u001B[43mget\u001B[49m\u001B[43m(\u001B[49m\u001B[38;5;124;43m\"\u001B[39;49m\u001B[38;5;124;43mencoding_errors\u001B[39;49m\u001B[38;5;124;43m\"\u001B[39;49m\u001B[43m,\u001B[49m\u001B[43m \u001B[49m\u001B[38;5;124;43m\"\u001B[39;49m\u001B[38;5;124;43mstrict\u001B[39;49m\u001B[38;5;124;43m\"\u001B[39;49m\u001B[43m)\u001B[49m\u001B[43m,\u001B[49m\n\u001B[1;32m   1224\u001B[0m \u001B[43m    \u001B[49m\u001B[43mstorage_options\u001B[49m\u001B[38;5;241;43m=\u001B[39;49m\u001B[38;5;28;43mself\u001B[39;49m\u001B[38;5;241;43m.\u001B[39;49m\u001B[43moptions\u001B[49m\u001B[38;5;241;43m.\u001B[39;49m\u001B[43mget\u001B[49m\u001B[43m(\u001B[49m\u001B[38;5;124;43m\"\u001B[39;49m\u001B[38;5;124;43mstorage_options\u001B[39;49m\u001B[38;5;124;43m\"\u001B[39;49m\u001B[43m,\u001B[49m\u001B[43m \u001B[49m\u001B[38;5;28;43;01mNone\u001B[39;49;00m\u001B[43m)\u001B[49m\u001B[43m,\u001B[49m\n\u001B[1;32m   1225\u001B[0m \u001B[43m\u001B[49m\u001B[43m)\u001B[49m\n\u001B[1;32m   1226\u001B[0m \u001B[38;5;28;01massert\u001B[39;00m \u001B[38;5;28mself\u001B[39m\u001B[38;5;241m.\u001B[39mhandles \u001B[38;5;129;01mis\u001B[39;00m \u001B[38;5;129;01mnot\u001B[39;00m \u001B[38;5;28;01mNone\u001B[39;00m\n\u001B[1;32m   1227\u001B[0m f \u001B[38;5;241m=\u001B[39m \u001B[38;5;28mself\u001B[39m\u001B[38;5;241m.\u001B[39mhandles\u001B[38;5;241m.\u001B[39mhandle\n",
      "File \u001B[0;32m~/opt/anaconda3/envs/ADP/lib/python3.10/site-packages/pandas/io/common.py:786\u001B[0m, in \u001B[0;36mget_handle\u001B[0;34m(path_or_buf, mode, encoding, compression, memory_map, is_text, errors, storage_options)\u001B[0m\n\u001B[1;32m    781\u001B[0m \u001B[38;5;28;01melif\u001B[39;00m \u001B[38;5;28misinstance\u001B[39m(handle, \u001B[38;5;28mstr\u001B[39m):\n\u001B[1;32m    782\u001B[0m     \u001B[38;5;66;03m# Check whether the filename is to be opened in binary mode.\u001B[39;00m\n\u001B[1;32m    783\u001B[0m     \u001B[38;5;66;03m# Binary mode does not support 'encoding' and 'newline'.\u001B[39;00m\n\u001B[1;32m    784\u001B[0m     \u001B[38;5;28;01mif\u001B[39;00m ioargs\u001B[38;5;241m.\u001B[39mencoding \u001B[38;5;129;01mand\u001B[39;00m \u001B[38;5;124m\"\u001B[39m\u001B[38;5;124mb\u001B[39m\u001B[38;5;124m\"\u001B[39m \u001B[38;5;129;01mnot\u001B[39;00m \u001B[38;5;129;01min\u001B[39;00m ioargs\u001B[38;5;241m.\u001B[39mmode:\n\u001B[1;32m    785\u001B[0m         \u001B[38;5;66;03m# Encoding\u001B[39;00m\n\u001B[0;32m--> 786\u001B[0m         handle \u001B[38;5;241m=\u001B[39m \u001B[38;5;28;43mopen\u001B[39;49m\u001B[43m(\u001B[49m\n\u001B[1;32m    787\u001B[0m \u001B[43m            \u001B[49m\u001B[43mhandle\u001B[49m\u001B[43m,\u001B[49m\n\u001B[1;32m    788\u001B[0m \u001B[43m            \u001B[49m\u001B[43mioargs\u001B[49m\u001B[38;5;241;43m.\u001B[39;49m\u001B[43mmode\u001B[49m\u001B[43m,\u001B[49m\n\u001B[1;32m    789\u001B[0m \u001B[43m            \u001B[49m\u001B[43mencoding\u001B[49m\u001B[38;5;241;43m=\u001B[39;49m\u001B[43mioargs\u001B[49m\u001B[38;5;241;43m.\u001B[39;49m\u001B[43mencoding\u001B[49m\u001B[43m,\u001B[49m\n\u001B[1;32m    790\u001B[0m \u001B[43m            \u001B[49m\u001B[43merrors\u001B[49m\u001B[38;5;241;43m=\u001B[39;49m\u001B[43merrors\u001B[49m\u001B[43m,\u001B[49m\n\u001B[1;32m    791\u001B[0m \u001B[43m            \u001B[49m\u001B[43mnewline\u001B[49m\u001B[38;5;241;43m=\u001B[39;49m\u001B[38;5;124;43m\"\u001B[39;49m\u001B[38;5;124;43m\"\u001B[39;49m\u001B[43m,\u001B[49m\n\u001B[1;32m    792\u001B[0m \u001B[43m        \u001B[49m\u001B[43m)\u001B[49m\n\u001B[1;32m    793\u001B[0m     \u001B[38;5;28;01melse\u001B[39;00m:\n\u001B[1;32m    794\u001B[0m         \u001B[38;5;66;03m# Binary mode\u001B[39;00m\n\u001B[1;32m    795\u001B[0m         handle \u001B[38;5;241m=\u001B[39m \u001B[38;5;28mopen\u001B[39m(handle, ioargs\u001B[38;5;241m.\u001B[39mmode)\n",
      "\u001B[0;31mFileNotFoundError\u001B[0m: [Errno 2] No such file or directory: '/kaggle/input/adp-p6/problem4.csv'"
     ]
    }
   ]
  },
  {
   "cell_type": "code",
   "source": [
    "df.info()"
   ],
   "metadata": {
    "execution": {
     "iopub.status.busy": "2023-06-01T21:50:18.237244Z",
     "iopub.execute_input": "2023-06-01T21:50:18.237685Z",
     "iopub.status.idle": "2023-06-01T21:50:18.257572Z",
     "shell.execute_reply.started": "2023-06-01T21:50:18.237651Z",
     "shell.execute_reply": "2023-06-01T21:50:18.256013Z"
    },
    "trusted": true,
    "ExecuteTime": {
     "end_time": "2023-08-30T22:11:22.774273Z",
     "start_time": "2023-08-30T22:11:22.766732Z"
    }
   },
   "execution_count": 3,
   "outputs": [
    {
     "ename": "NameError",
     "evalue": "name 'df' is not defined",
     "output_type": "error",
     "traceback": [
      "\u001B[0;31m---------------------------------------------------------------------------\u001B[0m",
      "\u001B[0;31mNameError\u001B[0m                                 Traceback (most recent call last)",
      "Cell \u001B[0;32mIn[3], line 1\u001B[0m\n\u001B[0;32m----> 1\u001B[0m \u001B[43mdf\u001B[49m\u001B[38;5;241m.\u001B[39minfo()\n",
      "\u001B[0;31mNameError\u001B[0m: name 'df' is not defined"
     ]
    }
   ]
  },
  {
   "cell_type": "markdown",
   "source": [
    "이때, 정규성과 등분산성이 가정되었으므로 따로 확인하지 않고, 독립표본 t검정을 실시한다."
   ],
   "metadata": {}
  },
  {
   "cell_type": "code",
   "source": [
    "# 독립표본 t-test 진행\n",
    "import scipy.stats as stats\n",
    "\n",
    "male = df[df['gender'] == 'male']['pressure']\n",
    "female = df[df['gender'] == 'female']['pressure']\n",
    "\n",
    "stats.ttest_ind(male, female, equal_var = True)"
   ],
   "metadata": {
    "execution": {
     "iopub.status.busy": "2023-06-01T21:50:38.320375Z",
     "iopub.execute_input": "2023-06-01T21:50:38.320809Z",
     "iopub.status.idle": "2023-06-01T21:50:38.338049Z",
     "shell.execute_reply.started": "2023-06-01T21:50:38.320773Z",
     "shell.execute_reply": "2023-06-01T21:50:38.336747Z"
    },
    "trusted": true,
    "ExecuteTime": {
     "end_time": "2023-08-30T22:11:23.985337Z",
     "start_time": "2023-08-30T22:11:23.964698Z"
    }
   },
   "execution_count": 4,
   "outputs": [
    {
     "ename": "NameError",
     "evalue": "name 'df' is not defined",
     "output_type": "error",
     "traceback": [
      "\u001B[0;31m---------------------------------------------------------------------------\u001B[0m",
      "\u001B[0;31mNameError\u001B[0m                                 Traceback (most recent call last)",
      "Cell \u001B[0;32mIn[4], line 4\u001B[0m\n\u001B[1;32m      1\u001B[0m \u001B[38;5;66;03m# 독립표본 t-test 진행\u001B[39;00m\n\u001B[1;32m      2\u001B[0m \u001B[38;5;28;01mimport\u001B[39;00m \u001B[38;5;21;01mscipy\u001B[39;00m\u001B[38;5;21;01m.\u001B[39;00m\u001B[38;5;21;01mstats\u001B[39;00m \u001B[38;5;28;01mas\u001B[39;00m \u001B[38;5;21;01mstats\u001B[39;00m\n\u001B[0;32m----> 4\u001B[0m male \u001B[38;5;241m=\u001B[39m \u001B[43mdf\u001B[49m[df[\u001B[38;5;124m'\u001B[39m\u001B[38;5;124mgender\u001B[39m\u001B[38;5;124m'\u001B[39m] \u001B[38;5;241m==\u001B[39m \u001B[38;5;124m'\u001B[39m\u001B[38;5;124mmale\u001B[39m\u001B[38;5;124m'\u001B[39m][\u001B[38;5;124m'\u001B[39m\u001B[38;5;124mpressure\u001B[39m\u001B[38;5;124m'\u001B[39m]\n\u001B[1;32m      5\u001B[0m female \u001B[38;5;241m=\u001B[39m df[df[\u001B[38;5;124m'\u001B[39m\u001B[38;5;124mgender\u001B[39m\u001B[38;5;124m'\u001B[39m] \u001B[38;5;241m==\u001B[39m \u001B[38;5;124m'\u001B[39m\u001B[38;5;124mfemale\u001B[39m\u001B[38;5;124m'\u001B[39m][\u001B[38;5;124m'\u001B[39m\u001B[38;5;124mpressure\u001B[39m\u001B[38;5;124m'\u001B[39m]\n\u001B[1;32m      7\u001B[0m stats\u001B[38;5;241m.\u001B[39mttest_ind(male, female, equal_var \u001B[38;5;241m=\u001B[39m \u001B[38;5;28;01mTrue\u001B[39;00m)\n",
      "\u001B[0;31mNameError\u001B[0m: name 'df' is not defined"
     ]
    }
   ]
  },
  {
   "cell_type": "markdown",
   "source": [
    "#### p-value가 0.123으로 유의수준인 0.05보다 크게 나타났다.\n",
    "#### 따라서 귀무가설을 채택한다. 즉, 남녀 학생의 평균 혈압에는 차이가 없다고 할 수 있다."
   ],
   "metadata": {}
  },
  {
   "cell_type": "markdown",
   "source": [
    "## 6-3. 6-2에서 구한 검정 통계량 값을 바탕으로 신뢰구간을 구하라"
   ],
   "metadata": {}
  },
  {
   "cell_type": "code",
   "source": [
    "import numpy as np\n",
    "\n",
    "male_mean = male.mean()\n",
    "female_mean = female.mean()\n",
    "male_std = np.std(male)\n",
    "female_std = np.std(female)\n",
    "male_n = len(male)\n",
    "female_n = len(female)\n",
    "df_ttest = male_n+female_n\n",
    "\n",
    "print(male_mean, female_mean, male_std, female_std, male_n, female_n, df_ttest)\n",
    "\n",
    "s = np.sqrt(0.5 * (male_n**2+female_n**2))\n",
    "SEM = np.sqrt((s**2)/male_n+(s**2)/female_n)\n",
    "\n",
    "# 자유도가 25일 때, 이에 해당하는 양측을호의 꼬리 부분을 제외한 넓이가 0.95인 t-value는 2.06이다.\n",
    "t_95 = 2.06\n",
    "\n",
    "confidence_interval_left = male_mean-female_mean - t_95*SEM\n",
    "confidence_interval_right = male_mean-female_mean + t_95*SEM\n",
    "\n",
    "print('95%에 대한 신뢰 구간 : [', confidence_interval_left, ', ', confidence_interval_right, ']' )"
   ],
   "metadata": {
    "execution": {
     "iopub.status.busy": "2023-06-01T22:04:17.232720Z",
     "iopub.execute_input": "2023-06-01T22:04:17.233158Z",
     "iopub.status.idle": "2023-06-01T22:04:17.247863Z",
     "shell.execute_reply.started": "2023-06-01T22:04:17.233121Z",
     "shell.execute_reply": "2023-06-01T22:04:17.246574Z"
    },
    "trusted": true,
    "ExecuteTime": {
     "end_time": "2023-08-30T22:11:17.395656Z",
     "start_time": "2023-08-30T22:11:17.022129Z"
    }
   },
   "execution_count": 1,
   "outputs": [
    {
     "ename": "NameError",
     "evalue": "name 'male' is not defined",
     "output_type": "error",
     "traceback": [
      "\u001B[0;31m---------------------------------------------------------------------------\u001B[0m",
      "\u001B[0;31mNameError\u001B[0m                                 Traceback (most recent call last)",
      "Cell \u001B[0;32mIn[1], line 3\u001B[0m\n\u001B[1;32m      1\u001B[0m \u001B[38;5;28;01mimport\u001B[39;00m \u001B[38;5;21;01mnumpy\u001B[39;00m \u001B[38;5;28;01mas\u001B[39;00m \u001B[38;5;21;01mnp\u001B[39;00m\n\u001B[0;32m----> 3\u001B[0m male_mean \u001B[38;5;241m=\u001B[39m \u001B[43mmale\u001B[49m\u001B[38;5;241m.\u001B[39mmean()\n\u001B[1;32m      4\u001B[0m female_mean \u001B[38;5;241m=\u001B[39m female\u001B[38;5;241m.\u001B[39mmean()\n\u001B[1;32m      5\u001B[0m male_std \u001B[38;5;241m=\u001B[39m np\u001B[38;5;241m.\u001B[39mstd(male)\n",
      "\u001B[0;31mNameError\u001B[0m: name 'male' is not defined"
     ]
    }
   ]
  },
  {
   "cell_type": "markdown",
   "source": [
    "즉, 95%의 확률로 위의 신뢰 구간 사이에 남녀 학생의 혈압 차이의 모평균이 들어온다고 할 수 있다."
   ],
   "metadata": {}
  },
  {
   "cell_type": "markdown",
   "source": [
    "# 7번 \n",
    "## height(키), weight(몸무게), waist(허리둘레) 컬럼을 가진 problem7.csv파일을 가지고 다음을 분석하라.\n",
    "A시의 20대 남성 411명을 임의로 추출하여 키, 몸무게, 허리둘레를 조사하여 기록한 데이터이다.      \n",
    "이 데이터를 이용하여 20대 남성의 키와 허리둘레가 체중에 영향을 미치는지 알아보고자 한다"
   ],
   "metadata": {}
  },
  {
   "cell_type": "markdown",
   "source": [
    "## 7-1 아래 조건을 참고하여 회귀계수(반올림하여 소수점 두자리)를 구하시오.\n",
    "- 베이지안 회귀\n",
    "- 시드넘버 1234로 지정\n",
    "- 1000번의 burn-in 이후 10,000의 MCMC를 수행\n",
    "- 회귀계수의 사전분포는 부적절한 균일분포(inproper uniform prior distribution), 오차항의 분산의 사전분포는 역감마 분포로 지정. 이때, 형상(Shape)모수와 척도(Scale)모수는 각각 0.005로 지정."
   ],
   "metadata": {}
  },
  {
   "cell_type": "code",
   "source": [
    "import pandas as pd\n",
    "\n",
    "df = pd.read_csv('/kaggle/input/adp-p6/problem7.csv')\n",
    "df.head()"
   ],
   "metadata": {
    "execution": {
     "iopub.status.busy": "2023-06-01T22:05:57.808226Z",
     "iopub.execute_input": "2023-06-01T22:05:57.808647Z",
     "iopub.status.idle": "2023-06-01T22:05:57.834680Z",
     "shell.execute_reply.started": "2023-06-01T22:05:57.808611Z",
     "shell.execute_reply": "2023-06-01T22:05:57.833704Z"
    },
    "trusted": true
   },
   "execution_count": null,
   "outputs": []
  },
  {
   "cell_type": "code",
   "source": [
    "import pymc3 as pm\n",
    "import matplotlib.pyplot as plt"
   ],
   "metadata": {
    "execution": {
     "iopub.status.busy": "2023-06-01T22:10:54.021471Z",
     "iopub.execute_input": "2023-06-01T22:10:54.021998Z",
     "iopub.status.idle": "2023-06-01T22:10:54.028859Z",
     "shell.execute_reply.started": "2023-06-01T22:10:54.021950Z",
     "shell.execute_reply": "2023-06-01T22:10:54.027701Z"
    },
    "trusted": true
   },
   "execution_count": null,
   "outputs": []
  },
  {
   "cell_type": "markdown",
   "source": [
    "## 7-2 7-1에서 만든 모델을 바탕으로 키 180cm, 허리둘레 85cm인 남성의 몸무게를 추정하라"
   ],
   "metadata": {}
  },
  {
   "cell_type": "code",
   "source": [],
   "metadata": {},
   "execution_count": null,
   "outputs": []
  }
 ]
}

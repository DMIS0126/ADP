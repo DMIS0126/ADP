{
 "cells": [
  {
   "cell_type": "markdown",
   "metadata": {},
   "source": [
    "# 머신러닝"
   ]
  },
  {
   "cell_type": "markdown",
   "metadata": {},
   "source": [
    "## 학생 결석 여부 확인 데이터\n",
    "/kaggle/input/adp-p8/problem1.csv\n",
    "\n",
    "\n",
    "성별(sex) 바이너리 : 'F' - 여성 또는 'M' - 남성     \n",
    "나이(age) 숫자: 15 - 22     \n",
    "부모님동거여부 (Pstatus) 바이너리: T: 동거 또는 'A': 별거       \n",
    "엄마학력(Medu) 숫자 : 0 : 없음, 1 : 초등 교육, 2 : 5-9학년, 3 - 중등 교육 또는 4 - 고등 교육    \n",
    "아빠학력(Fedu) 숫자 : 0 : 없음, 1 : 초등 교육, 2 : 5-9학년, 3 - 중등 교육 또는 4 - 고등 교육   \n",
    "주보호자(guardian) 명목형 : '어머니', '아버지' 또는 '기타'     \n",
    "등하교시간(traveltime) 숫자 : 1 : 15분이하, 2 : 15 ~ 30분, 3 : 30분 ~ 1시간, 4 : 1시간 이상       \n",
    "학습시간(studytime) 숫자 : 1 : 2시간이하, 2 : 2~5시간, 3 : 5~10시간, 4 : 10시간이상    \n",
    "학고횟수(failures)  숫자 : 1, 2, 3 else 4     \n",
    "자유시간(freetime) 숫자 : 1(매우 낮음), 2, 3, 4, 5(매우 높음)   \n",
    "가족관계(famrel) 숫자 : 1(매우 나쁨), 2, 3, 4, 5(우수)    "
   ]
  },
  {
   "cell_type": "markdown",
   "metadata": {},
   "source": [
    "### 1-1 데이터 EDA 및 시각화"
   ]
  },
  {
   "cell_type": "code",
   "execution_count": 12,
   "metadata": {
    "execution": {
     "iopub.execute_input": "2023-08-28T21:40:23.792684Z",
     "iopub.status.busy": "2023-08-28T21:40:23.791341Z",
     "iopub.status.idle": "2023-08-28T21:40:23.825255Z",
     "shell.execute_reply": "2023-08-28T21:40:23.824203Z",
     "shell.execute_reply.started": "2023-08-28T21:40:23.792623Z"
    }
   },
   "outputs": [
    {
     "data": {
      "text/html": [
       "<div>\n",
       "<style scoped>\n",
       "    .dataframe tbody tr th:only-of-type {\n",
       "        vertical-align: middle;\n",
       "    }\n",
       "\n",
       "    .dataframe tbody tr th {\n",
       "        vertical-align: top;\n",
       "    }\n",
       "\n",
       "    .dataframe thead th {\n",
       "        text-align: right;\n",
       "    }\n",
       "</style>\n",
       "<table border=\"1\" class=\"dataframe\">\n",
       "  <thead>\n",
       "    <tr style=\"text-align: right;\">\n",
       "      <th></th>\n",
       "      <th>sex</th>\n",
       "      <th>age</th>\n",
       "      <th>Pstatus</th>\n",
       "      <th>Fedu</th>\n",
       "      <th>Medu</th>\n",
       "      <th>guardian</th>\n",
       "      <th>studytime</th>\n",
       "      <th>traveltime</th>\n",
       "      <th>failures</th>\n",
       "      <th>famrel</th>\n",
       "      <th>freetime</th>\n",
       "      <th>absences</th>\n",
       "    </tr>\n",
       "  </thead>\n",
       "  <tbody>\n",
       "    <tr>\n",
       "      <th>0</th>\n",
       "      <td>F</td>\n",
       "      <td>18.0</td>\n",
       "      <td>A</td>\n",
       "      <td>4</td>\n",
       "      <td>4</td>\n",
       "      <td>mother</td>\n",
       "      <td>2</td>\n",
       "      <td>2.0</td>\n",
       "      <td>0</td>\n",
       "      <td>4</td>\n",
       "      <td>3.0</td>\n",
       "      <td>6</td>\n",
       "    </tr>\n",
       "    <tr>\n",
       "      <th>1</th>\n",
       "      <td>F</td>\n",
       "      <td>17.0</td>\n",
       "      <td>T</td>\n",
       "      <td>1</td>\n",
       "      <td>1</td>\n",
       "      <td>father</td>\n",
       "      <td>2</td>\n",
       "      <td>1.0</td>\n",
       "      <td>0</td>\n",
       "      <td>5</td>\n",
       "      <td>3.0</td>\n",
       "      <td>4</td>\n",
       "    </tr>\n",
       "    <tr>\n",
       "      <th>2</th>\n",
       "      <td>F</td>\n",
       "      <td>15.0</td>\n",
       "      <td>T</td>\n",
       "      <td>1</td>\n",
       "      <td>1</td>\n",
       "      <td>mother</td>\n",
       "      <td>2</td>\n",
       "      <td>1.0</td>\n",
       "      <td>3</td>\n",
       "      <td>4</td>\n",
       "      <td>3.0</td>\n",
       "      <td>10</td>\n",
       "    </tr>\n",
       "    <tr>\n",
       "      <th>3</th>\n",
       "      <td>F</td>\n",
       "      <td>15.0</td>\n",
       "      <td>T</td>\n",
       "      <td>2</td>\n",
       "      <td>4</td>\n",
       "      <td>mother</td>\n",
       "      <td>3</td>\n",
       "      <td>1.0</td>\n",
       "      <td>0</td>\n",
       "      <td>3</td>\n",
       "      <td>2.0</td>\n",
       "      <td>2</td>\n",
       "    </tr>\n",
       "    <tr>\n",
       "      <th>4</th>\n",
       "      <td>F</td>\n",
       "      <td>NaN</td>\n",
       "      <td>T</td>\n",
       "      <td>3</td>\n",
       "      <td>3</td>\n",
       "      <td>father</td>\n",
       "      <td>2</td>\n",
       "      <td>1.0</td>\n",
       "      <td>0</td>\n",
       "      <td>4</td>\n",
       "      <td>3.0</td>\n",
       "      <td>4</td>\n",
       "    </tr>\n",
       "  </tbody>\n",
       "</table>\n",
       "</div>"
      ],
      "text/plain": [
       "  sex   age Pstatus  Fedu  Medu guardian  studytime  traveltime  failures  \\\n",
       "0   F  18.0       A     4     4   mother          2         2.0         0   \n",
       "1   F  17.0       T     1     1   father          2         1.0         0   \n",
       "2   F  15.0       T     1     1   mother          2         1.0         3   \n",
       "3   F  15.0       T     2     4   mother          3         1.0         0   \n",
       "4   F   NaN       T     3     3   father          2         1.0         0   \n",
       "\n",
       "   famrel  freetime  absences  \n",
       "0       4       3.0         6  \n",
       "1       5       3.0         4  \n",
       "2       4       3.0        10  \n",
       "3       3       2.0         2  \n",
       "4       4       3.0         4  "
      ]
     },
     "execution_count": 12,
     "metadata": {},
     "output_type": "execute_result"
    }
   ],
   "source": [
    "import warnings\n",
    "warnings.filterwarnings('ignore')\n",
    "\n",
    "import pandas as pd\n",
    "import matplotlib.pyplot as plt\n",
    "import numpy as np\n",
    "import seaborn as sns\n",
    "\n",
    "df = pd.read_csv('/kaggle/input/adp-p8/problem1.csv')\n",
    "\n",
    "df.head()"
   ]
  },
  {
   "cell_type": "code",
   "execution_count": 13,
   "metadata": {
    "execution": {
     "iopub.execute_input": "2023-08-28T21:40:23.977711Z",
     "iopub.status.busy": "2023-08-28T21:40:23.977284Z",
     "iopub.status.idle": "2023-08-28T21:40:23.994238Z",
     "shell.execute_reply": "2023-08-28T21:40:23.992803Z",
     "shell.execute_reply.started": "2023-08-28T21:40:23.977676Z"
    }
   },
   "outputs": [
    {
     "name": "stdout",
     "output_type": "stream",
     "text": [
      "<class 'pandas.core.frame.DataFrame'>\n",
      "RangeIndex: 395 entries, 0 to 394\n",
      "Data columns (total 12 columns):\n",
      " #   Column      Non-Null Count  Dtype  \n",
      "---  ------      --------------  -----  \n",
      " 0   sex         395 non-null    object \n",
      " 1   age         392 non-null    float64\n",
      " 2   Pstatus     395 non-null    object \n",
      " 3   Fedu        395 non-null    int64  \n",
      " 4   Medu        395 non-null    int64  \n",
      " 5   guardian    395 non-null    object \n",
      " 6   studytime   395 non-null    int64  \n",
      " 7   traveltime  392 non-null    float64\n",
      " 8   failures    395 non-null    int64  \n",
      " 9   famrel      395 non-null    int64  \n",
      " 10  freetime    390 non-null    float64\n",
      " 11  absences    395 non-null    int64  \n",
      "dtypes: float64(3), int64(6), object(3)\n",
      "memory usage: 37.2+ KB\n"
     ]
    }
   ],
   "source": [
    "df.info()"
   ]
  },
  {
   "cell_type": "markdown",
   "metadata": {},
   "source": [
    "age, traveltime, freetime에 결측치 있는 것 확인 완료"
   ]
  },
  {
   "cell_type": "code",
   "execution_count": 14,
   "metadata": {
    "execution": {
     "iopub.execute_input": "2023-08-28T21:40:24.285078Z",
     "iopub.status.busy": "2023-08-28T21:40:24.284606Z",
     "iopub.status.idle": "2023-08-28T21:40:24.333311Z",
     "shell.execute_reply": "2023-08-28T21:40:24.331955Z",
     "shell.execute_reply.started": "2023-08-28T21:40:24.285038Z"
    }
   },
   "outputs": [
    {
     "data": {
      "text/html": [
       "<div>\n",
       "<style scoped>\n",
       "    .dataframe tbody tr th:only-of-type {\n",
       "        vertical-align: middle;\n",
       "    }\n",
       "\n",
       "    .dataframe tbody tr th {\n",
       "        vertical-align: top;\n",
       "    }\n",
       "\n",
       "    .dataframe thead th {\n",
       "        text-align: right;\n",
       "    }\n",
       "</style>\n",
       "<table border=\"1\" class=\"dataframe\">\n",
       "  <thead>\n",
       "    <tr style=\"text-align: right;\">\n",
       "      <th></th>\n",
       "      <th>age</th>\n",
       "      <th>Fedu</th>\n",
       "      <th>Medu</th>\n",
       "      <th>studytime</th>\n",
       "      <th>traveltime</th>\n",
       "      <th>failures</th>\n",
       "      <th>famrel</th>\n",
       "      <th>freetime</th>\n",
       "      <th>absences</th>\n",
       "    </tr>\n",
       "  </thead>\n",
       "  <tbody>\n",
       "    <tr>\n",
       "      <th>count</th>\n",
       "      <td>392.000000</td>\n",
       "      <td>395.000000</td>\n",
       "      <td>395.000000</td>\n",
       "      <td>395.000000</td>\n",
       "      <td>392.000000</td>\n",
       "      <td>395.000000</td>\n",
       "      <td>395.000000</td>\n",
       "      <td>390.000000</td>\n",
       "      <td>395.000000</td>\n",
       "    </tr>\n",
       "    <tr>\n",
       "      <th>mean</th>\n",
       "      <td>16.698980</td>\n",
       "      <td>2.521519</td>\n",
       "      <td>2.749367</td>\n",
       "      <td>2.035443</td>\n",
       "      <td>1.446429</td>\n",
       "      <td>0.334177</td>\n",
       "      <td>3.944304</td>\n",
       "      <td>3.233333</td>\n",
       "      <td>5.708861</td>\n",
       "    </tr>\n",
       "    <tr>\n",
       "      <th>std</th>\n",
       "      <td>1.279865</td>\n",
       "      <td>1.088201</td>\n",
       "      <td>1.094735</td>\n",
       "      <td>0.839240</td>\n",
       "      <td>0.695022</td>\n",
       "      <td>0.743651</td>\n",
       "      <td>0.896659</td>\n",
       "      <td>1.000985</td>\n",
       "      <td>8.003096</td>\n",
       "    </tr>\n",
       "    <tr>\n",
       "      <th>min</th>\n",
       "      <td>15.000000</td>\n",
       "      <td>0.000000</td>\n",
       "      <td>0.000000</td>\n",
       "      <td>1.000000</td>\n",
       "      <td>1.000000</td>\n",
       "      <td>0.000000</td>\n",
       "      <td>1.000000</td>\n",
       "      <td>1.000000</td>\n",
       "      <td>0.000000</td>\n",
       "    </tr>\n",
       "    <tr>\n",
       "      <th>25%</th>\n",
       "      <td>16.000000</td>\n",
       "      <td>2.000000</td>\n",
       "      <td>2.000000</td>\n",
       "      <td>1.000000</td>\n",
       "      <td>1.000000</td>\n",
       "      <td>0.000000</td>\n",
       "      <td>4.000000</td>\n",
       "      <td>3.000000</td>\n",
       "      <td>0.000000</td>\n",
       "    </tr>\n",
       "    <tr>\n",
       "      <th>50%</th>\n",
       "      <td>17.000000</td>\n",
       "      <td>2.000000</td>\n",
       "      <td>3.000000</td>\n",
       "      <td>2.000000</td>\n",
       "      <td>1.000000</td>\n",
       "      <td>0.000000</td>\n",
       "      <td>4.000000</td>\n",
       "      <td>3.000000</td>\n",
       "      <td>4.000000</td>\n",
       "    </tr>\n",
       "    <tr>\n",
       "      <th>75%</th>\n",
       "      <td>18.000000</td>\n",
       "      <td>3.000000</td>\n",
       "      <td>4.000000</td>\n",
       "      <td>2.000000</td>\n",
       "      <td>2.000000</td>\n",
       "      <td>0.000000</td>\n",
       "      <td>5.000000</td>\n",
       "      <td>4.000000</td>\n",
       "      <td>8.000000</td>\n",
       "    </tr>\n",
       "    <tr>\n",
       "      <th>max</th>\n",
       "      <td>22.000000</td>\n",
       "      <td>4.000000</td>\n",
       "      <td>4.000000</td>\n",
       "      <td>4.000000</td>\n",
       "      <td>4.000000</td>\n",
       "      <td>3.000000</td>\n",
       "      <td>5.000000</td>\n",
       "      <td>5.000000</td>\n",
       "      <td>75.000000</td>\n",
       "    </tr>\n",
       "  </tbody>\n",
       "</table>\n",
       "</div>"
      ],
      "text/plain": [
       "              age        Fedu        Medu   studytime  traveltime    failures  \\\n",
       "count  392.000000  395.000000  395.000000  395.000000  392.000000  395.000000   \n",
       "mean    16.698980    2.521519    2.749367    2.035443    1.446429    0.334177   \n",
       "std      1.279865    1.088201    1.094735    0.839240    0.695022    0.743651   \n",
       "min     15.000000    0.000000    0.000000    1.000000    1.000000    0.000000   \n",
       "25%     16.000000    2.000000    2.000000    1.000000    1.000000    0.000000   \n",
       "50%     17.000000    2.000000    3.000000    2.000000    1.000000    0.000000   \n",
       "75%     18.000000    3.000000    4.000000    2.000000    2.000000    0.000000   \n",
       "max     22.000000    4.000000    4.000000    4.000000    4.000000    3.000000   \n",
       "\n",
       "           famrel    freetime    absences  \n",
       "count  395.000000  390.000000  395.000000  \n",
       "mean     3.944304    3.233333    5.708861  \n",
       "std      0.896659    1.000985    8.003096  \n",
       "min      1.000000    1.000000    0.000000  \n",
       "25%      4.000000    3.000000    0.000000  \n",
       "50%      4.000000    3.000000    4.000000  \n",
       "75%      5.000000    4.000000    8.000000  \n",
       "max      5.000000    5.000000   75.000000  "
      ]
     },
     "execution_count": 14,
     "metadata": {},
     "output_type": "execute_result"
    }
   ],
   "source": [
    "df.describe()"
   ]
  },
  {
   "cell_type": "code",
   "execution_count": 15,
   "metadata": {
    "execution": {
     "iopub.execute_input": "2023-08-28T21:40:24.427781Z",
     "iopub.status.busy": "2023-08-28T21:40:24.427324Z",
     "iopub.status.idle": "2023-08-28T21:40:26.895160Z",
     "shell.execute_reply": "2023-08-28T21:40:26.893893Z",
     "shell.execute_reply.started": "2023-08-28T21:40:24.427732Z"
    }
   },
   "outputs": [
    {
     "data": {
      "image/png": "[encoded data removed]",
      "text/plain": [
       "<Figure size 432x288 with 1 Axes>"
      ]
     },
     "metadata": {
      "needs_background": "light"
     },
     "output_type": "display_data"
    },
    {
     "data": {
      "image/png": "[encoded data removed]",
      "text/plain": [
       "<Figure size 432x288 with 1 Axes>"
      ]
     },
     "metadata": {
      "needs_background": "light"
     },
     "output_type": "display_data"
    },
    {
     "data": {
      "image/png": "[encoded data removed]",
      "text/plain": [
       "<Figure size 432x288 with 1 Axes>"
      ]
     },
     "metadata": {
      "needs_background": "light"
     },
     "output_type": "display_data"
    },
    {
     "data": {
      "image/png": "[encoded data removed]",
      "text/plain": [
       "<Figure size 432x288 with 1 Axes>"
      ]
     },
     "metadata": {
      "needs_background": "light"
     },
     "output_type": "display_data"
    },
    {
     "data": {
      "image/png": "[encoded data removed]",
      "text/plain": [
       "<Figure size 432x288 with 1 Axes>"
      ]
     },
     "metadata": {
      "needs_background": "light"
     },
     "output_type": "display_data"
    },
    {
     "data": {
      "image/png": "[encoded data removed]",
      "text/plain": [
       "<Figure size 432x288 with 1 Axes>"
      ]
     },
     "metadata": {
      "needs_background": "light"
     },
     "output_type": "display_data"
    },
    {
     "data": {
      "image/png": "[encoded data removed]",
      "text/plain": [
       "<Figure size 432x288 with 1 Axes>"
      ]
     },
     "metadata": {
      "needs_background": "light"
     },
     "output_type": "display_data"
    },
    {
     "data": {
      "image/png": "[encoded data removed]",
      "text/plain": [
       "<Figure size 432x288 with 1 Axes>"
      ]
     },
     "metadata": {
      "needs_background": "light"
     },
     "output_type": "display_data"
    },
    {
     "data": {
      "image/png": "[encoded data removed]",
      "text/plain": [
       "<Figure size 432x288 with 1 Axes>"
      ]
     },
     "metadata": {
      "needs_background": "light"
     },
     "output_type": "display_data"
    },
    {
     "data": {
      "image/png": "[encoded data removed]",
      "text/plain": [
       "<Figure size 432x288 with 1 Axes>"
      ]
     },
     "metadata": {
      "needs_background": "light"
     },
     "output_type": "display_data"
    },
    {
     "data": {
      "image/png": "[encoded data removed]",
      "text/plain": [
       "<Figure size 432x288 with 1 Axes>"
      ]
     },
     "metadata": {
      "needs_background": "light"
     },
     "output_type": "display_data"
    },
    {
     "data": {
      "image/png": "[encoded data removed]",
      "text/plain": [
       "<Figure size 432x288 with 1 Axes>"
      ]
     },
     "metadata": {
      "needs_background": "light"
     },
     "output_type": "display_data"
    }
   ],
   "source": [
    "# 모두 연속형 변수가 아니므로, 히스토그램 하나씩 그리기\n",
    "for col in df.columns:\n",
    "    df[col].hist()\n",
    "    plt.title(col)\n",
    "    plt.ylabel('cnt')\n",
    "    plt.show()"
   ]
  },
  {
   "cell_type": "markdown",
   "metadata": {},
   "source": [
    "### 1-2 결측치 처리 및 변화 시각화, 추가 전처리가 필요하다면 이유와 기대효과를 설명하라"
   ]
  },
  {
   "cell_type": "code",
   "execution_count": 16,
   "metadata": {
    "execution": {
     "iopub.execute_input": "2023-08-28T21:40:26.897925Z",
     "iopub.status.busy": "2023-08-28T21:40:26.897516Z",
     "iopub.status.idle": "2023-08-28T21:40:26.907516Z",
     "shell.execute_reply": "2023-08-28T21:40:26.906696Z",
     "shell.execute_reply.started": "2023-08-28T21:40:26.897889Z"
    }
   },
   "outputs": [
    {
     "data": {
      "text/plain": [
       "sex           0\n",
       "age           3\n",
       "Pstatus       0\n",
       "Fedu          0\n",
       "Medu          0\n",
       "guardian      0\n",
       "studytime     0\n",
       "traveltime    3\n",
       "failures      0\n",
       "famrel        0\n",
       "freetime      5\n",
       "absences      0\n",
       "dtype: int64"
      ]
     },
     "execution_count": 16,
     "metadata": {},
     "output_type": "execute_result"
    }
   ],
   "source": [
    "# 결측치 확인\n",
    "df.isnull().sum()"
   ]
  },
  {
   "cell_type": "code",
   "execution_count": 17,
   "metadata": {
    "execution": {
     "iopub.execute_input": "2023-08-28T21:40:26.909394Z",
     "iopub.status.busy": "2023-08-28T21:40:26.908859Z",
     "iopub.status.idle": "2023-08-28T21:40:26.926750Z",
     "shell.execute_reply": "2023-08-28T21:40:26.925517Z",
     "shell.execute_reply.started": "2023-08-28T21:40:26.909362Z"
    }
   },
   "outputs": [
    {
     "data": {
      "text/plain": [
       "sex           0\n",
       "age           0\n",
       "Pstatus       0\n",
       "Fedu          0\n",
       "Medu          0\n",
       "guardian      0\n",
       "studytime     0\n",
       "traveltime    0\n",
       "failures      0\n",
       "famrel        0\n",
       "freetime      0\n",
       "absences      0\n",
       "dtype: int64"
      ]
     },
     "execution_count": 17,
     "metadata": {},
     "output_type": "execute_result"
    }
   ],
   "source": [
    "# 결측치를 최빈값으로 대체\n",
    "for col in ['age', 'traveltime', 'freetime']:\n",
    "    df[col].fillna(df[col].mode()[0], inplace=True)\n",
    "    \n",
    "df.isnull().sum()"
   ]
  },
  {
   "cell_type": "markdown",
   "metadata": {},
   "source": [
    "혹시나 해서 이상치가 있을까 싶어 상자그림으로 확인"
   ]
  },
  {
   "cell_type": "code",
   "execution_count": 18,
   "metadata": {
    "execution": {
     "iopub.execute_input": "2023-08-28T21:40:27.587138Z",
     "iopub.status.busy": "2023-08-28T21:40:27.586701Z",
     "iopub.status.idle": "2023-08-28T21:40:28.649723Z",
     "shell.execute_reply": "2023-08-28T21:40:28.648582Z",
     "shell.execute_reply.started": "2023-08-28T21:40:27.587101Z"
    }
   },
   "outputs": [
    {
     "data": {
      "image/png": "[encoded data removed]",
      "text/plain": [
       "<Figure size 1440x1440 with 9 Axes>"
      ]
     },
     "metadata": {
      "needs_background": "light"
     },
     "output_type": "display_data"
    }
   ],
   "source": [
    "plt.figure(figsize = (20, 20))\n",
    "plt.subplot(3, 3, 1)\n",
    "plt.boxplot(df['age'])\n",
    "plt.xlabel('age')\n",
    "\n",
    "plt.subplot(3, 3, 2)\n",
    "plt.boxplot(df['Fedu'])\n",
    "plt.xlabel('Fedu')\n",
    "\n",
    "plt.subplot(3, 3, 3)\n",
    "plt.boxplot(df['Medu'])\n",
    "plt.xlabel('Medu')\n",
    "\n",
    "plt.subplot(3, 3, 4)\n",
    "plt.boxplot(df['studytime'])\n",
    "plt.xlabel('studytime')\n",
    "\n",
    "plt.subplot(3, 3, 5)\n",
    "plt.boxplot(df['traveltime'])\n",
    "plt.xlabel('traveltime')\n",
    "\n",
    "plt.subplot(3, 3, 6)\n",
    "plt.boxplot(df['failures'])\n",
    "plt.xlabel('failures')\n",
    "\n",
    "plt.subplot(3, 3, 7)\n",
    "plt.boxplot(df['famrel'])\n",
    "plt.xlabel('famrel')\n",
    "\n",
    "plt.subplot(3, 3, 8)\n",
    "plt.boxplot(df['freetime'])\n",
    "plt.xlabel('freetime')\n",
    "\n",
    "plt.subplot(3, 3, 9)\n",
    "plt.boxplot(df['absences'])\n",
    "plt.xlabel('absences')\n",
    "\n",
    "plt.show()"
   ]
  },
  {
   "cell_type": "markdown",
   "metadata": {},
   "source": [
    "상자그림을 봐도 이상치가 있다고는 판단할 수 없을 것 같다.\n",
    "\n",
    "~이제 값이 문자인 변수들을 원핫인코딩해주자.~\n",
    "\n",
    "값이 문자인 변수들은 라벨인코딩을 해준다."
   ]
  },
  {
   "cell_type": "code",
   "execution_count": 32,
   "metadata": {
    "execution": {
     "iopub.execute_input": "2023-08-28T21:44:55.319839Z",
     "iopub.status.busy": "2023-08-28T21:44:55.319409Z",
     "iopub.status.idle": "2023-08-28T21:44:55.326221Z",
     "shell.execute_reply": "2023-08-28T21:44:55.325085Z",
     "shell.execute_reply.started": "2023-08-28T21:44:55.319802Z"
    }
   },
   "outputs": [],
   "source": [
    "# sex : F(0), M(1)\n",
    "# Pstatus : T(0), A(1)\n",
    "# guardian : mother(0), father(1), other(2)\n",
    "df.replace(to_replace = ['F', 'M', 'T', 'A', 'mother', 'father', 'other'],\n",
    "          value = [0, 1, 0, 1, 0, 1, 2], inplace = True)"
   ]
  },
  {
   "cell_type": "code",
   "execution_count": 33,
   "metadata": {
    "execution": {
     "iopub.execute_input": "2023-08-28T21:44:57.981119Z",
     "iopub.status.busy": "2023-08-28T21:44:57.980724Z",
     "iopub.status.idle": "2023-08-28T21:44:58.005882Z",
     "shell.execute_reply": "2023-08-28T21:44:58.004593Z",
     "shell.execute_reply.started": "2023-08-28T21:44:57.981088Z"
    }
   },
   "outputs": [
    {
     "data": {
      "text/html": [
       "<div>\n",
       "<style scoped>\n",
       "    .dataframe tbody tr th:only-of-type {\n",
       "        vertical-align: middle;\n",
       "    }\n",
       "\n",
       "    .dataframe tbody tr th {\n",
       "        vertical-align: top;\n",
       "    }\n",
       "\n",
       "    .dataframe thead th {\n",
       "        text-align: right;\n",
       "    }\n",
       "</style>\n",
       "<table border=\"1\" class=\"dataframe\">\n",
       "  <thead>\n",
       "    <tr style=\"text-align: right;\">\n",
       "      <th></th>\n",
       "      <th>sex</th>\n",
       "      <th>age</th>\n",
       "      <th>Pstatus</th>\n",
       "      <th>Fedu</th>\n",
       "      <th>Medu</th>\n",
       "      <th>guardian</th>\n",
       "      <th>studytime</th>\n",
       "      <th>traveltime</th>\n",
       "      <th>failures</th>\n",
       "      <th>famrel</th>\n",
       "      <th>freetime</th>\n",
       "      <th>absences</th>\n",
       "    </tr>\n",
       "  </thead>\n",
       "  <tbody>\n",
       "    <tr>\n",
       "      <th>0</th>\n",
       "      <td>0</td>\n",
       "      <td>18.0</td>\n",
       "      <td>1</td>\n",
       "      <td>4</td>\n",
       "      <td>4</td>\n",
       "      <td>0</td>\n",
       "      <td>2</td>\n",
       "      <td>2.0</td>\n",
       "      <td>0</td>\n",
       "      <td>4</td>\n",
       "      <td>3.0</td>\n",
       "      <td>6</td>\n",
       "    </tr>\n",
       "    <tr>\n",
       "      <th>1</th>\n",
       "      <td>0</td>\n",
       "      <td>17.0</td>\n",
       "      <td>0</td>\n",
       "      <td>1</td>\n",
       "      <td>1</td>\n",
       "      <td>1</td>\n",
       "      <td>2</td>\n",
       "      <td>1.0</td>\n",
       "      <td>0</td>\n",
       "      <td>5</td>\n",
       "      <td>3.0</td>\n",
       "      <td>4</td>\n",
       "    </tr>\n",
       "    <tr>\n",
       "      <th>2</th>\n",
       "      <td>0</td>\n",
       "      <td>15.0</td>\n",
       "      <td>0</td>\n",
       "      <td>1</td>\n",
       "      <td>1</td>\n",
       "      <td>0</td>\n",
       "      <td>2</td>\n",
       "      <td>1.0</td>\n",
       "      <td>3</td>\n",
       "      <td>4</td>\n",
       "      <td>3.0</td>\n",
       "      <td>10</td>\n",
       "    </tr>\n",
       "    <tr>\n",
       "      <th>3</th>\n",
       "      <td>0</td>\n",
       "      <td>15.0</td>\n",
       "      <td>0</td>\n",
       "      <td>2</td>\n",
       "      <td>4</td>\n",
       "      <td>0</td>\n",
       "      <td>3</td>\n",
       "      <td>1.0</td>\n",
       "      <td>0</td>\n",
       "      <td>3</td>\n",
       "      <td>2.0</td>\n",
       "      <td>2</td>\n",
       "    </tr>\n",
       "    <tr>\n",
       "      <th>4</th>\n",
       "      <td>0</td>\n",
       "      <td>16.0</td>\n",
       "      <td>0</td>\n",
       "      <td>3</td>\n",
       "      <td>3</td>\n",
       "      <td>1</td>\n",
       "      <td>2</td>\n",
       "      <td>1.0</td>\n",
       "      <td>0</td>\n",
       "      <td>4</td>\n",
       "      <td>3.0</td>\n",
       "      <td>4</td>\n",
       "    </tr>\n",
       "    <tr>\n",
       "      <th>...</th>\n",
       "      <td>...</td>\n",
       "      <td>...</td>\n",
       "      <td>...</td>\n",
       "      <td>...</td>\n",
       "      <td>...</td>\n",
       "      <td>...</td>\n",
       "      <td>...</td>\n",
       "      <td>...</td>\n",
       "      <td>...</td>\n",
       "      <td>...</td>\n",
       "      <td>...</td>\n",
       "      <td>...</td>\n",
       "    </tr>\n",
       "    <tr>\n",
       "      <th>390</th>\n",
       "      <td>1</td>\n",
       "      <td>20.0</td>\n",
       "      <td>1</td>\n",
       "      <td>2</td>\n",
       "      <td>2</td>\n",
       "      <td>2</td>\n",
       "      <td>2</td>\n",
       "      <td>1.0</td>\n",
       "      <td>2</td>\n",
       "      <td>5</td>\n",
       "      <td>5.0</td>\n",
       "      <td>11</td>\n",
       "    </tr>\n",
       "    <tr>\n",
       "      <th>391</th>\n",
       "      <td>1</td>\n",
       "      <td>17.0</td>\n",
       "      <td>0</td>\n",
       "      <td>1</td>\n",
       "      <td>3</td>\n",
       "      <td>0</td>\n",
       "      <td>1</td>\n",
       "      <td>2.0</td>\n",
       "      <td>0</td>\n",
       "      <td>2</td>\n",
       "      <td>4.0</td>\n",
       "      <td>3</td>\n",
       "    </tr>\n",
       "    <tr>\n",
       "      <th>392</th>\n",
       "      <td>1</td>\n",
       "      <td>21.0</td>\n",
       "      <td>0</td>\n",
       "      <td>1</td>\n",
       "      <td>1</td>\n",
       "      <td>2</td>\n",
       "      <td>1</td>\n",
       "      <td>1.0</td>\n",
       "      <td>3</td>\n",
       "      <td>5</td>\n",
       "      <td>5.0</td>\n",
       "      <td>3</td>\n",
       "    </tr>\n",
       "    <tr>\n",
       "      <th>393</th>\n",
       "      <td>1</td>\n",
       "      <td>18.0</td>\n",
       "      <td>0</td>\n",
       "      <td>2</td>\n",
       "      <td>3</td>\n",
       "      <td>0</td>\n",
       "      <td>1</td>\n",
       "      <td>3.0</td>\n",
       "      <td>0</td>\n",
       "      <td>4</td>\n",
       "      <td>4.0</td>\n",
       "      <td>0</td>\n",
       "    </tr>\n",
       "    <tr>\n",
       "      <th>394</th>\n",
       "      <td>1</td>\n",
       "      <td>19.0</td>\n",
       "      <td>0</td>\n",
       "      <td>1</td>\n",
       "      <td>1</td>\n",
       "      <td>1</td>\n",
       "      <td>1</td>\n",
       "      <td>1.0</td>\n",
       "      <td>0</td>\n",
       "      <td>3</td>\n",
       "      <td>2.0</td>\n",
       "      <td>5</td>\n",
       "    </tr>\n",
       "  </tbody>\n",
       "</table>\n",
       "<p>395 rows × 12 columns</p>\n",
       "</div>"
      ],
      "text/plain": [
       "     sex   age  Pstatus  Fedu  Medu  guardian  studytime  traveltime  \\\n",
       "0      0  18.0        1     4     4         0          2         2.0   \n",
       "1      0  17.0        0     1     1         1          2         1.0   \n",
       "2      0  15.0        0     1     1         0          2         1.0   \n",
       "3      0  15.0        0     2     4         0          3         1.0   \n",
       "4      0  16.0        0     3     3         1          2         1.0   \n",
       "..   ...   ...      ...   ...   ...       ...        ...         ...   \n",
       "390    1  20.0        1     2     2         2          2         1.0   \n",
       "391    1  17.0        0     1     3         0          1         2.0   \n",
       "392    1  21.0        0     1     1         2          1         1.0   \n",
       "393    1  18.0        0     2     3         0          1         3.0   \n",
       "394    1  19.0        0     1     1         1          1         1.0   \n",
       "\n",
       "     failures  famrel  freetime  absences  \n",
       "0           0       4       3.0         6  \n",
       "1           0       5       3.0         4  \n",
       "2           3       4       3.0        10  \n",
       "3           0       3       2.0         2  \n",
       "4           0       4       3.0         4  \n",
       "..        ...     ...       ...       ...  \n",
       "390         2       5       5.0        11  \n",
       "391         0       2       4.0         3  \n",
       "392         3       5       5.0         3  \n",
       "393         0       4       4.0         0  \n",
       "394         0       3       2.0         5  \n",
       "\n",
       "[395 rows x 12 columns]"
      ]
     },
     "execution_count": 33,
     "metadata": {},
     "output_type": "execute_result"
    }
   ],
   "source": [
    "df"
   ]
  },
  {
   "cell_type": "markdown",
   "metadata": {},
   "source": [
    "이제 상관계수를 통해 다중공선성이 의심되는 변수들이 있는지 확인한다."
   ]
  },
  {
   "cell_type": "code",
   "execution_count": 34,
   "metadata": {
    "execution": {
     "iopub.execute_input": "2023-08-28T21:45:07.914782Z",
     "iopub.status.busy": "2023-08-28T21:45:07.913914Z",
     "iopub.status.idle": "2023-08-28T21:45:08.846007Z",
     "shell.execute_reply": "2023-08-28T21:45:08.844701Z",
     "shell.execute_reply.started": "2023-08-28T21:45:07.914743Z"
    }
   },
   "outputs": [
    {
     "data": {
      "image/png": "[encoded data removed]",
      "text/plain": [
       "<Figure size 720x720 with 2 Axes>"
      ]
     },
     "metadata": {
      "needs_background": "light"
     },
     "output_type": "display_data"
    }
   ],
   "source": [
    "df_corr = df.corr(method = 'pearson')\n",
    "plt.figure(figsize = (10, 10))\n",
    "sns.heatmap(df_corr, cmap = 'RdBu_r', annot = True, fmt = '.0%')\n",
    "plt.show()"
   ]
  },
  {
   "cell_type": "markdown",
   "metadata": {},
   "source": [
    "Fedu와 Medu 변수가 상관관계가 높은데, absences에는 Medu가 미치는 영향이 크므로 Fedu 변수를 제거한다."
   ]
  },
  {
   "cell_type": "code",
   "execution_count": 35,
   "metadata": {
    "execution": {
     "iopub.execute_input": "2023-08-28T21:46:04.144002Z",
     "iopub.status.busy": "2023-08-28T21:46:04.143588Z",
     "iopub.status.idle": "2023-08-28T21:46:04.153041Z",
     "shell.execute_reply": "2023-08-28T21:46:04.151743Z",
     "shell.execute_reply.started": "2023-08-28T21:46:04.143969Z"
    }
   },
   "outputs": [
    {
     "data": {
      "text/plain": [
       "0      4\n",
       "1      1\n",
       "2      1\n",
       "3      2\n",
       "4      3\n",
       "      ..\n",
       "390    2\n",
       "391    1\n",
       "392    1\n",
       "393    2\n",
       "394    1\n",
       "Name: Fedu, Length: 395, dtype: int64"
      ]
     },
     "execution_count": 35,
     "metadata": {},
     "output_type": "execute_result"
    }
   ],
   "source": [
    "df.pop('Fedu')"
   ]
  },
  {
   "cell_type": "markdown",
   "metadata": {},
   "source": [
    "### 1-3 결석일수 예측모델을 2개 제시하고 선택한 근거 설명"
   ]
  },
  {
   "cell_type": "markdown",
   "metadata": {},
   "source": [
    "결석일수 예측모델로 KNN과 랜덤포레스트를 제시한다.\n",
    "\n",
    "**KNN**\n",
    "* 유사한 특성을 가진 데이터는 유사한 범주에 속하는 경향이 있다는 가정으로 데이터를 분류하는 머신러닝 기법이다.\n",
    "* KNN의 기본 원리\n",
    "  * 학습데이터를 그대로 저장한 뒤 새로운 데이터 포인트에 대해 학습데이터에서 가장 가까운 k개의 데이터 포인트를 찾아 그것들로부터 새로운 데이터포인트의 범주를 라벨링\n",
    "* 단순한 방식이지만 손글씨, 위성 이미지 분석 등 다양한 분류 및 회귀 문제에서 높은 예측력을 보인다.\n",
    "* 또한, 비모수적인 방식을 사용하기 때문에 결정경계가 매우 불규칙한 분류 상황에서 종종 높은 예측성능을 보인다."
   ]
  },
  {
   "cell_type": "code",
   "execution_count": 36,
   "metadata": {
    "execution": {
     "iopub.execute_input": "2023-08-28T21:46:07.706778Z",
     "iopub.status.busy": "2023-08-28T21:46:07.705545Z",
     "iopub.status.idle": "2023-08-28T21:46:07.712528Z",
     "shell.execute_reply": "2023-08-28T21:46:07.711443Z",
     "shell.execute_reply.started": "2023-08-28T21:46:07.706729Z"
    }
   },
   "outputs": [],
   "source": [
    "y = df.pop('absences')\n",
    "x = df"
   ]
  },
  {
   "cell_type": "code",
   "execution_count": 42,
   "metadata": {
    "execution": {
     "iopub.execute_input": "2023-08-28T21:50:36.199957Z",
     "iopub.status.busy": "2023-08-28T21:50:36.199505Z",
     "iopub.status.idle": "2023-08-28T21:50:36.206898Z",
     "shell.execute_reply": "2023-08-28T21:50:36.206079Z",
     "shell.execute_reply.started": "2023-08-28T21:50:36.199921Z"
    }
   },
   "outputs": [],
   "source": [
    "# train_test_split\n",
    "\n",
    "from sklearn.model_selection import train_test_split\n",
    "\n",
    "x_train, x_test, y_train, y_test = train_test_split(x, y, test_size = 0.3, random_state = 731)"
   ]
  },
  {
   "cell_type": "markdown",
   "metadata": {},
   "source": [
    "scaling은 할 수 있는 것이 없을 것 같아 생략한다."
   ]
  },
  {
   "cell_type": "markdown",
   "metadata": {},
   "source": [
    "### 1-4 선정한 모델 2가지 생성 및 모델의 평가 기준을 선정하고 선정 이유 설명"
   ]
  },
  {
   "cell_type": "markdown",
   "metadata": {},
   "source": [
    "평가 기준은 정확도(accuracy)로 한다.\n",
    "\n",
    "결석이 많을 것으로 예측하는 학생에게 조치를 취하기 위해 예측한 것 중 얼마나 맞혔는지가 중요하다고 생각한다."
   ]
  },
  {
   "cell_type": "code",
   "execution_count": 53,
   "metadata": {
    "execution": {
     "iopub.execute_input": "2023-08-28T21:58:37.329557Z",
     "iopub.status.busy": "2023-08-28T21:58:37.329127Z",
     "iopub.status.idle": "2023-08-28T21:58:38.039211Z",
     "shell.execute_reply": "2023-08-28T21:58:38.038063Z",
     "shell.execute_reply.started": "2023-08-28T21:58:37.329521Z"
    }
   },
   "outputs": [
    {
     "name": "stdout",
     "output_type": "stream",
     "text": [
      "best params :  {'metric': 'manhattan', 'n_neighbors': 19, 'weights': 'uniform'}\n",
      "accuracy : 0.2572\n"
     ]
    }
   ],
   "source": [
    "from sklearn.model_selection import GridSearchCV\n",
    "\n",
    "from sklearn.neighbors import KNeighborsClassifier\n",
    "\n",
    "KNC = KNeighborsClassifier()\n",
    "\n",
    "param_KNC = {\"n_neighbors\" : [3, 7, 11, 15, 19],\n",
    "           \"weights\" : ['distance', 'uniform'],\n",
    "           \"metric\" : ['monkowski', 'euclidean', 'mahalanobis', 'manhattan', 'cosine_similarity']}\n",
    "\n",
    "gscv_KNC = GridSearchCV(estimator = KNC, param_grid = param_KNC, scoring = 'accuracy', cv = 3)\n",
    "\n",
    "gscv_KNC.fit(x_train, y_train)\n",
    "\n",
    "print('best params : ', gscv_KNC.best_params_)\n",
    "print('accuracy : {:.4f}'.format(gscv_KNC.best_score_))"
   ]
  },
  {
   "cell_type": "code",
   "execution_count": 59,
   "metadata": {
    "execution": {
     "iopub.execute_input": "2023-08-28T22:01:42.913047Z",
     "iopub.status.busy": "2023-08-28T22:01:42.912610Z",
     "iopub.status.idle": "2023-08-28T22:01:42.940506Z",
     "shell.execute_reply": "2023-08-28T22:01:42.939322Z",
     "shell.execute_reply.started": "2023-08-28T22:01:42.913012Z"
    }
   },
   "outputs": [
    {
     "name": "stdout",
     "output_type": "stream",
     "text": [
      "학습 시간 :  0.0039370059967041016 초\n",
      "정확도\t26%\n",
      "정밀도\t14%\n",
      "재현율\t26%\n",
      "F1\t18%\n"
     ]
    }
   ],
   "source": [
    "# 시간까지 해서 성능 측정\n",
    "import time\n",
    "\n",
    "KNC_best = KNeighborsClassifier(n_neighbors = 19, metric = 'manhattan', weights = 'uniform')\n",
    "\n",
    "KNC_start = time.time()\n",
    "KNC_best.fit(x_train, y_train)\n",
    "KNC_end = time.time()\n",
    "\n",
    "print(\"학습 시간 : \", KNC_end - KNC_start, \"초\")\n",
    "\n",
    "# 정확도\n",
    "KNC_pred = KNC_best.predict(x_test)\n",
    "\n",
    "from sklearn.metrics import accuracy_score, precision_score, recall_score, f1_score\n",
    "\n",
    "test_acc = accuracy_score(y_test, KNC_pred)\n",
    "test_prc = precision_score(y_test, KNC_pred, average = 'weighted')\n",
    "test_rcll = recall_score(y_test, KNC_pred, average = 'weighted')\n",
    "test_f1 = f1_score(y_test, KNC_pred, average = 'weighted')\n",
    "\n",
    "print('정확도\\t{}%'.format(round(test_acc*100), 2))\n",
    "print('정밀도\\t{}%'.format(round(test_prc*100), 2))\n",
    "print('재현율\\t{}%'.format(round(test_rcll*100), 2))\n",
    "print('F1\\t{}%'.format(round(test_f1*100), 2))"
   ]
  },
  {
   "cell_type": "code",
   "execution_count": 62,
   "metadata": {
    "execution": {
     "iopub.execute_input": "2023-08-28T22:05:24.825294Z",
     "iopub.status.busy": "2023-08-28T22:05:24.824877Z",
     "iopub.status.idle": "2023-08-28T22:06:23.102767Z",
     "shell.execute_reply": "2023-08-28T22:06:23.101891Z",
     "shell.execute_reply.started": "2023-08-28T22:05:24.825261Z"
    }
   },
   "outputs": [
    {
     "name": "stdout",
     "output_type": "stream",
     "text": [
      "best params :  {'criterion': 'entropy', 'min_samples_split': 9, 'n_estimators': 500}\n",
      "accuracy : 0.2464\n"
     ]
    }
   ],
   "source": [
    "# 2. RF(랜덤 포레스트)\n",
    "# GridSearchCV를 통한 최적의 하이퍼 파라미터 찾기\n",
    "\n",
    "from sklearn.ensemble import RandomForestClassifier\n",
    "\n",
    "rf = RandomForestClassifier(random_state=731)\n",
    "\n",
    "param_rf = {\"n_estimators\" : [10, 50, 100, 200, 300, 500],\n",
    "           \"min_samples_split\" : [3, 5, 7, 9],\n",
    "           \"criterion\" : ['gini', 'entropy']}\n",
    "\n",
    "gscv_rf = GridSearchCV(estimator = rf, param_grid = param_rf, scoring = 'accuracy', cv = 3)\n",
    "\n",
    "gscv_rf.fit(x_train, y_train)\n",
    "\n",
    "print('best params : ', gscv_rf.best_params_)\n",
    "print('accuracy : {:.4f}'.format(gscv_clf.best_score_))"
   ]
  },
  {
   "cell_type": "code",
   "execution_count": 64,
   "metadata": {
    "execution": {
     "iopub.execute_input": "2023-08-28T22:07:33.709832Z",
     "iopub.status.busy": "2023-08-28T22:07:33.709384Z",
     "iopub.status.idle": "2023-08-28T22:07:34.740128Z",
     "shell.execute_reply": "2023-08-28T22:07:34.739076Z",
     "shell.execute_reply.started": "2023-08-28T22:07:33.709793Z"
    }
   },
   "outputs": [
    {
     "name": "stdout",
     "output_type": "stream",
     "text": [
      "학습 시간 :  0.9436907768249512 초\n",
      "정확도\t29%\n",
      "정밀도\t17%\n",
      "재현율\t29%\n",
      "F1\t20%\n"
     ]
    }
   ],
   "source": [
    "# RF 성능평가\n",
    "\n",
    "# 시간\n",
    "rf_best = RandomForestClassifier(random_state = 731, criterion = 'entropy', n_estimators = 500, min_samples_split = 9)\n",
    "\n",
    "import time\n",
    "\n",
    "rf_start_time = time.time()\n",
    "rf_best.fit(x_train, y_train)\n",
    "rf_end_time = time.time()\n",
    "print(\"학습 시간 : \", rf_end_time - rf_start_time, \"초\")\n",
    "\n",
    "# 정확도\n",
    "rf_pred = rf_best.predict(x_test)\n",
    "\n",
    "from sklearn.metrics import accuracy_score, precision_score, recall_score, f1_score\n",
    "\n",
    "test_acc = accuracy_score(y_test, rf_pred)\n",
    "test_prc = precision_score(y_test, rf_pred, average = 'weighted')\n",
    "test_rcll = recall_score(y_test, rf_pred, average = 'weighted')\n",
    "test_f1 = f1_score(y_test, rf_pred, average = 'weighted')\n",
    "\n",
    "print('정확도\\t{}%'.format(round(test_acc*100), 2))\n",
    "print('정밀도\\t{}%'.format(round(test_prc*100), 2))\n",
    "print('재현율\\t{}%'.format(round(test_rcll*100), 2))\n",
    "print('F1\\t{}%'.format(round(test_f1*100), 2))"
   ]
  },
  {
   "cell_type": "markdown",
   "metadata": {},
   "source": [
    "딱봐도 여부를 예측하는 모델은 오버피팅 된듯\n",
    "\n",
    "주성분 분석을 통해 필요한 애들만 남겨야 겠다"
   ]
  },
  {
   "cell_type": "code",
   "execution_count": 65,
   "metadata": {
    "execution": {
     "iopub.execute_input": "2023-08-28T22:07:56.680798Z",
     "iopub.status.busy": "2023-08-28T22:07:56.680381Z",
     "iopub.status.idle": "2023-08-28T22:07:56.698482Z",
     "shell.execute_reply": "2023-08-28T22:07:56.697386Z",
     "shell.execute_reply.started": "2023-08-28T22:07:56.680764Z"
    }
   },
   "outputs": [
    {
     "name": "stdout",
     "output_type": "stream",
     "text": [
      "고윳값 :  [27.04242526 21.28754902 20.85641457 17.95189569 15.88146647 13.52655896]\n",
      "분산 설명력 :  [0.26127237 0.16190249 0.15541091 0.1151391  0.09011216 0.06536976]\n"
     ]
    }
   ],
   "source": [
    "# 주성분 분석을 통한 차원 축소 진행\n",
    "\n",
    "# 주성분 추출\n",
    "from sklearn.decomposition import PCA\n",
    "pca = PCA(n_components = 6)\n",
    "pca_fit = pca.fit(x)\n",
    "\n",
    "print('고윳값 : ', pca.singular_values_)\n",
    "print('분산 설명력 : ', pca.explained_variance_ratio_)"
   ]
  },
  {
   "cell_type": "markdown",
   "metadata": {},
   "source": [
    "6개의 주성분으로 전체 분산의 약 83% 설명이 가능하므로 차원축소 진행\n",
    "\n",
    "* 결과적으로, 11개의 설명변수에서 6개의 설명변수로 차원축소"
   ]
  },
  {
   "cell_type": "code",
   "execution_count": 69,
   "metadata": {
    "execution": {
     "iopub.execute_input": "2023-08-28T22:09:45.232488Z",
     "iopub.status.busy": "2023-08-28T22:09:45.232094Z",
     "iopub.status.idle": "2023-08-28T22:09:45.269628Z",
     "shell.execute_reply": "2023-08-28T22:09:45.268778Z",
     "shell.execute_reply.started": "2023-08-28T22:09:45.232456Z"
    }
   },
   "outputs": [
    {
     "data": {
      "text/html": [
       "<div>\n",
       "<style scoped>\n",
       "    .dataframe tbody tr th:only-of-type {\n",
       "        vertical-align: middle;\n",
       "    }\n",
       "\n",
       "    .dataframe tbody tr th {\n",
       "        vertical-align: top;\n",
       "    }\n",
       "\n",
       "    .dataframe thead th {\n",
       "        text-align: right;\n",
       "    }\n",
       "</style>\n",
       "<table border=\"1\" class=\"dataframe\">\n",
       "  <thead>\n",
       "    <tr style=\"text-align: right;\">\n",
       "      <th></th>\n",
       "      <th>pc1</th>\n",
       "      <th>pc2</th>\n",
       "      <th>pc3</th>\n",
       "      <th>pc4</th>\n",
       "      <th>pc5</th>\n",
       "      <th>pc6</th>\n",
       "    </tr>\n",
       "  </thead>\n",
       "  <tbody>\n",
       "    <tr>\n",
       "      <th>count</th>\n",
       "      <td>3.950000e+02</td>\n",
       "      <td>3.950000e+02</td>\n",
       "      <td>3.950000e+02</td>\n",
       "      <td>3.950000e+02</td>\n",
       "      <td>3.950000e+02</td>\n",
       "      <td>3.950000e+02</td>\n",
       "    </tr>\n",
       "    <tr>\n",
       "      <th>mean</th>\n",
       "      <td>-1.439074e-16</td>\n",
       "      <td>7.195369e-17</td>\n",
       "      <td>1.618958e-16</td>\n",
       "      <td>2.181096e-16</td>\n",
       "      <td>1.798842e-17</td>\n",
       "      <td>-3.597685e-17</td>\n",
       "    </tr>\n",
       "    <tr>\n",
       "      <th>std</th>\n",
       "      <td>1.362378e+00</td>\n",
       "      <td>1.072451e+00</td>\n",
       "      <td>1.050731e+00</td>\n",
       "      <td>9.044034e-01</td>\n",
       "      <td>8.000967e-01</td>\n",
       "      <td>6.814582e-01</td>\n",
       "    </tr>\n",
       "    <tr>\n",
       "      <th>min</th>\n",
       "      <td>-2.415099e+00</td>\n",
       "      <td>-2.591702e+00</td>\n",
       "      <td>-2.880945e+00</td>\n",
       "      <td>-2.404111e+00</td>\n",
       "      <td>-2.011165e+00</td>\n",
       "      <td>-1.446429e+00</td>\n",
       "    </tr>\n",
       "    <tr>\n",
       "      <th>25%</th>\n",
       "      <td>-1.070294e+00</td>\n",
       "      <td>-8.237087e-01</td>\n",
       "      <td>-6.739999e-01</td>\n",
       "      <td>-6.074071e-01</td>\n",
       "      <td>-5.244754e-01</td>\n",
       "      <td>-4.580429e-01</td>\n",
       "    </tr>\n",
       "    <tr>\n",
       "      <th>50%</th>\n",
       "      <td>-1.288142e-01</td>\n",
       "      <td>-2.291375e-02</td>\n",
       "      <td>4.205412e-03</td>\n",
       "      <td>-5.519701e-02</td>\n",
       "      <td>-5.446592e-02</td>\n",
       "      <td>-1.439230e-01</td>\n",
       "    </tr>\n",
       "    <tr>\n",
       "      <th>75%</th>\n",
       "      <td>8.307310e-01</td>\n",
       "      <td>7.876679e-01</td>\n",
       "      <td>7.312874e-01</td>\n",
       "      <td>5.220613e-01</td>\n",
       "      <td>5.082106e-01</td>\n",
       "      <td>2.910648e-01</td>\n",
       "    </tr>\n",
       "    <tr>\n",
       "      <th>max</th>\n",
       "      <td>5.426045e+00</td>\n",
       "      <td>3.250685e+00</td>\n",
       "      <td>3.060911e+00</td>\n",
       "      <td>3.157854e+00</td>\n",
       "      <td>2.520609e+00</td>\n",
       "      <td>2.856865e+00</td>\n",
       "    </tr>\n",
       "  </tbody>\n",
       "</table>\n",
       "</div>"
      ],
      "text/plain": [
       "                pc1           pc2           pc3           pc4           pc5  \\\n",
       "count  3.950000e+02  3.950000e+02  3.950000e+02  3.950000e+02  3.950000e+02   \n",
       "mean  -1.439074e-16  7.195369e-17  1.618958e-16  2.181096e-16  1.798842e-17   \n",
       "std    1.362378e+00  1.072451e+00  1.050731e+00  9.044034e-01  8.000967e-01   \n",
       "min   -2.415099e+00 -2.591702e+00 -2.880945e+00 -2.404111e+00 -2.011165e+00   \n",
       "25%   -1.070294e+00 -8.237087e-01 -6.739999e-01 -6.074071e-01 -5.244754e-01   \n",
       "50%   -1.288142e-01 -2.291375e-02  4.205412e-03 -5.519701e-02 -5.446592e-02   \n",
       "75%    8.307310e-01  7.876679e-01  7.312874e-01  5.220613e-01  5.082106e-01   \n",
       "max    5.426045e+00  3.250685e+00  3.060911e+00  3.157854e+00  2.520609e+00   \n",
       "\n",
       "                pc6  \n",
       "count  3.950000e+02  \n",
       "mean  -3.597685e-17  \n",
       "std    6.814582e-01  \n",
       "min   -1.446429e+00  \n",
       "25%   -4.580429e-01  \n",
       "50%   -1.439230e-01  \n",
       "75%    2.910648e-01  \n",
       "max    2.856865e+00  "
      ]
     },
     "execution_count": 69,
     "metadata": {},
     "output_type": "execute_result"
    }
   ],
   "source": [
    "pca = PCA(n_components = 6)\n",
    "principal_x = pd.DataFrame(pca.fit_transform(x), columns = ['pc1', 'pc2', 'pc3', 'pc4', 'pc5', 'pc6'])\n",
    "principal_x.describe()"
   ]
  },
  {
   "cell_type": "code",
   "execution_count": 70,
   "metadata": {
    "execution": {
     "iopub.execute_input": "2023-08-28T22:09:49.022650Z",
     "iopub.status.busy": "2023-08-28T22:09:49.022214Z",
     "iopub.status.idle": "2023-08-28T22:09:49.030900Z",
     "shell.execute_reply": "2023-08-28T22:09:49.029697Z",
     "shell.execute_reply.started": "2023-08-28T22:09:49.022616Z"
    }
   },
   "outputs": [],
   "source": [
    "# train_test_split\n",
    "\n",
    "from sklearn.model_selection import train_test_split\n",
    "\n",
    "x_train, x_test, y_train, y_test = train_test_split(principal_x, y, test_size = 0.3, random_state = 731)"
   ]
  },
  {
   "cell_type": "code",
   "execution_count": 71,
   "metadata": {
    "execution": {
     "iopub.execute_input": "2023-08-28T22:09:58.498664Z",
     "iopub.status.busy": "2023-08-28T22:09:58.497536Z",
     "iopub.status.idle": "2023-08-28T22:09:59.129709Z",
     "shell.execute_reply": "2023-08-28T22:09:59.128577Z",
     "shell.execute_reply.started": "2023-08-28T22:09:58.498613Z"
    }
   },
   "outputs": [
    {
     "name": "stdout",
     "output_type": "stream",
     "text": [
      "best params :  {'metric': 'euclidean', 'n_neighbors': 11, 'weights': 'uniform'}\n",
      "accuracy : 0.2464\n"
     ]
    }
   ],
   "source": [
    "from sklearn.model_selection import GridSearchCV\n",
    "\n",
    "from sklearn.neighbors import KNeighborsClassifier\n",
    "\n",
    "KNC = KNeighborsClassifier()\n",
    "\n",
    "param_KNC = {\"n_neighbors\" : [3, 7, 11, 15, 19],\n",
    "           \"weights\" : ['distance', 'uniform'],\n",
    "           \"metric\" : ['monkowski', 'euclidean', 'mahalanobis', 'manhattan', 'cosine_similarity']}\n",
    "\n",
    "gscv_KNC = GridSearchCV(estimator = KNC, param_grid = param_KNC, scoring = 'accuracy', cv = 3)\n",
    "\n",
    "gscv_KNC.fit(x_train, y_train)\n",
    "\n",
    "print('best params : ', gscv_KNC.best_params_)\n",
    "print('accuracy : {:.4f}'.format(gscv_KNC.best_score_))"
   ]
  },
  {
   "cell_type": "code",
   "execution_count": 72,
   "metadata": {
    "execution": {
     "iopub.execute_input": "2023-08-28T22:10:31.544801Z",
     "iopub.status.busy": "2023-08-28T22:10:31.544397Z",
     "iopub.status.idle": "2023-08-28T22:10:31.571322Z",
     "shell.execute_reply": "2023-08-28T22:10:31.570255Z",
     "shell.execute_reply.started": "2023-08-28T22:10:31.544768Z"
    }
   },
   "outputs": [
    {
     "name": "stdout",
     "output_type": "stream",
     "text": [
      "학습 시간 :  0.002628803253173828 초\n",
      "정확도\t29%\n",
      "정밀도\t18%\n",
      "재현율\t29%\n",
      "F1\t21%\n"
     ]
    }
   ],
   "source": [
    "# 시간까지 해서 성능 측정\n",
    "import time\n",
    "\n",
    "KNC_best = KNeighborsClassifier(n_neighbors = 11, metric = 'euclidean', weights = 'uniform')\n",
    "\n",
    "KNC_start = time.time()\n",
    "KNC_best.fit(x_train, y_train)\n",
    "KNC_end = time.time()\n",
    "\n",
    "print(\"학습 시간 : \", KNC_end - KNC_start, \"초\")\n",
    "\n",
    "# 정확도\n",
    "KNC_pred = KNC_best.predict(x_test)\n",
    "\n",
    "from sklearn.metrics import accuracy_score, precision_score, recall_score, f1_score\n",
    "\n",
    "test_acc = accuracy_score(y_test, KNC_pred)\n",
    "test_prc = precision_score(y_test, KNC_pred, average = 'weighted')\n",
    "test_rcll = recall_score(y_test, KNC_pred, average = 'weighted')\n",
    "test_f1 = f1_score(y_test, KNC_pred, average = 'weighted')\n",
    "\n",
    "print('정확도\\t{}%'.format(round(test_acc*100), 2))\n",
    "print('정밀도\\t{}%'.format(round(test_prc*100), 2))\n",
    "print('재현율\\t{}%'.format(round(test_rcll*100), 2))\n",
    "print('F1\\t{}%'.format(round(test_f1*100), 2))"
   ]
  },
  {
   "cell_type": "code",
   "execution_count": 74,
   "metadata": {
    "execution": {
     "iopub.execute_input": "2023-08-28T22:10:54.511116Z",
     "iopub.status.busy": "2023-08-28T22:10:54.510678Z",
     "iopub.status.idle": "2023-08-28T22:11:59.190983Z",
     "shell.execute_reply": "2023-08-28T22:11:59.189771Z",
     "shell.execute_reply.started": "2023-08-28T22:10:54.511082Z"
    }
   },
   "outputs": [
    {
     "name": "stdout",
     "output_type": "stream",
     "text": [
      "best params :  {'criterion': 'entropy', 'min_samples_split': 9, 'n_estimators': 100}\n",
      "accuracy : 0.2464\n"
     ]
    }
   ],
   "source": [
    "# 2. RF(랜덤 포레스트)\n",
    "# GridSearchCV를 통한 최적의 하이퍼 파라미터 찾기\n",
    "\n",
    "from sklearn.ensemble import RandomForestClassifier\n",
    "\n",
    "rf = RandomForestClassifier(random_state=731)\n",
    "\n",
    "param_rf = {\"n_estimators\" : [10, 50, 100, 200, 300, 500],\n",
    "           \"min_samples_split\" : [3, 5, 7, 9],\n",
    "           \"criterion\" : ['gini', 'entropy']}\n",
    "\n",
    "gscv_rf = GridSearchCV(estimator = rf, param_grid = param_rf, scoring = 'accuracy', cv = 3)\n",
    "\n",
    "gscv_rf.fit(x_train, y_train)\n",
    "\n",
    "print('best params : ', gscv_rf.best_params_)\n",
    "print('accuracy : {:.4f}'.format(gscv_clf.best_score_))"
   ]
  },
  {
   "cell_type": "code",
   "execution_count": 76,
   "metadata": {
    "execution": {
     "iopub.execute_input": "2023-08-28T22:12:29.517001Z",
     "iopub.status.busy": "2023-08-28T22:12:29.516579Z",
     "iopub.status.idle": "2023-08-28T22:12:29.843426Z",
     "shell.execute_reply": "2023-08-28T22:12:29.842171Z",
     "shell.execute_reply.started": "2023-08-28T22:12:29.516969Z"
    }
   },
   "outputs": [
    {
     "name": "stdout",
     "output_type": "stream",
     "text": [
      "학습 시간 :  0.29125380516052246 초\n",
      "정확도\t29%\n",
      "정밀도\t17%\n",
      "재현율\t29%\n",
      "F1\t19%\n"
     ]
    }
   ],
   "source": [
    "# RF 성능평가\n",
    "\n",
    "# 시간\n",
    "rf_best = RandomForestClassifier(random_state = 731, criterion = 'entropy', n_estimators = 100, min_samples_split = 9)\n",
    "\n",
    "import time\n",
    "\n",
    "rf_start_time = time.time()\n",
    "rf_best.fit(x_train, y_train)\n",
    "rf_end_time = time.time()\n",
    "print(\"학습 시간 : \", rf_end_time - rf_start_time, \"초\")\n",
    "\n",
    "# 정확도\n",
    "rf_pred = rf_best.predict(x_test)\n",
    "\n",
    "from sklearn.metrics import accuracy_score, precision_score, recall_score, f1_score\n",
    "\n",
    "test_acc = accuracy_score(y_test, rf_pred)\n",
    "test_prc = precision_score(y_test, rf_pred, average = 'weighted')\n",
    "test_rcll = recall_score(y_test, rf_pred, average = 'weighted')\n",
    "test_f1 = f1_score(y_test, rf_pred, average = 'weighted')\n",
    "\n",
    "print('정확도\\t{}%'.format(round(test_acc*100), 2))\n",
    "print('정밀도\\t{}%'.format(round(test_prc*100), 2))\n",
    "print('재현율\\t{}%'.format(round(test_rcll*100), 2))\n",
    "print('F1\\t{}%'.format(round(test_f1*100), 2))"
   ]
  },
  {
   "cell_type": "markdown",
   "metadata": {},
   "source": [
    "### 1-5 모델이 다양한 일상 상황에서도 잘 동작한다는 것을 설명하고 시각화 하라"
   ]
  },
  {
   "cell_type": "code",
   "execution_count": null,
   "metadata": {},
   "outputs": [],
   "source": []
  },
  {
   "cell_type": "markdown",
   "metadata": {},
   "source": [
    "## 1-6 모델 최적화 방안에 대해 구체적으로 설명하라"
   ]
  },
  {
   "cell_type": "code",
   "execution_count": null,
   "metadata": {},
   "outputs": [],
   "source": []
  },
  {
   "cell_type": "markdown",
   "metadata": {},
   "source": [
    "# 통계분석"
   ]
  },
  {
   "cell_type": "markdown",
   "metadata": {},
   "source": [
    "# 2\n",
    "## 광고횟수와 광고비에 따른 매출액의 데이터이다. \n",
    "/kaggle/input/adp-p8/problem2.csv"
   ]
  },
  {
   "cell_type": "markdown",
   "metadata": {},
   "source": [
    "### 2-1 광고비 변수를 가변수 처리후 다중회귀를 수행하여 회귀계수가 유의한지 검정"
   ]
  },
  {
   "cell_type": "code",
   "execution_count": null,
   "metadata": {},
   "outputs": [],
   "source": []
  },
  {
   "cell_type": "markdown",
   "metadata": {},
   "source": [
    "### 2-2 회귀식이 유의한지 판단"
   ]
  },
  {
   "cell_type": "code",
   "execution_count": null,
   "metadata": {},
   "outputs": [],
   "source": []
  },
  {
   "cell_type": "code",
   "execution_count": null,
   "metadata": {},
   "outputs": [],
   "source": []
  },
  {
   "cell_type": "markdown",
   "metadata": {},
   "source": [
    "# 3\n",
    "## A생산라인의 제품 평균은 5.7mm이고 표준편차는 0.03, B생산라인의 제품 평균은 5.6mm이고 표준편차는 0.04라면 5%유의수준으로 두 제품의 평균이 차이가 있는지 여부를 검정하기 Z(0.05) = 1.65"
   ]
  },
  {
   "cell_type": "markdown",
   "metadata": {},
   "source": [
    "### 3-1 귀무가설과 대립가설을 세워라 "
   ]
  },
  {
   "cell_type": "markdown",
   "metadata": {},
   "source": [
    "* 귀무가설 : 두 제품의 평균은 차이가 있다고 말할 수 없다.\n",
    "* 대립가설 : 두 제품의 평균은 차이가 있다고 말할 수 있다."
   ]
  },
  {
   "cell_type": "markdown",
   "metadata": {},
   "source": [
    "### 3-2 두 평균이 차이가 있는지 검정하라"
   ]
  },
  {
   "cell_type": "markdown",
   "metadata": {},
   "source": [
    "각각 몇개인지 몰라 그냥 한다."
   ]
  },
  {
   "cell_type": "code",
   "execution_count": null,
   "metadata": {
    "execution": {
     "iopub.execute_input": "2023-08-27T12:45:30.355248Z",
     "iopub.status.busy": "2023-08-27T12:45:30.354781Z",
     "iopub.status.idle": "2023-08-27T12:45:30.363385Z",
     "shell.execute_reply": "2023-08-27T12:45:30.362225Z",
     "shell.execute_reply.started": "2023-08-27T12:45:30.355215Z"
    }
   },
   "outputs": [],
   "source": [
    "import numpy as np\n",
    "\n",
    "m_a = 5.7\n",
    "m_b = 5.6\n",
    "s_a = 0.03\n",
    "s_b = 0.04\n",
    "s_p_squared = (s_a**2 + s_b**2)\n",
    "\n",
    "z = 1.65\n",
    "\n",
    "t = (m_a - m_b)/np.sqrt(s_p_squared)\n",
    "\n",
    "print(t)"
   ]
  },
  {
   "cell_type": "markdown",
   "metadata": {},
   "source": [
    "t 검정통계량이 z(0.05)=1.65보다 크므로 유의수준 0.05 하에서 귀무가설을 기각하고 대립가설을 채택한다.\n",
    "\n",
    "즉, A, B 생산라인의 제품 평균은 차이가 있다고 말할 수 있다."
   ]
  },
  {
   "cell_type": "markdown",
   "metadata": {},
   "source": [
    "# 4\n",
    "## 바이러스 감염 분류표를 보고 베이지안 분류 방법을 사용해 양성으로 예측된 사람이 실제로 양성일 확률을 구하라\n",
    "![image](https://github.com/Datamanim/datarepo/blob/main/adp/24/problem4.png?raw=true)"
   ]
  },
  {
   "cell_type": "code",
   "execution_count": null,
   "metadata": {
    "execution": {
     "iopub.execute_input": "2023-08-27T12:47:01.845950Z",
     "iopub.status.busy": "2023-08-27T12:47:01.845494Z",
     "iopub.status.idle": "2023-08-27T12:47:01.852434Z",
     "shell.execute_reply": "2023-08-27T12:47:01.850911Z",
     "shell.execute_reply.started": "2023-08-27T12:47:01.845916Z"
    }
   },
   "outputs": [],
   "source": [
    "print(370/(370+10))"
   ]
  },
  {
   "cell_type": "markdown",
   "metadata": {},
   "source": [
    "# 5 주어진 데이터에서 신뢰구간을 구하려한다\n",
    "정규분포에서 표폰을 추출함[Z(0.05) = -1.65 , Z(0.025) = -1.96, T(0.05, 8) = 1.860 , T0.025(0.025, 8) = 2.306]     \n",
    "데이터(9개) : [3.1, 3.3, 3.5, 3.7, 3.9, 4.1, 4.3 4.4, 4.7]"
   ]
  },
  {
   "cell_type": "markdown",
   "metadata": {},
   "source": [
    "### 5-1 모분산을 모르는 경우 주어진 데이터의 95% 신뢰구간을 구하라"
   ]
  },
  {
   "cell_type": "code",
   "execution_count": null,
   "metadata": {
    "execution": {
     "iopub.execute_input": "2023-08-27T12:49:25.309844Z",
     "iopub.status.busy": "2023-08-27T12:49:25.309377Z",
     "iopub.status.idle": "2023-08-27T12:49:25.319769Z",
     "shell.execute_reply": "2023-08-27T12:49:25.318349Z",
     "shell.execute_reply.started": "2023-08-27T12:49:25.309809Z"
    }
   },
   "outputs": [],
   "source": [
    "import pandas as pd\n",
    "import numpy as np\n",
    "data = [3.1, 3.3, 3.5, 3.7, 3.9, 4.1, 4.3, 4.4, 4.7]\n",
    "\n",
    "x = pd.Series(data)\n",
    "\n",
    "mean = x.mean()\n",
    "std = np.std(x)\n",
    "\n",
    "print('mean : ', mean)\n",
    "print('std : ', std)"
   ]
  },
  {
   "cell_type": "code",
   "execution_count": null,
   "metadata": {
    "execution": {
     "iopub.execute_input": "2023-08-27T12:51:02.073045Z",
     "iopub.status.busy": "2023-08-27T12:51:02.071522Z",
     "iopub.status.idle": "2023-08-27T12:51:02.081714Z",
     "shell.execute_reply": "2023-08-27T12:51:02.080107Z",
     "shell.execute_reply.started": "2023-08-27T12:51:02.072981Z"
    }
   },
   "outputs": [],
   "source": [
    "lower_bound = mean - 1.96 * (std/3)\n",
    "upper_bound = mean + 1.96 * (std/3)\n",
    "\n",
    "print(lower_bound, upper_bound)"
   ]
  },
  {
   "cell_type": "markdown",
   "metadata": {},
   "source": [
    "### sigma = 0.04인걸 알고있을때의 95% 신뢰구간을 구하라 "
   ]
  },
  {
   "cell_type": "code",
   "execution_count": null,
   "metadata": {
    "execution": {
     "iopub.execute_input": "2023-08-27T12:51:42.272142Z",
     "iopub.status.busy": "2023-08-27T12:51:42.271667Z",
     "iopub.status.idle": "2023-08-27T12:51:42.278943Z",
     "shell.execute_reply": "2023-08-27T12:51:42.277405Z",
     "shell.execute_reply.started": "2023-08-27T12:51:42.272105Z"
    }
   },
   "outputs": [],
   "source": [
    "lower_bound_knowing_sigma = mean - 1.96 * 0.04\n",
    "upper_bound_knowing_sigma = mean + 1.96 * 0.04\n",
    "\n",
    "print(lower_bound_knowing_sigma, upper_bound_knowing_sigma)"
   ]
  }
 ],
 "metadata": {
  "kernelspec": {
   "display_name": "Python 3 (ipykernel)",
   "language": "python",
   "name": "python3"
  },
  "language_info": {
   "codemirror_mode": {
    "name": "ipython",
    "version": 3
   },
   "file_extension": ".py",
   "mimetype": "text/x-python",
   "name": "python",
   "nbconvert_exporter": "python",
   "pygments_lexer": "ipython3",
   "version": "3.9.12"
  }
 },
 "nbformat": 4,
 "nbformat_minor": 4
}

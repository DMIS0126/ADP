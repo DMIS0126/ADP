{
 "cells": [
  {
   "cell_type": "markdown",
   "id": "8aa9e3ea",
   "metadata": {
    "papermill": {
     "duration": 0.035552,
     "end_time": "2023-08-22T23:13:28.788039",
     "exception": false,
     "start_time": "2023-08-22T23:13:28.752487",
     "status": "completed"
    },
    "tags": []
   },
   "source": [
    "# 문제 1"
   ]
  },
  {
   "cell_type": "markdown",
   "id": "c53af3e2",
   "metadata": {
    "papermill": {
     "duration": 0.032773,
     "end_time": "2023-08-22T23:13:28.854330",
     "exception": false,
     "start_time": "2023-08-22T23:13:28.821557",
     "status": "completed"
    },
    "tags": []
   },
   "source": [
    "#### dataset : pima-indians-diabetes-database [kaggle link](pima-indians-diabetes-database) - added post-processing\n",
    "/kaggle/input/adpkrp5/data1.csv"
   ]
  },
  {
   "cell_type": "markdown",
   "id": "defe30f8",
   "metadata": {
    "execution": {
     "iopub.execute_input": "2022-03-02T16:01:52.763794Z",
     "iopub.status.busy": "2022-03-02T16:01:52.76349Z",
     "iopub.status.idle": "2022-03-02T16:01:52.768363Z",
     "shell.execute_reply": "2022-03-02T16:01:52.767292Z",
     "shell.execute_reply.started": "2022-03-02T16:01:52.763766Z"
    },
    "papermill": {
     "duration": 0.03292,
     "end_time": "2023-08-22T23:13:28.920357",
     "exception": false,
     "start_time": "2023-08-22T23:13:28.887437",
     "status": "completed"
    },
    "tags": []
   },
   "source": [
    "### 1-1 탐색적 데이터 분석 수행(시각화 포함)"
   ]
  },
  {
   "cell_type": "code",
   "execution_count": 1,
   "id": "a1b2fd8e",
   "metadata": {
    "execution": {
     "iopub.execute_input": "2023-08-22T23:13:28.992604Z",
     "iopub.status.busy": "2023-08-22T23:13:28.991311Z",
     "iopub.status.idle": "2023-08-22T23:13:30.147071Z",
     "shell.execute_reply": "2023-08-22T23:13:30.147659Z",
     "shell.execute_reply.started": "2023-08-22T22:54:11.899352Z"
    },
    "papermill": {
     "duration": 1.194114,
     "end_time": "2023-08-22T23:13:30.147953",
     "exception": false,
     "start_time": "2023-08-22T23:13:28.953839",
     "status": "completed"
    },
    "tags": []
   },
   "outputs": [
    {
     "data": {
      "text/html": [
       "<div>\n",
       "<style scoped>\n",
       "    .dataframe tbody tr th:only-of-type {\n",
       "        vertical-align: middle;\n",
       "    }\n",
       "\n",
       "    .dataframe tbody tr th {\n",
       "        vertical-align: top;\n",
       "    }\n",
       "\n",
       "    .dataframe thead th {\n",
       "        text-align: right;\n",
       "    }\n",
       "</style>\n",
       "<table border=\"1\" class=\"dataframe\">\n",
       "  <thead>\n",
       "    <tr style=\"text-align: right;\">\n",
       "      <th></th>\n",
       "      <th>Pregnancies</th>\n",
       "      <th>Glucose</th>\n",
       "      <th>BloodPressure</th>\n",
       "      <th>SkinThickness</th>\n",
       "      <th>Insulin</th>\n",
       "      <th>BMI</th>\n",
       "      <th>DiabetesPedigreeFunction</th>\n",
       "      <th>Age</th>\n",
       "      <th>Outcome</th>\n",
       "    </tr>\n",
       "  </thead>\n",
       "  <tbody>\n",
       "    <tr>\n",
       "      <th>0</th>\n",
       "      <td>6</td>\n",
       "      <td>148</td>\n",
       "      <td>72</td>\n",
       "      <td>35</td>\n",
       "      <td>0</td>\n",
       "      <td>33.6</td>\n",
       "      <td>0.627</td>\n",
       "      <td>50</td>\n",
       "      <td>1</td>\n",
       "    </tr>\n",
       "    <tr>\n",
       "      <th>1</th>\n",
       "      <td>1</td>\n",
       "      <td>85</td>\n",
       "      <td>66</td>\n",
       "      <td>29</td>\n",
       "      <td>0</td>\n",
       "      <td>26.6</td>\n",
       "      <td>0.351</td>\n",
       "      <td>31</td>\n",
       "      <td>0</td>\n",
       "    </tr>\n",
       "    <tr>\n",
       "      <th>2</th>\n",
       "      <td>8</td>\n",
       "      <td>183</td>\n",
       "      <td>64</td>\n",
       "      <td>0</td>\n",
       "      <td>0</td>\n",
       "      <td>23.3</td>\n",
       "      <td>0.672</td>\n",
       "      <td>32</td>\n",
       "      <td>1</td>\n",
       "    </tr>\n",
       "    <tr>\n",
       "      <th>3</th>\n",
       "      <td>1</td>\n",
       "      <td>89</td>\n",
       "      <td>66</td>\n",
       "      <td>23</td>\n",
       "      <td>94</td>\n",
       "      <td>28.1</td>\n",
       "      <td>0.167</td>\n",
       "      <td>21</td>\n",
       "      <td>0</td>\n",
       "    </tr>\n",
       "    <tr>\n",
       "      <th>4</th>\n",
       "      <td>0</td>\n",
       "      <td>137</td>\n",
       "      <td>40</td>\n",
       "      <td>35</td>\n",
       "      <td>168</td>\n",
       "      <td>43.1</td>\n",
       "      <td>2.288</td>\n",
       "      <td>33</td>\n",
       "      <td>1</td>\n",
       "    </tr>\n",
       "  </tbody>\n",
       "</table>\n",
       "</div>"
      ],
      "text/plain": [
       "   Pregnancies  Glucose  BloodPressure  SkinThickness  Insulin   BMI  \\\n",
       "0            6      148             72             35        0  33.6   \n",
       "1            1       85             66             29        0  26.6   \n",
       "2            8      183             64              0        0  23.3   \n",
       "3            1       89             66             23       94  28.1   \n",
       "4            0      137             40             35      168  43.1   \n",
       "\n",
       "   DiabetesPedigreeFunction  Age  Outcome  \n",
       "0                     0.627   50        1  \n",
       "1                     0.351   31        0  \n",
       "2                     0.672   32        1  \n",
       "3                     0.167   21        0  \n",
       "4                     2.288   33        1  "
      ]
     },
     "execution_count": 1,
     "metadata": {},
     "output_type": "execute_result"
    }
   ],
   "source": [
    "import pandas as pd\n",
    "import numpy as np\n",
    "import matplotlib.pyplot as plt\n",
    "import seaborn as sns\n",
    "\n",
    "df = pd.read_csv('/kaggle/input/adpkrp5/data1.csv')\n",
    "df.head()"
   ]
  },
  {
   "cell_type": "code",
   "execution_count": 2,
   "id": "6f50fb1d",
   "metadata": {
    "execution": {
     "iopub.execute_input": "2023-08-22T23:13:30.226351Z",
     "iopub.status.busy": "2023-08-22T23:13:30.225632Z",
     "iopub.status.idle": "2023-08-22T23:13:30.247450Z",
     "shell.execute_reply": "2023-08-22T23:13:30.247996Z",
     "shell.execute_reply.started": "2023-08-22T22:54:12.748522Z"
    },
    "papermill": {
     "duration": 0.063319,
     "end_time": "2023-08-22T23:13:30.248210",
     "exception": false,
     "start_time": "2023-08-22T23:13:30.184891",
     "status": "completed"
    },
    "tags": []
   },
   "outputs": [
    {
     "name": "stdout",
     "output_type": "stream",
     "text": [
      "<class 'pandas.core.frame.DataFrame'>\n",
      "RangeIndex: 768 entries, 0 to 767\n",
      "Data columns (total 9 columns):\n",
      " #   Column                    Non-Null Count  Dtype  \n",
      "---  ------                    --------------  -----  \n",
      " 0   Pregnancies               768 non-null    int64  \n",
      " 1   Glucose                   768 non-null    int64  \n",
      " 2   BloodPressure             768 non-null    int64  \n",
      " 3   SkinThickness             768 non-null    int64  \n",
      " 4   Insulin                   768 non-null    int64  \n",
      " 5   BMI                       768 non-null    float64\n",
      " 6   DiabetesPedigreeFunction  768 non-null    float64\n",
      " 7   Age                       768 non-null    int64  \n",
      " 8   Outcome                   768 non-null    int64  \n",
      "dtypes: float64(2), int64(7)\n",
      "memory usage: 54.1 KB\n"
     ]
    }
   ],
   "source": [
    "# 결측치 확인\n",
    "df.info()"
   ]
  },
  {
   "cell_type": "code",
   "execution_count": 3,
   "id": "12069e50",
   "metadata": {
    "execution": {
     "iopub.execute_input": "2023-08-22T23:13:30.324182Z",
     "iopub.status.busy": "2023-08-22T23:13:30.322987Z",
     "iopub.status.idle": "2023-08-22T23:13:30.329955Z",
     "shell.execute_reply": "2023-08-22T23:13:30.330758Z",
     "shell.execute_reply.started": "2023-08-22T22:54:13.372846Z"
    },
    "papermill": {
     "duration": 0.0484,
     "end_time": "2023-08-22T23:13:30.331028",
     "exception": false,
     "start_time": "2023-08-22T23:13:30.282628",
     "status": "completed"
    },
    "tags": []
   },
   "outputs": [
    {
     "data": {
      "text/plain": [
       "Pregnancies                 0\n",
       "Glucose                     0\n",
       "BloodPressure               0\n",
       "SkinThickness               0\n",
       "Insulin                     0\n",
       "BMI                         0\n",
       "DiabetesPedigreeFunction    0\n",
       "Age                         0\n",
       "Outcome                     0\n",
       "dtype: int64"
      ]
     },
     "execution_count": 3,
     "metadata": {},
     "output_type": "execute_result"
    }
   ],
   "source": [
    "# 혹시나 해서 한 번더\n",
    "df.isnull().sum()"
   ]
  },
  {
   "cell_type": "code",
   "execution_count": 4,
   "id": "da40c700",
   "metadata": {
    "execution": {
     "iopub.execute_input": "2023-08-22T23:13:30.407476Z",
     "iopub.status.busy": "2023-08-22T23:13:30.406749Z",
     "iopub.status.idle": "2023-08-22T23:13:30.453479Z",
     "shell.execute_reply": "2023-08-22T23:13:30.454227Z",
     "shell.execute_reply.started": "2023-08-22T22:54:15.586186Z"
    },
    "papermill": {
     "duration": 0.086103,
     "end_time": "2023-08-22T23:13:30.454467",
     "exception": false,
     "start_time": "2023-08-22T23:13:30.368364",
     "status": "completed"
    },
    "tags": []
   },
   "outputs": [
    {
     "data": {
      "text/html": [
       "<div>\n",
       "<style scoped>\n",
       "    .dataframe tbody tr th:only-of-type {\n",
       "        vertical-align: middle;\n",
       "    }\n",
       "\n",
       "    .dataframe tbody tr th {\n",
       "        vertical-align: top;\n",
       "    }\n",
       "\n",
       "    .dataframe thead th {\n",
       "        text-align: right;\n",
       "    }\n",
       "</style>\n",
       "<table border=\"1\" class=\"dataframe\">\n",
       "  <thead>\n",
       "    <tr style=\"text-align: right;\">\n",
       "      <th></th>\n",
       "      <th>Pregnancies</th>\n",
       "      <th>Glucose</th>\n",
       "      <th>BloodPressure</th>\n",
       "      <th>SkinThickness</th>\n",
       "      <th>Insulin</th>\n",
       "      <th>BMI</th>\n",
       "      <th>DiabetesPedigreeFunction</th>\n",
       "      <th>Age</th>\n",
       "      <th>Outcome</th>\n",
       "    </tr>\n",
       "  </thead>\n",
       "  <tbody>\n",
       "    <tr>\n",
       "      <th>count</th>\n",
       "      <td>768.000000</td>\n",
       "      <td>768.000000</td>\n",
       "      <td>768.000000</td>\n",
       "      <td>768.000000</td>\n",
       "      <td>768.000000</td>\n",
       "      <td>768.000000</td>\n",
       "      <td>768.000000</td>\n",
       "      <td>768.000000</td>\n",
       "      <td>768.000000</td>\n",
       "    </tr>\n",
       "    <tr>\n",
       "      <th>mean</th>\n",
       "      <td>3.845052</td>\n",
       "      <td>120.894531</td>\n",
       "      <td>81.976562</td>\n",
       "      <td>20.536458</td>\n",
       "      <td>79.799479</td>\n",
       "      <td>44.934766</td>\n",
       "      <td>0.471876</td>\n",
       "      <td>34.447917</td>\n",
       "      <td>0.348958</td>\n",
       "    </tr>\n",
       "    <tr>\n",
       "      <th>std</th>\n",
       "      <td>3.369578</td>\n",
       "      <td>31.972618</td>\n",
       "      <td>358.835058</td>\n",
       "      <td>15.952218</td>\n",
       "      <td>115.244002</td>\n",
       "      <td>359.739733</td>\n",
       "      <td>0.331329</td>\n",
       "      <td>36.754727</td>\n",
       "      <td>0.476951</td>\n",
       "    </tr>\n",
       "    <tr>\n",
       "      <th>min</th>\n",
       "      <td>0.000000</td>\n",
       "      <td>0.000000</td>\n",
       "      <td>0.000000</td>\n",
       "      <td>0.000000</td>\n",
       "      <td>0.000000</td>\n",
       "      <td>0.000000</td>\n",
       "      <td>0.078000</td>\n",
       "      <td>21.000000</td>\n",
       "      <td>0.000000</td>\n",
       "    </tr>\n",
       "    <tr>\n",
       "      <th>25%</th>\n",
       "      <td>1.000000</td>\n",
       "      <td>99.000000</td>\n",
       "      <td>62.000000</td>\n",
       "      <td>0.000000</td>\n",
       "      <td>0.000000</td>\n",
       "      <td>27.300000</td>\n",
       "      <td>0.243750</td>\n",
       "      <td>24.000000</td>\n",
       "      <td>0.000000</td>\n",
       "    </tr>\n",
       "    <tr>\n",
       "      <th>50%</th>\n",
       "      <td>3.000000</td>\n",
       "      <td>117.000000</td>\n",
       "      <td>72.000000</td>\n",
       "      <td>23.000000</td>\n",
       "      <td>30.500000</td>\n",
       "      <td>32.000000</td>\n",
       "      <td>0.372500</td>\n",
       "      <td>29.000000</td>\n",
       "      <td>0.000000</td>\n",
       "    </tr>\n",
       "    <tr>\n",
       "      <th>75%</th>\n",
       "      <td>6.000000</td>\n",
       "      <td>140.250000</td>\n",
       "      <td>80.000000</td>\n",
       "      <td>32.000000</td>\n",
       "      <td>127.250000</td>\n",
       "      <td>36.600000</td>\n",
       "      <td>0.626250</td>\n",
       "      <td>41.000000</td>\n",
       "      <td>1.000000</td>\n",
       "    </tr>\n",
       "    <tr>\n",
       "      <th>max</th>\n",
       "      <td>17.000000</td>\n",
       "      <td>199.000000</td>\n",
       "      <td>9999.000000</td>\n",
       "      <td>99.000000</td>\n",
       "      <td>846.000000</td>\n",
       "      <td>9999.000000</td>\n",
       "      <td>2.420000</td>\n",
       "      <td>999.000000</td>\n",
       "      <td>1.000000</td>\n",
       "    </tr>\n",
       "  </tbody>\n",
       "</table>\n",
       "</div>"
      ],
      "text/plain": [
       "       Pregnancies     Glucose  BloodPressure  SkinThickness     Insulin  \\\n",
       "count   768.000000  768.000000     768.000000     768.000000  768.000000   \n",
       "mean      3.845052  120.894531      81.976562      20.536458   79.799479   \n",
       "std       3.369578   31.972618     358.835058      15.952218  115.244002   \n",
       "min       0.000000    0.000000       0.000000       0.000000    0.000000   \n",
       "25%       1.000000   99.000000      62.000000       0.000000    0.000000   \n",
       "50%       3.000000  117.000000      72.000000      23.000000   30.500000   \n",
       "75%       6.000000  140.250000      80.000000      32.000000  127.250000   \n",
       "max      17.000000  199.000000    9999.000000      99.000000  846.000000   \n",
       "\n",
       "               BMI  DiabetesPedigreeFunction         Age     Outcome  \n",
       "count   768.000000                768.000000  768.000000  768.000000  \n",
       "mean     44.934766                  0.471876   34.447917    0.348958  \n",
       "std     359.739733                  0.331329   36.754727    0.476951  \n",
       "min       0.000000                  0.078000   21.000000    0.000000  \n",
       "25%      27.300000                  0.243750   24.000000    0.000000  \n",
       "50%      32.000000                  0.372500   29.000000    0.000000  \n",
       "75%      36.600000                  0.626250   41.000000    1.000000  \n",
       "max    9999.000000                  2.420000  999.000000    1.000000  "
      ]
     },
     "execution_count": 4,
     "metadata": {},
     "output_type": "execute_result"
    }
   ],
   "source": [
    "# 기초통계량 확인\n",
    "df.describe()"
   ]
  },
  {
   "cell_type": "code",
   "execution_count": 5,
   "id": "25c02a49",
   "metadata": {
    "execution": {
     "iopub.execute_input": "2023-08-22T23:13:30.534115Z",
     "iopub.status.busy": "2023-08-22T23:13:30.533403Z",
     "iopub.status.idle": "2023-08-22T23:13:30.537374Z",
     "shell.execute_reply": "2023-08-22T23:13:30.537980Z",
     "shell.execute_reply.started": "2023-08-22T22:55:30.860738Z"
    },
    "papermill": {
     "duration": 0.044088,
     "end_time": "2023-08-22T23:13:30.538362",
     "exception": false,
     "start_time": "2023-08-22T23:13:30.494274",
     "status": "completed"
    },
    "tags": []
   },
   "outputs": [],
   "source": [
    "# BloodPressure, BMI, Age에 뭔가 이상치가 조금 있는 것 같음\n",
    "# 0일 수가 없는데 그리고 9999는 뭐냐\n",
    "# 상자그림을 그려봐야겠다."
   ]
  },
  {
   "cell_type": "code",
   "execution_count": 6,
   "id": "c87b3a27",
   "metadata": {
    "execution": {
     "iopub.execute_input": "2023-08-22T23:13:30.629554Z",
     "iopub.status.busy": "2023-08-22T23:13:30.628810Z",
     "iopub.status.idle": "2023-08-22T23:13:31.662191Z",
     "shell.execute_reply": "2023-08-22T23:13:31.662725Z",
     "shell.execute_reply.started": "2023-08-22T22:54:20.820023Z"
    },
    "papermill": {
     "duration": 1.076879,
     "end_time": "2023-08-22T23:13:31.662920",
     "exception": false,
     "start_time": "2023-08-22T23:13:30.586041",
     "status": "completed"
    },
    "tags": []
   },
   "outputs": [
    {
     "data": {
      "image/png": "[encoded data removed]",
      "text/plain": [
       "<Figure size 1440x1440 with 9 Axes>"
      ]
     },
     "metadata": {
      "needs_background": "light"
     },
     "output_type": "display_data"
    }
   ],
   "source": [
    "plt.figure(figsize = (20, 20))\n",
    "plt.subplot(3, 3, 1)\n",
    "plt.boxplot(df['Pregnancies'])\n",
    "plt.xlabel('Pregnancies')\n",
    "\n",
    "plt.subplot(3, 3, 2)\n",
    "plt.boxplot(df['Glucose'])\n",
    "plt.xlabel('Glucose')\n",
    "\n",
    "plt.subplot(3, 3, 3)\n",
    "plt.boxplot(df['BloodPressure'])\n",
    "plt.xlabel('BloodPressure')\n",
    "\n",
    "plt.subplot(3, 3, 4)\n",
    "plt.boxplot(df['SkinThickness'])\n",
    "plt.xlabel('SkinThickness')\n",
    "\n",
    "plt.subplot(3, 3, 5)\n",
    "plt.boxplot(df['Insulin'])\n",
    "plt.xlabel('Insulin')\n",
    "\n",
    "plt.subplot(3, 3, 6)\n",
    "plt.boxplot(df['BMI'])\n",
    "plt.xlabel('BMI')\n",
    "\n",
    "plt.subplot(3, 3, 7)\n",
    "plt.boxplot(df['DiabetesPedigreeFunction'])\n",
    "plt.xlabel('DiabetesPedigreeFunction')\n",
    "\n",
    "plt.subplot(3, 3, 8)\n",
    "plt.boxplot(df['Age'])\n",
    "plt.xlabel('Age')\n",
    "\n",
    "plt.subplot(3, 3, 9)\n",
    "plt.boxplot(df['Outcome'])\n",
    "plt.xlabel('Outcome')\n",
    "\n",
    "plt.show()"
   ]
  },
  {
   "cell_type": "markdown",
   "id": "7ddefe2a",
   "metadata": {
    "papermill": {
     "duration": 0.037384,
     "end_time": "2023-08-22T23:13:31.738286",
     "exception": false,
     "start_time": "2023-08-22T23:13:31.700902",
     "status": "completed"
    },
    "tags": []
   },
   "source": [
    "일단 이상치있는 건 확인했고, 처리는 1-2번에서 하자.\n",
    "그리고 이번에는 상관관계를 확인하기 위해 상관계수 히트맵을 그린다."
   ]
  },
  {
   "cell_type": "code",
   "execution_count": 7,
   "id": "305fbf19",
   "metadata": {
    "execution": {
     "iopub.execute_input": "2023-08-22T23:13:31.820712Z",
     "iopub.status.busy": "2023-08-22T23:13:31.819842Z",
     "iopub.status.idle": "2023-08-22T23:13:32.460445Z",
     "shell.execute_reply": "2023-08-22T23:13:32.461020Z",
     "shell.execute_reply.started": "2023-08-22T22:50:50.708134Z"
    },
    "papermill": {
     "duration": 0.684402,
     "end_time": "2023-08-22T23:13:32.461230",
     "exception": false,
     "start_time": "2023-08-22T23:13:31.776828",
     "status": "completed"
    },
    "tags": []
   },
   "outputs": [
    {
     "data": {
      "image/png": "[encoded data removed]",
      "text/plain": [
       "<Figure size 720x720 with 2 Axes>"
      ]
     },
     "metadata": {
      "needs_background": "light"
     },
     "output_type": "display_data"
    }
   ],
   "source": [
    "df_corr = df.corr(method = 'pearson')\n",
    "plt.figure(figsize = (10, 10))\n",
    "sns.heatmap(df_corr, cmap = 'RdBu_r', annot = True, fmt = '.0%')\n",
    "plt.show()"
   ]
  },
  {
   "cell_type": "markdown",
   "id": "a577d2e5",
   "metadata": {
    "papermill": {
     "duration": 0.042601,
     "end_time": "2023-08-22T23:13:32.544221",
     "exception": false,
     "start_time": "2023-08-22T23:13:32.501620",
     "status": "completed"
    },
    "tags": []
   },
   "source": [
    "상관관계가 큰 것은 보이지 않는다.\n",
    "\n",
    "따라서 다중공선성은 의심하지 않아도 될 것 같다."
   ]
  },
  {
   "cell_type": "markdown",
   "id": "dcde883c",
   "metadata": {
    "papermill": {
     "duration": 0.040598,
     "end_time": "2023-08-22T23:13:32.626570",
     "exception": false,
     "start_time": "2023-08-22T23:13:32.585972",
     "status": "completed"
    },
    "tags": []
   },
   "source": [
    "마지막으로 하나씩 히스토그램 그려보기"
   ]
  },
  {
   "cell_type": "code",
   "execution_count": 8,
   "id": "de7ac73b",
   "metadata": {
    "execution": {
     "iopub.execute_input": "2023-08-22T23:13:32.714794Z",
     "iopub.status.busy": "2023-08-22T23:13:32.713732Z",
     "iopub.status.idle": "2023-08-22T23:13:34.178960Z",
     "shell.execute_reply": "2023-08-22T23:13:34.178317Z",
     "shell.execute_reply.started": "2023-08-22T22:50:51.471532Z"
    },
    "papermill": {
     "duration": 1.512092,
     "end_time": "2023-08-22T23:13:34.179109",
     "exception": false,
     "start_time": "2023-08-22T23:13:32.667017",
     "status": "completed"
    },
    "tags": []
   },
   "outputs": [
    {
     "data": {
      "image/png": "[encoded data removed]",
      "text/plain": [
       "<Figure size 1440x1440 with 9 Axes>"
      ]
     },
     "metadata": {
      "needs_background": "light"
     },
     "output_type": "display_data"
    }
   ],
   "source": [
    "plt.figure(figsize = (20, 20))\n",
    "for (col, i) in zip(df.columns, range(1, 10)):\n",
    "    plt.subplot(3, 3, i)\n",
    "    plt.hist(df[col])\n",
    "    plt.xlabel(col)\n",
    "plt.show()"
   ]
  },
  {
   "cell_type": "markdown",
   "id": "ea056107",
   "metadata": {
    "papermill": {
     "duration": 0.041923,
     "end_time": "2023-08-22T23:13:34.264919",
     "exception": false,
     "start_time": "2023-08-22T23:13:34.222996",
     "status": "completed"
    },
    "tags": []
   },
   "source": [
    "### 1-2 이상치 처리(이상값 대체방안 제시)"
   ]
  },
  {
   "cell_type": "markdown",
   "id": "c05acab4",
   "metadata": {
    "papermill": {
     "duration": 0.042806,
     "end_time": "2023-08-22T23:13:34.350185",
     "exception": false,
     "start_time": "2023-08-22T23:13:34.307379",
     "status": "completed"
    },
    "tags": []
   },
   "source": [
    "* 데이터의 수가 매우 많고 이상치가 존재하는 행이 전체 데이터에 비해 많지 않은 경우 이상치가 존재하는 행 전체를 삭제할 수 있다.\n",
    "* 만약 대체한다면 변수의 특징에 따라 평균, 중앙값, 최빈값과 같은 대푯값을 선정하여 대체할 수 있다."
   ]
  },
  {
   "cell_type": "code",
   "execution_count": 9,
   "id": "4fa78084",
   "metadata": {
    "execution": {
     "iopub.execute_input": "2023-08-22T23:13:34.441864Z",
     "iopub.status.busy": "2023-08-22T23:13:34.441153Z",
     "iopub.status.idle": "2023-08-22T23:13:34.443813Z",
     "shell.execute_reply": "2023-08-22T23:13:34.444352Z",
     "shell.execute_reply.started": "2023-08-22T22:50:55.573187Z"
    },
    "papermill": {
     "duration": 0.052048,
     "end_time": "2023-08-22T23:13:34.444536",
     "exception": false,
     "start_time": "2023-08-22T23:13:34.392488",
     "status": "completed"
    },
    "tags": []
   },
   "outputs": [
    {
     "data": {
      "text/plain": [
       "Index(['Pregnancies', 'Glucose', 'BloodPressure', 'SkinThickness', 'Insulin',\n",
       "       'BMI', 'DiabetesPedigreeFunction', 'Age', 'Outcome'],\n",
       "      dtype='object')"
      ]
     },
     "execution_count": 9,
     "metadata": {},
     "output_type": "execute_result"
    }
   ],
   "source": [
    "df.columns"
   ]
  },
  {
   "cell_type": "markdown",
   "id": "a6929ff6",
   "metadata": {
    "papermill": {
     "duration": 0.043225,
     "end_time": "2023-08-22T23:13:34.530534",
     "exception": false,
     "start_time": "2023-08-22T23:13:34.487309",
     "status": "completed"
    },
    "tags": []
   },
   "source": [
    "이번에는 중앙값으로 대체하고자 한다.\n",
    "\n",
    "이때, 이상치를 제외한 상태에서의 중앙값으로 대체하겠다."
   ]
  },
  {
   "cell_type": "markdown",
   "id": "120ea1e5",
   "metadata": {
    "papermill": {
     "duration": 0.044185,
     "end_time": "2023-08-22T23:13:34.618122",
     "exception": false,
     "start_time": "2023-08-22T23:13:34.573937",
     "status": "completed"
    },
    "tags": []
   },
   "source": [
    "수염 밖의 값까지 포함한 경우의 중앙값과 같은 경우도 있고, 다른 경우도 있다.\n",
    "\n",
    "무튼 Outcome을 제외한 나머지 변수의 이상치를 수염 내의 값들에 대한 중앙값으로 대체해주자.\n",
    "\n",
    "추가로, 각 피처별 값이 0인 경우가 말이 되지 않으므로 이것도 중앙값으로 대체해주자."
   ]
  },
  {
   "cell_type": "code",
   "execution_count": 10,
   "id": "108c963b",
   "metadata": {
    "execution": {
     "iopub.execute_input": "2023-08-22T23:13:34.707514Z",
     "iopub.status.busy": "2023-08-22T23:13:34.706827Z",
     "iopub.status.idle": "2023-08-22T23:13:34.773033Z",
     "shell.execute_reply": "2023-08-22T23:13:34.772288Z",
     "shell.execute_reply.started": "2023-08-22T23:00:49.705403Z"
    },
    "papermill": {
     "duration": 0.112551,
     "end_time": "2023-08-22T23:13:34.773205",
     "exception": false,
     "start_time": "2023-08-22T23:13:34.660654",
     "status": "completed"
    },
    "tags": []
   },
   "outputs": [
    {
     "name": "stdout",
     "output_type": "stream",
     "text": [
      "Pregnancies                   3.0000\n",
      "Glucose                     117.0000\n",
      "BloodPressure                72.0000\n",
      "SkinThickness                23.0000\n",
      "Insulin                      30.5000\n",
      "BMI                          32.0000\n",
      "DiabetesPedigreeFunction      0.3725\n",
      "Age                          29.0000\n",
      "Outcome                       0.0000\n",
      "Name: 50%, dtype: float64\n"
     ]
    }
   ],
   "source": [
    "q1_series = df.describe().loc['25%']\n",
    "median_series = df.describe().loc['50%']\n",
    "q3_series = df.describe().loc['75%']\n",
    "iqr_series = q3_series - q1_series\n",
    "\n",
    "low_whis_series = q1_series - 1.5 * iqr_series\n",
    "upper_whis_series = q3_series + 1.5 * iqr_series\n",
    "\n",
    "df_for_0 = df[['Glucose', 'BloodPressure', 'SkinThickness', 'Insulin', 'BMI']]\n",
    "df_for_999 = df[['BloodPressure', 'BMI', 'Age']]\n",
    "\n",
    "print(median_series)"
   ]
  },
  {
   "cell_type": "code",
   "execution_count": 11,
   "id": "3dc55ebc",
   "metadata": {
    "execution": {
     "iopub.execute_input": "2023-08-22T23:13:34.873570Z",
     "iopub.status.busy": "2023-08-22T23:13:34.872841Z",
     "iopub.status.idle": "2023-08-22T23:13:34.919534Z",
     "shell.execute_reply": "2023-08-22T23:13:34.920039Z",
     "shell.execute_reply.started": "2023-08-22T23:00:52.584058Z"
    },
    "papermill": {
     "duration": 0.101298,
     "end_time": "2023-08-22T23:13:34.920237",
     "exception": false,
     "start_time": "2023-08-22T23:13:34.818939",
     "status": "completed"
    },
    "tags": []
   },
   "outputs": [
    {
     "data": {
      "text/html": [
       "<div>\n",
       "<style scoped>\n",
       "    .dataframe tbody tr th:only-of-type {\n",
       "        vertical-align: middle;\n",
       "    }\n",
       "\n",
       "    .dataframe tbody tr th {\n",
       "        vertical-align: top;\n",
       "    }\n",
       "\n",
       "    .dataframe thead th {\n",
       "        text-align: right;\n",
       "    }\n",
       "</style>\n",
       "<table border=\"1\" class=\"dataframe\">\n",
       "  <thead>\n",
       "    <tr style=\"text-align: right;\">\n",
       "      <th></th>\n",
       "      <th>Pregnancies</th>\n",
       "      <th>Glucose</th>\n",
       "      <th>BloodPressure</th>\n",
       "      <th>SkinThickness</th>\n",
       "      <th>Insulin</th>\n",
       "      <th>BMI</th>\n",
       "      <th>DiabetesPedigreeFunction</th>\n",
       "      <th>Age</th>\n",
       "      <th>Outcome</th>\n",
       "    </tr>\n",
       "  </thead>\n",
       "  <tbody>\n",
       "    <tr>\n",
       "      <th>count</th>\n",
       "      <td>768.000000</td>\n",
       "      <td>768.000000</td>\n",
       "      <td>768.000000</td>\n",
       "      <td>768.000000</td>\n",
       "      <td>768.000000</td>\n",
       "      <td>768.000000</td>\n",
       "      <td>768.000000</td>\n",
       "      <td>768.000000</td>\n",
       "      <td>768.000000</td>\n",
       "    </tr>\n",
       "    <tr>\n",
       "      <th>mean</th>\n",
       "      <td>3.845052</td>\n",
       "      <td>121.656250</td>\n",
       "      <td>72.332031</td>\n",
       "      <td>27.334635</td>\n",
       "      <td>94.652344</td>\n",
       "      <td>32.415234</td>\n",
       "      <td>0.471876</td>\n",
       "      <td>33.184896</td>\n",
       "      <td>0.348958</td>\n",
       "    </tr>\n",
       "    <tr>\n",
       "      <th>std</th>\n",
       "      <td>3.369578</td>\n",
       "      <td>30.438286</td>\n",
       "      <td>12.002843</td>\n",
       "      <td>9.229014</td>\n",
       "      <td>105.547598</td>\n",
       "      <td>6.806084</td>\n",
       "      <td>0.331329</td>\n",
       "      <td>11.677531</td>\n",
       "      <td>0.476951</td>\n",
       "    </tr>\n",
       "    <tr>\n",
       "      <th>min</th>\n",
       "      <td>0.000000</td>\n",
       "      <td>44.000000</td>\n",
       "      <td>24.000000</td>\n",
       "      <td>7.000000</td>\n",
       "      <td>14.000000</td>\n",
       "      <td>18.200000</td>\n",
       "      <td>0.078000</td>\n",
       "      <td>21.000000</td>\n",
       "      <td>0.000000</td>\n",
       "    </tr>\n",
       "    <tr>\n",
       "      <th>25%</th>\n",
       "      <td>1.000000</td>\n",
       "      <td>99.750000</td>\n",
       "      <td>64.000000</td>\n",
       "      <td>23.000000</td>\n",
       "      <td>30.500000</td>\n",
       "      <td>27.500000</td>\n",
       "      <td>0.243750</td>\n",
       "      <td>24.000000</td>\n",
       "      <td>0.000000</td>\n",
       "    </tr>\n",
       "    <tr>\n",
       "      <th>50%</th>\n",
       "      <td>3.000000</td>\n",
       "      <td>117.000000</td>\n",
       "      <td>72.000000</td>\n",
       "      <td>23.000000</td>\n",
       "      <td>31.250000</td>\n",
       "      <td>32.000000</td>\n",
       "      <td>0.372500</td>\n",
       "      <td>29.000000</td>\n",
       "      <td>0.000000</td>\n",
       "    </tr>\n",
       "    <tr>\n",
       "      <th>75%</th>\n",
       "      <td>6.000000</td>\n",
       "      <td>140.250000</td>\n",
       "      <td>80.000000</td>\n",
       "      <td>32.000000</td>\n",
       "      <td>127.250000</td>\n",
       "      <td>36.525000</td>\n",
       "      <td>0.626250</td>\n",
       "      <td>41.000000</td>\n",
       "      <td>1.000000</td>\n",
       "    </tr>\n",
       "    <tr>\n",
       "      <th>max</th>\n",
       "      <td>17.000000</td>\n",
       "      <td>199.000000</td>\n",
       "      <td>122.000000</td>\n",
       "      <td>99.000000</td>\n",
       "      <td>846.000000</td>\n",
       "      <td>67.100000</td>\n",
       "      <td>2.420000</td>\n",
       "      <td>81.000000</td>\n",
       "      <td>1.000000</td>\n",
       "    </tr>\n",
       "  </tbody>\n",
       "</table>\n",
       "</div>"
      ],
      "text/plain": [
       "       Pregnancies     Glucose  BloodPressure  SkinThickness     Insulin  \\\n",
       "count   768.000000  768.000000     768.000000     768.000000  768.000000   \n",
       "mean      3.845052  121.656250      72.332031      27.334635   94.652344   \n",
       "std       3.369578   30.438286      12.002843       9.229014  105.547598   \n",
       "min       0.000000   44.000000      24.000000       7.000000   14.000000   \n",
       "25%       1.000000   99.750000      64.000000      23.000000   30.500000   \n",
       "50%       3.000000  117.000000      72.000000      23.000000   31.250000   \n",
       "75%       6.000000  140.250000      80.000000      32.000000  127.250000   \n",
       "max      17.000000  199.000000     122.000000      99.000000  846.000000   \n",
       "\n",
       "              BMI  DiabetesPedigreeFunction         Age     Outcome  \n",
       "count  768.000000                768.000000  768.000000  768.000000  \n",
       "mean    32.415234                  0.471876   33.184896    0.348958  \n",
       "std      6.806084                  0.331329   11.677531    0.476951  \n",
       "min     18.200000                  0.078000   21.000000    0.000000  \n",
       "25%     27.500000                  0.243750   24.000000    0.000000  \n",
       "50%     32.000000                  0.372500   29.000000    0.000000  \n",
       "75%     36.525000                  0.626250   41.000000    1.000000  \n",
       "max     67.100000                  2.420000   81.000000    1.000000  "
      ]
     },
     "execution_count": 11,
     "metadata": {},
     "output_type": "execute_result"
    }
   ],
   "source": [
    "for col in df_for_0.columns:\n",
    "    df.loc[df[col] == 0, [col]] = median_series[col]\n",
    "\n",
    "for col in df_for_999.columns:\n",
    "    df.loc[(df[col] == 999) | (df[col] == 9999), [col]] = median_series[col]\n",
    "\n",
    "df.describe()"
   ]
  },
  {
   "cell_type": "code",
   "execution_count": 12,
   "id": "47e30156",
   "metadata": {
    "execution": {
     "iopub.execute_input": "2023-08-22T23:13:35.024425Z",
     "iopub.status.busy": "2023-08-22T23:13:35.023619Z",
     "iopub.status.idle": "2023-08-22T23:13:35.971326Z",
     "shell.execute_reply": "2023-08-22T23:13:35.970766Z",
     "shell.execute_reply.started": "2023-08-22T23:01:26.587139Z"
    },
    "papermill": {
     "duration": 1.007076,
     "end_time": "2023-08-22T23:13:35.971483",
     "exception": false,
     "start_time": "2023-08-22T23:13:34.964407",
     "status": "completed"
    },
    "tags": []
   },
   "outputs": [
    {
     "data": {
      "image/png": "[encoded data removed]",
      "text/plain": [
       "<Figure size 1440x1440 with 9 Axes>"
      ]
     },
     "metadata": {
      "needs_background": "light"
     },
     "output_type": "display_data"
    }
   ],
   "source": [
    "# 다시 그리는 상자그림\n",
    "plt.figure(figsize = (20, 20))\n",
    "plt.subplot(3, 3, 1)\n",
    "plt.boxplot(df['Pregnancies'])\n",
    "plt.xlabel('Pregnancies')\n",
    "\n",
    "plt.subplot(3, 3, 2)\n",
    "plt.boxplot(df['Glucose'])\n",
    "plt.xlabel('Glucose')\n",
    "\n",
    "plt.subplot(3, 3, 3)\n",
    "plt.boxplot(df['BloodPressure'])\n",
    "plt.xlabel('BloodPressure')\n",
    "\n",
    "plt.subplot(3, 3, 4)\n",
    "plt.boxplot(df['SkinThickness'])\n",
    "plt.xlabel('SkinThickness')\n",
    "\n",
    "plt.subplot(3, 3, 5)\n",
    "plt.boxplot(df['Insulin'])\n",
    "plt.xlabel('Insulin')\n",
    "\n",
    "plt.subplot(3, 3, 6)\n",
    "plt.boxplot(df['BMI'])\n",
    "plt.xlabel('BMI')\n",
    "\n",
    "plt.subplot(3, 3, 7)\n",
    "plt.boxplot(df['DiabetesPedigreeFunction'])\n",
    "plt.xlabel('DiabetesPedigreeFunction')\n",
    "\n",
    "plt.subplot(3, 3, 8)\n",
    "plt.boxplot(df['Age'])\n",
    "plt.xlabel('Age')\n",
    "\n",
    "plt.subplot(3, 3, 9)\n",
    "plt.boxplot(df['Outcome'])\n",
    "plt.xlabel('Outcome')\n",
    "\n",
    "plt.show()"
   ]
  },
  {
   "cell_type": "markdown",
   "id": "88be78ac",
   "metadata": {
    "papermill": {
     "duration": 0.045617,
     "end_time": "2023-08-22T23:13:36.064766",
     "exception": false,
     "start_time": "2023-08-22T23:13:36.019149",
     "status": "completed"
    },
    "tags": []
   },
   "source": [
    "### 1-3 앞선 두 단계에서 얻은 향후 분석시 고려사항 작성"
   ]
  },
  {
   "cell_type": "markdown",
   "id": "b9e656f8",
   "metadata": {
    "papermill": {
     "duration": 0.045614,
     "end_time": "2023-08-22T23:13:36.157734",
     "exception": false,
     "start_time": "2023-08-22T23:13:36.112120",
     "status": "completed"
    },
    "tags": []
   },
   "source": [
    "* 혈압이 24일 수 있는지 현업의 전문가와 논의 후 처리가 필요하다.\n",
    "* 이외에도 SkinThickness, Insulin, BMI, DiabetesPedigreeFunction에 대해서는 전문가와 논의 후 처리가 필요해보인다.\n",
    "* 상관계수가 큰 피처들이 존재하지 않으므로 다중공선성을 배제하기 위한 처리는 필요하지 않아 보인다."
   ]
  },
  {
   "cell_type": "markdown",
   "id": "f7d804d4",
   "metadata": {
    "papermill": {
     "duration": 0.046672,
     "end_time": "2023-08-22T23:13:36.251510",
     "exception": false,
     "start_time": "2023-08-22T23:13:36.204838",
     "status": "completed"
    },
    "tags": []
   },
   "source": [
    "# 문제 2"
   ]
  },
  {
   "cell_type": "markdown",
   "id": "310f0464",
   "metadata": {
    "papermill": {
     "duration": 0.047564,
     "end_time": "2023-08-22T23:13:36.345372",
     "exception": false,
     "start_time": "2023-08-22T23:13:36.297808",
     "status": "completed"
    },
    "tags": []
   },
   "source": [
    "### 2-1 오버샘플링 과정 설명하고 결과 작성"
   ]
  },
  {
   "cell_type": "markdown",
   "id": "11d93625",
   "metadata": {
    "papermill": {
     "duration": 0.046682,
     "end_time": "2023-08-22T23:13:36.441296",
     "exception": false,
     "start_time": "2023-08-22T23:13:36.394614",
     "status": "completed"
    },
    "tags": []
   },
   "source": [
    " * 오버 샘플링 기법은 비중이 적은 데이터를 추가로 생성해 수를 늘려 데이터 불균형을 극복하는 기법이다.\n",
    "    * 언더 샘플링은 데이터 손실의 문제로 예측 성능이 저하되는 단점이 있으므로, 일반적으로는 불균형한 데이터를 처리하는 방식으로 오버 샘플링을 사용한다.\n",
    "\n",
    " * 이때, 오버 샘플링은 Random Oversampling과 SMOTE로 구분할 수 있는데,\n",
    "\n",
    "> Random Oversampling은\n",
    "* 소수 클래스에 속하는 데이터의 관측치를 복사하는 방식으로 데이터를 증식한다.\n",
    "* 데이터를 단순 복사하는 방식이므로 기존의 데이터와 동일한 복제 데이터를 생성한다.\n",
    "* 이에 따라 소수 클래스에 과적합이 발생할 가능성이 있다는 단점이 있지만, 사용방법이 간단하다는 장점이 있다.\n",
    "\n",
    "> 한편, SMOTE는\n",
    "* 적은 데이터 세트에 있는 개별 데이터들의 k-최근접 이웃을 찾아, 해당 데이터와 k개 이웃들의 차이를 일정한 값으로 만들어 기존 데이터와 약간의 차이를 지닌 새로운 데이터를 생성하는 방식이다.\n",
    "* SMOTE는 Random Oversampling보다 처리 속도가 느리다는 단점이 잇지만, 데이터를 단순히 동일하게 증식시키는 방식이 아니기 때문에, 과적합 문제를 예방할 수 있는 장점이 있다.\n",
    "\n",
    "일단 이번에는 Random Oversampling을 선정한다."
   ]
  },
  {
   "cell_type": "code",
   "execution_count": 13,
   "id": "4434c6b7",
   "metadata": {
    "execution": {
     "iopub.execute_input": "2023-08-22T23:13:36.537607Z",
     "iopub.status.busy": "2023-08-22T23:13:36.536836Z",
     "iopub.status.idle": "2023-08-22T23:13:37.189625Z",
     "shell.execute_reply": "2023-08-22T23:13:37.190162Z",
     "shell.execute_reply.started": "2023-08-22T23:07:11.907488Z"
    },
    "papermill": {
     "duration": 0.702398,
     "end_time": "2023-08-22T23:13:37.190360",
     "exception": false,
     "start_time": "2023-08-22T23:13:36.487962",
     "status": "completed"
    },
    "tags": []
   },
   "outputs": [
    {
     "name": "stdout",
     "output_type": "stream",
     "text": [
      "ros_time :  0.0058710575103759766\n"
     ]
    }
   ],
   "source": [
    "# 종속변수인 Class에 대하여 Random Oversamplig\n",
    "from imblearn.over_sampling import RandomOverSampler\n",
    "ros = RandomOverSampler(random_state = 731)\n",
    "\n",
    "y=df.pop('Outcome')\n",
    "x=df\n",
    "\n",
    "import time\n",
    "# Random Oversampling\n",
    "ros_start_time = time.time() # 시작 시간\n",
    "x_ros, y_ros = ros.fit_resample(x, y)\n",
    "ros_end_time = time.time() # 종료 시간\n",
    "print('ros_time : ', ros_end_time - ros_start_time)"
   ]
  },
  {
   "cell_type": "markdown",
   "id": "948e1179",
   "metadata": {
    "papermill": {
     "duration": 0.046023,
     "end_time": "2023-08-22T23:13:37.282979",
     "exception": false,
     "start_time": "2023-08-22T23:13:37.236956",
     "status": "completed"
    },
    "tags": []
   },
   "source": [
    "### 2-2 언더샘플링 과정 설명하고 결과 작성"
   ]
  },
  {
   "cell_type": "markdown",
   "id": "f1e21fda",
   "metadata": {
    "papermill": {
     "duration": 0.047137,
     "end_time": "2023-08-22T23:13:37.376331",
     "exception": false,
     "start_time": "2023-08-22T23:13:37.329194",
     "status": "completed"
    },
    "tags": []
   },
   "source": [
    "종속변수에 대하여 상대적으로 빈도가 작은 변수에 맞춰주는 것이다,."
   ]
  },
  {
   "cell_type": "code",
   "execution_count": 14,
   "id": "65f305ad",
   "metadata": {
    "execution": {
     "iopub.execute_input": "2023-08-22T23:13:37.481376Z",
     "iopub.status.busy": "2023-08-22T23:13:37.480179Z",
     "iopub.status.idle": "2023-08-22T23:13:37.488030Z",
     "shell.execute_reply": "2023-08-22T23:13:37.488569Z",
     "shell.execute_reply.started": "2023-08-22T23:11:39.907229Z"
    },
    "papermill": {
     "duration": 0.062926,
     "end_time": "2023-08-22T23:13:37.488756",
     "exception": false,
     "start_time": "2023-08-22T23:13:37.425830",
     "status": "completed"
    },
    "tags": []
   },
   "outputs": [
    {
     "name": "stdout",
     "output_type": "stream",
     "text": [
      "rus_time :  0.0070154666900634766\n"
     ]
    }
   ],
   "source": [
    "from imblearn.under_sampling import RandomUnderSampler\n",
    "rus = RandomUnderSampler(random_state = 731)\n",
    "\n",
    "# Random Oversampling\n",
    "rus_start_time = time.time() # 시작 시간\n",
    "x_rus, y_rus = rus.fit_resample(x, y)\n",
    "rus_end_time = time.time() # 종료 시간\n",
    "print('rus_time : ', rus_end_time - rus_start_time)"
   ]
  },
  {
   "cell_type": "code",
   "execution_count": 15,
   "id": "30e1b8ca",
   "metadata": {
    "execution": {
     "iopub.execute_input": "2023-08-22T23:13:37.588527Z",
     "iopub.status.busy": "2023-08-22T23:13:37.587784Z",
     "iopub.status.idle": "2023-08-22T23:13:37.984821Z",
     "shell.execute_reply": "2023-08-22T23:13:37.985348Z",
     "shell.execute_reply.started": "2023-08-22T23:12:42.781279Z"
    },
    "papermill": {
     "duration": 0.449045,
     "end_time": "2023-08-22T23:13:37.985533",
     "exception": false,
     "start_time": "2023-08-22T23:13:37.536488",
     "status": "completed"
    },
    "tags": []
   },
   "outputs": [
    {
     "data": {
      "image/png": "[encoded data removed]",
      "text/plain": [
       "<Figure size 432x288 with 1 Axes>"
      ]
     },
     "metadata": {
      "needs_background": "light"
     },
     "output_type": "display_data"
    },
    {
     "data": {
      "image/png": "[encoded data removed]",
      "text/plain": [
       "<Figure size 432x288 with 1 Axes>"
      ]
     },
     "metadata": {
      "needs_background": "light"
     },
     "output_type": "display_data"
    },
    {
     "name": "stdout",
     "output_type": "stream",
     "text": [
      "(1000,) (536,)\n"
     ]
    }
   ],
   "source": [
    "sns.scatterplot(data = y_ros)\n",
    "plt.title('RandomOverSampling')\n",
    "plt.show()\n",
    "\n",
    "sns.scatterplot(data = y_rus)\n",
    "plt.title('RandomUnderSampling')\n",
    "plt.show()\n",
    "\n",
    "print(y_ros.shape, y_rus.shape)"
   ]
  },
  {
   "cell_type": "markdown",
   "id": "1f639ca6",
   "metadata": {
    "papermill": {
     "duration": 0.048353,
     "end_time": "2023-08-22T23:13:38.082903",
     "exception": false,
     "start_time": "2023-08-22T23:13:38.034550",
     "status": "completed"
    },
    "tags": []
   },
   "source": [
    "### 2-3 둘 중 선택하고 이유 설명"
   ]
  },
  {
   "cell_type": "markdown",
   "id": "fcaef4b3",
   "metadata": {
    "papermill": {
     "duration": 0.048308,
     "end_time": "2023-08-22T23:13:38.179790",
     "exception": false,
     "start_time": "2023-08-22T23:13:38.131482",
     "status": "completed"
    },
    "tags": []
   },
   "source": [
    "오버샘플링을 선택한다.\n",
    "데이터가 부족한 것 보다는 충분한 것이 좋다."
   ]
  },
  {
   "cell_type": "markdown",
   "id": "7afb1acd",
   "metadata": {
    "papermill": {
     "duration": 0.048246,
     "end_time": "2023-08-22T23:13:38.276777",
     "exception": false,
     "start_time": "2023-08-22T23:13:38.228531",
     "status": "completed"
    },
    "tags": []
   },
   "source": [
    "# 문제 3"
   ]
  },
  {
   "cell_type": "markdown",
   "id": "27627af2",
   "metadata": {
    "papermill": {
     "duration": 0.048204,
     "end_time": "2023-08-22T23:13:38.373892",
     "exception": false,
     "start_time": "2023-08-22T23:13:38.325688",
     "status": "completed"
    },
    "tags": []
   },
   "source": [
    "### 3-1 최소 3개 이상 알고리즘 제시하고 정확도 측면의 모델 1개와 속도 측면의 모델 1개를 꼭 구현(총 2개 이상)"
   ]
  },
  {
   "cell_type": "markdown",
   "id": "6960b040",
   "metadata": {
    "papermill": {
     "duration": 0.048225,
     "end_time": "2023-08-22T23:13:38.470697",
     "exception": false,
     "start_time": "2023-08-22T23:13:38.422472",
     "status": "completed"
    },
    "tags": []
   },
   "source": [
    "### 3-2 모델 비교하고 결과 설명"
   ]
  },
  {
   "cell_type": "markdown",
   "id": "f08026b0",
   "metadata": {
    "papermill": {
     "duration": 0.048291,
     "end_time": "2023-08-22T23:13:38.567236",
     "exception": false,
     "start_time": "2023-08-22T23:13:38.518945",
     "status": "completed"
    },
    "tags": []
   },
   "source": [
    "### 3-3 속도 개선을 위한 차원 축소 설명하고 수행, 예측 성능과 속도 비교하고 결과 작성"
   ]
  },
  {
   "cell_type": "markdown",
   "id": "ec809f58",
   "metadata": {
    "papermill": {
     "duration": 0.048502,
     "end_time": "2023-08-22T23:13:38.665883",
     "exception": false,
     "start_time": "2023-08-22T23:13:38.617381",
     "status": "completed"
    },
    "tags": []
   },
   "source": [
    "# 문제 4 \n",
    "금속 성분 함유량 데이터(변수 1개) - 제품에 금속 재질 함유량의 분산이 1.3을 넘으면 불량이라고 보고 있는데 제조사별로 차이가 난다고 제보를 받았으며, 분산에 대해 검정을 수행하시오. (유의확률 0.05)"
   ]
  },
  {
   "cell_type": "markdown",
   "id": "6cf8810d",
   "metadata": {
    "papermill": {
     "duration": 0.049159,
     "end_time": "2023-08-22T23:13:38.763695",
     "exception": false,
     "start_time": "2023-08-22T23:13:38.714536",
     "status": "completed"
    },
    "tags": []
   },
   "source": [
    "#### dataset : /kaggle/input/adpkrp5/content.csv"
   ]
  },
  {
   "cell_type": "markdown",
   "id": "639a5d4c",
   "metadata": {
    "papermill": {
     "duration": 0.048305,
     "end_time": "2023-08-22T23:13:38.860723",
     "exception": false,
     "start_time": "2023-08-22T23:13:38.812418",
     "status": "completed"
    },
    "tags": []
   },
   "source": [
    "### 4-1 연구가설과 귀무가설 작성"
   ]
  },
  {
   "cell_type": "markdown",
   "id": "2190385a",
   "metadata": {
    "papermill": {
     "duration": 0.049835,
     "end_time": "2023-08-22T23:13:38.959209",
     "exception": false,
     "start_time": "2023-08-22T23:13:38.909374",
     "status": "completed"
    },
    "tags": []
   },
   "source": [
    "### 4-2 양측 검정"
   ]
  },
  {
   "cell_type": "markdown",
   "id": "a726480b",
   "metadata": {
    "papermill": {
     "duration": 0.048227,
     "end_time": "2023-08-22T23:13:39.056371",
     "exception": false,
     "start_time": "2023-08-22T23:13:39.008144",
     "status": "completed"
    },
    "tags": []
   },
   "source": [
    "### 4-3 검정통계량, 가설 채택"
   ]
  },
  {
   "cell_type": "markdown",
   "id": "cb3d2f94",
   "metadata": {
    "papermill": {
     "duration": 0.048749,
     "end_time": "2023-08-22T23:13:39.153235",
     "exception": false,
     "start_time": "2023-08-22T23:13:39.104486",
     "status": "completed"
    },
    "tags": []
   },
   "source": [
    "# 문제 5\n",
    "Lot별 200개에 대한 불량 제품 수량 데이터(변수 2개 - lot번호, 불량제품수)    \n",
    "/kaggle/input/adpkrp5/error.csv"
   ]
  },
  {
   "cell_type": "markdown",
   "id": "d69f7d29",
   "metadata": {
    "papermill": {
     "duration": 0.04925,
     "end_time": "2023-08-22T23:13:39.250618",
     "exception": false,
     "start_time": "2023-08-22T23:13:39.201368",
     "status": "completed"
    },
    "tags": []
   },
   "source": [
    "### 5-1 불량률 관리도에 따라 관리중심선(CL : Center Line), 관리 상한선(UCL : Upper Control Limit), 하한선(LCL : Lower Control Limit) 구하기"
   ]
  },
  {
   "cell_type": "markdown",
   "id": "3f1dc50c",
   "metadata": {
    "papermill": {
     "duration": 0.048286,
     "end_time": "2023-08-22T23:13:39.352300",
     "exception": false,
     "start_time": "2023-08-22T23:13:39.304014",
     "status": "completed"
    },
    "tags": []
   },
   "source": [
    "### 5-2 관리도 시각화"
   ]
  },
  {
   "cell_type": "markdown",
   "id": "ccf9badb",
   "metadata": {
    "papermill": {
     "duration": 0.05012,
     "end_time": "2023-08-22T23:13:39.450554",
     "exception": false,
     "start_time": "2023-08-22T23:13:39.400434",
     "status": "completed"
    },
    "tags": []
   },
   "source": [
    "# 문제 6\n",
    "상품 a와 b가 있을 때 다음과 같은 구매 패턴이 있다고 한다. aa bb aaaa bbbb a b aa bb aa bbb aa bb a b 구매하는 패턴으로 보아 두 상품이 연관이 있는지 확인하라"
   ]
  },
  {
   "cell_type": "markdown",
   "id": "fd0d0a72",
   "metadata": {
    "papermill": {
     "duration": 0.050082,
     "end_time": "2023-08-22T23:13:39.550653",
     "exception": false,
     "start_time": "2023-08-22T23:13:39.500571",
     "status": "completed"
    },
    "tags": []
   },
   "source": [
    "### 6-1 연구가설과 귀무가설 작성"
   ]
  },
  {
   "cell_type": "markdown",
   "id": "5db35e8a",
   "metadata": {
    "papermill": {
     "duration": 0.051037,
     "end_time": "2023-08-22T23:13:39.651770",
     "exception": false,
     "start_time": "2023-08-22T23:13:39.600733",
     "status": "completed"
    },
    "tags": []
   },
   "source": [
    "### 6-2 평균과 표준편차"
   ]
  },
  {
   "cell_type": "markdown",
   "id": "8af8975b",
   "metadata": {
    "papermill": {
     "duration": 0.049149,
     "end_time": "2023-08-22T23:13:39.751088",
     "exception": false,
     "start_time": "2023-08-22T23:13:39.701939",
     "status": "completed"
    },
    "tags": []
   },
   "source": [
    "### 6-3 가설 채택"
   ]
  }
 ],
 "metadata": {
  "kernelspec": {
   "display_name": "Python 3",
   "language": "python",
   "name": "python3"
  },
  "language_info": {
   "codemirror_mode": {
    "name": "ipython",
    "version": 3
   },
   "file_extension": ".py",
   "mimetype": "text/x-python",
   "name": "python",
   "nbconvert_exporter": "python",
   "pygments_lexer": "ipython3",
   "version": "3.7.12"
  },
  "papermill": {
   "default_parameters": {},
   "duration": 21.679094,
   "end_time": "2023-08-22T23:13:40.510563",
   "environment_variables": {},
   "exception": null,
   "input_path": "__notebook__.ipynb",
   "output_path": "__notebook__.ipynb",
   "parameters": {},
   "start_time": "2023-08-22T23:13:18.831469",
   "version": "2.3.3"
  }
 },
 "nbformat": 4,
 "nbformat_minor": 5
}

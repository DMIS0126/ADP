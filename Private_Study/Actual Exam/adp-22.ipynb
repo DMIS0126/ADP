{
 "cells": [
  {
   "cell_type": "markdown",
   "id": "ac625cf0",
   "metadata": {
    "papermill": {
     "duration": 0.043783,
     "end_time": "2023-08-21T23:11:53.241261",
     "exception": false,
     "start_time": "2023-08-21T23:11:53.197478",
     "status": "completed"
    },
    "tags": []
   },
   "source": [
    "# 문제 1"
   ]
  },
  {
   "cell_type": "markdown",
   "id": "815695b7",
   "metadata": {
    "papermill": {
     "duration": 0.04153,
     "end_time": "2023-08-21T23:11:53.324480",
     "exception": false,
     "start_time": "2023-08-21T23:11:53.282950",
     "status": "completed"
    },
    "tags": []
   },
   "source": [
    "#### dataset : pima-indians-diabetes-database [kaggle link](pima-indians-diabetes-database) - added post-processing\n",
    "/kaggle/input/adpkrp5/data1.csv"
   ]
  },
  {
   "cell_type": "markdown",
   "id": "57a4f565",
   "metadata": {
    "execution": {
     "iopub.execute_input": "2022-03-02T16:01:52.763794Z",
     "iopub.status.busy": "2022-03-02T16:01:52.76349Z",
     "iopub.status.idle": "2022-03-02T16:01:52.768363Z",
     "shell.execute_reply": "2022-03-02T16:01:52.767292Z",
     "shell.execute_reply.started": "2022-03-02T16:01:52.763766Z"
    },
    "papermill": {
     "duration": 0.040132,
     "end_time": "2023-08-21T23:11:53.405794",
     "exception": false,
     "start_time": "2023-08-21T23:11:53.365662",
     "status": "completed"
    },
    "tags": []
   },
   "source": [
    "### 1-1 탐색적 데이터 분석 수행(시각화 포함)"
   ]
  },
  {
   "cell_type": "code",
   "execution_count": 1,
   "id": "4d1bfc16",
   "metadata": {
    "execution": {
     "iopub.execute_input": "2023-08-21T23:11:53.495364Z",
     "iopub.status.busy": "2023-08-21T23:11:53.493951Z",
     "iopub.status.idle": "2023-08-21T23:11:54.846662Z",
     "shell.execute_reply": "2023-08-21T23:11:54.847301Z",
     "shell.execute_reply.started": "2023-08-21T23:09:08.740855Z"
    },
    "papermill": {
     "duration": 1.399916,
     "end_time": "2023-08-21T23:11:54.847707",
     "exception": false,
     "start_time": "2023-08-21T23:11:53.447791",
     "status": "completed"
    },
    "tags": []
   },
   "outputs": [
    {
     "data": {
      "text/html": [
       "<div>\n",
       "<style scoped>\n",
       "    .dataframe tbody tr th:only-of-type {\n",
       "        vertical-align: middle;\n",
       "    }\n",
       "\n",
       "    .dataframe tbody tr th {\n",
       "        vertical-align: top;\n",
       "    }\n",
       "\n",
       "    .dataframe thead th {\n",
       "        text-align: right;\n",
       "    }\n",
       "</style>\n",
       "<table border=\"1\" class=\"dataframe\">\n",
       "  <thead>\n",
       "    <tr style=\"text-align: right;\">\n",
       "      <th></th>\n",
       "      <th>Pregnancies</th>\n",
       "      <th>Glucose</th>\n",
       "      <th>BloodPressure</th>\n",
       "      <th>SkinThickness</th>\n",
       "      <th>Insulin</th>\n",
       "      <th>BMI</th>\n",
       "      <th>DiabetesPedigreeFunction</th>\n",
       "      <th>Age</th>\n",
       "      <th>Outcome</th>\n",
       "    </tr>\n",
       "  </thead>\n",
       "  <tbody>\n",
       "    <tr>\n",
       "      <th>0</th>\n",
       "      <td>6</td>\n",
       "      <td>148</td>\n",
       "      <td>72</td>\n",
       "      <td>35</td>\n",
       "      <td>0</td>\n",
       "      <td>33.6</td>\n",
       "      <td>0.627</td>\n",
       "      <td>50</td>\n",
       "      <td>1</td>\n",
       "    </tr>\n",
       "    <tr>\n",
       "      <th>1</th>\n",
       "      <td>1</td>\n",
       "      <td>85</td>\n",
       "      <td>66</td>\n",
       "      <td>29</td>\n",
       "      <td>0</td>\n",
       "      <td>26.6</td>\n",
       "      <td>0.351</td>\n",
       "      <td>31</td>\n",
       "      <td>0</td>\n",
       "    </tr>\n",
       "    <tr>\n",
       "      <th>2</th>\n",
       "      <td>8</td>\n",
       "      <td>183</td>\n",
       "      <td>64</td>\n",
       "      <td>0</td>\n",
       "      <td>0</td>\n",
       "      <td>23.3</td>\n",
       "      <td>0.672</td>\n",
       "      <td>32</td>\n",
       "      <td>1</td>\n",
       "    </tr>\n",
       "    <tr>\n",
       "      <th>3</th>\n",
       "      <td>1</td>\n",
       "      <td>89</td>\n",
       "      <td>66</td>\n",
       "      <td>23</td>\n",
       "      <td>94</td>\n",
       "      <td>28.1</td>\n",
       "      <td>0.167</td>\n",
       "      <td>21</td>\n",
       "      <td>0</td>\n",
       "    </tr>\n",
       "    <tr>\n",
       "      <th>4</th>\n",
       "      <td>0</td>\n",
       "      <td>137</td>\n",
       "      <td>40</td>\n",
       "      <td>35</td>\n",
       "      <td>168</td>\n",
       "      <td>43.1</td>\n",
       "      <td>2.288</td>\n",
       "      <td>33</td>\n",
       "      <td>1</td>\n",
       "    </tr>\n",
       "  </tbody>\n",
       "</table>\n",
       "</div>"
      ],
      "text/plain": [
       "   Pregnancies  Glucose  BloodPressure  SkinThickness  Insulin   BMI  \\\n",
       "0            6      148             72             35        0  33.6   \n",
       "1            1       85             66             29        0  26.6   \n",
       "2            8      183             64              0        0  23.3   \n",
       "3            1       89             66             23       94  28.1   \n",
       "4            0      137             40             35      168  43.1   \n",
       "\n",
       "   DiabetesPedigreeFunction  Age  Outcome  \n",
       "0                     0.627   50        1  \n",
       "1                     0.351   31        0  \n",
       "2                     0.672   32        1  \n",
       "3                     0.167   21        0  \n",
       "4                     2.288   33        1  "
      ]
     },
     "execution_count": 1,
     "metadata": {},
     "output_type": "execute_result"
    }
   ],
   "source": [
    "import pandas as pd\n",
    "import numpy as np\n",
    "import matplotlib.pyplot as plt\n",
    "import seaborn as sns\n",
    "\n",
    "df = pd.read_csv('/kaggle/input/adpkrp5/data1.csv')\n",
    "df.head()"
   ]
  },
  {
   "cell_type": "code",
   "execution_count": 2,
   "id": "c739b63b",
   "metadata": {
    "execution": {
     "iopub.execute_input": "2023-08-21T23:11:54.965222Z",
     "iopub.status.busy": "2023-08-21T23:11:54.963950Z",
     "iopub.status.idle": "2023-08-21T23:11:54.967963Z",
     "shell.execute_reply": "2023-08-21T23:11:54.968603Z",
     "shell.execute_reply.started": "2023-08-21T23:09:08.775611Z"
    },
    "papermill": {
     "duration": 0.076442,
     "end_time": "2023-08-21T23:11:54.968832",
     "exception": false,
     "start_time": "2023-08-21T23:11:54.892390",
     "status": "completed"
    },
    "tags": []
   },
   "outputs": [
    {
     "name": "stdout",
     "output_type": "stream",
     "text": [
      "<class 'pandas.core.frame.DataFrame'>\n",
      "RangeIndex: 768 entries, 0 to 767\n",
      "Data columns (total 9 columns):\n",
      " #   Column                    Non-Null Count  Dtype  \n",
      "---  ------                    --------------  -----  \n",
      " 0   Pregnancies               768 non-null    int64  \n",
      " 1   Glucose                   768 non-null    int64  \n",
      " 2   BloodPressure             768 non-null    int64  \n",
      " 3   SkinThickness             768 non-null    int64  \n",
      " 4   Insulin                   768 non-null    int64  \n",
      " 5   BMI                       768 non-null    float64\n",
      " 6   DiabetesPedigreeFunction  768 non-null    float64\n",
      " 7   Age                       768 non-null    int64  \n",
      " 8   Outcome                   768 non-null    int64  \n",
      "dtypes: float64(2), int64(7)\n",
      "memory usage: 54.1 KB\n"
     ]
    }
   ],
   "source": [
    "# 결측치 확인\n",
    "df.info()"
   ]
  },
  {
   "cell_type": "code",
   "execution_count": 3,
   "id": "f2ee0d0a",
   "metadata": {
    "execution": {
     "iopub.execute_input": "2023-08-21T23:11:55.071960Z",
     "iopub.status.busy": "2023-08-21T23:11:55.070837Z",
     "iopub.status.idle": "2023-08-21T23:11:55.076153Z",
     "shell.execute_reply": "2023-08-21T23:11:55.075367Z",
     "shell.execute_reply.started": "2023-08-21T23:09:08.792451Z"
    },
    "papermill": {
     "duration": 0.059876,
     "end_time": "2023-08-21T23:11:55.076332",
     "exception": false,
     "start_time": "2023-08-21T23:11:55.016456",
     "status": "completed"
    },
    "tags": []
   },
   "outputs": [
    {
     "data": {
      "text/plain": [
       "Pregnancies                 0\n",
       "Glucose                     0\n",
       "BloodPressure               0\n",
       "SkinThickness               0\n",
       "Insulin                     0\n",
       "BMI                         0\n",
       "DiabetesPedigreeFunction    0\n",
       "Age                         0\n",
       "Outcome                     0\n",
       "dtype: int64"
      ]
     },
     "execution_count": 3,
     "metadata": {},
     "output_type": "execute_result"
    }
   ],
   "source": [
    "# 혹시나 해서 한 번더\n",
    "df.isnull().sum()"
   ]
  },
  {
   "cell_type": "code",
   "execution_count": 4,
   "id": "e6ed3bbf",
   "metadata": {
    "execution": {
     "iopub.execute_input": "2023-08-21T23:11:55.175168Z",
     "iopub.status.busy": "2023-08-21T23:11:55.173811Z",
     "iopub.status.idle": "2023-08-21T23:11:55.212461Z",
     "shell.execute_reply": "2023-08-21T23:11:55.211691Z",
     "shell.execute_reply.started": "2023-08-21T23:09:08.818795Z"
    },
    "papermill": {
     "duration": 0.093352,
     "end_time": "2023-08-21T23:11:55.212649",
     "exception": false,
     "start_time": "2023-08-21T23:11:55.119297",
     "status": "completed"
    },
    "tags": []
   },
   "outputs": [
    {
     "data": {
      "text/html": [
       "<div>\n",
       "<style scoped>\n",
       "    .dataframe tbody tr th:only-of-type {\n",
       "        vertical-align: middle;\n",
       "    }\n",
       "\n",
       "    .dataframe tbody tr th {\n",
       "        vertical-align: top;\n",
       "    }\n",
       "\n",
       "    .dataframe thead th {\n",
       "        text-align: right;\n",
       "    }\n",
       "</style>\n",
       "<table border=\"1\" class=\"dataframe\">\n",
       "  <thead>\n",
       "    <tr style=\"text-align: right;\">\n",
       "      <th></th>\n",
       "      <th>Pregnancies</th>\n",
       "      <th>Glucose</th>\n",
       "      <th>BloodPressure</th>\n",
       "      <th>SkinThickness</th>\n",
       "      <th>Insulin</th>\n",
       "      <th>BMI</th>\n",
       "      <th>DiabetesPedigreeFunction</th>\n",
       "      <th>Age</th>\n",
       "      <th>Outcome</th>\n",
       "    </tr>\n",
       "  </thead>\n",
       "  <tbody>\n",
       "    <tr>\n",
       "      <th>count</th>\n",
       "      <td>768.000000</td>\n",
       "      <td>768.000000</td>\n",
       "      <td>768.000000</td>\n",
       "      <td>768.000000</td>\n",
       "      <td>768.000000</td>\n",
       "      <td>768.000000</td>\n",
       "      <td>768.000000</td>\n",
       "      <td>768.000000</td>\n",
       "      <td>768.000000</td>\n",
       "    </tr>\n",
       "    <tr>\n",
       "      <th>mean</th>\n",
       "      <td>3.845052</td>\n",
       "      <td>120.894531</td>\n",
       "      <td>81.976562</td>\n",
       "      <td>20.536458</td>\n",
       "      <td>79.799479</td>\n",
       "      <td>44.934766</td>\n",
       "      <td>0.471876</td>\n",
       "      <td>34.447917</td>\n",
       "      <td>0.348958</td>\n",
       "    </tr>\n",
       "    <tr>\n",
       "      <th>std</th>\n",
       "      <td>3.369578</td>\n",
       "      <td>31.972618</td>\n",
       "      <td>358.835058</td>\n",
       "      <td>15.952218</td>\n",
       "      <td>115.244002</td>\n",
       "      <td>359.739733</td>\n",
       "      <td>0.331329</td>\n",
       "      <td>36.754727</td>\n",
       "      <td>0.476951</td>\n",
       "    </tr>\n",
       "    <tr>\n",
       "      <th>min</th>\n",
       "      <td>0.000000</td>\n",
       "      <td>0.000000</td>\n",
       "      <td>0.000000</td>\n",
       "      <td>0.000000</td>\n",
       "      <td>0.000000</td>\n",
       "      <td>0.000000</td>\n",
       "      <td>0.078000</td>\n",
       "      <td>21.000000</td>\n",
       "      <td>0.000000</td>\n",
       "    </tr>\n",
       "    <tr>\n",
       "      <th>25%</th>\n",
       "      <td>1.000000</td>\n",
       "      <td>99.000000</td>\n",
       "      <td>62.000000</td>\n",
       "      <td>0.000000</td>\n",
       "      <td>0.000000</td>\n",
       "      <td>27.300000</td>\n",
       "      <td>0.243750</td>\n",
       "      <td>24.000000</td>\n",
       "      <td>0.000000</td>\n",
       "    </tr>\n",
       "    <tr>\n",
       "      <th>50%</th>\n",
       "      <td>3.000000</td>\n",
       "      <td>117.000000</td>\n",
       "      <td>72.000000</td>\n",
       "      <td>23.000000</td>\n",
       "      <td>30.500000</td>\n",
       "      <td>32.000000</td>\n",
       "      <td>0.372500</td>\n",
       "      <td>29.000000</td>\n",
       "      <td>0.000000</td>\n",
       "    </tr>\n",
       "    <tr>\n",
       "      <th>75%</th>\n",
       "      <td>6.000000</td>\n",
       "      <td>140.250000</td>\n",
       "      <td>80.000000</td>\n",
       "      <td>32.000000</td>\n",
       "      <td>127.250000</td>\n",
       "      <td>36.600000</td>\n",
       "      <td>0.626250</td>\n",
       "      <td>41.000000</td>\n",
       "      <td>1.000000</td>\n",
       "    </tr>\n",
       "    <tr>\n",
       "      <th>max</th>\n",
       "      <td>17.000000</td>\n",
       "      <td>199.000000</td>\n",
       "      <td>9999.000000</td>\n",
       "      <td>99.000000</td>\n",
       "      <td>846.000000</td>\n",
       "      <td>9999.000000</td>\n",
       "      <td>2.420000</td>\n",
       "      <td>999.000000</td>\n",
       "      <td>1.000000</td>\n",
       "    </tr>\n",
       "  </tbody>\n",
       "</table>\n",
       "</div>"
      ],
      "text/plain": [
       "       Pregnancies     Glucose  BloodPressure  SkinThickness     Insulin  \\\n",
       "count   768.000000  768.000000     768.000000     768.000000  768.000000   \n",
       "mean      3.845052  120.894531      81.976562      20.536458   79.799479   \n",
       "std       3.369578   31.972618     358.835058      15.952218  115.244002   \n",
       "min       0.000000    0.000000       0.000000       0.000000    0.000000   \n",
       "25%       1.000000   99.000000      62.000000       0.000000    0.000000   \n",
       "50%       3.000000  117.000000      72.000000      23.000000   30.500000   \n",
       "75%       6.000000  140.250000      80.000000      32.000000  127.250000   \n",
       "max      17.000000  199.000000    9999.000000      99.000000  846.000000   \n",
       "\n",
       "               BMI  DiabetesPedigreeFunction         Age     Outcome  \n",
       "count   768.000000                768.000000  768.000000  768.000000  \n",
       "mean     44.934766                  0.471876   34.447917    0.348958  \n",
       "std     359.739733                  0.331329   36.754727    0.476951  \n",
       "min       0.000000                  0.078000   21.000000    0.000000  \n",
       "25%      27.300000                  0.243750   24.000000    0.000000  \n",
       "50%      32.000000                  0.372500   29.000000    0.000000  \n",
       "75%      36.600000                  0.626250   41.000000    1.000000  \n",
       "max    9999.000000                  2.420000  999.000000    1.000000  "
      ]
     },
     "execution_count": 4,
     "metadata": {},
     "output_type": "execute_result"
    }
   ],
   "source": [
    "# 기초통계량 확인\n",
    "df.describe()"
   ]
  },
  {
   "cell_type": "code",
   "execution_count": 5,
   "id": "657b8833",
   "metadata": {
    "execution": {
     "iopub.execute_input": "2023-08-21T23:11:55.316819Z",
     "iopub.status.busy": "2023-08-21T23:11:55.315628Z",
     "iopub.status.idle": "2023-08-21T23:11:55.319479Z",
     "shell.execute_reply": "2023-08-21T23:11:55.318639Z",
     "shell.execute_reply.started": "2023-08-21T23:09:08.865227Z"
    },
    "papermill": {
     "duration": 0.055938,
     "end_time": "2023-08-21T23:11:55.319656",
     "exception": false,
     "start_time": "2023-08-21T23:11:55.263718",
     "status": "completed"
    },
    "tags": []
   },
   "outputs": [],
   "source": [
    "# BloodPressure, BMI, Age에 뭔가 이상치가 조금 있는 것 같음\n",
    "# 상자그림을 그려봐야겠다."
   ]
  },
  {
   "cell_type": "code",
   "execution_count": 6,
   "id": "434b6150",
   "metadata": {
    "execution": {
     "iopub.execute_input": "2023-08-21T23:11:55.437138Z",
     "iopub.status.busy": "2023-08-21T23:11:55.429084Z",
     "iopub.status.idle": "2023-08-21T23:11:56.660100Z",
     "shell.execute_reply": "2023-08-21T23:11:56.660687Z",
     "shell.execute_reply.started": "2023-08-21T23:09:08.871424Z"
    },
    "papermill": {
     "duration": 1.293415,
     "end_time": "2023-08-21T23:11:56.660879",
     "exception": false,
     "start_time": "2023-08-21T23:11:55.367464",
     "status": "completed"
    },
    "tags": []
   },
   "outputs": [
    {
     "data": {
      "image/png": "[encoded data removed]",
      "text/plain": [
       "<Figure size 1440x1440 with 9 Axes>"
      ]
     },
     "metadata": {
      "needs_background": "light"
     },
     "output_type": "display_data"
    }
   ],
   "source": [
    "plt.figure(figsize = (20, 20))\n",
    "plt.subplot(3, 3, 1)\n",
    "plt.boxplot(df['Pregnancies'])\n",
    "plt.xlabel('Pregnancies')\n",
    "\n",
    "plt.subplot(3, 3, 2)\n",
    "plt.boxplot(df['Glucose'])\n",
    "plt.xlabel('Glucose')\n",
    "\n",
    "plt.subplot(3, 3, 3)\n",
    "plt.boxplot(df['BloodPressure'])\n",
    "plt.xlabel('BloodPressure')\n",
    "\n",
    "plt.subplot(3, 3, 4)\n",
    "plt.boxplot(df['SkinThickness'])\n",
    "plt.xlabel('SkinThickness')\n",
    "\n",
    "plt.subplot(3, 3, 5)\n",
    "plt.boxplot(df['Insulin'])\n",
    "plt.xlabel('Insulin')\n",
    "\n",
    "plt.subplot(3, 3, 6)\n",
    "plt.boxplot(df['BMI'])\n",
    "plt.xlabel('BMI')\n",
    "\n",
    "plt.subplot(3, 3, 7)\n",
    "plt.boxplot(df['DiabetesPedigreeFunction'])\n",
    "plt.xlabel('DiabetesPedigreeFunction')\n",
    "\n",
    "plt.subplot(3, 3, 8)\n",
    "plt.boxplot(df['Age'])\n",
    "plt.xlabel('Age')\n",
    "\n",
    "plt.subplot(3, 3, 9)\n",
    "plt.boxplot(df['Outcome'])\n",
    "plt.xlabel('Outcome')\n",
    "\n",
    "plt.show()"
   ]
  },
  {
   "cell_type": "markdown",
   "id": "61d27bef",
   "metadata": {
    "papermill": {
     "duration": 0.046089,
     "end_time": "2023-08-21T23:11:56.757143",
     "exception": false,
     "start_time": "2023-08-21T23:11:56.711054",
     "status": "completed"
    },
    "tags": []
   },
   "source": [
    "일단 이상치있는 건 확인했고, 처리는 1-2번에서 하자.\n",
    "그리고 이번에는 상관관계를 확인하기 위해 상관계수 히트맵을 그린다."
   ]
  },
  {
   "cell_type": "code",
   "execution_count": 7,
   "id": "090deba1",
   "metadata": {
    "execution": {
     "iopub.execute_input": "2023-08-21T23:11:56.856869Z",
     "iopub.status.busy": "2023-08-21T23:11:56.855911Z",
     "iopub.status.idle": "2023-08-21T23:11:57.624123Z",
     "shell.execute_reply": "2023-08-21T23:11:57.623358Z",
     "shell.execute_reply.started": "2023-08-21T23:09:10.139389Z"
    },
    "papermill": {
     "duration": 0.819636,
     "end_time": "2023-08-21T23:11:57.624329",
     "exception": false,
     "start_time": "2023-08-21T23:11:56.804693",
     "status": "completed"
    },
    "tags": []
   },
   "outputs": [
    {
     "data": {
      "image/png": "[encoded data removed]",
      "text/plain": [
       "<Figure size 720x720 with 2 Axes>"
      ]
     },
     "metadata": {
      "needs_background": "light"
     },
     "output_type": "display_data"
    }
   ],
   "source": [
    "df_corr = df.corr(method = 'pearson')\n",
    "plt.figure(figsize = (10, 10))\n",
    "sns.heatmap(df_corr, cmap = 'RdBu_r', annot = True, fmt = '.0%')\n",
    "plt.show()"
   ]
  },
  {
   "cell_type": "markdown",
   "id": "8185315f",
   "metadata": {
    "papermill": {
     "duration": 0.048828,
     "end_time": "2023-08-21T23:11:57.723452",
     "exception": false,
     "start_time": "2023-08-21T23:11:57.674624",
     "status": "completed"
    },
    "tags": []
   },
   "source": [
    "상관관계가 큰 것은 보이지 않는다.\n",
    "\n",
    "따라서 다중공선성은 의심하지 않아도 될 것 같다."
   ]
  },
  {
   "cell_type": "markdown",
   "id": "b0dc6e68",
   "metadata": {
    "papermill": {
     "duration": 0.048558,
     "end_time": "2023-08-21T23:11:57.821634",
     "exception": false,
     "start_time": "2023-08-21T23:11:57.773076",
     "status": "completed"
    },
    "tags": []
   },
   "source": [
    "마지막으로 하나씩 히스토그램 그려보기"
   ]
  },
  {
   "cell_type": "code",
   "execution_count": 8,
   "id": "4ebb49a3",
   "metadata": {
    "execution": {
     "iopub.execute_input": "2023-08-21T23:11:58.116403Z",
     "iopub.status.busy": "2023-08-21T23:11:58.115545Z",
     "iopub.status.idle": "2023-08-21T23:11:59.772860Z",
     "shell.execute_reply": "2023-08-21T23:11:59.771706Z",
     "shell.execute_reply.started": "2023-08-21T23:09:10.839961Z"
    },
    "papermill": {
     "duration": 1.902457,
     "end_time": "2023-08-21T23:11:59.773098",
     "exception": false,
     "start_time": "2023-08-21T23:11:57.870641",
     "status": "completed"
    },
    "tags": []
   },
   "outputs": [
    {
     "data": {
      "image/png": "[encoded data removed]",
      "text/plain": [
       "<Figure size 1440x1440 with 9 Axes>"
      ]
     },
     "metadata": {
      "needs_background": "light"
     },
     "output_type": "display_data"
    }
   ],
   "source": [
    "plt.figure(figsize = (20, 20))\n",
    "for (col, i) in zip(df.columns, range(1, 10)):\n",
    "    plt.subplot(3, 3, i)\n",
    "    plt.hist(df[col])\n",
    "    plt.xlabel(col)\n",
    "plt.show()"
   ]
  },
  {
   "cell_type": "markdown",
   "id": "6093ab86",
   "metadata": {
    "papermill": {
     "duration": 0.054755,
     "end_time": "2023-08-21T23:11:59.882612",
     "exception": false,
     "start_time": "2023-08-21T23:11:59.827857",
     "status": "completed"
    },
    "tags": []
   },
   "source": [
    "### 1-2 이상치 처리(이상값 대체방안 제시)"
   ]
  },
  {
   "cell_type": "markdown",
   "id": "0784df7e",
   "metadata": {
    "papermill": {
     "duration": 0.050915,
     "end_time": "2023-08-21T23:11:59.986082",
     "exception": false,
     "start_time": "2023-08-21T23:11:59.935167",
     "status": "completed"
    },
    "tags": []
   },
   "source": [
    "* 데이터의 수가 매우 많고 이상치가 존재하는 행이 전체 데이터에 비해 많지 않은 경우 이상치가 존재하는 행 전체를 삭제할 수 있다.\n",
    "* 만약 대체한다면 변수의 특징에 따라 평균, 중앙값, 최빈값과 같은 대푯값을 선정하여 대체할 수 있다."
   ]
  },
  {
   "cell_type": "code",
   "execution_count": 9,
   "id": "9f23dcba",
   "metadata": {
    "execution": {
     "iopub.execute_input": "2023-08-21T23:12:00.098913Z",
     "iopub.status.busy": "2023-08-21T23:12:00.097933Z",
     "iopub.status.idle": "2023-08-21T23:12:00.102800Z",
     "shell.execute_reply": "2023-08-21T23:12:00.102103Z",
     "shell.execute_reply.started": "2023-08-21T23:09:12.348763Z"
    },
    "papermill": {
     "duration": 0.063091,
     "end_time": "2023-08-21T23:12:00.102974",
     "exception": false,
     "start_time": "2023-08-21T23:12:00.039883",
     "status": "completed"
    },
    "tags": []
   },
   "outputs": [
    {
     "data": {
      "text/plain": [
       "Index(['Pregnancies', 'Glucose', 'BloodPressure', 'SkinThickness', 'Insulin',\n",
       "       'BMI', 'DiabetesPedigreeFunction', 'Age', 'Outcome'],\n",
       "      dtype='object')"
      ]
     },
     "execution_count": 9,
     "metadata": {},
     "output_type": "execute_result"
    }
   ],
   "source": [
    "df.columns"
   ]
  },
  {
   "cell_type": "markdown",
   "id": "bf8cf056",
   "metadata": {
    "papermill": {
     "duration": 0.051443,
     "end_time": "2023-08-21T23:12:00.206648",
     "exception": false,
     "start_time": "2023-08-21T23:12:00.155205",
     "status": "completed"
    },
    "tags": []
   },
   "source": [
    "이번에는 중앙값으로 대체하고자 한다.\n",
    "\n",
    "이때, 이상치를 제외한 상태에서의 중앙값으로 대체하겠다."
   ]
  },
  {
   "cell_type": "code",
   "execution_count": 10,
   "id": "ac1f60a9",
   "metadata": {
    "execution": {
     "iopub.execute_input": "2023-08-21T23:12:00.335515Z",
     "iopub.status.busy": "2023-08-21T23:12:00.334210Z",
     "iopub.status.idle": "2023-08-21T23:12:00.339567Z",
     "shell.execute_reply": "2023-08-21T23:12:00.338887Z",
     "shell.execute_reply.started": "2023-08-21T23:09:12.360510Z"
    },
    "papermill": {
     "duration": 0.080409,
     "end_time": "2023-08-21T23:12:00.339746",
     "exception": false,
     "start_time": "2023-08-21T23:12:00.259337",
     "status": "completed"
    },
    "tags": []
   },
   "outputs": [
    {
     "data": {
      "text/html": [
       "<div>\n",
       "<style scoped>\n",
       "    .dataframe tbody tr th:only-of-type {\n",
       "        vertical-align: middle;\n",
       "    }\n",
       "\n",
       "    .dataframe tbody tr th {\n",
       "        vertical-align: top;\n",
       "    }\n",
       "\n",
       "    .dataframe thead th {\n",
       "        text-align: right;\n",
       "    }\n",
       "</style>\n",
       "<table border=\"1\" class=\"dataframe\">\n",
       "  <thead>\n",
       "    <tr style=\"text-align: right;\">\n",
       "      <th></th>\n",
       "      <th>Pregnancies</th>\n",
       "      <th>Glucose</th>\n",
       "      <th>BloodPressure</th>\n",
       "      <th>SkinThickness</th>\n",
       "      <th>Insulin</th>\n",
       "      <th>BMI</th>\n",
       "      <th>DiabetesPedigreeFunction</th>\n",
       "      <th>Age</th>\n",
       "      <th>Outcome</th>\n",
       "    </tr>\n",
       "  </thead>\n",
       "  <tbody>\n",
       "    <tr>\n",
       "      <th>0</th>\n",
       "      <td>6</td>\n",
       "      <td>148</td>\n",
       "      <td>72</td>\n",
       "      <td>35</td>\n",
       "      <td>0</td>\n",
       "      <td>33.6</td>\n",
       "      <td>0.627</td>\n",
       "      <td>50</td>\n",
       "      <td>1</td>\n",
       "    </tr>\n",
       "    <tr>\n",
       "      <th>2</th>\n",
       "      <td>8</td>\n",
       "      <td>183</td>\n",
       "      <td>64</td>\n",
       "      <td>0</td>\n",
       "      <td>0</td>\n",
       "      <td>23.3</td>\n",
       "      <td>0.672</td>\n",
       "      <td>32</td>\n",
       "      <td>1</td>\n",
       "    </tr>\n",
       "    <tr>\n",
       "      <th>4</th>\n",
       "      <td>0</td>\n",
       "      <td>137</td>\n",
       "      <td>40</td>\n",
       "      <td>35</td>\n",
       "      <td>168</td>\n",
       "      <td>43.1</td>\n",
       "      <td>2.288</td>\n",
       "      <td>33</td>\n",
       "      <td>1</td>\n",
       "    </tr>\n",
       "    <tr>\n",
       "      <th>6</th>\n",
       "      <td>3</td>\n",
       "      <td>78</td>\n",
       "      <td>50</td>\n",
       "      <td>32</td>\n",
       "      <td>88</td>\n",
       "      <td>31.0</td>\n",
       "      <td>0.248</td>\n",
       "      <td>26</td>\n",
       "      <td>1</td>\n",
       "    </tr>\n",
       "    <tr>\n",
       "      <th>8</th>\n",
       "      <td>2</td>\n",
       "      <td>197</td>\n",
       "      <td>70</td>\n",
       "      <td>45</td>\n",
       "      <td>543</td>\n",
       "      <td>30.5</td>\n",
       "      <td>0.158</td>\n",
       "      <td>53</td>\n",
       "      <td>1</td>\n",
       "    </tr>\n",
       "    <tr>\n",
       "      <th>...</th>\n",
       "      <td>...</td>\n",
       "      <td>...</td>\n",
       "      <td>...</td>\n",
       "      <td>...</td>\n",
       "      <td>...</td>\n",
       "      <td>...</td>\n",
       "      <td>...</td>\n",
       "      <td>...</td>\n",
       "      <td>...</td>\n",
       "    </tr>\n",
       "    <tr>\n",
       "      <th>755</th>\n",
       "      <td>1</td>\n",
       "      <td>128</td>\n",
       "      <td>88</td>\n",
       "      <td>39</td>\n",
       "      <td>110</td>\n",
       "      <td>36.5</td>\n",
       "      <td>1.057</td>\n",
       "      <td>37</td>\n",
       "      <td>1</td>\n",
       "    </tr>\n",
       "    <tr>\n",
       "      <th>757</th>\n",
       "      <td>0</td>\n",
       "      <td>123</td>\n",
       "      <td>72</td>\n",
       "      <td>0</td>\n",
       "      <td>0</td>\n",
       "      <td>36.3</td>\n",
       "      <td>0.258</td>\n",
       "      <td>52</td>\n",
       "      <td>1</td>\n",
       "    </tr>\n",
       "    <tr>\n",
       "      <th>759</th>\n",
       "      <td>6</td>\n",
       "      <td>190</td>\n",
       "      <td>92</td>\n",
       "      <td>0</td>\n",
       "      <td>0</td>\n",
       "      <td>35.5</td>\n",
       "      <td>0.278</td>\n",
       "      <td>66</td>\n",
       "      <td>1</td>\n",
       "    </tr>\n",
       "    <tr>\n",
       "      <th>761</th>\n",
       "      <td>9</td>\n",
       "      <td>170</td>\n",
       "      <td>74</td>\n",
       "      <td>31</td>\n",
       "      <td>0</td>\n",
       "      <td>44.0</td>\n",
       "      <td>0.403</td>\n",
       "      <td>43</td>\n",
       "      <td>1</td>\n",
       "    </tr>\n",
       "    <tr>\n",
       "      <th>766</th>\n",
       "      <td>1</td>\n",
       "      <td>126</td>\n",
       "      <td>60</td>\n",
       "      <td>0</td>\n",
       "      <td>0</td>\n",
       "      <td>30.1</td>\n",
       "      <td>0.349</td>\n",
       "      <td>47</td>\n",
       "      <td>1</td>\n",
       "    </tr>\n",
       "  </tbody>\n",
       "</table>\n",
       "<p>268 rows × 9 columns</p>\n",
       "</div>"
      ],
      "text/plain": [
       "     Pregnancies  Glucose  BloodPressure  SkinThickness  Insulin   BMI  \\\n",
       "0              6      148             72             35        0  33.6   \n",
       "2              8      183             64              0        0  23.3   \n",
       "4              0      137             40             35      168  43.1   \n",
       "6              3       78             50             32       88  31.0   \n",
       "8              2      197             70             45      543  30.5   \n",
       "..           ...      ...            ...            ...      ...   ...   \n",
       "755            1      128             88             39      110  36.5   \n",
       "757            0      123             72              0        0  36.3   \n",
       "759            6      190             92              0        0  35.5   \n",
       "761            9      170             74             31        0  44.0   \n",
       "766            1      126             60              0        0  30.1   \n",
       "\n",
       "     DiabetesPedigreeFunction  Age  Outcome  \n",
       "0                       0.627   50        1  \n",
       "2                       0.672   32        1  \n",
       "4                       2.288   33        1  \n",
       "6                       0.248   26        1  \n",
       "8                       0.158   53        1  \n",
       "..                        ...  ...      ...  \n",
       "755                     1.057   37        1  \n",
       "757                     0.258   52        1  \n",
       "759                     0.278   66        1  \n",
       "761                     0.403   43        1  \n",
       "766                     0.349   47        1  \n",
       "\n",
       "[268 rows x 9 columns]"
      ]
     },
     "execution_count": 10,
     "metadata": {},
     "output_type": "execute_result"
    }
   ],
   "source": [
    "df[df['Outcome'] == 1]"
   ]
  },
  {
   "cell_type": "code",
   "execution_count": 11,
   "id": "2be49632",
   "metadata": {
    "execution": {
     "iopub.execute_input": "2023-08-21T23:12:00.464212Z",
     "iopub.status.busy": "2023-08-21T23:12:00.463340Z",
     "iopub.status.idle": "2023-08-21T23:12:00.909253Z",
     "shell.execute_reply": "2023-08-21T23:12:00.909869Z",
     "shell.execute_reply.started": "2023-08-21T23:09:12.386233Z"
    },
    "papermill": {
     "duration": 0.514829,
     "end_time": "2023-08-21T23:12:00.910107",
     "exception": false,
     "start_time": "2023-08-21T23:12:00.395278",
     "status": "completed"
    },
    "tags": []
   },
   "outputs": [
    {
     "name": "stdout",
     "output_type": "stream",
     "text": [
      "[3.0, 114.0, 72.0, 23.0, 37.0, 32.0, 0.358, 29.0, 0.0]\n",
      "[-6.5, 37.125, 35.0, -48.0, -190.875, 13.35, -0.32999999999999996, -1.5, -1.5]\n",
      "[13.5, 202.125, 107.0, 80.0, 318.125, 50.550000000000004, 1.2, 66.5, 2.5]\n"
     ]
    },
    {
     "data": {
      "text/html": [
       "<div>\n",
       "<style scoped>\n",
       "    .dataframe tbody tr th:only-of-type {\n",
       "        vertical-align: middle;\n",
       "    }\n",
       "\n",
       "    .dataframe tbody tr th {\n",
       "        vertical-align: top;\n",
       "    }\n",
       "\n",
       "    .dataframe thead th {\n",
       "        text-align: right;\n",
       "    }\n",
       "</style>\n",
       "<table border=\"1\" class=\"dataframe\">\n",
       "  <thead>\n",
       "    <tr style=\"text-align: right;\">\n",
       "      <th></th>\n",
       "      <th>Pregnancies</th>\n",
       "      <th>Glucose</th>\n",
       "      <th>BloodPressure</th>\n",
       "      <th>SkinThickness</th>\n",
       "      <th>Insulin</th>\n",
       "      <th>BMI</th>\n",
       "      <th>DiabetesPedigreeFunction</th>\n",
       "      <th>Age</th>\n",
       "      <th>Outcome</th>\n",
       "    </tr>\n",
       "  </thead>\n",
       "  <tbody>\n",
       "    <tr>\n",
       "      <th>count</th>\n",
       "      <td>768.000000</td>\n",
       "      <td>768.000000</td>\n",
       "      <td>768.000000</td>\n",
       "      <td>768.000000</td>\n",
       "      <td>768.000000</td>\n",
       "      <td>768.000000</td>\n",
       "      <td>768.000000</td>\n",
       "      <td>768.000000</td>\n",
       "      <td>768.000000</td>\n",
       "    </tr>\n",
       "    <tr>\n",
       "      <th>mean</th>\n",
       "      <td>3.845052</td>\n",
       "      <td>120.894531</td>\n",
       "      <td>81.976562</td>\n",
       "      <td>20.536458</td>\n",
       "      <td>79.799479</td>\n",
       "      <td>44.934766</td>\n",
       "      <td>0.471876</td>\n",
       "      <td>34.447917</td>\n",
       "      <td>0.348958</td>\n",
       "    </tr>\n",
       "    <tr>\n",
       "      <th>std</th>\n",
       "      <td>3.369578</td>\n",
       "      <td>31.972618</td>\n",
       "      <td>358.835058</td>\n",
       "      <td>15.952218</td>\n",
       "      <td>115.244002</td>\n",
       "      <td>359.739733</td>\n",
       "      <td>0.331329</td>\n",
       "      <td>36.754727</td>\n",
       "      <td>0.476951</td>\n",
       "    </tr>\n",
       "    <tr>\n",
       "      <th>min</th>\n",
       "      <td>0.000000</td>\n",
       "      <td>0.000000</td>\n",
       "      <td>0.000000</td>\n",
       "      <td>0.000000</td>\n",
       "      <td>0.000000</td>\n",
       "      <td>0.000000</td>\n",
       "      <td>0.078000</td>\n",
       "      <td>21.000000</td>\n",
       "      <td>0.000000</td>\n",
       "    </tr>\n",
       "    <tr>\n",
       "      <th>25%</th>\n",
       "      <td>1.000000</td>\n",
       "      <td>99.000000</td>\n",
       "      <td>62.000000</td>\n",
       "      <td>0.000000</td>\n",
       "      <td>0.000000</td>\n",
       "      <td>27.300000</td>\n",
       "      <td>0.243750</td>\n",
       "      <td>24.000000</td>\n",
       "      <td>0.000000</td>\n",
       "    </tr>\n",
       "    <tr>\n",
       "      <th>50%</th>\n",
       "      <td>3.000000</td>\n",
       "      <td>117.000000</td>\n",
       "      <td>72.000000</td>\n",
       "      <td>23.000000</td>\n",
       "      <td>30.500000</td>\n",
       "      <td>32.000000</td>\n",
       "      <td>0.372500</td>\n",
       "      <td>29.000000</td>\n",
       "      <td>0.000000</td>\n",
       "    </tr>\n",
       "    <tr>\n",
       "      <th>75%</th>\n",
       "      <td>6.000000</td>\n",
       "      <td>140.250000</td>\n",
       "      <td>80.000000</td>\n",
       "      <td>32.000000</td>\n",
       "      <td>127.250000</td>\n",
       "      <td>36.600000</td>\n",
       "      <td>0.626250</td>\n",
       "      <td>41.000000</td>\n",
       "      <td>1.000000</td>\n",
       "    </tr>\n",
       "    <tr>\n",
       "      <th>max</th>\n",
       "      <td>17.000000</td>\n",
       "      <td>199.000000</td>\n",
       "      <td>9999.000000</td>\n",
       "      <td>99.000000</td>\n",
       "      <td>846.000000</td>\n",
       "      <td>9999.000000</td>\n",
       "      <td>2.420000</td>\n",
       "      <td>999.000000</td>\n",
       "      <td>1.000000</td>\n",
       "    </tr>\n",
       "  </tbody>\n",
       "</table>\n",
       "</div>"
      ],
      "text/plain": [
       "       Pregnancies     Glucose  BloodPressure  SkinThickness     Insulin  \\\n",
       "count   768.000000  768.000000     768.000000     768.000000  768.000000   \n",
       "mean      3.845052  120.894531      81.976562      20.536458   79.799479   \n",
       "std       3.369578   31.972618     358.835058      15.952218  115.244002   \n",
       "min       0.000000    0.000000       0.000000       0.000000    0.000000   \n",
       "25%       1.000000   99.000000      62.000000       0.000000    0.000000   \n",
       "50%       3.000000  117.000000      72.000000      23.000000   30.500000   \n",
       "75%       6.000000  140.250000      80.000000      32.000000  127.250000   \n",
       "max      17.000000  199.000000    9999.000000      99.000000  846.000000   \n",
       "\n",
       "               BMI  DiabetesPedigreeFunction         Age     Outcome  \n",
       "count   768.000000                768.000000  768.000000  768.000000  \n",
       "mean     44.934766                  0.471876   34.447917    0.348958  \n",
       "std     359.739733                  0.331329   36.754727    0.476951  \n",
       "min       0.000000                  0.078000   21.000000    0.000000  \n",
       "25%      27.300000                  0.243750   24.000000    0.000000  \n",
       "50%      32.000000                  0.372500   29.000000    0.000000  \n",
       "75%      36.600000                  0.626250   41.000000    1.000000  \n",
       "max    9999.000000                  2.420000  999.000000    1.000000  "
      ]
     },
     "execution_count": 11,
     "metadata": {},
     "output_type": "execute_result"
    }
   ],
   "source": [
    "# 수염 내에 있는 데이터 기준으로 중앙값 구하기\n",
    "df_whis = pd.DataFrame()\n",
    "low_whis_list = []\n",
    "upper_whis_list = []\n",
    "\n",
    "for col in df.columns:\n",
    "    q1 = df.describe()[col]['25%']\n",
    "    q3 = df.describe()[col]['75%']\n",
    "    iqr = q3-q1\n",
    "    low_whis = q1 - 1.5 * iqr\n",
    "    low_whis_list.append(low_whis)\n",
    "    upper_whis = q3 + 1.5 * iqr\n",
    "    upper_whis_list.append(upper_whis)\n",
    "    df_whis[col] = df[(df[col] <= upper_whis) & (df[col] >= low_whis)][col]\n",
    "\n",
    "# 이상치를 필터링하면서 결측치가 생길 가능성이 있어 dropna를 해줘야 한다.\n",
    "df_whis.dropna(inplace=True)\n",
    "\n",
    "\n",
    "median_list = []\n",
    "\n",
    "for col in df_whis.columns:\n",
    "    median = df_whis[col].median()\n",
    "    median_list.append(median)\n",
    "    \n",
    "\n",
    "print(median_list)\n",
    "print(low_whis_list)\n",
    "print(upper_whis_list)\n",
    "df.describe()"
   ]
  },
  {
   "cell_type": "markdown",
   "id": "bccf9a0b",
   "metadata": {
    "papermill": {
     "duration": 0.057494,
     "end_time": "2023-08-21T23:12:01.022220",
     "exception": false,
     "start_time": "2023-08-21T23:12:00.964726",
     "status": "completed"
    },
    "tags": []
   },
   "source": [
    "수염 밖의 값까지 포함한 경우의 중앙값과 같은 경우도 있고, 다른 경우도 있다.\n",
    "\n",
    "무튼 Outcome을 제외한 나머지 변수의 이상치를 수염 내의 값들에 대한 중앙값으로 대체해주자.\n",
    "\n",
    "추가로, 각 피처별 값이 0인 경우가 말이 되지 않으므로 이것도 중앙값으로 대체해주자."
   ]
  },
  {
   "cell_type": "code",
   "execution_count": 12,
   "id": "734215fb",
   "metadata": {
    "execution": {
     "iopub.execute_input": "2023-08-21T23:12:01.160861Z",
     "iopub.status.busy": "2023-08-21T23:12:01.153070Z",
     "iopub.status.idle": "2023-08-21T23:12:01.217524Z",
     "shell.execute_reply": "2023-08-21T23:12:01.216852Z",
     "shell.execute_reply.started": "2023-08-21T23:09:12.805120Z"
    },
    "papermill": {
     "duration": 0.135777,
     "end_time": "2023-08-21T23:12:01.217701",
     "exception": false,
     "start_time": "2023-08-21T23:12:01.081924",
     "status": "completed"
    },
    "tags": []
   },
   "outputs": [
    {
     "data": {
      "text/html": [
       "<div>\n",
       "<style scoped>\n",
       "    .dataframe tbody tr th:only-of-type {\n",
       "        vertical-align: middle;\n",
       "    }\n",
       "\n",
       "    .dataframe tbody tr th {\n",
       "        vertical-align: top;\n",
       "    }\n",
       "\n",
       "    .dataframe thead th {\n",
       "        text-align: right;\n",
       "    }\n",
       "</style>\n",
       "<table border=\"1\" class=\"dataframe\">\n",
       "  <thead>\n",
       "    <tr style=\"text-align: right;\">\n",
       "      <th></th>\n",
       "      <th>Pregnancies</th>\n",
       "      <th>Glucose</th>\n",
       "      <th>BloodPressure</th>\n",
       "      <th>SkinThickness</th>\n",
       "      <th>Insulin</th>\n",
       "      <th>BMI</th>\n",
       "      <th>DiabetesPedigreeFunction</th>\n",
       "      <th>Age</th>\n",
       "      <th>Outcome</th>\n",
       "    </tr>\n",
       "  </thead>\n",
       "  <tbody>\n",
       "    <tr>\n",
       "      <th>count</th>\n",
       "      <td>768.000000</td>\n",
       "      <td>768.000000</td>\n",
       "      <td>768.000000</td>\n",
       "      <td>768.000000</td>\n",
       "      <td>768.000000</td>\n",
       "      <td>768.000000</td>\n",
       "      <td>768.000000</td>\n",
       "      <td>768.000000</td>\n",
       "      <td>768.000000</td>\n",
       "    </tr>\n",
       "    <tr>\n",
       "      <th>mean</th>\n",
       "      <td>0.761607</td>\n",
       "      <td>15.505096</td>\n",
       "      <td>8.243378</td>\n",
       "      <td>3.623586</td>\n",
       "      <td>18.018117</td>\n",
       "      <td>3.886477</td>\n",
       "      <td>0.285096</td>\n",
       "      <td>4.166555</td>\n",
       "      <td>0.331919</td>\n",
       "    </tr>\n",
       "    <tr>\n",
       "      <th>std</th>\n",
       "      <td>1.850483</td>\n",
       "      <td>45.142012</td>\n",
       "      <td>23.415464</td>\n",
       "      <td>10.221904</td>\n",
       "      <td>54.955686</td>\n",
       "      <td>10.663314</td>\n",
       "      <td>0.202603</td>\n",
       "      <td>11.760667</td>\n",
       "      <td>0.278036</td>\n",
       "    </tr>\n",
       "    <tr>\n",
       "      <th>min</th>\n",
       "      <td>0.000000</td>\n",
       "      <td>0.000000</td>\n",
       "      <td>0.000000</td>\n",
       "      <td>0.000000</td>\n",
       "      <td>0.000000</td>\n",
       "      <td>0.000000</td>\n",
       "      <td>0.000000</td>\n",
       "      <td>0.000000</td>\n",
       "      <td>0.000000</td>\n",
       "    </tr>\n",
       "    <tr>\n",
       "      <th>25%</th>\n",
       "      <td>0.000000</td>\n",
       "      <td>0.000000</td>\n",
       "      <td>0.000000</td>\n",
       "      <td>0.000000</td>\n",
       "      <td>0.000000</td>\n",
       "      <td>0.000000</td>\n",
       "      <td>0.000000</td>\n",
       "      <td>0.000000</td>\n",
       "      <td>0.000000</td>\n",
       "    </tr>\n",
       "    <tr>\n",
       "      <th>50%</th>\n",
       "      <td>0.358000</td>\n",
       "      <td>0.358000</td>\n",
       "      <td>0.358000</td>\n",
       "      <td>0.358000</td>\n",
       "      <td>0.358000</td>\n",
       "      <td>0.358000</td>\n",
       "      <td>0.358000</td>\n",
       "      <td>0.358000</td>\n",
       "      <td>0.358000</td>\n",
       "    </tr>\n",
       "    <tr>\n",
       "      <th>75%</th>\n",
       "      <td>0.358000</td>\n",
       "      <td>0.358000</td>\n",
       "      <td>0.358000</td>\n",
       "      <td>0.358000</td>\n",
       "      <td>0.358000</td>\n",
       "      <td>0.358000</td>\n",
       "      <td>0.358000</td>\n",
       "      <td>0.358000</td>\n",
       "      <td>0.358000</td>\n",
       "    </tr>\n",
       "    <tr>\n",
       "      <th>max</th>\n",
       "      <td>13.000000</td>\n",
       "      <td>196.000000</td>\n",
       "      <td>106.000000</td>\n",
       "      <td>51.000000</td>\n",
       "      <td>318.000000</td>\n",
       "      <td>49.700000</td>\n",
       "      <td>1.189000</td>\n",
       "      <td>58.000000</td>\n",
       "      <td>1.000000</td>\n",
       "    </tr>\n",
       "  </tbody>\n",
       "</table>\n",
       "</div>"
      ],
      "text/plain": [
       "       Pregnancies     Glucose  BloodPressure  SkinThickness     Insulin  \\\n",
       "count   768.000000  768.000000     768.000000     768.000000  768.000000   \n",
       "mean      0.761607   15.505096       8.243378       3.623586   18.018117   \n",
       "std       1.850483   45.142012      23.415464      10.221904   54.955686   \n",
       "min       0.000000    0.000000       0.000000       0.000000    0.000000   \n",
       "25%       0.000000    0.000000       0.000000       0.000000    0.000000   \n",
       "50%       0.358000    0.358000       0.358000       0.358000    0.358000   \n",
       "75%       0.358000    0.358000       0.358000       0.358000    0.358000   \n",
       "max      13.000000  196.000000     106.000000      51.000000  318.000000   \n",
       "\n",
       "              BMI  DiabetesPedigreeFunction         Age     Outcome  \n",
       "count  768.000000                768.000000  768.000000  768.000000  \n",
       "mean     3.886477                  0.285096    4.166555    0.331919  \n",
       "std     10.663314                  0.202603   11.760667    0.278036  \n",
       "min      0.000000                  0.000000    0.000000    0.000000  \n",
       "25%      0.000000                  0.000000    0.000000    0.000000  \n",
       "50%      0.358000                  0.358000    0.358000    0.358000  \n",
       "75%      0.358000                  0.358000    0.358000    0.358000  \n",
       "max     49.700000                  1.189000   58.000000    1.000000  "
      ]
     },
     "execution_count": 12,
     "metadata": {},
     "output_type": "execute_result"
    }
   ],
   "source": [
    "for (col, i) in zip(df.columns, range(len(median_list))):\n",
    "    df[(df[col] < low_whis_list[i]) | (df[col] > upper_whis_list[i]) | (df[col] == 0)] = median_list[i]\n",
    "    \n",
    "df.describe()"
   ]
  },
  {
   "cell_type": "code",
   "execution_count": 13,
   "id": "f7531ae0",
   "metadata": {
    "execution": {
     "iopub.execute_input": "2023-08-21T23:12:01.361121Z",
     "iopub.status.busy": "2023-08-21T23:12:01.341682Z",
     "iopub.status.idle": "2023-08-21T23:12:02.480890Z",
     "shell.execute_reply": "2023-08-21T23:12:02.481574Z",
     "shell.execute_reply.started": "2023-08-21T23:09:12.880383Z"
    },
    "papermill": {
     "duration": 1.205958,
     "end_time": "2023-08-21T23:12:02.481786",
     "exception": false,
     "start_time": "2023-08-21T23:12:01.275828",
     "status": "completed"
    },
    "tags": []
   },
   "outputs": [
    {
     "data": {
      "image/png": "[encoded data removed]",
      "text/plain": [
       "<Figure size 1440x1440 with 9 Axes>"
      ]
     },
     "metadata": {
      "needs_background": "light"
     },
     "output_type": "display_data"
    }
   ],
   "source": [
    "# 다시 상자그림 그려보기\n",
    "plt.figure(figsize = (20, 20))\n",
    "plt.subplot(3, 3, 1)\n",
    "plt.boxplot(df['Pregnancies'])\n",
    "plt.xlabel('Pregnancies')\n",
    "\n",
    "plt.subplot(3, 3, 2)\n",
    "plt.boxplot(df['Glucose'])\n",
    "plt.xlabel('Glucose')\n",
    "\n",
    "plt.subplot(3, 3, 3)\n",
    "plt.boxplot(df['BloodPressure'])\n",
    "plt.xlabel('BloodPressure')\n",
    "\n",
    "plt.subplot(3, 3, 4)\n",
    "plt.boxplot(df['SkinThickness'])\n",
    "plt.xlabel('SkinThickness')\n",
    "\n",
    "plt.subplot(3, 3, 5)\n",
    "plt.boxplot(df['Insulin'])\n",
    "plt.xlabel('Insulin')\n",
    "\n",
    "plt.subplot(3, 3, 6)\n",
    "plt.boxplot(df['BMI'])\n",
    "plt.xlabel('BMI')\n",
    "\n",
    "plt.subplot(3, 3, 7)\n",
    "plt.boxplot(df['DiabetesPedigreeFunction'])\n",
    "plt.xlabel('DiabetesPedigreeFunction')\n",
    "\n",
    "plt.subplot(3, 3, 8)\n",
    "plt.boxplot(df['Age'])\n",
    "plt.xlabel('Age')\n",
    "\n",
    "plt.subplot(3, 3, 9)\n",
    "plt.boxplot(df['Outcome'])\n",
    "plt.xlabel('Outcome')\n",
    "\n",
    "plt.show()"
   ]
  },
  {
   "cell_type": "markdown",
   "id": "7cc888f6",
   "metadata": {
    "papermill": {
     "duration": 0.05846,
     "end_time": "2023-08-21T23:12:02.598752",
     "exception": false,
     "start_time": "2023-08-21T23:12:02.540292",
     "status": "completed"
    },
    "tags": []
   },
   "source": [
    "### 1-3 앞선 두 단계에서 얻은 향후 분석시 고려사항 작성"
   ]
  },
  {
   "cell_type": "markdown",
   "id": "cc52b4de",
   "metadata": {
    "papermill": {
     "duration": 0.057872,
     "end_time": "2023-08-21T23:12:02.718125",
     "exception": false,
     "start_time": "2023-08-21T23:12:02.660253",
     "status": "completed"
    },
    "tags": []
   },
   "source": [
    "* 어린 사람이 너무 많다. 현업에서 맞는지 논의가 필요하다.\n",
    "* 나머지 피처들도 이상치가 많아보이는데, 현업 전문가와의 논의가 필요하다."
   ]
  },
  {
   "cell_type": "markdown",
   "id": "bec3edb4",
   "metadata": {
    "papermill": {
     "duration": 0.060263,
     "end_time": "2023-08-21T23:12:02.837656",
     "exception": false,
     "start_time": "2023-08-21T23:12:02.777393",
     "status": "completed"
    },
    "tags": []
   },
   "source": [
    "# 문제 2"
   ]
  },
  {
   "cell_type": "markdown",
   "id": "c3148784",
   "metadata": {
    "papermill": {
     "duration": 0.057582,
     "end_time": "2023-08-21T23:12:02.952291",
     "exception": false,
     "start_time": "2023-08-21T23:12:02.894709",
     "status": "completed"
    },
    "tags": []
   },
   "source": [
    "### 2-1 오버샘플링 과정 설명하고 결과 작성"
   ]
  },
  {
   "cell_type": "markdown",
   "id": "2a313e13",
   "metadata": {
    "papermill": {
     "duration": 0.057331,
     "end_time": "2023-08-21T23:12:03.068464",
     "exception": false,
     "start_time": "2023-08-21T23:12:03.011133",
     "status": "completed"
    },
    "tags": []
   },
   "source": [
    "### 2-2 언더샘플링 과정 설명하고 결과 작성"
   ]
  },
  {
   "cell_type": "markdown",
   "id": "bfe5d934",
   "metadata": {
    "papermill": {
     "duration": 0.058361,
     "end_time": "2023-08-21T23:12:03.184725",
     "exception": false,
     "start_time": "2023-08-21T23:12:03.126364",
     "status": "completed"
    },
    "tags": []
   },
   "source": [
    "### 2-3 둘 중 선택하고 이유 설명"
   ]
  },
  {
   "cell_type": "markdown",
   "id": "3d5f7e47",
   "metadata": {
    "papermill": {
     "duration": 0.059898,
     "end_time": "2023-08-21T23:12:03.302168",
     "exception": false,
     "start_time": "2023-08-21T23:12:03.242270",
     "status": "completed"
    },
    "tags": []
   },
   "source": [
    "# 문제 3"
   ]
  },
  {
   "cell_type": "markdown",
   "id": "b3cfbb41",
   "metadata": {
    "papermill": {
     "duration": 0.059316,
     "end_time": "2023-08-21T23:12:03.419500",
     "exception": false,
     "start_time": "2023-08-21T23:12:03.360184",
     "status": "completed"
    },
    "tags": []
   },
   "source": [
    "### 3-1 최소 3개 이상 알고리즘 제시하고 정확도 측면의 모델 1개와 속도 측면의 모델 1개를 꼭 구현(총 2개 이상)"
   ]
  },
  {
   "cell_type": "markdown",
   "id": "8639b0b2",
   "metadata": {
    "papermill": {
     "duration": 0.057137,
     "end_time": "2023-08-21T23:12:03.535062",
     "exception": false,
     "start_time": "2023-08-21T23:12:03.477925",
     "status": "completed"
    },
    "tags": []
   },
   "source": [
    "### 3-2 모델 비교하고 결과 설명"
   ]
  },
  {
   "cell_type": "markdown",
   "id": "796edbaf",
   "metadata": {
    "papermill": {
     "duration": 0.056783,
     "end_time": "2023-08-21T23:12:03.649186",
     "exception": false,
     "start_time": "2023-08-21T23:12:03.592403",
     "status": "completed"
    },
    "tags": []
   },
   "source": [
    "### 3-3 속도 개선을 위한 차원 축소 설명하고 수행, 예측 성능과 속도 비교하고 결과 작성"
   ]
  },
  {
   "cell_type": "markdown",
   "id": "bd96671b",
   "metadata": {
    "papermill": {
     "duration": 0.057004,
     "end_time": "2023-08-21T23:12:03.763276",
     "exception": false,
     "start_time": "2023-08-21T23:12:03.706272",
     "status": "completed"
    },
    "tags": []
   },
   "source": [
    "# 문제 4 \n",
    "금속 성분 함유량 데이터(변수 1개) - 제품에 금속 재질 함유량의 분산이 1.3을 넘으면 불량이라고 보고 있는데 제조사별로 차이가 난다고 제보를 받았으며, 분산에 대해 검정을 수행하시오. (유의확률 0.05)"
   ]
  },
  {
   "cell_type": "markdown",
   "id": "a1c09141",
   "metadata": {
    "papermill": {
     "duration": 0.056673,
     "end_time": "2023-08-21T23:12:03.877168",
     "exception": false,
     "start_time": "2023-08-21T23:12:03.820495",
     "status": "completed"
    },
    "tags": []
   },
   "source": [
    "#### dataset : /kaggle/input/adpkrp5/content.csv"
   ]
  },
  {
   "cell_type": "markdown",
   "id": "7d4907dd",
   "metadata": {
    "papermill": {
     "duration": 0.058143,
     "end_time": "2023-08-21T23:12:03.992422",
     "exception": false,
     "start_time": "2023-08-21T23:12:03.934279",
     "status": "completed"
    },
    "tags": []
   },
   "source": [
    "### 4-1 연구가설과 귀무가설 작성"
   ]
  },
  {
   "cell_type": "markdown",
   "id": "59732754",
   "metadata": {
    "papermill": {
     "duration": 0.056896,
     "end_time": "2023-08-21T23:12:04.107848",
     "exception": false,
     "start_time": "2023-08-21T23:12:04.050952",
     "status": "completed"
    },
    "tags": []
   },
   "source": [
    "### 4-2 양측 검정"
   ]
  },
  {
   "cell_type": "markdown",
   "id": "75d66aa9",
   "metadata": {
    "papermill": {
     "duration": 0.056881,
     "end_time": "2023-08-21T23:12:04.222151",
     "exception": false,
     "start_time": "2023-08-21T23:12:04.165270",
     "status": "completed"
    },
    "tags": []
   },
   "source": [
    "### 4-3 검정통계량, 가설 채택"
   ]
  },
  {
   "cell_type": "markdown",
   "id": "092a3165",
   "metadata": {
    "papermill": {
     "duration": 0.057906,
     "end_time": "2023-08-21T23:12:04.338807",
     "exception": false,
     "start_time": "2023-08-21T23:12:04.280901",
     "status": "completed"
    },
    "tags": []
   },
   "source": [
    "# 문제 5\n",
    "Lot별 200개에 대한 불량 제품 수량 데이터(변수 2개 - lot번호, 불량제품수)    \n",
    "/kaggle/input/adpkrp5/error.csv"
   ]
  },
  {
   "cell_type": "markdown",
   "id": "dfe74863",
   "metadata": {
    "papermill": {
     "duration": 0.057098,
     "end_time": "2023-08-21T23:12:04.453937",
     "exception": false,
     "start_time": "2023-08-21T23:12:04.396839",
     "status": "completed"
    },
    "tags": []
   },
   "source": [
    "### 5-1 불량률 관리도에 따라 관리중심선(CL : Center Line), 관리 상한선(UCL : Upper Control Limit), 하한선(LCL : Lower Control Limit) 구하기"
   ]
  },
  {
   "cell_type": "markdown",
   "id": "accdc4ef",
   "metadata": {
    "papermill": {
     "duration": 0.058468,
     "end_time": "2023-08-21T23:12:04.570317",
     "exception": false,
     "start_time": "2023-08-21T23:12:04.511849",
     "status": "completed"
    },
    "tags": []
   },
   "source": [
    "### 5-2 관리도 시각화"
   ]
  },
  {
   "cell_type": "markdown",
   "id": "cb88030d",
   "metadata": {
    "papermill": {
     "duration": 0.056873,
     "end_time": "2023-08-21T23:12:04.684495",
     "exception": false,
     "start_time": "2023-08-21T23:12:04.627622",
     "status": "completed"
    },
    "tags": []
   },
   "source": [
    "# 문제 6\n",
    "상품 a와 b가 있을 때 다음과 같은 구매 패턴이 있다고 한다. aa bb aaaa bbbb a b aa bb aa bbb aa bb a b 구매하는 패턴으로 보아 두 상품이 연관이 있는지 확인하라"
   ]
  },
  {
   "cell_type": "markdown",
   "id": "e7320af2",
   "metadata": {
    "papermill": {
     "duration": 0.057827,
     "end_time": "2023-08-21T23:12:04.799474",
     "exception": false,
     "start_time": "2023-08-21T23:12:04.741647",
     "status": "completed"
    },
    "tags": []
   },
   "source": [
    "### 6-1 연구가설과 귀무가설 작성"
   ]
  },
  {
   "cell_type": "markdown",
   "id": "708a1fc5",
   "metadata": {
    "papermill": {
     "duration": 0.057573,
     "end_time": "2023-08-21T23:12:04.915604",
     "exception": false,
     "start_time": "2023-08-21T23:12:04.858031",
     "status": "completed"
    },
    "tags": []
   },
   "source": [
    "### 6-2 평균과 표준편차"
   ]
  },
  {
   "cell_type": "markdown",
   "id": "261719e2",
   "metadata": {
    "papermill": {
     "duration": 0.059746,
     "end_time": "2023-08-21T23:12:05.034048",
     "exception": false,
     "start_time": "2023-08-21T23:12:04.974302",
     "status": "completed"
    },
    "tags": []
   },
   "source": [
    "### 6-3 가설 채택"
   ]
  }
 ],
 "metadata": {
  "kernelspec": {
   "display_name": "Python 3",
   "language": "python",
   "name": "python3"
  },
  "language_info": {
   "codemirror_mode": {
    "name": "ipython",
    "version": 3
   },
   "file_extension": ".py",
   "mimetype": "text/x-python",
   "name": "python",
   "nbconvert_exporter": "python",
   "pygments_lexer": "ipython3",
   "version": "3.7.12"
  },
  "papermill": {
   "default_parameters": {},
   "duration": 27.089098,
   "end_time": "2023-08-21T23:12:06.107758",
   "environment_variables": {},
   "exception": null,
   "input_path": "__notebook__.ipynb",
   "output_path": "__notebook__.ipynb",
   "parameters": {},
   "start_time": "2023-08-21T23:11:39.018660",
   "version": "2.3.3"
  }
 },
 "nbformat": 4,
 "nbformat_minor": 5
}

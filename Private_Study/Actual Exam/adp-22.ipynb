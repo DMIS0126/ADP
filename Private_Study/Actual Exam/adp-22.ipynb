{
 "cells": [
  {
   "cell_type": "markdown",
   "id": "e3178fd2",
   "metadata": {
    "papermill": {
     "duration": 0.080416,
     "end_time": "2023-08-24T21:57:47.464411",
     "exception": false,
     "start_time": "2023-08-24T21:57:47.383995",
     "status": "completed"
    },
    "tags": []
   },
   "source": [
    "# 문제 1"
   ]
  },
  {
   "cell_type": "markdown",
   "id": "6bdf36fd",
   "metadata": {
    "papermill": {
     "duration": 0.076841,
     "end_time": "2023-08-24T21:57:47.621709",
     "exception": false,
     "start_time": "2023-08-24T21:57:47.544868",
     "status": "completed"
    },
    "tags": []
   },
   "source": [
    "#### dataset : pima-indians-diabetes-database [kaggle link](pima-indians-diabetes-database) - added post-processing\n",
    "/kaggle/input/adpkrp5/data1.csv"
   ]
  },
  {
   "cell_type": "markdown",
   "id": "22023b5b",
   "metadata": {
    "execution": {
     "iopub.execute_input": "2022-03-02T16:01:52.763794Z",
     "iopub.status.busy": "2022-03-02T16:01:52.76349Z",
     "iopub.status.idle": "2022-03-02T16:01:52.768363Z",
     "shell.execute_reply": "2022-03-02T16:01:52.767292Z",
     "shell.execute_reply.started": "2022-03-02T16:01:52.763766Z"
    },
    "papermill": {
     "duration": 0.076181,
     "end_time": "2023-08-24T21:57:47.774788",
     "exception": false,
     "start_time": "2023-08-24T21:57:47.698607",
     "status": "completed"
    },
    "tags": []
   },
   "source": [
    "### 1-1 탐색적 데이터 분석 수행(시각화 포함)"
   ]
  },
  {
   "cell_type": "code",
   "execution_count": 1,
   "id": "3241c63c",
   "metadata": {
    "execution": {
     "iopub.execute_input": "2023-08-24T21:57:47.934925Z",
     "iopub.status.busy": "2023-08-24T21:57:47.933543Z",
     "iopub.status.idle": "2023-08-24T21:57:49.156023Z",
     "shell.execute_reply": "2023-08-24T21:57:49.156748Z",
     "shell.execute_reply.started": "2023-08-23T21:53:33.227500Z"
    },
    "papermill": {
     "duration": 1.305715,
     "end_time": "2023-08-24T21:57:49.157185",
     "exception": false,
     "start_time": "2023-08-24T21:57:47.851470",
     "status": "completed"
    },
    "tags": []
   },
   "outputs": [
    {
     "data": {
      "text/html": [
       "<div>\n",
       "<style scoped>\n",
       "    .dataframe tbody tr th:only-of-type {\n",
       "        vertical-align: middle;\n",
       "    }\n",
       "\n",
       "    .dataframe tbody tr th {\n",
       "        vertical-align: top;\n",
       "    }\n",
       "\n",
       "    .dataframe thead th {\n",
       "        text-align: right;\n",
       "    }\n",
       "</style>\n",
       "<table border=\"1\" class=\"dataframe\">\n",
       "  <thead>\n",
       "    <tr style=\"text-align: right;\">\n",
       "      <th></th>\n",
       "      <th>Pregnancies</th>\n",
       "      <th>Glucose</th>\n",
       "      <th>BloodPressure</th>\n",
       "      <th>SkinThickness</th>\n",
       "      <th>Insulin</th>\n",
       "      <th>BMI</th>\n",
       "      <th>DiabetesPedigreeFunction</th>\n",
       "      <th>Age</th>\n",
       "      <th>Outcome</th>\n",
       "    </tr>\n",
       "  </thead>\n",
       "  <tbody>\n",
       "    <tr>\n",
       "      <th>0</th>\n",
       "      <td>6</td>\n",
       "      <td>148</td>\n",
       "      <td>72</td>\n",
       "      <td>35</td>\n",
       "      <td>0</td>\n",
       "      <td>33.6</td>\n",
       "      <td>0.627</td>\n",
       "      <td>50</td>\n",
       "      <td>1</td>\n",
       "    </tr>\n",
       "    <tr>\n",
       "      <th>1</th>\n",
       "      <td>1</td>\n",
       "      <td>85</td>\n",
       "      <td>66</td>\n",
       "      <td>29</td>\n",
       "      <td>0</td>\n",
       "      <td>26.6</td>\n",
       "      <td>0.351</td>\n",
       "      <td>31</td>\n",
       "      <td>0</td>\n",
       "    </tr>\n",
       "    <tr>\n",
       "      <th>2</th>\n",
       "      <td>8</td>\n",
       "      <td>183</td>\n",
       "      <td>64</td>\n",
       "      <td>0</td>\n",
       "      <td>0</td>\n",
       "      <td>23.3</td>\n",
       "      <td>0.672</td>\n",
       "      <td>32</td>\n",
       "      <td>1</td>\n",
       "    </tr>\n",
       "    <tr>\n",
       "      <th>3</th>\n",
       "      <td>1</td>\n",
       "      <td>89</td>\n",
       "      <td>66</td>\n",
       "      <td>23</td>\n",
       "      <td>94</td>\n",
       "      <td>28.1</td>\n",
       "      <td>0.167</td>\n",
       "      <td>21</td>\n",
       "      <td>0</td>\n",
       "    </tr>\n",
       "    <tr>\n",
       "      <th>4</th>\n",
       "      <td>0</td>\n",
       "      <td>137</td>\n",
       "      <td>40</td>\n",
       "      <td>35</td>\n",
       "      <td>168</td>\n",
       "      <td>43.1</td>\n",
       "      <td>2.288</td>\n",
       "      <td>33</td>\n",
       "      <td>1</td>\n",
       "    </tr>\n",
       "  </tbody>\n",
       "</table>\n",
       "</div>"
      ],
      "text/plain": [
       "   Pregnancies  Glucose  BloodPressure  SkinThickness  Insulin   BMI  \\\n",
       "0            6      148             72             35        0  33.6   \n",
       "1            1       85             66             29        0  26.6   \n",
       "2            8      183             64              0        0  23.3   \n",
       "3            1       89             66             23       94  28.1   \n",
       "4            0      137             40             35      168  43.1   \n",
       "\n",
       "   DiabetesPedigreeFunction  Age  Outcome  \n",
       "0                     0.627   50        1  \n",
       "1                     0.351   31        0  \n",
       "2                     0.672   32        1  \n",
       "3                     0.167   21        0  \n",
       "4                     2.288   33        1  "
      ]
     },
     "execution_count": 1,
     "metadata": {},
     "output_type": "execute_result"
    }
   ],
   "source": [
    "import pandas as pd\n",
    "import numpy as np\n",
    "import matplotlib.pyplot as plt\n",
    "import seaborn as sns\n",
    "\n",
    "df = pd.read_csv('/kaggle/input/adpkrp5/data1.csv')\n",
    "df.head()"
   ]
  },
  {
   "cell_type": "code",
   "execution_count": 2,
   "id": "df616274",
   "metadata": {
    "execution": {
     "iopub.execute_input": "2023-08-24T21:57:49.318967Z",
     "iopub.status.busy": "2023-08-24T21:57:49.317787Z",
     "iopub.status.idle": "2023-08-24T21:57:49.341051Z",
     "shell.execute_reply": "2023-08-24T21:57:49.341664Z",
     "shell.execute_reply.started": "2023-08-23T21:53:33.378153Z"
    },
    "papermill": {
     "duration": 0.106092,
     "end_time": "2023-08-24T21:57:49.341864",
     "exception": false,
     "start_time": "2023-08-24T21:57:49.235772",
     "status": "completed"
    },
    "tags": []
   },
   "outputs": [
    {
     "name": "stdout",
     "output_type": "stream",
     "text": [
      "<class 'pandas.core.frame.DataFrame'>\n",
      "RangeIndex: 768 entries, 0 to 767\n",
      "Data columns (total 9 columns):\n",
      " #   Column                    Non-Null Count  Dtype  \n",
      "---  ------                    --------------  -----  \n",
      " 0   Pregnancies               768 non-null    int64  \n",
      " 1   Glucose                   768 non-null    int64  \n",
      " 2   BloodPressure             768 non-null    int64  \n",
      " 3   SkinThickness             768 non-null    int64  \n",
      " 4   Insulin                   768 non-null    int64  \n",
      " 5   BMI                       768 non-null    float64\n",
      " 6   DiabetesPedigreeFunction  768 non-null    float64\n",
      " 7   Age                       768 non-null    int64  \n",
      " 8   Outcome                   768 non-null    int64  \n",
      "dtypes: float64(2), int64(7)\n",
      "memory usage: 54.1 KB\n"
     ]
    }
   ],
   "source": [
    "# 결측치 확인\n",
    "df.info()"
   ]
  },
  {
   "cell_type": "code",
   "execution_count": 3,
   "id": "bf61a986",
   "metadata": {
    "execution": {
     "iopub.execute_input": "2023-08-24T21:57:49.511220Z",
     "iopub.status.busy": "2023-08-24T21:57:49.510195Z",
     "iopub.status.idle": "2023-08-24T21:57:49.513999Z",
     "shell.execute_reply": "2023-08-24T21:57:49.514599Z",
     "shell.execute_reply.started": "2023-08-23T21:53:33.479354Z"
    },
    "papermill": {
     "duration": 0.093882,
     "end_time": "2023-08-24T21:57:49.514793",
     "exception": false,
     "start_time": "2023-08-24T21:57:49.420911",
     "status": "completed"
    },
    "tags": []
   },
   "outputs": [
    {
     "data": {
      "text/plain": [
       "Pregnancies                 0\n",
       "Glucose                     0\n",
       "BloodPressure               0\n",
       "SkinThickness               0\n",
       "Insulin                     0\n",
       "BMI                         0\n",
       "DiabetesPedigreeFunction    0\n",
       "Age                         0\n",
       "Outcome                     0\n",
       "dtype: int64"
      ]
     },
     "execution_count": 3,
     "metadata": {},
     "output_type": "execute_result"
    }
   ],
   "source": [
    "# 혹시나 해서 한 번더\n",
    "df.isnull().sum()"
   ]
  },
  {
   "cell_type": "code",
   "execution_count": 4,
   "id": "6a97e216",
   "metadata": {
    "execution": {
     "iopub.execute_input": "2023-08-24T21:57:49.677491Z",
     "iopub.status.busy": "2023-08-24T21:57:49.676334Z",
     "iopub.status.idle": "2023-08-24T21:57:49.718328Z",
     "shell.execute_reply": "2023-08-24T21:57:49.719084Z",
     "shell.execute_reply.started": "2023-08-23T21:53:33.603021Z"
    },
    "papermill": {
     "duration": 0.125495,
     "end_time": "2023-08-24T21:57:49.719285",
     "exception": false,
     "start_time": "2023-08-24T21:57:49.593790",
     "status": "completed"
    },
    "tags": []
   },
   "outputs": [
    {
     "data": {
      "text/html": [
       "<div>\n",
       "<style scoped>\n",
       "    .dataframe tbody tr th:only-of-type {\n",
       "        vertical-align: middle;\n",
       "    }\n",
       "\n",
       "    .dataframe tbody tr th {\n",
       "        vertical-align: top;\n",
       "    }\n",
       "\n",
       "    .dataframe thead th {\n",
       "        text-align: right;\n",
       "    }\n",
       "</style>\n",
       "<table border=\"1\" class=\"dataframe\">\n",
       "  <thead>\n",
       "    <tr style=\"text-align: right;\">\n",
       "      <th></th>\n",
       "      <th>Pregnancies</th>\n",
       "      <th>Glucose</th>\n",
       "      <th>BloodPressure</th>\n",
       "      <th>SkinThickness</th>\n",
       "      <th>Insulin</th>\n",
       "      <th>BMI</th>\n",
       "      <th>DiabetesPedigreeFunction</th>\n",
       "      <th>Age</th>\n",
       "      <th>Outcome</th>\n",
       "    </tr>\n",
       "  </thead>\n",
       "  <tbody>\n",
       "    <tr>\n",
       "      <th>count</th>\n",
       "      <td>768.000000</td>\n",
       "      <td>768.000000</td>\n",
       "      <td>768.000000</td>\n",
       "      <td>768.000000</td>\n",
       "      <td>768.000000</td>\n",
       "      <td>768.000000</td>\n",
       "      <td>768.000000</td>\n",
       "      <td>768.000000</td>\n",
       "      <td>768.000000</td>\n",
       "    </tr>\n",
       "    <tr>\n",
       "      <th>mean</th>\n",
       "      <td>3.845052</td>\n",
       "      <td>120.894531</td>\n",
       "      <td>81.976562</td>\n",
       "      <td>20.536458</td>\n",
       "      <td>79.799479</td>\n",
       "      <td>44.934766</td>\n",
       "      <td>0.471876</td>\n",
       "      <td>34.447917</td>\n",
       "      <td>0.348958</td>\n",
       "    </tr>\n",
       "    <tr>\n",
       "      <th>std</th>\n",
       "      <td>3.369578</td>\n",
       "      <td>31.972618</td>\n",
       "      <td>358.835058</td>\n",
       "      <td>15.952218</td>\n",
       "      <td>115.244002</td>\n",
       "      <td>359.739733</td>\n",
       "      <td>0.331329</td>\n",
       "      <td>36.754727</td>\n",
       "      <td>0.476951</td>\n",
       "    </tr>\n",
       "    <tr>\n",
       "      <th>min</th>\n",
       "      <td>0.000000</td>\n",
       "      <td>0.000000</td>\n",
       "      <td>0.000000</td>\n",
       "      <td>0.000000</td>\n",
       "      <td>0.000000</td>\n",
       "      <td>0.000000</td>\n",
       "      <td>0.078000</td>\n",
       "      <td>21.000000</td>\n",
       "      <td>0.000000</td>\n",
       "    </tr>\n",
       "    <tr>\n",
       "      <th>25%</th>\n",
       "      <td>1.000000</td>\n",
       "      <td>99.000000</td>\n",
       "      <td>62.000000</td>\n",
       "      <td>0.000000</td>\n",
       "      <td>0.000000</td>\n",
       "      <td>27.300000</td>\n",
       "      <td>0.243750</td>\n",
       "      <td>24.000000</td>\n",
       "      <td>0.000000</td>\n",
       "    </tr>\n",
       "    <tr>\n",
       "      <th>50%</th>\n",
       "      <td>3.000000</td>\n",
       "      <td>117.000000</td>\n",
       "      <td>72.000000</td>\n",
       "      <td>23.000000</td>\n",
       "      <td>30.500000</td>\n",
       "      <td>32.000000</td>\n",
       "      <td>0.372500</td>\n",
       "      <td>29.000000</td>\n",
       "      <td>0.000000</td>\n",
       "    </tr>\n",
       "    <tr>\n",
       "      <th>75%</th>\n",
       "      <td>6.000000</td>\n",
       "      <td>140.250000</td>\n",
       "      <td>80.000000</td>\n",
       "      <td>32.000000</td>\n",
       "      <td>127.250000</td>\n",
       "      <td>36.600000</td>\n",
       "      <td>0.626250</td>\n",
       "      <td>41.000000</td>\n",
       "      <td>1.000000</td>\n",
       "    </tr>\n",
       "    <tr>\n",
       "      <th>max</th>\n",
       "      <td>17.000000</td>\n",
       "      <td>199.000000</td>\n",
       "      <td>9999.000000</td>\n",
       "      <td>99.000000</td>\n",
       "      <td>846.000000</td>\n",
       "      <td>9999.000000</td>\n",
       "      <td>2.420000</td>\n",
       "      <td>999.000000</td>\n",
       "      <td>1.000000</td>\n",
       "    </tr>\n",
       "  </tbody>\n",
       "</table>\n",
       "</div>"
      ],
      "text/plain": [
       "       Pregnancies     Glucose  BloodPressure  SkinThickness     Insulin  \\\n",
       "count   768.000000  768.000000     768.000000     768.000000  768.000000   \n",
       "mean      3.845052  120.894531      81.976562      20.536458   79.799479   \n",
       "std       3.369578   31.972618     358.835058      15.952218  115.244002   \n",
       "min       0.000000    0.000000       0.000000       0.000000    0.000000   \n",
       "25%       1.000000   99.000000      62.000000       0.000000    0.000000   \n",
       "50%       3.000000  117.000000      72.000000      23.000000   30.500000   \n",
       "75%       6.000000  140.250000      80.000000      32.000000  127.250000   \n",
       "max      17.000000  199.000000    9999.000000      99.000000  846.000000   \n",
       "\n",
       "               BMI  DiabetesPedigreeFunction         Age     Outcome  \n",
       "count   768.000000                768.000000  768.000000  768.000000  \n",
       "mean     44.934766                  0.471876   34.447917    0.348958  \n",
       "std     359.739733                  0.331329   36.754727    0.476951  \n",
       "min       0.000000                  0.078000   21.000000    0.000000  \n",
       "25%      27.300000                  0.243750   24.000000    0.000000  \n",
       "50%      32.000000                  0.372500   29.000000    0.000000  \n",
       "75%      36.600000                  0.626250   41.000000    1.000000  \n",
       "max    9999.000000                  2.420000  999.000000    1.000000  "
      ]
     },
     "execution_count": 4,
     "metadata": {},
     "output_type": "execute_result"
    }
   ],
   "source": [
    "# 기초통계량 확인\n",
    "df.describe()"
   ]
  },
  {
   "cell_type": "code",
   "execution_count": 5,
   "id": "bcc096ae",
   "metadata": {
    "execution": {
     "iopub.execute_input": "2023-08-24T21:57:49.882490Z",
     "iopub.status.busy": "2023-08-24T21:57:49.880988Z",
     "iopub.status.idle": "2023-08-24T21:57:49.886671Z",
     "shell.execute_reply": "2023-08-24T21:57:49.885441Z",
     "shell.execute_reply.started": "2023-08-23T21:53:33.728558Z"
    },
    "papermill": {
     "duration": 0.088323,
     "end_time": "2023-08-24T21:57:49.886926",
     "exception": false,
     "start_time": "2023-08-24T21:57:49.798603",
     "status": "completed"
    },
    "tags": []
   },
   "outputs": [],
   "source": [
    "# BloodPressure, BMI, Age에 뭔가 이상치가 조금 있는 것 같음\n",
    "# 0일 수가 없는데 그리고 9999는 뭐냐\n",
    "# 상자그림을 그려봐야겠다."
   ]
  },
  {
   "cell_type": "code",
   "execution_count": 6,
   "id": "04341ac7",
   "metadata": {
    "execution": {
     "iopub.execute_input": "2023-08-24T21:57:50.056075Z",
     "iopub.status.busy": "2023-08-24T21:57:50.055262Z",
     "iopub.status.idle": "2023-08-24T21:57:51.193495Z",
     "shell.execute_reply": "2023-08-24T21:57:51.192781Z",
     "shell.execute_reply.started": "2023-08-23T21:53:33.851982Z"
    },
    "papermill": {
     "duration": 1.22709,
     "end_time": "2023-08-24T21:57:51.193676",
     "exception": false,
     "start_time": "2023-08-24T21:57:49.966586",
     "status": "completed"
    },
    "tags": []
   },
   "outputs": [
    {
     "data": {
      "image/png": "[encoded data removed]",
      "text/plain": [
       "<Figure size 1440x1440 with 9 Axes>"
      ]
     },
     "metadata": {
      "needs_background": "light"
     },
     "output_type": "display_data"
    }
   ],
   "source": [
    "plt.figure(figsize = (20, 20))\n",
    "plt.subplot(3, 3, 1)\n",
    "plt.boxplot(df['Pregnancies'])\n",
    "plt.xlabel('Pregnancies')\n",
    "\n",
    "plt.subplot(3, 3, 2)\n",
    "plt.boxplot(df['Glucose'])\n",
    "plt.xlabel('Glucose')\n",
    "\n",
    "plt.subplot(3, 3, 3)\n",
    "plt.boxplot(df['BloodPressure'])\n",
    "plt.xlabel('BloodPressure')\n",
    "\n",
    "plt.subplot(3, 3, 4)\n",
    "plt.boxplot(df['SkinThickness'])\n",
    "plt.xlabel('SkinThickness')\n",
    "\n",
    "plt.subplot(3, 3, 5)\n",
    "plt.boxplot(df['Insulin'])\n",
    "plt.xlabel('Insulin')\n",
    "\n",
    "plt.subplot(3, 3, 6)\n",
    "plt.boxplot(df['BMI'])\n",
    "plt.xlabel('BMI')\n",
    "\n",
    "plt.subplot(3, 3, 7)\n",
    "plt.boxplot(df['DiabetesPedigreeFunction'])\n",
    "plt.xlabel('DiabetesPedigreeFunction')\n",
    "\n",
    "plt.subplot(3, 3, 8)\n",
    "plt.boxplot(df['Age'])\n",
    "plt.xlabel('Age')\n",
    "\n",
    "plt.subplot(3, 3, 9)\n",
    "plt.boxplot(df['Outcome'])\n",
    "plt.xlabel('Outcome')\n",
    "\n",
    "plt.show()"
   ]
  },
  {
   "cell_type": "markdown",
   "id": "bfe6d666",
   "metadata": {
    "papermill": {
     "duration": 0.085192,
     "end_time": "2023-08-24T21:57:51.365340",
     "exception": false,
     "start_time": "2023-08-24T21:57:51.280148",
     "status": "completed"
    },
    "tags": []
   },
   "source": [
    "일단 이상치있는 건 확인했고, 처리는 1-2번에서 하자.\n",
    "그리고 이번에는 상관관계를 확인하기 위해 상관계수 히트맵을 그린다."
   ]
  },
  {
   "cell_type": "code",
   "execution_count": 7,
   "id": "95d81ebc",
   "metadata": {
    "execution": {
     "iopub.execute_input": "2023-08-24T21:57:51.540399Z",
     "iopub.status.busy": "2023-08-24T21:57:51.539269Z",
     "iopub.status.idle": "2023-08-24T21:57:52.269826Z",
     "shell.execute_reply": "2023-08-24T21:57:52.270542Z",
     "shell.execute_reply.started": "2023-08-23T21:53:34.920360Z"
    },
    "papermill": {
     "duration": 0.817811,
     "end_time": "2023-08-24T21:57:52.270778",
     "exception": false,
     "start_time": "2023-08-24T21:57:51.452967",
     "status": "completed"
    },
    "tags": []
   },
   "outputs": [
    {
     "data": {
      "image/png": "[encoded data removed]",
      "text/plain": [
       "<Figure size 720x720 with 2 Axes>"
      ]
     },
     "metadata": {
      "needs_background": "light"
     },
     "output_type": "display_data"
    }
   ],
   "source": [
    "df_corr = df.corr(method = 'pearson')\n",
    "plt.figure(figsize = (10, 10))\n",
    "sns.heatmap(df_corr, cmap = 'RdBu_r', annot = True, fmt = '.0%')\n",
    "plt.show()"
   ]
  },
  {
   "cell_type": "markdown",
   "id": "ed464e7b",
   "metadata": {
    "papermill": {
     "duration": 0.09639,
     "end_time": "2023-08-24T21:57:52.456639",
     "exception": false,
     "start_time": "2023-08-24T21:57:52.360249",
     "status": "completed"
    },
    "tags": []
   },
   "source": [
    "상관관계가 큰 것은 보이지 않는다.\n",
    "\n",
    "따라서 다중공선성은 의심하지 않아도 될 것 같다."
   ]
  },
  {
   "cell_type": "markdown",
   "id": "52fd9b6d",
   "metadata": {
    "papermill": {
     "duration": 0.0859,
     "end_time": "2023-08-24T21:57:52.636200",
     "exception": false,
     "start_time": "2023-08-24T21:57:52.550300",
     "status": "completed"
    },
    "tags": []
   },
   "source": [
    "마지막으로 하나씩 히스토그램 그려보기"
   ]
  },
  {
   "cell_type": "code",
   "execution_count": 8,
   "id": "c6214ed9",
   "metadata": {
    "execution": {
     "iopub.execute_input": "2023-08-24T21:57:52.809687Z",
     "iopub.status.busy": "2023-08-24T21:57:52.808837Z",
     "iopub.status.idle": "2023-08-24T21:57:54.500126Z",
     "shell.execute_reply": "2023-08-24T21:57:54.500792Z",
     "shell.execute_reply.started": "2023-08-23T21:53:35.639227Z"
    },
    "papermill": {
     "duration": 1.780198,
     "end_time": "2023-08-24T21:57:54.501000",
     "exception": false,
     "start_time": "2023-08-24T21:57:52.720802",
     "status": "completed"
    },
    "tags": []
   },
   "outputs": [
    {
     "data": {
      "image/png": "[encoded data removed]",
      "text/plain": [
       "<Figure size 1440x1440 with 9 Axes>"
      ]
     },
     "metadata": {
      "needs_background": "light"
     },
     "output_type": "display_data"
    }
   ],
   "source": [
    "plt.figure(figsize = (20, 20))\n",
    "for (col, i) in zip(df.columns, range(1, 10)):\n",
    "    plt.subplot(3, 3, i)\n",
    "    plt.hist(df[col])\n",
    "    plt.xlabel(col)\n",
    "plt.show()"
   ]
  },
  {
   "cell_type": "markdown",
   "id": "b6c4d89c",
   "metadata": {
    "papermill": {
     "duration": 0.086275,
     "end_time": "2023-08-24T21:57:54.674916",
     "exception": false,
     "start_time": "2023-08-24T21:57:54.588641",
     "status": "completed"
    },
    "tags": []
   },
   "source": [
    "### 1-2 이상치 처리(이상값 대체방안 제시)"
   ]
  },
  {
   "cell_type": "markdown",
   "id": "b647c710",
   "metadata": {
    "papermill": {
     "duration": 0.086819,
     "end_time": "2023-08-24T21:57:54.848425",
     "exception": false,
     "start_time": "2023-08-24T21:57:54.761606",
     "status": "completed"
    },
    "tags": []
   },
   "source": [
    "* 데이터의 수가 매우 많고 이상치가 존재하는 행이 전체 데이터에 비해 많지 않은 경우 이상치가 존재하는 행 전체를 삭제할 수 있다.\n",
    "* 만약 대체한다면 변수의 특징에 따라 평균, 중앙값, 최빈값과 같은 대푯값을 선정하여 대체할 수 있다."
   ]
  },
  {
   "cell_type": "code",
   "execution_count": 9,
   "id": "cb9c38a9",
   "metadata": {
    "execution": {
     "iopub.execute_input": "2023-08-24T21:57:55.033270Z",
     "iopub.status.busy": "2023-08-24T21:57:55.032291Z",
     "iopub.status.idle": "2023-08-24T21:57:55.036678Z",
     "shell.execute_reply": "2023-08-24T21:57:55.035901Z",
     "shell.execute_reply.started": "2023-08-23T21:53:37.342092Z"
    },
    "papermill": {
     "duration": 0.099282,
     "end_time": "2023-08-24T21:57:55.036842",
     "exception": false,
     "start_time": "2023-08-24T21:57:54.937560",
     "status": "completed"
    },
    "tags": []
   },
   "outputs": [
    {
     "data": {
      "text/plain": [
       "Index(['Pregnancies', 'Glucose', 'BloodPressure', 'SkinThickness', 'Insulin',\n",
       "       'BMI', 'DiabetesPedigreeFunction', 'Age', 'Outcome'],\n",
       "      dtype='object')"
      ]
     },
     "execution_count": 9,
     "metadata": {},
     "output_type": "execute_result"
    }
   ],
   "source": [
    "df.columns"
   ]
  },
  {
   "cell_type": "markdown",
   "id": "5eba538c",
   "metadata": {
    "papermill": {
     "duration": 0.08882,
     "end_time": "2023-08-24T21:57:55.214444",
     "exception": false,
     "start_time": "2023-08-24T21:57:55.125624",
     "status": "completed"
    },
    "tags": []
   },
   "source": [
    "이번에는 중앙값으로 대체하고자 한다.\n",
    "\n",
    "이때, 이상치를 제외한 상태에서의 중앙값으로 대체하겠다."
   ]
  },
  {
   "cell_type": "markdown",
   "id": "69f5a35c",
   "metadata": {
    "papermill": {
     "duration": 0.090312,
     "end_time": "2023-08-24T21:57:55.394635",
     "exception": false,
     "start_time": "2023-08-24T21:57:55.304323",
     "status": "completed"
    },
    "tags": []
   },
   "source": [
    "수염 밖의 값까지 포함한 경우의 중앙값과 같은 경우도 있고, 다른 경우도 있다.\n",
    "\n",
    "무튼 Outcome을 제외한 나머지 변수의 이상치를 수염 내의 값들에 대한 중앙값으로 대체해주자.\n",
    "\n",
    "추가로, 각 피처별 값이 0인 경우가 말이 되지 않으므로 이것도 중앙값으로 대체해주자."
   ]
  },
  {
   "cell_type": "code",
   "execution_count": 10,
   "id": "cd71d3e1",
   "metadata": {
    "execution": {
     "iopub.execute_input": "2023-08-24T21:57:55.586559Z",
     "iopub.status.busy": "2023-08-24T21:57:55.585397Z",
     "iopub.status.idle": "2023-08-24T21:57:55.657888Z",
     "shell.execute_reply": "2023-08-24T21:57:55.658555Z",
     "shell.execute_reply.started": "2023-08-23T21:53:37.350550Z"
    },
    "papermill": {
     "duration": 0.173143,
     "end_time": "2023-08-24T21:57:55.658751",
     "exception": false,
     "start_time": "2023-08-24T21:57:55.485608",
     "status": "completed"
    },
    "tags": []
   },
   "outputs": [
    {
     "name": "stdout",
     "output_type": "stream",
     "text": [
      "Pregnancies                   3.0000\n",
      "Glucose                     117.0000\n",
      "BloodPressure                72.0000\n",
      "SkinThickness                23.0000\n",
      "Insulin                      30.5000\n",
      "BMI                          32.0000\n",
      "DiabetesPedigreeFunction      0.3725\n",
      "Age                          29.0000\n",
      "Outcome                       0.0000\n",
      "Name: 50%, dtype: float64\n"
     ]
    }
   ],
   "source": [
    "q1_series = df.describe().loc['25%']\n",
    "median_series = df.describe().loc['50%']\n",
    "q3_series = df.describe().loc['75%']\n",
    "iqr_series = q3_series - q1_series\n",
    "\n",
    "low_whis_series = q1_series - 1.5 * iqr_series\n",
    "upper_whis_series = q3_series + 1.5 * iqr_series\n",
    "\n",
    "df_for_0 = df[['Glucose', 'BloodPressure', 'SkinThickness', 'Insulin', 'BMI']]\n",
    "df_for_999 = df[['BloodPressure', 'BMI', 'Age']]\n",
    "\n",
    "print(median_series)"
   ]
  },
  {
   "cell_type": "code",
   "execution_count": 11,
   "id": "e7fcab66",
   "metadata": {
    "execution": {
     "iopub.execute_input": "2023-08-24T21:57:55.847273Z",
     "iopub.status.busy": "2023-08-24T21:57:55.846473Z",
     "iopub.status.idle": "2023-08-24T21:57:55.897441Z",
     "shell.execute_reply": "2023-08-24T21:57:55.896759Z",
     "shell.execute_reply.started": "2023-08-23T21:53:37.430770Z"
    },
    "papermill": {
     "duration": 0.150002,
     "end_time": "2023-08-24T21:57:55.897604",
     "exception": false,
     "start_time": "2023-08-24T21:57:55.747602",
     "status": "completed"
    },
    "tags": []
   },
   "outputs": [
    {
     "data": {
      "text/html": [
       "<div>\n",
       "<style scoped>\n",
       "    .dataframe tbody tr th:only-of-type {\n",
       "        vertical-align: middle;\n",
       "    }\n",
       "\n",
       "    .dataframe tbody tr th {\n",
       "        vertical-align: top;\n",
       "    }\n",
       "\n",
       "    .dataframe thead th {\n",
       "        text-align: right;\n",
       "    }\n",
       "</style>\n",
       "<table border=\"1\" class=\"dataframe\">\n",
       "  <thead>\n",
       "    <tr style=\"text-align: right;\">\n",
       "      <th></th>\n",
       "      <th>Pregnancies</th>\n",
       "      <th>Glucose</th>\n",
       "      <th>BloodPressure</th>\n",
       "      <th>SkinThickness</th>\n",
       "      <th>Insulin</th>\n",
       "      <th>BMI</th>\n",
       "      <th>DiabetesPedigreeFunction</th>\n",
       "      <th>Age</th>\n",
       "      <th>Outcome</th>\n",
       "    </tr>\n",
       "  </thead>\n",
       "  <tbody>\n",
       "    <tr>\n",
       "      <th>count</th>\n",
       "      <td>768.000000</td>\n",
       "      <td>768.000000</td>\n",
       "      <td>768.000000</td>\n",
       "      <td>768.000000</td>\n",
       "      <td>768.000000</td>\n",
       "      <td>768.000000</td>\n",
       "      <td>768.000000</td>\n",
       "      <td>768.000000</td>\n",
       "      <td>768.000000</td>\n",
       "    </tr>\n",
       "    <tr>\n",
       "      <th>mean</th>\n",
       "      <td>3.845052</td>\n",
       "      <td>121.656250</td>\n",
       "      <td>72.332031</td>\n",
       "      <td>27.334635</td>\n",
       "      <td>94.652344</td>\n",
       "      <td>32.415234</td>\n",
       "      <td>0.471876</td>\n",
       "      <td>33.184896</td>\n",
       "      <td>0.348958</td>\n",
       "    </tr>\n",
       "    <tr>\n",
       "      <th>std</th>\n",
       "      <td>3.369578</td>\n",
       "      <td>30.438286</td>\n",
       "      <td>12.002843</td>\n",
       "      <td>9.229014</td>\n",
       "      <td>105.547598</td>\n",
       "      <td>6.806084</td>\n",
       "      <td>0.331329</td>\n",
       "      <td>11.677531</td>\n",
       "      <td>0.476951</td>\n",
       "    </tr>\n",
       "    <tr>\n",
       "      <th>min</th>\n",
       "      <td>0.000000</td>\n",
       "      <td>44.000000</td>\n",
       "      <td>24.000000</td>\n",
       "      <td>7.000000</td>\n",
       "      <td>14.000000</td>\n",
       "      <td>18.200000</td>\n",
       "      <td>0.078000</td>\n",
       "      <td>21.000000</td>\n",
       "      <td>0.000000</td>\n",
       "    </tr>\n",
       "    <tr>\n",
       "      <th>25%</th>\n",
       "      <td>1.000000</td>\n",
       "      <td>99.750000</td>\n",
       "      <td>64.000000</td>\n",
       "      <td>23.000000</td>\n",
       "      <td>30.500000</td>\n",
       "      <td>27.500000</td>\n",
       "      <td>0.243750</td>\n",
       "      <td>24.000000</td>\n",
       "      <td>0.000000</td>\n",
       "    </tr>\n",
       "    <tr>\n",
       "      <th>50%</th>\n",
       "      <td>3.000000</td>\n",
       "      <td>117.000000</td>\n",
       "      <td>72.000000</td>\n",
       "      <td>23.000000</td>\n",
       "      <td>31.250000</td>\n",
       "      <td>32.000000</td>\n",
       "      <td>0.372500</td>\n",
       "      <td>29.000000</td>\n",
       "      <td>0.000000</td>\n",
       "    </tr>\n",
       "    <tr>\n",
       "      <th>75%</th>\n",
       "      <td>6.000000</td>\n",
       "      <td>140.250000</td>\n",
       "      <td>80.000000</td>\n",
       "      <td>32.000000</td>\n",
       "      <td>127.250000</td>\n",
       "      <td>36.525000</td>\n",
       "      <td>0.626250</td>\n",
       "      <td>41.000000</td>\n",
       "      <td>1.000000</td>\n",
       "    </tr>\n",
       "    <tr>\n",
       "      <th>max</th>\n",
       "      <td>17.000000</td>\n",
       "      <td>199.000000</td>\n",
       "      <td>122.000000</td>\n",
       "      <td>99.000000</td>\n",
       "      <td>846.000000</td>\n",
       "      <td>67.100000</td>\n",
       "      <td>2.420000</td>\n",
       "      <td>81.000000</td>\n",
       "      <td>1.000000</td>\n",
       "    </tr>\n",
       "  </tbody>\n",
       "</table>\n",
       "</div>"
      ],
      "text/plain": [
       "       Pregnancies     Glucose  BloodPressure  SkinThickness     Insulin  \\\n",
       "count   768.000000  768.000000     768.000000     768.000000  768.000000   \n",
       "mean      3.845052  121.656250      72.332031      27.334635   94.652344   \n",
       "std       3.369578   30.438286      12.002843       9.229014  105.547598   \n",
       "min       0.000000   44.000000      24.000000       7.000000   14.000000   \n",
       "25%       1.000000   99.750000      64.000000      23.000000   30.500000   \n",
       "50%       3.000000  117.000000      72.000000      23.000000   31.250000   \n",
       "75%       6.000000  140.250000      80.000000      32.000000  127.250000   \n",
       "max      17.000000  199.000000     122.000000      99.000000  846.000000   \n",
       "\n",
       "              BMI  DiabetesPedigreeFunction         Age     Outcome  \n",
       "count  768.000000                768.000000  768.000000  768.000000  \n",
       "mean    32.415234                  0.471876   33.184896    0.348958  \n",
       "std      6.806084                  0.331329   11.677531    0.476951  \n",
       "min     18.200000                  0.078000   21.000000    0.000000  \n",
       "25%     27.500000                  0.243750   24.000000    0.000000  \n",
       "50%     32.000000                  0.372500   29.000000    0.000000  \n",
       "75%     36.525000                  0.626250   41.000000    1.000000  \n",
       "max     67.100000                  2.420000   81.000000    1.000000  "
      ]
     },
     "execution_count": 11,
     "metadata": {},
     "output_type": "execute_result"
    }
   ],
   "source": [
    "for col in df_for_0.columns:\n",
    "    df.loc[df[col] == 0, [col]] = median_series[col]\n",
    "\n",
    "for col in df_for_999.columns:\n",
    "    df.loc[(df[col] == 999) | (df[col] == 9999), [col]] = median_series[col]\n",
    "\n",
    "df.describe()"
   ]
  },
  {
   "cell_type": "code",
   "execution_count": 12,
   "id": "3e89317a",
   "metadata": {
    "execution": {
     "iopub.execute_input": "2023-08-24T21:57:56.087506Z",
     "iopub.status.busy": "2023-08-24T21:57:56.086648Z",
     "iopub.status.idle": "2023-08-24T21:57:57.159905Z",
     "shell.execute_reply": "2023-08-24T21:57:57.160514Z",
     "shell.execute_reply.started": "2023-08-23T21:53:37.493141Z"
    },
    "papermill": {
     "duration": 1.172997,
     "end_time": "2023-08-24T21:57:57.160711",
     "exception": false,
     "start_time": "2023-08-24T21:57:55.987714",
     "status": "completed"
    },
    "tags": []
   },
   "outputs": [
    {
     "data": {
      "image/png": "[encoded data removed]",
      "text/plain": [
       "<Figure size 1440x1440 with 9 Axes>"
      ]
     },
     "metadata": {
      "needs_background": "light"
     },
     "output_type": "display_data"
    }
   ],
   "source": [
    "# 다시 그리는 상자그림\n",
    "plt.figure(figsize = (20, 20))\n",
    "plt.subplot(3, 3, 1)\n",
    "plt.boxplot(df['Pregnancies'])\n",
    "plt.xlabel('Pregnancies')\n",
    "\n",
    "plt.subplot(3, 3, 2)\n",
    "plt.boxplot(df['Glucose'])\n",
    "plt.xlabel('Glucose')\n",
    "\n",
    "plt.subplot(3, 3, 3)\n",
    "plt.boxplot(df['BloodPressure'])\n",
    "plt.xlabel('BloodPressure')\n",
    "\n",
    "plt.subplot(3, 3, 4)\n",
    "plt.boxplot(df['SkinThickness'])\n",
    "plt.xlabel('SkinThickness')\n",
    "\n",
    "plt.subplot(3, 3, 5)\n",
    "plt.boxplot(df['Insulin'])\n",
    "plt.xlabel('Insulin')\n",
    "\n",
    "plt.subplot(3, 3, 6)\n",
    "plt.boxplot(df['BMI'])\n",
    "plt.xlabel('BMI')\n",
    "\n",
    "plt.subplot(3, 3, 7)\n",
    "plt.boxplot(df['DiabetesPedigreeFunction'])\n",
    "plt.xlabel('DiabetesPedigreeFunction')\n",
    "\n",
    "plt.subplot(3, 3, 8)\n",
    "plt.boxplot(df['Age'])\n",
    "plt.xlabel('Age')\n",
    "\n",
    "plt.subplot(3, 3, 9)\n",
    "plt.boxplot(df['Outcome'])\n",
    "plt.xlabel('Outcome')\n",
    "\n",
    "plt.show()"
   ]
  },
  {
   "cell_type": "markdown",
   "id": "5ac6027a",
   "metadata": {
    "papermill": {
     "duration": 0.091657,
     "end_time": "2023-08-24T21:57:57.347823",
     "exception": false,
     "start_time": "2023-08-24T21:57:57.256166",
     "status": "completed"
    },
    "tags": []
   },
   "source": [
    "### 1-3 앞선 두 단계에서 얻은 향후 분석시 고려사항 작성"
   ]
  },
  {
   "cell_type": "markdown",
   "id": "936ac514",
   "metadata": {
    "papermill": {
     "duration": 0.091284,
     "end_time": "2023-08-24T21:57:57.537152",
     "exception": false,
     "start_time": "2023-08-24T21:57:57.445868",
     "status": "completed"
    },
    "tags": []
   },
   "source": [
    "* 혈압이 24일 수 있는지 현업의 전문가와 논의 후 처리가 필요하다.\n",
    "* 이외에도 SkinThickness, Insulin, BMI, DiabetesPedigreeFunction에 대해서는 전문가와 논의 후 처리가 필요해보인다.\n",
    "* 상관계수가 큰 피처들이 존재하지 않으므로 다중공선성을 배제하기 위한 처리는 필요하지 않아 보인다."
   ]
  },
  {
   "cell_type": "markdown",
   "id": "e80d1c22",
   "metadata": {
    "papermill": {
     "duration": 0.092424,
     "end_time": "2023-08-24T21:57:57.721632",
     "exception": false,
     "start_time": "2023-08-24T21:57:57.629208",
     "status": "completed"
    },
    "tags": []
   },
   "source": [
    "# 문제 2"
   ]
  },
  {
   "cell_type": "markdown",
   "id": "deb4d6e9",
   "metadata": {
    "papermill": {
     "duration": 0.090978,
     "end_time": "2023-08-24T21:57:57.904796",
     "exception": false,
     "start_time": "2023-08-24T21:57:57.813818",
     "status": "completed"
    },
    "tags": []
   },
   "source": [
    "### 2-1 오버샘플링 과정 설명하고 결과 작성"
   ]
  },
  {
   "cell_type": "markdown",
   "id": "db91413e",
   "metadata": {
    "papermill": {
     "duration": 0.092343,
     "end_time": "2023-08-24T21:57:58.089077",
     "exception": false,
     "start_time": "2023-08-24T21:57:57.996734",
     "status": "completed"
    },
    "tags": []
   },
   "source": [
    " * 오버 샘플링 기법은 비중이 적은 데이터를 추가로 생성해 수를 늘려 데이터 불균형을 극복하는 기법이다.\n",
    "    * 언더 샘플링은 데이터 손실의 문제로 예측 성능이 저하되는 단점이 있으므로, 일반적으로는 불균형한 데이터를 처리하는 방식으로 오버 샘플링을 사용한다.\n",
    "\n",
    " * 이때, 오버 샘플링은 Random Oversampling과 SMOTE로 구분할 수 있는데,\n",
    "\n",
    "> Random Oversampling은\n",
    "* 소수 클래스에 속하는 데이터의 관측치를 복사하는 방식으로 데이터를 증식한다.\n",
    "* 데이터를 단순 복사하는 방식이므로 기존의 데이터와 동일한 복제 데이터를 생성한다.\n",
    "* 이에 따라 소수 클래스에 과적합이 발생할 가능성이 있다는 단점이 있지만, 사용방법이 간단하다는 장점이 있다.\n",
    "\n",
    "> 한편, SMOTE는\n",
    "* 적은 데이터 세트에 있는 개별 데이터들의 k-최근접 이웃을 찾아, 해당 데이터와 k개 이웃들의 차이를 일정한 값으로 만들어 기존 데이터와 약간의 차이를 지닌 새로운 데이터를 생성하는 방식이다.\n",
    "* SMOTE는 Random Oversampling보다 처리 속도가 느리다는 단점이 잇지만, 데이터를 단순히 동일하게 증식시키는 방식이 아니기 때문에, 과적합 문제를 예방할 수 있는 장점이 있다.\n",
    "\n",
    "일단 이번에는 Random Oversampling을 선정한다.\n",
    "\n",
    "\n",
    "---\n",
    "오버 샘플링(Over Sampling) - (imblearn : imbalanced-learn)\n",
    "\n",
    "소수의 레이블을 지닌  데이터세트를 다수 레이블을 지닌 데이터세트의 수만큼 중식시키는 기범\n",
    "\n",
    "데이터의 손실이 없어 일반적으로 언더 샘플링보다 성능이 유리하여 주로 사용한다."
   ]
  },
  {
   "cell_type": "code",
   "execution_count": 13,
   "id": "fe1fbf46",
   "metadata": {
    "execution": {
     "iopub.execute_input": "2023-08-24T21:57:58.278102Z",
     "iopub.status.busy": "2023-08-24T21:57:58.276955Z",
     "iopub.status.idle": "2023-08-24T21:57:59.040334Z",
     "shell.execute_reply": "2023-08-24T21:57:59.040933Z",
     "shell.execute_reply.started": "2023-08-23T21:53:38.997939Z"
    },
    "papermill": {
     "duration": 0.860617,
     "end_time": "2023-08-24T21:57:59.041232",
     "exception": false,
     "start_time": "2023-08-24T21:57:58.180615",
     "status": "completed"
    },
    "tags": []
   },
   "outputs": [
    {
     "name": "stdout",
     "output_type": "stream",
     "text": [
      "ros_time :  0.008733272552490234\n",
      "Counter({1: 500, 0: 500})\n"
     ]
    }
   ],
   "source": [
    "# 종속변수인 Class에 대하여 Random Oversamplig\n",
    "from imblearn.over_sampling import RandomOverSampler\n",
    "from collections import Counter\n",
    "ros = RandomOverSampler(random_state = 731)\n",
    "\n",
    "y=df.pop('Outcome')\n",
    "x=df\n",
    "\n",
    "import time\n",
    "# Random Oversampling\n",
    "ros_start_time = time.time() # 시작 시간\n",
    "x_ros, y_ros = ros.fit_resample(x, y)\n",
    "ros_end_time = time.time() # 종료 시간\n",
    "print('ros_time : ', ros_end_time - ros_start_time)\n",
    "print(Counter(y_ros))"
   ]
  },
  {
   "cell_type": "markdown",
   "id": "62eff7c1",
   "metadata": {
    "papermill": {
     "duration": 0.094215,
     "end_time": "2023-08-24T21:57:59.233590",
     "exception": false,
     "start_time": "2023-08-24T21:57:59.139375",
     "status": "completed"
    },
    "tags": []
   },
   "source": [
    "### 2-2 언더샘플링 과정 설명하고 결과 작성"
   ]
  },
  {
   "cell_type": "markdown",
   "id": "489aa461",
   "metadata": {
    "papermill": {
     "duration": 0.096182,
     "end_time": "2023-08-24T21:57:59.423525",
     "exception": false,
     "start_time": "2023-08-24T21:57:59.327343",
     "status": "completed"
    },
    "tags": []
   },
   "source": [
    "언더 샘플링(Under Sampling) - (imblearn : imbalanced-learn)\n",
    "\n",
    "다수의 레이블을 가진 데이터를 샘플링하여 소수의 데이터세트가 가진 레이블의 수 수준으로 감소시키는 기법\n",
    "\n",
    "데이터 불균형으로 인한 문제는 피할 수 있지만 전체 데이터의 수가 급감하여 오히려 학습 성능을 떨어뜨릴 수도 있다."
   ]
  },
  {
   "cell_type": "code",
   "execution_count": 14,
   "id": "8ec23673",
   "metadata": {
    "execution": {
     "iopub.execute_input": "2023-08-24T21:57:59.620574Z",
     "iopub.status.busy": "2023-08-24T21:57:59.619424Z",
     "iopub.status.idle": "2023-08-24T21:57:59.630532Z",
     "shell.execute_reply": "2023-08-24T21:57:59.631187Z",
     "shell.execute_reply.started": "2023-08-23T21:54:15.407529Z"
    },
    "papermill": {
     "duration": 0.111919,
     "end_time": "2023-08-24T21:57:59.631378",
     "exception": false,
     "start_time": "2023-08-24T21:57:59.519459",
     "status": "completed"
    },
    "tags": []
   },
   "outputs": [
    {
     "name": "stdout",
     "output_type": "stream",
     "text": [
      "rus_time :  0.007550716400146484\n",
      "Counter({0: 268, 1: 268})\n"
     ]
    }
   ],
   "source": [
    "from imblearn.under_sampling import RandomUnderSampler\n",
    "rus = RandomUnderSampler(random_state = 731)\n",
    "\n",
    "# Random Oversampling\n",
    "rus_start_time = time.time() # 시작 시간\n",
    "x_rus, y_rus = rus.fit_resample(x, y)\n",
    "rus_end_time = time.time() # 종료 시간\n",
    "print('rus_time : ', rus_end_time - rus_start_time)\n",
    "print(Counter(y_rus))"
   ]
  },
  {
   "cell_type": "code",
   "execution_count": 15,
   "id": "cd60ad38",
   "metadata": {
    "execution": {
     "iopub.execute_input": "2023-08-24T21:57:59.822817Z",
     "iopub.status.busy": "2023-08-24T21:57:59.821740Z",
     "iopub.status.idle": "2023-08-24T21:57:59.829508Z",
     "shell.execute_reply": "2023-08-24T21:57:59.830078Z",
     "shell.execute_reply.started": "2023-08-23T21:54:56.537358Z"
    },
    "papermill": {
     "duration": 0.103221,
     "end_time": "2023-08-24T21:57:59.830279",
     "exception": false,
     "start_time": "2023-08-24T21:57:59.727058",
     "status": "completed"
    },
    "tags": []
   },
   "outputs": [
    {
     "name": "stdout",
     "output_type": "stream",
     "text": [
      "before :  Counter({0: 500, 1: 268})\n",
      "ros  Counter({1: 500, 0: 500})\n",
      "rus :  Counter({0: 268, 1: 268})\n"
     ]
    }
   ],
   "source": [
    "print('before : ', Counter(y))\n",
    "print('ros ', Counter(y_ros))\n",
    "print('rus : ', Counter(y_rus))"
   ]
  },
  {
   "cell_type": "markdown",
   "id": "3dd8b178",
   "metadata": {
    "papermill": {
     "duration": 0.091954,
     "end_time": "2023-08-24T21:58:00.016602",
     "exception": false,
     "start_time": "2023-08-24T21:57:59.924648",
     "status": "completed"
    },
    "tags": []
   },
   "source": [
    "### 2-3 둘 중 선택하고 이유 설명"
   ]
  },
  {
   "cell_type": "markdown",
   "id": "26cc617f",
   "metadata": {
    "papermill": {
     "duration": 0.094504,
     "end_time": "2023-08-24T21:58:00.208058",
     "exception": false,
     "start_time": "2023-08-24T21:58:00.113554",
     "status": "completed"
    },
    "tags": []
   },
   "source": [
    "오버샘플링을 선택한다.\n",
    "데이터가 부족한 것 보다는 충분한 것이 좋다."
   ]
  },
  {
   "cell_type": "markdown",
   "id": "5ca0831d",
   "metadata": {
    "papermill": {
     "duration": 0.093216,
     "end_time": "2023-08-24T21:58:00.395469",
     "exception": false,
     "start_time": "2023-08-24T21:58:00.302253",
     "status": "completed"
    },
    "tags": []
   },
   "source": [
    "# 문제 3"
   ]
  },
  {
   "cell_type": "markdown",
   "id": "04792b5a",
   "metadata": {
    "papermill": {
     "duration": 0.092413,
     "end_time": "2023-08-24T21:58:00.583194",
     "exception": false,
     "start_time": "2023-08-24T21:58:00.490781",
     "status": "completed"
    },
    "tags": []
   },
   "source": [
    "### 3-1 최소 3개 이상 알고리즘 제시하고 정확도 측면의 모델 1개와 속도 측면의 모델 1개를 꼭 구현(총 2개 이상)"
   ]
  },
  {
   "cell_type": "markdown",
   "id": "c6fd7af4",
   "metadata": {
    "papermill": {
     "duration": 0.092226,
     "end_time": "2023-08-24T21:58:00.768580",
     "exception": false,
     "start_time": "2023-08-24T21:58:00.676354",
     "status": "completed"
    },
    "tags": []
   },
   "source": [
    "로지스틱 회귀, 랜덤 포레스트, SVM을 제시한다.\n",
    "\n",
    "로지스틱 회귀는\n",
    "* 선형 모델을 분류에 사용해 특정 클래스에 속할 확률을 추정하는 데 사용할 수 있다.\n",
    "* 반응변수가 범주형인 경우 적용하는 회귀분석을 로지스틱 회귀분석이라 한다.\n",
    "* 이때, Outcome이 0, 1로 이루어져 있으므로 로지스틱 회귀가 가능하다.\n",
    "\n",
    "랜덤 포레스트는\n",
    "* 배깅과 부스팅보다 더 많은 무작위성을 주어 약한 학습기들을 생성한 후 이를 선형 결합하여 최종 학습기를 만드는 방법이다.\n",
    "* 수천 개의 변수를 변수 제거 없이 모델링하므로 정확도 측면에서 좋은 성과를 보이는 기법 중 하나이다.\n",
    "* 이론적 설명이나 최종 결과 해석이 어렵다는 단점이 있지만, 예측력이 매우 높은 것으로 알려져 있다.\n",
    "* 입력변수가 많은 경우 배깅 및 부스팅과 비슷하거나 더 좋은 예측력을 보인다.\n",
    "\n",
    "SVM은\n",
    "* 새로운 데이터가 입력되었을 때, 기존 데이터를 활용해 분류하는 방법\n",
    "* 패턴인식, 자료분석 등을 위한 지도학습 모델로 회귀와 분류 문제 해결에 사용되는 알고리즘이다.\n",
    "* SVM은 최대 마진 분류기(Maximal Margin Classifier)를 일반화한 것이다.\n",
    "  * 최대 마진 분류기의 단점을 극복하고 확장성을 넓힌 것이 SVC(Support Vector Classifier)이다.\n",
    "  * SVC를 더 확장하고 비선형 클래스 경계를 수용하기 위해 SVM이 고안되었다.\n",
    "  \n",
    "그리고 정확도 측면의 모델은 랜덤 포레스트, 속도 측면의 모델은 로지스틱 회귀로 선정한다."
   ]
  },
  {
   "cell_type": "code",
   "execution_count": 16,
   "id": "4fe8fbeb",
   "metadata": {
    "execution": {
     "iopub.execute_input": "2023-08-24T21:58:00.963324Z",
     "iopub.status.busy": "2023-08-24T21:58:00.962157Z",
     "iopub.status.idle": "2023-08-24T21:58:00.976422Z",
     "shell.execute_reply": "2023-08-24T21:58:00.977072Z",
     "shell.execute_reply.started": "2023-08-23T22:07:13.573957Z"
    },
    "papermill": {
     "duration": 0.115904,
     "end_time": "2023-08-24T21:58:00.977272",
     "exception": false,
     "start_time": "2023-08-24T21:58:00.861368",
     "status": "completed"
    },
    "tags": []
   },
   "outputs": [],
   "source": [
    "# train, test 분리\n",
    "\n",
    "from sklearn.model_selection import train_test_split\n",
    "\n",
    "x_train, x_test, y_train, y_test = train_test_split(x_ros, y_ros, random_state = 731, test_size = 0.3, stratify = y_ros)\n",
    "\n",
    "# 스케일링\n",
    "\n",
    "from sklearn.preprocessing import StandardScaler\n",
    "\n",
    "scaler = StandardScaler()\n",
    "\n",
    "x_train_scaled = pd.DataFrame(scaler.fit_transform(x_train), columns = x_train.columns)\n",
    "x_test_scaled = pd.DataFrame(scaler.fit_transform(x_test), columns = x_test.columns)"
   ]
  },
  {
   "cell_type": "code",
   "execution_count": 17,
   "id": "d1ef8813",
   "metadata": {
    "execution": {
     "iopub.execute_input": "2023-08-24T21:58:01.181054Z",
     "iopub.status.busy": "2023-08-24T21:58:01.180050Z",
     "iopub.status.idle": "2023-08-24T21:58:01.503745Z",
     "shell.execute_reply": "2023-08-24T21:58:01.503056Z",
     "shell.execute_reply.started": "2023-08-23T22:27:21.242240Z"
    },
    "papermill": {
     "duration": 0.431695,
     "end_time": "2023-08-24T21:58:01.503915",
     "exception": false,
     "start_time": "2023-08-24T21:58:01.072220",
     "status": "completed"
    },
    "tags": []
   },
   "outputs": [
    {
     "name": "stdout",
     "output_type": "stream",
     "text": [
      "best params :  {'fit_intercept': True, 'max_iter': 50, 'penalty': 'l2'}\n",
      "accuracy : 0.7400\n"
     ]
    }
   ],
   "source": [
    "# 1. LR(로지스틱 회귀)\n",
    "# GridSerchCV를 통해 최적 하이퍼 파라미터 찾기\n",
    "\n",
    "import warnings\n",
    "warnings.filterwarnings('ignore')\n",
    "\n",
    "from sklearn.linear_model import LogisticRegression\n",
    "from sklearn.model_selection import GridSearchCV\n",
    "\n",
    "lr = LogisticRegression(random_state = 731)\n",
    "\n",
    "param_lr = {\"max_iter\" : [10, 50, 100, 200],\n",
    "           \"penalty\" : ['l1', 'l2'],\n",
    "           \"fit_intercept\" : [True, False]}\n",
    "\n",
    "gscv_lr = GridSearchCV(estimator = lr, param_grid = param_lr, scoring = 'accuracy', cv = 3)\n",
    "\n",
    "gscv_lr.fit(x_train_scaled, y_train)\n",
    "\n",
    "print('best params : ', gscv_lr.best_params_)\n",
    "print('accuracy : {:.4f}'.format(gscv_lr.best_score_))"
   ]
  },
  {
   "cell_type": "code",
   "execution_count": 18,
   "id": "baf98d56",
   "metadata": {
    "execution": {
     "iopub.execute_input": "2023-08-24T21:58:01.703741Z",
     "iopub.status.busy": "2023-08-24T21:58:01.702530Z",
     "iopub.status.idle": "2023-08-24T21:58:01.723695Z",
     "shell.execute_reply": "2023-08-24T21:58:01.724260Z",
     "shell.execute_reply.started": "2023-08-23T22:33:57.504588Z"
    },
    "papermill": {
     "duration": 0.12506,
     "end_time": "2023-08-24T21:58:01.724468",
     "exception": false,
     "start_time": "2023-08-24T21:58:01.599408",
     "status": "completed"
    },
    "tags": []
   },
   "outputs": [
    {
     "name": "stdout",
     "output_type": "stream",
     "text": [
      "학습 시간 :  0.007427215576171875 초\n",
      "정확도\t74%\n",
      "정밀도\t75%\n",
      "재현율\t71%\n",
      "F1\t73%\n"
     ]
    }
   ],
   "source": [
    "# LR 성능평가\n",
    "\n",
    "# 시간\n",
    "lr_best = LogisticRegression(fit_intercept = True, max_iter = 50, penalty = 'l2', random_state = 731)\n",
    "\n",
    "import time\n",
    "\n",
    "lr_start_time = time.time()\n",
    "lr_best.fit(x_train_scaled, y_train)\n",
    "lr_end_time = time.time()"
   ]
  },
  {
   "cell_type": "code",
   "execution_count": 19,
   "id": "3f0fd92e",
   "metadata": {
    "execution": {
     "iopub.execute_input": "2023-08-24T21:58:01.921483Z",
     "iopub.status.busy": "2023-08-24T21:58:01.920565Z",
     "iopub.status.idle": "2023-08-24T21:58:55.384190Z",
     "shell.execute_reply": "2023-08-24T21:58:55.384802Z",
     "shell.execute_reply.started": "2023-08-23T22:31:15.590220Z"
    },
    "papermill": {
     "duration": 53.566739,
     "end_time": "2023-08-24T21:58:55.385014",
     "exception": false,
     "start_time": "2023-08-24T21:58:01.818275",
     "status": "completed"
    },
    "tags": []
   },
   "outputs": [
    {
     "name": "stdout",
     "output_type": "stream",
     "text": [
      "best params :  {'criterion': 'gini', 'min_samples_split': 5, 'n_estimators': 100}\n",
      "accuracy : 0.8128\n"
     ]
    }
   ],
   "source": [
    "# 2. RF(랜덤 포레스트)\n",
    "# GridSearchCV를 통한 최적의 하이퍼 파라미터 찾기\n",
    "\n",
    "from sklearn.ensemble import RandomForestClassifier\n",
    "rf = RandomForestClassifier(random_state=731)\n",
    "\n",
    "param_rf = {\"n_estimators\" : [10, 50, 100, 200, 500],\n",
    "           \"min_samples_split\" : [3, 5, 7, 9],\n",
    "           \"criterion\" : ['gini', 'entropy']}\n",
    "\n",
    "gscv_rf = GridSearchCV(estimator = rf, param_grid = param_rf, scoring = 'accuracy', cv = 3)\n",
    "\n",
    "gscv_rf.fit(x_train_scaled, y_train)\n",
    "\n",
    "print('best params : ', gscv_rf.best_params_)\n",
    "print('accuracy : {:.4f}'.format(gscv_rf.best_score_))"
   ]
  },
  {
   "cell_type": "code",
   "execution_count": 20,
   "id": "3039b94a",
   "metadata": {
    "execution": {
     "iopub.execute_input": "2023-08-24T21:58:55.578720Z",
     "iopub.status.busy": "2023-08-24T21:58:55.577648Z",
     "iopub.status.idle": "2023-08-24T21:58:55.880024Z",
     "shell.execute_reply": "2023-08-24T21:58:55.880857Z",
     "shell.execute_reply.started": "2023-08-23T22:34:13.184278Z"
    },
    "papermill": {
     "duration": 0.401099,
     "end_time": "2023-08-24T21:58:55.881090",
     "exception": false,
     "start_time": "2023-08-24T21:58:55.479991",
     "status": "completed"
    },
    "tags": []
   },
   "outputs": [
    {
     "name": "stdout",
     "output_type": "stream",
     "text": [
      "학습 시간 :  0.2692527770996094 초\n",
      "정확도\t82%\n",
      "정밀도\t82%\n",
      "재현율\t83%\n",
      "F1\t82%\n"
     ]
    }
   ],
   "source": [
    "# RF 성능평가\n",
    "\n",
    "# 시간\n",
    "rf_best = RandomForestClassifier(random_state = 731, criterion = 'gini', n_estimators = 100, min_samples_split = 5)\n",
    "\n",
    "import time\n",
    "\n",
    "rf_start_time = time.time()\n",
    "rf_best.fit(x_train_scaled, y_train)\n",
    "rf_end_time = time.time()\n",
    "print(\"학습 시간 : \", rf_end_time - rf_start_time, \"초\")\n",
    "\n",
    "\n",
    "# 정확도\n",
    "rf_pred = rf_best.predict(x_test_scaled)\n",
    "\n",
    "from sklearn.metrics import accuracy_score, precision_score, recall_score, f1_score\n",
    "\n",
    "test_acc = accuracy_score(y_test, rf_pred)\n",
    "test_prc = precision_score(y_test, rf_pred)\n",
    "test_rcll = recall_score(y_test, rf_pred)\n",
    "test_f1 = f1_score(y_test, rf_pred)\n",
    "\n",
    "print('정확도\\t{}%'.format(round(test_acc*100), 2))\n",
    "print('정밀도\\t{}%'.format(round(test_prc*100), 2))\n",
    "print('재현율\\t{}%'.format(round(test_rcll*100), 2))\n",
    "print('F1\\t{}%'.format(round(test_f1*100), 2))"
   ]
  },
  {
   "cell_type": "markdown",
   "id": "71ad066f",
   "metadata": {
    "papermill": {
     "duration": 0.09816,
     "end_time": "2023-08-24T21:58:56.076597",
     "exception": false,
     "start_time": "2023-08-24T21:58:55.978437",
     "status": "completed"
    },
    "tags": []
   },
   "source": [
    "### 3-2 모델 비교하고 결과 설명"
   ]
  },
  {
   "cell_type": "markdown",
   "id": "021f4d55",
   "metadata": {
    "papermill": {
     "duration": 0.097014,
     "end_time": "2023-08-24T21:58:56.269334",
     "exception": false,
     "start_time": "2023-08-24T21:58:56.172320",
     "status": "completed"
    },
    "tags": []
   },
   "source": [
    "학습시간은 로지스틱회귀가 압도적으로 높으나, 정확도 측면에서는 랜덤 포레스트가 압도적으로 높았다.\n",
    "현업의 상황을 파악하고, 속도가 우선시되는 상황이라면 로지스틱회귀 모델을, 시간이 오래 걸려도 좋으니 정확한 결과가 필요한 상황이라면 랜덤 포레스트 모델을 추천한다."
   ]
  },
  {
   "cell_type": "markdown",
   "id": "b78b30d8",
   "metadata": {
    "papermill": {
     "duration": 0.095914,
     "end_time": "2023-08-24T21:58:56.461459",
     "exception": false,
     "start_time": "2023-08-24T21:58:56.365545",
     "status": "completed"
    },
    "tags": []
   },
   "source": [
    "### 3-3 속도 개선을 위한 차원 축소 설명하고 수행, 예측 성능과 속도 비교하고 결과 작성"
   ]
  },
  {
   "cell_type": "markdown",
   "id": "a3fd432d",
   "metadata": {
    "papermill": {
     "duration": 0.094474,
     "end_time": "2023-08-24T21:58:56.651801",
     "exception": false,
     "start_time": "2023-08-24T21:58:56.557327",
     "status": "completed"
    },
    "tags": []
   },
   "source": [
    "### 차원 축소\n",
    "#### 설명변수 선택\n",
    "* 차원을 축소하는 가장 간단한 방법은 자료를 설명하는 데 몇 가지의 설명변수만을 선택하여 분석에 사용하는 것이다.\n",
    "* 가장 간단하고 해석이 쉬운 방법으로 유용하지 않거나 상관관계까 높은 컬럼은 제거한다.\n",
    "* 하지만 설명변수간의 고차원적인 상관관계는 고려하기 어렵다는 단점이 있다.\n",
    "\n",
    "#### 주성분 분석(PCA : Principle Component Analysis)\n",
    "* 차원 축소에서 가장 많이 사용되는 차원 추출의 방법\n",
    "* 여러 변수 간에 존재하는 상관관계를 이용하는 차원 축소 방법\n",
    "  * 데이터를 축에 사영했을 때 분산이 가장 높은 축을 찾아0 그 축을 새로운 주성분으로 결정하는 방법\n",
    "* 가장 큰 분산을 기반으로 첫 번째 축을 생성하고, 이 벡터 축에 직각이 되는 벡터를 두 번째 축으로 선택한다.\n",
    "* 세 번째 축은 다시 두 번째 축과 직각이 되는 벡터를 축으로 설정한다\n",
    "  * 그런데 이렇게 하면 첫 번째 주성분과 세 번째 주성분이 연관이 생기는 것 아닌가?"
   ]
  },
  {
   "cell_type": "code",
   "execution_count": 21,
   "id": "fae2aeb2",
   "metadata": {
    "execution": {
     "iopub.execute_input": "2023-08-24T21:58:56.860272Z",
     "iopub.status.busy": "2023-08-24T21:58:56.858992Z",
     "iopub.status.idle": "2023-08-24T21:58:56.900906Z",
     "shell.execute_reply": "2023-08-24T21:58:56.902082Z",
     "shell.execute_reply.started": "2023-08-23T22:45:22.975703Z"
    },
    "papermill": {
     "duration": 0.151346,
     "end_time": "2023-08-24T21:58:56.902448",
     "exception": false,
     "start_time": "2023-08-24T21:58:56.751102",
     "status": "completed"
    },
    "tags": []
   },
   "outputs": [
    {
     "name": "stdout",
     "output_type": "stream",
     "text": [
      "고윳값 :  [46.04782931 39.70770431 32.93488254 29.73774728 28.15281198 24.83179232]\n",
      "분산 설명력 :  [0.26505032 0.19708772 0.13558831 0.1105417  0.0990726  0.07707724]\n"
     ]
    }
   ],
   "source": [
    "# 주성분 분석을 통한 차원 축소 진행\n",
    "\n",
    "# 스케일링\n",
    "from sklearn.preprocessing import StandardScaler\n",
    "sclaer = StandardScaler()\n",
    "ㅂ\n",
    "x_scaled = pd.DataFrame(scaler.fit_transform(x_ros), columns = x.columns)\n",
    "\n",
    "# 주성분 추출\n",
    "from sklearn.decomposition import PCA\n",
    "pca = PCA(n_components = 6)\n",
    "pca_fit = pca.fit(x_scaled)\n",
    "\n",
    "print('고윳값 : ', pca.singular_values_)\n",
    "print('분산 설명력 : ', pca.explained_variance_ratio_)"
   ]
  },
  {
   "cell_type": "markdown",
   "id": "df6ee158",
   "metadata": {
    "papermill": {
     "duration": 0.095743,
     "end_time": "2023-08-24T21:58:57.144304",
     "exception": false,
     "start_time": "2023-08-24T21:58:57.048561",
     "status": "completed"
    },
    "tags": []
   },
   "source": [
    "5개의 주성분을 선택할 때, 전체 데이터의 분산의 약 80%를 설명할 수 있으므로, 주성분의 개수를 5개로 설정한다.\n",
    "\n",
    "결과적으로, 8개의 설명변수에서 차원축소를 통해 5개의 설명변수만 남긴다."
   ]
  },
  {
   "cell_type": "code",
   "execution_count": 22,
   "id": "395d0a72",
   "metadata": {
    "execution": {
     "iopub.execute_input": "2023-08-24T21:58:57.348986Z",
     "iopub.status.busy": "2023-08-24T21:58:57.346477Z",
     "iopub.status.idle": "2023-08-24T21:58:57.373505Z",
     "shell.execute_reply": "2023-08-24T21:58:57.374901Z",
     "shell.execute_reply.started": "2023-08-23T22:46:02.882625Z"
    },
    "papermill": {
     "duration": 0.134092,
     "end_time": "2023-08-24T21:58:57.375286",
     "exception": false,
     "start_time": "2023-08-24T21:58:57.241194",
     "status": "completed"
    },
    "tags": []
   },
   "outputs": [
    {
     "data": {
      "text/html": [
       "<div>\n",
       "<style scoped>\n",
       "    .dataframe tbody tr th:only-of-type {\n",
       "        vertical-align: middle;\n",
       "    }\n",
       "\n",
       "    .dataframe tbody tr th {\n",
       "        vertical-align: top;\n",
       "    }\n",
       "\n",
       "    .dataframe thead th {\n",
       "        text-align: right;\n",
       "    }\n",
       "</style>\n",
       "<table border=\"1\" class=\"dataframe\">\n",
       "  <thead>\n",
       "    <tr style=\"text-align: right;\">\n",
       "      <th></th>\n",
       "      <th>pc1</th>\n",
       "      <th>pc2</th>\n",
       "      <th>pc3</th>\n",
       "      <th>pc4</th>\n",
       "      <th>pc5</th>\n",
       "    </tr>\n",
       "  </thead>\n",
       "  <tbody>\n",
       "    <tr>\n",
       "      <th>0</th>\n",
       "      <td>-62.236244</td>\n",
       "      <td>30.652749</td>\n",
       "      <td>5.366366</td>\n",
       "      <td>5.465422</td>\n",
       "      <td>12.260986</td>\n",
       "    </tr>\n",
       "    <tr>\n",
       "      <th>1</th>\n",
       "      <td>-68.450425</td>\n",
       "      <td>-34.897286</td>\n",
       "      <td>-1.296847</td>\n",
       "      <td>0.819882</td>\n",
       "      <td>5.219566</td>\n",
       "    </tr>\n",
       "    <tr>\n",
       "      <th>2</th>\n",
       "      <td>-59.251109</td>\n",
       "      <td>60.516978</td>\n",
       "      <td>-21.668966</td>\n",
       "      <td>4.390558</td>\n",
       "      <td>-0.951098</td>\n",
       "    </tr>\n",
       "    <tr>\n",
       "      <th>3</th>\n",
       "      <td>-4.988756</td>\n",
       "      <td>-38.687155</td>\n",
       "      <td>-8.015519</td>\n",
       "      <td>-2.121234</td>\n",
       "      <td>-3.920833</td>\n",
       "    </tr>\n",
       "    <tr>\n",
       "      <th>4</th>\n",
       "      <td>73.722150</td>\n",
       "      <td>1.272321</td>\n",
       "      <td>-22.920787</td>\n",
       "      <td>-0.520706</td>\n",
       "      <td>22.984845</td>\n",
       "    </tr>\n",
       "  </tbody>\n",
       "</table>\n",
       "</div>"
      ],
      "text/plain": [
       "         pc1        pc2        pc3       pc4        pc5\n",
       "0 -62.236244  30.652749   5.366366  5.465422  12.260986\n",
       "1 -68.450425 -34.897286  -1.296847  0.819882   5.219566\n",
       "2 -59.251109  60.516978 -21.668966  4.390558  -0.951098\n",
       "3  -4.988756 -38.687155  -8.015519 -2.121234  -3.920833\n",
       "4  73.722150   1.272321 -22.920787 -0.520706  22.984845"
      ]
     },
     "execution_count": 22,
     "metadata": {},
     "output_type": "execute_result"
    }
   ],
   "source": [
    "pca = PCA(n_components = 5)\n",
    "principal_x = pd.DataFrame(pca.fit_transform(x_ros), columns = ['pc1', 'pc2', 'pc3', 'pc4', 'pc5'])\n",
    "principal_x.head()"
   ]
  },
  {
   "cell_type": "code",
   "execution_count": 23,
   "id": "09051c5e",
   "metadata": {
    "execution": {
     "iopub.execute_input": "2023-08-24T21:58:57.628459Z",
     "iopub.status.busy": "2023-08-24T21:58:57.627687Z",
     "iopub.status.idle": "2023-08-24T21:58:57.630831Z",
     "shell.execute_reply": "2023-08-24T21:58:57.631453Z",
     "shell.execute_reply.started": "2023-08-23T22:46:35.379851Z"
    },
    "papermill": {
     "duration": 0.108787,
     "end_time": "2023-08-24T21:58:57.631651",
     "exception": false,
     "start_time": "2023-08-24T21:58:57.522864",
     "status": "completed"
    },
    "tags": []
   },
   "outputs": [],
   "source": [
    "# 새로 만든 주성분들을 통해 모델 돌리기\n",
    "\n",
    "from sklearn.model_selection import train_test_split\n",
    "\n",
    "x_train, x_test, y_train, y_test = train_test_split(principal_x, y_ros, stratify = y_ros, \n",
    "                                                    test_size = 0.3, random_state = 731)"
   ]
  },
  {
   "cell_type": "code",
   "execution_count": 24,
   "id": "e2fb988a",
   "metadata": {
    "execution": {
     "iopub.execute_input": "2023-08-24T21:58:57.830178Z",
     "iopub.status.busy": "2023-08-24T21:58:57.829361Z",
     "iopub.status.idle": "2023-08-24T21:58:58.164583Z",
     "shell.execute_reply": "2023-08-24T21:58:58.163936Z",
     "shell.execute_reply.started": "2023-08-23T22:46:53.999740Z"
    },
    "papermill": {
     "duration": 0.43393,
     "end_time": "2023-08-24T21:58:58.164753",
     "exception": false,
     "start_time": "2023-08-24T21:58:57.730823",
     "status": "completed"
    },
    "tags": []
   },
   "outputs": [
    {
     "name": "stdout",
     "output_type": "stream",
     "text": [
      "best params :  {'fit_intercept': True, 'max_iter': 50, 'penalty': 'l2'}\n",
      "accuracy : 0.7057\n"
     ]
    }
   ],
   "source": [
    "# 1. LR(로지스틱 회귀)\n",
    "# GridSerchCV를 통해 최적 하이퍼 파라미터 찾기\n",
    "\n",
    "import warnings\n",
    "warnings.filterwarnings('ignore')\n",
    "\n",
    "from sklearn.linear_model import LogisticRegression\n",
    "from sklearn.model_selection import GridSearchCV\n",
    "\n",
    "\n",
    "lr = LogisticRegression(random_state = 731)\n",
    "\n",
    "param_lr = {\"max_iter\" : [10, 50, 100, 200],\n",
    "           \"penalty\" : ['l1', 'l2'],\n",
    "           \"fit_intercept\" : [True, False]}\n",
    "\n",
    "gscv_lr = GridSearchCV(estimator = lr, param_grid = param_lr, scoring = 'accuracy', cv = 3)\n",
    "\n",
    "gscv_lr.fit(x_train, y_train)\n",
    "\n",
    "print('best params : ', gscv_lr.best_params_)\n",
    "print('accuracy : {:.4f}'.format(gscv_lr.best_score_))"
   ]
  },
  {
   "cell_type": "code",
   "execution_count": 25,
   "id": "28c7ace7",
   "metadata": {
    "execution": {
     "iopub.execute_input": "2023-08-24T21:58:58.372124Z",
     "iopub.status.busy": "2023-08-24T21:58:58.370498Z",
     "iopub.status.idle": "2023-08-24T21:58:58.394327Z",
     "shell.execute_reply": "2023-08-24T21:58:58.393666Z",
     "shell.execute_reply.started": "2023-08-23T22:47:50.116298Z"
    },
    "papermill": {
     "duration": 0.132066,
     "end_time": "2023-08-24T21:58:58.394493",
     "exception": false,
     "start_time": "2023-08-24T21:58:58.262427",
     "status": "completed"
    },
    "tags": []
   },
   "outputs": [
    {
     "name": "stdout",
     "output_type": "stream",
     "text": [
      "학습 시간 :  0.01390385627746582 초\n",
      "정확도\t73%\n",
      "정밀도\t73%\n",
      "재현율\t72%\n",
      "F1\t72%\n"
     ]
    }
   ],
   "source": [
    "# LR 성능평가\n",
    "\n",
    "# 시간\n",
    "lr_best = LogisticRegression(fit_intercept = True, max_iter = 50, penalty = 'l2', random_state = 731)\n",
    "\n",
    "import time\n",
    "\n",
    "lr_start_time = time.time()\n",
    "lr_best.fit(x_train, y_train)\n",
    "lr_end_time = time.time()\n",
    "print(\"학습 시간 : \", lr_end_time - lr_start_time, \"초\")\n",
    "\n",
    "# 정확도\n",
    "lr_pred = lr_best.predict(x_test)\n",
    "\n",
    "from sklearn.metrics import accuracy_score, precision_score, recall_score, f1_score\n",
    "\n",
    "test_acc = accuracy_score(y_test, lr_pred)\n",
    "test_prc = precision_score(y_test, lr_pred)\n",
    "test_rcll = recall_score(y_test, lr_pred)\n",
    "test_f1 = f1_score(y_test, lr_pred)\n",
    "\n",
    "print('정확도\\t{}%'.format(round(test_acc*100), 2))\n",
    "print('정밀도\\t{}%'.format(round(test_prc*100), 2))\n",
    "print('재현율\\t{}%'.format(round(test_rcll*100), 2))\n",
    "print('F1\\t{}%'.format(round(test_f1*100), 2))"
   ]
  },
  {
   "cell_type": "code",
   "execution_count": 26,
   "id": "1ab33686",
   "metadata": {
    "execution": {
     "iopub.execute_input": "2023-08-24T21:58:58.598300Z",
     "iopub.status.busy": "2023-08-24T21:58:58.597432Z",
     "iopub.status.idle": "2023-08-24T21:59:55.918935Z",
     "shell.execute_reply": "2023-08-24T21:59:55.919583Z",
     "shell.execute_reply.started": "2023-08-23T22:48:08.161658Z"
    },
    "papermill": {
     "duration": 57.427941,
     "end_time": "2023-08-24T21:59:55.919801",
     "exception": false,
     "start_time": "2023-08-24T21:58:58.491860",
     "status": "completed"
    },
    "tags": []
   },
   "outputs": [
    {
     "name": "stdout",
     "output_type": "stream",
     "text": [
      "best params :  {'criterion': 'gini', 'min_samples_split': 3, 'n_estimators': 200}\n",
      "accuracy : 0.7843\n"
     ]
    }
   ],
   "source": [
    "# 2. RF(랜덤 포레스트)\n",
    "# GridSearchCV를 통한 최적의 하이퍼 파라미터 찾기\n",
    "\n",
    "from sklearn.ensemble import RandomForestClassifier\n",
    "rf = RandomForestClassifier(random_state=731)\n",
    "\n",
    "param_rf = {\"n_estimators\" : [10, 50, 100, 200, 500],\n",
    "           \"min_samples_split\" : [3, 5, 7, 9],\n",
    "           \"criterion\" : ['gini', 'entropy']}\n",
    "\n",
    "gscv_rf = GridSearchCV(estimator = rf, param_grid = param_rf, scoring = 'accuracy', cv = 3)\n",
    "\n",
    "gscv_rf.fit(x_train, y_train)\n",
    "\n",
    "print('best params : ', gscv_rf.best_params_)\n",
    "print('accuracy : {:.4f}'.format(gscv_rf.best_score_))"
   ]
  },
  {
   "cell_type": "code",
   "execution_count": 27,
   "id": "ad077e29",
   "metadata": {
    "execution": {
     "iopub.execute_input": "2023-08-24T21:59:56.125896Z",
     "iopub.status.busy": "2023-08-24T21:59:56.119919Z",
     "iopub.status.idle": "2023-08-24T21:59:56.441815Z",
     "shell.execute_reply": "2023-08-24T21:59:56.441157Z",
     "shell.execute_reply.started": "2023-08-23T22:49:11.286325Z"
    },
    "papermill": {
     "duration": 0.423171,
     "end_time": "2023-08-24T21:59:56.441987",
     "exception": false,
     "start_time": "2023-08-24T21:59:56.018816",
     "status": "completed"
    },
    "tags": []
   },
   "outputs": [
    {
     "name": "stdout",
     "output_type": "stream",
     "text": [
      "학습 시간 :  0.28507375717163086 초\n",
      "정확도\t81%\n",
      "정밀도\t77%\n",
      "재현율\t88%\n",
      "F1\t82%\n"
     ]
    }
   ],
   "source": [
    "# RF 성능평가\n",
    "\n",
    "# 시간\n",
    "rf_best = RandomForestClassifier(random_state = 731, criterion = 'gini', n_estimators = 100, min_samples_split = 5)\n",
    "\n",
    "import time\n",
    "\n",
    "rf_start_time = time.time()\n",
    "rf_best.fit(x_train, y_train)\n",
    "rf_end_time = time.time()\n",
    "print(\"학습 시간 : \", rf_end_time - rf_start_time, \"초\")\n",
    "\n",
    "\n",
    "# 정확도\n",
    "rf_pred = rf_best.predict(x_test)\n",
    "\n",
    "from sklearn.metrics import accuracy_score, precision_score, recall_score, f1_score\n",
    "\n",
    "test_acc = accuracy_score(y_test, rf_pred)\n",
    "test_prc = precision_score(y_test, rf_pred)\n",
    "test_rcll = recall_score(y_test, rf_pred)\n",
    "test_f1 = f1_score(y_test, rf_pred)\n",
    "\n",
    "print('정확도\\t{}%'.format(round(test_acc*100), 2))\n",
    "print('정밀도\\t{}%'.format(round(test_prc*100), 2))\n",
    "print('재현율\\t{}%'.format(round(test_rcll*100), 2))\n",
    "print('F1\\t{}%'.format(round(test_f1*100), 2))"
   ]
  },
  {
   "cell_type": "markdown",
   "id": "a3bc3d81",
   "metadata": {
    "papermill": {
     "duration": 0.09729,
     "end_time": "2023-08-24T21:59:56.637714",
     "exception": false,
     "start_time": "2023-08-24T21:59:56.540424",
     "status": "completed"
    },
    "tags": []
   },
   "source": [
    "### 결과\n",
    "* 기존 8개의 설명변수에서 차원축소를 통해 5개의 설명변수만 남겼을 때, 학습 시간이 짧아졌지만, 많이 줄지는 않았다.\n",
    "* 정확도 측면에서도 설명변수가 많이 줄어들지 않아 많이 낮아지지 않았다.\n",
    "* 다만, 랜덤 포레스트 모델의 경우 정밀도가 눈에 띄게 낮아졌는데, 현업에서 정밀도를 중요시한다면, 차원축소를 하지 않는 것이 좋을 것 같다."
   ]
  },
  {
   "cell_type": "markdown",
   "id": "ee262223",
   "metadata": {
    "papermill": {
     "duration": 0.099052,
     "end_time": "2023-08-24T21:59:56.834444",
     "exception": false,
     "start_time": "2023-08-24T21:59:56.735392",
     "status": "completed"
    },
    "tags": []
   },
   "source": [
    "# 문제 4 \n",
    "금속 성분 함유량 데이터(변수 1개) - 제품에 금속 재질 함유량의 분산이 1.3을 넘으면 불량이라고 보고 있는데 제조사별로 차이가 난다고 제보를 받았으며, 분산에 대해 검정을 수행하시오. (유의확률 0.05)"
   ]
  },
  {
   "cell_type": "code",
   "execution_count": 28,
   "id": "22c4b70d",
   "metadata": {
    "execution": {
     "iopub.execute_input": "2023-08-24T21:59:57.040732Z",
     "iopub.status.busy": "2023-08-24T21:59:57.039909Z",
     "iopub.status.idle": "2023-08-24T21:59:57.060595Z",
     "shell.execute_reply": "2023-08-24T21:59:57.058898Z",
     "shell.execute_reply.started": "2023-08-23T22:49:07.359537Z"
    },
    "papermill": {
     "duration": 0.127441,
     "end_time": "2023-08-24T21:59:57.060787",
     "exception": false,
     "start_time": "2023-08-24T21:59:56.933346",
     "status": "completed"
    },
    "tags": []
   },
   "outputs": [
    {
     "name": "stdout",
     "output_type": "stream",
     "text": [
      "<class 'pandas.core.frame.DataFrame'>\n",
      "RangeIndex: 200 entries, 0 to 199\n",
      "Data columns (total 1 columns):\n",
      " #   Column   Non-Null Count  Dtype  \n",
      "---  ------   --------------  -----  \n",
      " 0   content  200 non-null    float64\n",
      "dtypes: float64(1)\n",
      "memory usage: 1.7 KB\n"
     ]
    }
   ],
   "source": [
    "df4 = pd.read_csv('/kaggle/input/adpkrp5/content.csv')\n",
    "df4.info()"
   ]
  },
  {
   "cell_type": "markdown",
   "id": "d4fb30df",
   "metadata": {
    "papermill": {
     "duration": 0.099696,
     "end_time": "2023-08-24T21:59:57.265504",
     "exception": false,
     "start_time": "2023-08-24T21:59:57.165808",
     "status": "completed"
    },
    "tags": []
   },
   "source": [
    "#### dataset : /kaggle/input/adpkrp5/content.csv"
   ]
  },
  {
   "cell_type": "markdown",
   "id": "53a789ea",
   "metadata": {
    "papermill": {
     "duration": 0.100539,
     "end_time": "2023-08-24T21:59:57.466269",
     "exception": false,
     "start_time": "2023-08-24T21:59:57.365730",
     "status": "completed"
    },
    "tags": []
   },
   "source": [
    "### 4-1 연구가설과 귀무가설 작성"
   ]
  },
  {
   "cell_type": "markdown",
   "id": "516a3698",
   "metadata": {
    "papermill": {
     "duration": 0.098933,
     "end_time": "2023-08-24T21:59:57.664841",
     "exception": false,
     "start_time": "2023-08-24T21:59:57.565908",
     "status": "completed"
    },
    "tags": []
   },
   "source": [
    "* 연구가설 : 해당 제조사의 금속 재질 함유량의 분산은 1.3이라 할 수 있다.\n",
    "* 귀무가설 : 해당 제조사의 금속 재질 함유량의 분산은 1.3이라 할 수 없다."
   ]
  },
  {
   "cell_type": "markdown",
   "id": "1f037fae",
   "metadata": {
    "papermill": {
     "duration": 0.097236,
     "end_time": "2023-08-24T21:59:57.861911",
     "exception": false,
     "start_time": "2023-08-24T21:59:57.764675",
     "status": "completed"
    },
    "tags": []
   },
   "source": [
    "### 4-2 양측 검정"
   ]
  },
  {
   "cell_type": "code",
   "execution_count": 29,
   "id": "d4da9e14",
   "metadata": {
    "execution": {
     "iopub.execute_input": "2023-08-24T21:59:58.072256Z",
     "iopub.status.busy": "2023-08-24T21:59:58.068577Z",
     "iopub.status.idle": "2023-08-24T21:59:58.084723Z",
     "shell.execute_reply": "2023-08-24T21:59:58.083938Z",
     "shell.execute_reply.started": "2023-08-23T23:04:14.162773Z"
    },
    "papermill": {
     "duration": 0.124906,
     "end_time": "2023-08-24T21:59:58.084896",
     "exception": false,
     "start_time": "2023-08-24T21:59:57.959990",
     "status": "completed"
    },
    "tags": []
   },
   "outputs": [
    {
     "name": "stdout",
     "output_type": "stream",
     "text": [
      "direction :  two-tailed\n",
      "Q 326.6508365405755\n",
      "q1 161.82618239364686\n",
      "q2 239.9596818276442\n"
     ]
    },
    {
     "data": {
      "text/plain": [
       "'귀무가설 기각'"
      ]
     },
     "execution_count": 29,
     "metadata": {},
     "output_type": "execute_result"
    }
   ],
   "source": [
    "import numpy as np\n",
    "from scipy.stats import chi2 # 양측 검정이라 2인가\n",
    "\n",
    "def var_test(x, va0, direction = 'two-tailed', alpha = 0.05):\n",
    "    # x : df\n",
    "    # va0 : 비교하고자 하는 값으로 여기서는 1.3\n",
    "    # alpha : 유의수준\n",
    "    n = len(x)\n",
    "    Q = (n-1) * np.var(x) / va0\n",
    "    print(\"direction : \", direction)\n",
    "    if direction  == 'lower':\n",
    "        q = chi2.ppf(alpha, n-1)\n",
    "        if Q <= q:\n",
    "            return \"귀무가설 기각\"\n",
    "        else:\n",
    "            return \"귀무가설 채택\"\n",
    "    elif direction  == 'upper':\n",
    "        q = chi2.ppf(1-alpha, n-1)\n",
    "        if Q >= q:\n",
    "            return \"귀무가설 기각\"\n",
    "        else:\n",
    "            return \"귀무가설 채택\"\n",
    "    else:\n",
    "        q1 = chi2.ppf(alpha/2, n-1)\n",
    "        q2 = chi2.ppf(1-(alpha/2), n-1)\n",
    "        print('Q', Q)\n",
    "        print('q1', q1)\n",
    "        print('q2', q2)\n",
    "        if Q <= q1 or Q >= q2:\n",
    "            return \"귀무가설 기각\"\n",
    "        else:\n",
    "            return \"귀무가설 채택\"\n",
    "        \n",
    "var_test(df4['content'], va0 = 1.3)"
   ]
  },
  {
   "cell_type": "markdown",
   "id": "16f92deb",
   "metadata": {
    "papermill": {
     "duration": 0.099986,
     "end_time": "2023-08-24T21:59:58.285345",
     "exception": false,
     "start_time": "2023-08-24T21:59:58.185359",
     "status": "completed"
    },
    "tags": []
   },
   "source": [
    "### 4-3 검정통계량, 가설 채택"
   ]
  },
  {
   "cell_type": "markdown",
   "id": "99e81ed5",
   "metadata": {
    "papermill": {
     "duration": 0.100484,
     "end_time": "2023-08-24T21:59:58.489224",
     "exception": false,
     "start_time": "2023-08-24T21:59:58.388740",
     "status": "completed"
    },
    "tags": []
   },
   "source": [
    "검정통계량은 326.65이고, 이는 q2보다 크므로 귀무가설을 기각하고 연구가설을 채택한다.\n",
    "\n",
    "즉, 금속 성분 함유량의 분산은 1.3이라고 할 수 없다."
   ]
  },
  {
   "cell_type": "markdown",
   "id": "194811d3",
   "metadata": {
    "papermill": {
     "duration": 0.100662,
     "end_time": "2023-08-24T21:59:58.690999",
     "exception": false,
     "start_time": "2023-08-24T21:59:58.590337",
     "status": "completed"
    },
    "tags": []
   },
   "source": [
    "근데 p-value를 어떻게 구하는지 모르겠다"
   ]
  },
  {
   "cell_type": "markdown",
   "id": "22e56a79",
   "metadata": {
    "papermill": {
     "duration": 0.100085,
     "end_time": "2023-08-24T21:59:58.891482",
     "exception": false,
     "start_time": "2023-08-24T21:59:58.791397",
     "status": "completed"
    },
    "tags": []
   },
   "source": [
    "# 문제 5\n",
    "Lot별 200개에 대한 불량 제품 수량 데이터(변수 2개 - lot번호, 불량제품수)    \n",
    "/kaggle/input/adpkrp5/error.csv"
   ]
  },
  {
   "cell_type": "code",
   "execution_count": 30,
   "id": "989cd487",
   "metadata": {
    "execution": {
     "iopub.execute_input": "2023-08-24T21:59:59.100495Z",
     "iopub.status.busy": "2023-08-24T21:59:59.099563Z",
     "iopub.status.idle": "2023-08-24T21:59:59.124858Z",
     "shell.execute_reply": "2023-08-24T21:59:59.123976Z",
     "shell.execute_reply.started": "2023-08-24T21:49:14.920372Z"
    },
    "papermill": {
     "duration": 0.130568,
     "end_time": "2023-08-24T21:59:59.125074",
     "exception": false,
     "start_time": "2023-08-24T21:59:58.994506",
     "status": "completed"
    },
    "tags": []
   },
   "outputs": [
    {
     "data": {
      "text/html": [
       "<div>\n",
       "<style scoped>\n",
       "    .dataframe tbody tr th:only-of-type {\n",
       "        vertical-align: middle;\n",
       "    }\n",
       "\n",
       "    .dataframe tbody tr th {\n",
       "        vertical-align: top;\n",
       "    }\n",
       "\n",
       "    .dataframe thead th {\n",
       "        text-align: right;\n",
       "    }\n",
       "</style>\n",
       "<table border=\"1\" class=\"dataframe\">\n",
       "  <thead>\n",
       "    <tr style=\"text-align: right;\">\n",
       "      <th></th>\n",
       "      <th>lot_number</th>\n",
       "      <th>error_case_number</th>\n",
       "    </tr>\n",
       "  </thead>\n",
       "  <tbody>\n",
       "    <tr>\n",
       "      <th>count</th>\n",
       "      <td>100.000000</td>\n",
       "      <td>100.000000</td>\n",
       "    </tr>\n",
       "    <tr>\n",
       "      <th>mean</th>\n",
       "      <td>50.500000</td>\n",
       "      <td>3.410000</td>\n",
       "    </tr>\n",
       "    <tr>\n",
       "      <th>std</th>\n",
       "      <td>29.011492</td>\n",
       "      <td>3.316153</td>\n",
       "    </tr>\n",
       "    <tr>\n",
       "      <th>min</th>\n",
       "      <td>1.000000</td>\n",
       "      <td>0.000000</td>\n",
       "    </tr>\n",
       "    <tr>\n",
       "      <th>25%</th>\n",
       "      <td>25.750000</td>\n",
       "      <td>1.500000</td>\n",
       "    </tr>\n",
       "    <tr>\n",
       "      <th>50%</th>\n",
       "      <td>50.500000</td>\n",
       "      <td>3.000000</td>\n",
       "    </tr>\n",
       "    <tr>\n",
       "      <th>75%</th>\n",
       "      <td>75.250000</td>\n",
       "      <td>4.500000</td>\n",
       "    </tr>\n",
       "    <tr>\n",
       "      <th>max</th>\n",
       "      <td>100.000000</td>\n",
       "      <td>19.000000</td>\n",
       "    </tr>\n",
       "  </tbody>\n",
       "</table>\n",
       "</div>"
      ],
      "text/plain": [
       "       lot_number  error_case_number\n",
       "count  100.000000         100.000000\n",
       "mean    50.500000           3.410000\n",
       "std     29.011492           3.316153\n",
       "min      1.000000           0.000000\n",
       "25%     25.750000           1.500000\n",
       "50%     50.500000           3.000000\n",
       "75%     75.250000           4.500000\n",
       "max    100.000000          19.000000"
      ]
     },
     "execution_count": 30,
     "metadata": {},
     "output_type": "execute_result"
    }
   ],
   "source": [
    "import pandas as pd \n",
    "\n",
    "df_5 = pd.read_csv('/kaggle/input/adpkrp5/error.csv')\n",
    "df_5.columns = ['lot_number', 'error_case_number']\n",
    "\n",
    "df_5.describe()"
   ]
  },
  {
   "cell_type": "markdown",
   "id": "a2087742",
   "metadata": {
    "papermill": {
     "duration": 0.101584,
     "end_time": "2023-08-24T21:59:59.332459",
     "exception": false,
     "start_time": "2023-08-24T21:59:59.230875",
     "status": "completed"
    },
    "tags": []
   },
   "source": [
    "### 5-1 불량률 관리도에 따라 관리중심선(CL : Center Line), 관리 상한선(UCL : Upper Control Limit), 하한선(LCL : Lower Control Limit) 구하기"
   ]
  },
  {
   "cell_type": "code",
   "execution_count": 31,
   "id": "29663467",
   "metadata": {
    "execution": {
     "iopub.execute_input": "2023-08-24T21:59:59.548541Z",
     "iopub.status.busy": "2023-08-24T21:59:59.547738Z",
     "iopub.status.idle": "2023-08-24T21:59:59.551614Z",
     "shell.execute_reply": "2023-08-24T21:59:59.552209Z",
     "shell.execute_reply.started": "2023-08-24T21:54:28.947830Z"
    },
    "papermill": {
     "duration": 0.115506,
     "end_time": "2023-08-24T21:59:59.552412",
     "exception": false,
     "start_time": "2023-08-24T21:59:59.436906",
     "status": "completed"
    },
    "tags": []
   },
   "outputs": [
    {
     "name": "stdout",
     "output_type": "stream",
     "text": [
      "CL  : \t 1.705\n",
      "UCL : \t 6.654295404398489\n",
      "LCL : \t -3.244295404398489\n"
     ]
    }
   ],
   "source": [
    "df_5['error_case_rate'] = (df_5['error_case_number'] / 200)* 100\n",
    "\n",
    "import numpy as np\n",
    "\n",
    "cl = df_5['error_case_rate'].mean()\n",
    "sigma = np.std(df_5['error_case_rate'])\n",
    "ucl = cl + 3 * sigma\n",
    "lcl = cl - 3 * sigma\n",
    "\n",
    "print('CL  : \\t', cl)\n",
    "print('UCL : \\t', ucl)\n",
    "print('LCL : \\t', lcl)"
   ]
  },
  {
   "cell_type": "markdown",
   "id": "2a62f3e8",
   "metadata": {
    "papermill": {
     "duration": 0.101831,
     "end_time": "2023-08-24T21:59:59.756021",
     "exception": false,
     "start_time": "2023-08-24T21:59:59.654190",
     "status": "completed"
    },
    "tags": []
   },
   "source": [
    "### 5-2 관리도 시각화"
   ]
  },
  {
   "cell_type": "code",
   "execution_count": 32,
   "id": "aedca201",
   "metadata": {
    "execution": {
     "iopub.execute_input": "2023-08-24T21:59:59.997177Z",
     "iopub.status.busy": "2023-08-24T21:59:59.985316Z",
     "iopub.status.idle": "2023-08-24T22:00:00.266092Z",
     "shell.execute_reply": "2023-08-24T22:00:00.265335Z",
     "shell.execute_reply.started": "2023-08-24T21:56:53.591092Z"
    },
    "papermill": {
     "duration": 0.409679,
     "end_time": "2023-08-24T22:00:00.266286",
     "exception": false,
     "start_time": "2023-08-24T21:59:59.856607",
     "status": "completed"
    },
    "tags": []
   },
   "outputs": [
    {
     "data": {
      "image/png": "[encoded data removed]",
      "text/plain": [
       "<Figure size 432x288 with 1 Axes>"
      ]
     },
     "metadata": {
      "needs_background": "light"
     },
     "output_type": "display_data"
    }
   ],
   "source": [
    "import matplotlib.pyplot as plt\n",
    "\n",
    "plt.plot(df_5['error_case_rate'])\n",
    "plt.axhline(y=ucl, color = 'r', linestyle = '--', label = 'UCL')\n",
    "plt.axhline(y=lcl, color = 'y', linestyle = '--', label = 'LCL')\n",
    "plt.axhline(y=cl, color = 'b', linestyle = '-', label = 'CL')\n",
    "plt.legend()\n",
    "plt.ylabel('error_case_rate')\n",
    "plt.xlabel('lot_id')\n",
    "plt.show()"
   ]
  },
  {
   "cell_type": "markdown",
   "id": "6b048293",
   "metadata": {
    "papermill": {
     "duration": 0.104129,
     "end_time": "2023-08-24T22:00:00.482181",
     "exception": false,
     "start_time": "2023-08-24T22:00:00.378052",
     "status": "completed"
    },
    "tags": []
   },
   "source": [
    "# 문제 6\n",
    "상품 a와 b가 있을 때 다음과 같은 구매 패턴이 있다고 한다. aa bb aaaa bbbb a b aa bb aa bbb aa bb a b 구매하는 패턴으로 보아 두 상품이 연관이 있는지 확인하라"
   ]
  },
  {
   "cell_type": "markdown",
   "id": "11fd4aba",
   "metadata": {
    "papermill": {
     "duration": 0.111502,
     "end_time": "2023-08-24T22:00:00.702685",
     "exception": false,
     "start_time": "2023-08-24T22:00:00.591183",
     "status": "completed"
    },
    "tags": []
   },
   "source": [
    "### 6-1 연구가설과 귀무가설 작성"
   ]
  },
  {
   "cell_type": "markdown",
   "id": "9cc4c66c",
   "metadata": {
    "papermill": {
     "duration": 0.107252,
     "end_time": "2023-08-24T22:00:00.920645",
     "exception": false,
     "start_time": "2023-08-24T22:00:00.813393",
     "status": "completed"
    },
    "tags": []
   },
   "source": [
    "* 연구가설 : 두 상품은 연관이 있다. 즉, 연속적인 관측값이 임의적이지 않다.\n",
    "* 귀무가설 : 두 상품은 연관이 없다. 즉, 연속적인 관측값이 임의적이다."
   ]
  },
  {
   "cell_type": "markdown",
   "id": "d7a4f0dd",
   "metadata": {
    "papermill": {
     "duration": 0.114219,
     "end_time": "2023-08-24T22:00:01.148767",
     "exception": false,
     "start_time": "2023-08-24T22:00:01.034548",
     "status": "completed"
    },
    "tags": []
   },
   "source": [
    "### 6-2 평균과 표준편차"
   ]
  },
  {
   "cell_type": "code",
   "execution_count": null,
   "id": "6b62df71",
   "metadata": {
    "execution": {
     "iopub.execute_input": "2023-08-23T23:11:09.860315Z",
     "iopub.status.busy": "2023-08-23T23:11:09.860014Z",
     "iopub.status.idle": "2023-08-23T23:11:09.866455Z",
     "shell.execute_reply": "2023-08-23T23:11:09.865474Z",
     "shell.execute_reply.started": "2023-08-23T23:11:09.860282Z"
    },
    "papermill": {
     "duration": 0.115163,
     "end_time": "2023-08-24T22:00:01.370244",
     "exception": false,
     "start_time": "2023-08-24T22:00:01.255081",
     "status": "completed"
    },
    "tags": []
   },
   "outputs": [],
   "source": []
  },
  {
   "cell_type": "markdown",
   "id": "314a276f",
   "metadata": {
    "papermill": {
     "duration": 0.102549,
     "end_time": "2023-08-24T22:00:01.579539",
     "exception": false,
     "start_time": "2023-08-24T22:00:01.476990",
     "status": "completed"
    },
    "tags": []
   },
   "source": [
    "### 6-3 가설 채택"
   ]
  },
  {
   "cell_type": "code",
   "execution_count": 33,
   "id": "fd2f69f2",
   "metadata": {
    "execution": {
     "iopub.execute_input": "2023-08-24T22:00:01.798057Z",
     "iopub.status.busy": "2023-08-24T22:00:01.797106Z",
     "iopub.status.idle": "2023-08-24T22:00:01.828176Z",
     "shell.execute_reply": "2023-08-24T22:00:01.827427Z",
     "shell.execute_reply.started": "2023-08-23T23:14:01.756329Z"
    },
    "papermill": {
     "duration": 0.146465,
     "end_time": "2023-08-24T22:00:01.828373",
     "exception": false,
     "start_time": "2023-08-24T22:00:01.681908",
     "status": "completed"
    },
    "tags": []
   },
   "outputs": [
    {
     "name": "stdout",
     "output_type": "stream",
     "text": [
      "(-0.3721438547031917, 0.7097857460625617)\n",
      "(-0.3721438547031917, 0.7097857460625617)\n"
     ]
    }
   ],
   "source": [
    "# a = 0, b = 1로 보고 리스트 만들기\n",
    "\n",
    "list = [0, 0, 1, 1, 0, 0, 0, 0, 1, 1, 1, 1, 0, 1, 0, 0, 1, 1, 0, 0, 1, 1, 1, 0, 0, 1, 1, 0, 1]\n",
    "\n",
    "from statsmodels.sandbox.stats.runs import runstest_1samp\n",
    "\n",
    "print(runstest_1samp(list, cutoff = \"mean\", correction = True))\n",
    "\n",
    "\n",
    "from statsmodels.sandbox.stats.runs import Runs\n",
    "import numpy as np\n",
    "\n",
    "list = [0, 0, 1, 1, 0, 0, 0, 0, 1, 1, 1, 1, 0, 1, 0, 0, 1, 1, 0, 0, 1, 1, 1, 0, 0, 1, 1, 0, 1]\n",
    "arr_list = np.array(list)\n",
    "\n",
    "print(Runs(arr_list).runs_test())"
   ]
  },
  {
   "cell_type": "markdown",
   "id": "ad9871f5",
   "metadata": {
    "papermill": {
     "duration": 0.112643,
     "end_time": "2023-08-24T22:00:02.052370",
     "exception": false,
     "start_time": "2023-08-24T22:00:01.939727",
     "status": "completed"
    },
    "tags": []
   },
   "source": [
    "z값이 -0.37정도, 이에 대한 p-value가 0.70이므로 유의수준 0.05 하에서 귀무가설을 채택한다.\n",
    "즉, 두 상품은 연관이 없다고 할 수 있다."
   ]
  },
  {
   "cell_type": "code",
   "execution_count": null,
   "id": "78262259",
   "metadata": {
    "papermill": {
     "duration": 0.111744,
     "end_time": "2023-08-24T22:00:02.281192",
     "exception": false,
     "start_time": "2023-08-24T22:00:02.169448",
     "status": "completed"
    },
    "tags": []
   },
   "outputs": [],
   "source": []
  }
 ],
 "metadata": {
  "kernelspec": {
   "display_name": "Python 3",
   "language": "python",
   "name": "python3"
  },
  "language_info": {
   "codemirror_mode": {
    "name": "ipython",
    "version": 3
   },
   "file_extension": ".py",
   "mimetype": "text/x-python",
   "name": "python",
   "nbconvert_exporter": "python",
   "pygments_lexer": "ipython3",
   "version": "3.7.12"
  },
  "papermill": {
   "default_parameters": {},
   "duration": 148.255638,
   "end_time": "2023-08-24T22:00:03.317407",
   "environment_variables": {},
   "exception": null,
   "input_path": "__notebook__.ipynb",
   "output_path": "__notebook__.ipynb",
   "parameters": {},
   "start_time": "2023-08-24T21:57:35.061769",
   "version": "2.3.3"
  }
 },
 "nbformat": 4,
 "nbformat_minor": 5
}

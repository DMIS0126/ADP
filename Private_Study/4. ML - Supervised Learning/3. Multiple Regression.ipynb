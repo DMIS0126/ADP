{
 "cells": [
  {
   "cell_type": "markdown",
   "source": [
    "# 다중 회귀(Multiple Regression)"
   ],
   "metadata": {
    "collapsed": false
   }
  },
  {
   "cell_type": "markdown",
   "source": [
    "* 다중 회귀분석은 다중의 독립변수가 있는 회귀분석을 말한다.\n",
    "  * 회귀식은 다음과 같다.\n",
    "    $\\hat{Y}=\\beta_0+\\displaystyle\\sum_{i=1}^{n}\\beta_{i}x_{i}$\n",
    "  * $\\hat{Y}$ : 예측값\n",
    "  * $n$ : 독립변수의 수(또는 입력 특성의 개수), $i$번째 특성변수를 $x_i$라 한다.\n",
    "  * $\\beta_i$는 $i$번째 모델 파라미터이다."
   ],
   "metadata": {
    "collapsed": false
   }
  },
  {
   "cell_type": "markdown",
   "source": [
    "### 어려워서 다음 기회에"
   ],
   "metadata": {
    "collapsed": false
   }
  },
  {
   "cell_type": "code",
   "execution_count": null,
   "metadata": {
    "collapsed": true
   },
   "outputs": [],
   "source": []
  }
 ],
 "metadata": {
  "kernelspec": {
   "display_name": "Python 3",
   "language": "python",
   "name": "python3"
  },
  "language_info": {
   "codemirror_mode": {
    "name": "ipython",
    "version": 2
   },
   "file_extension": ".py",
   "mimetype": "text/x-python",
   "name": "python",
   "nbconvert_exporter": "python",
   "pygments_lexer": "ipython2",
   "version": "2.7.6"
  }
 },
 "nbformat": 4,
 "nbformat_minor": 0
}

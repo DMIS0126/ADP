{
 "cells": [
  {
   "cell_type": "markdown",
   "metadata": {},
   "source": [
    "> 제품 1, 2를 만드는 데 재료 a, b, c가 일부 사용되며, 각 12만 원과 18만 원을 벌 수 있다. 재료가 한정적일 때, 최대 수익을 낼 수 있는 제품 1, 2의 개수를 구하시오.\n",
    "\n",
    "\n",
    "* 재료 공급량 : {a : 1300, b : 1000, c : 1200}\n",
    "\n",
    "|구분|a|b|c|\n",
    "|:--:|:--:|:--:|:--:|\n",
    "|제품 1|20|20|20|\n",
    "|제품 2|40|30|30|"
   ]
  },
  {
   "cell_type": "code",
   "execution_count": 2,
   "metadata": {},
   "outputs": [
    {
     "name": "stdout",
     "output_type": "stream",
     "text": [
      "최대 수익은  600 만 원이다.\n",
      "이때의 제품 1 수량은  5 개이다.\n",
      "이때의 제품 2 수량은  30 개이다.\n"
     ]
    }
   ],
   "source": [
    "# 제품 1 : x, 제품 2 : y\n",
    "# y가 최대(32)일 때부터 하나씩 줄여가며 계산\n",
    "\n",
    "x=0\n",
    "y=32\n",
    "max_profit = 32*18\n",
    "material_a = 20\n",
    "material_b = 40\n",
    "material_c = 240\n",
    "\n",
    "while ((material_a>0) or (material_b>0) or (material_c>0)) :\n",
    "    y=y-1\n",
    "    material_a = material_a+40\n",
    "    material_b = material_b+30\n",
    "    material_c = material_c+30\n",
    "\n",
    "    while ((material_a>=20) and (material_b>=20) and (material_c>=20)) :\n",
    "        x=x+1\n",
    "        material_a = material_a-20\n",
    "        material_b = material_b-20\n",
    "        material_c = material_c-20\n",
    "\n",
    "        if (x*12+y*18) > max_profit :\n",
    "            max_profit = x*12+y*18\n",
    "            result_x = x\n",
    "            result_y = y\n",
    "\n",
    "    if y==0 :\n",
    "        break\n",
    "\n",
    "print('최대 수익은 ', max_profit, '만 원이다.')\n",
    "print('이때의 제품 1 수량은 ', result_x, '개이다.')\n",
    "print('이때의 제품 2 수량은 ', result_y, '개이다.')"
   ]
  },
  {
   "cell_type": "markdown",
   "metadata": {},
   "source": [
    "> 상품 a, b에 대하여 다음과 같은 구매 패턴이 있다.\n",
    ">\n",
    "> [a, a, b, b, a, a, a, a, b, b, b, b, b, a, a, b, b, a, b, b]\n",
    "(1) 구매 패턴으로 볼 때 두 상품이 연관이 있는지 가설을 세우고 검정하시오.\n",
    "(2) 검정 결과를 바탕으로 가설을 채택하시오."
   ]
  },
  {
   "cell_type": "markdown",
   "metadata": {},
   "source": [
    "#### * 가설을 검정하기 위해 one sample run test를 진행한다.\n",
    "또한, 해당 데이터를 수치형으로 변환해야 하므로 전처리 진행한다.\n",
    "\n",
    "* 귀무가설 : 연속적인 관측값이 임의적이다. 즉, 연관성이 없다.\n",
    "* 대립가설 : 연속적인 관측값이 임의적이 아니다. 즉, 연관성이 있다."
   ]
  },
  {
   "cell_type": "code",
   "execution_count": 5,
   "metadata": {},
   "outputs": [
    {
     "data": {
      "text/html": [
       "<div>\n",
       "<style scoped>\n",
       "    .dataframe tbody tr th:only-of-type {\n",
       "        vertical-align: middle;\n",
       "    }\n",
       "\n",
       "    .dataframe tbody tr th {\n",
       "        vertical-align: top;\n",
       "    }\n",
       "\n",
       "    .dataframe thead th {\n",
       "        text-align: right;\n",
       "    }\n",
       "</style>\n",
       "<table border=\"1\" class=\"dataframe\">\n",
       "  <thead>\n",
       "    <tr style=\"text-align: right;\">\n",
       "      <th></th>\n",
       "      <th>product</th>\n",
       "    </tr>\n",
       "  </thead>\n",
       "  <tbody>\n",
       "    <tr>\n",
       "      <th>0</th>\n",
       "      <td>1</td>\n",
       "    </tr>\n",
       "    <tr>\n",
       "      <th>1</th>\n",
       "      <td>1</td>\n",
       "    </tr>\n",
       "    <tr>\n",
       "      <th>2</th>\n",
       "      <td>0</td>\n",
       "    </tr>\n",
       "    <tr>\n",
       "      <th>3</th>\n",
       "      <td>0</td>\n",
       "    </tr>\n",
       "    <tr>\n",
       "      <th>4</th>\n",
       "      <td>1</td>\n",
       "    </tr>\n",
       "    <tr>\n",
       "      <th>5</th>\n",
       "      <td>1</td>\n",
       "    </tr>\n",
       "    <tr>\n",
       "      <th>6</th>\n",
       "      <td>1</td>\n",
       "    </tr>\n",
       "    <tr>\n",
       "      <th>7</th>\n",
       "      <td>1</td>\n",
       "    </tr>\n",
       "    <tr>\n",
       "      <th>8</th>\n",
       "      <td>0</td>\n",
       "    </tr>\n",
       "    <tr>\n",
       "      <th>9</th>\n",
       "      <td>0</td>\n",
       "    </tr>\n",
       "    <tr>\n",
       "      <th>10</th>\n",
       "      <td>0</td>\n",
       "    </tr>\n",
       "    <tr>\n",
       "      <th>11</th>\n",
       "      <td>0</td>\n",
       "    </tr>\n",
       "    <tr>\n",
       "      <th>12</th>\n",
       "      <td>0</td>\n",
       "    </tr>\n",
       "    <tr>\n",
       "      <th>13</th>\n",
       "      <td>1</td>\n",
       "    </tr>\n",
       "    <tr>\n",
       "      <th>14</th>\n",
       "      <td>1</td>\n",
       "    </tr>\n",
       "    <tr>\n",
       "      <th>15</th>\n",
       "      <td>0</td>\n",
       "    </tr>\n",
       "    <tr>\n",
       "      <th>16</th>\n",
       "      <td>0</td>\n",
       "    </tr>\n",
       "    <tr>\n",
       "      <th>17</th>\n",
       "      <td>1</td>\n",
       "    </tr>\n",
       "    <tr>\n",
       "      <th>18</th>\n",
       "      <td>0</td>\n",
       "    </tr>\n",
       "    <tr>\n",
       "      <th>19</th>\n",
       "      <td>0</td>\n",
       "    </tr>\n",
       "  </tbody>\n",
       "</table>\n",
       "</div>"
      ],
      "text/plain": [
       "    product\n",
       "0         1\n",
       "1         1\n",
       "2         0\n",
       "3         0\n",
       "4         1\n",
       "5         1\n",
       "6         1\n",
       "7         1\n",
       "8         0\n",
       "9         0\n",
       "10        0\n",
       "11        0\n",
       "12        0\n",
       "13        1\n",
       "14        1\n",
       "15        0\n",
       "16        0\n",
       "17        1\n",
       "18        0\n",
       "19        0"
      ]
     },
     "execution_count": 5,
     "metadata": {},
     "output_type": "execute_result"
    }
   ],
   "source": [
    "# 전처리\n",
    "\n",
    "import pandas as pd\n",
    "# a=1, b=0\n",
    "data = [1, 1, 0, 0, 1, 1, 1, 1, 0, 0, 0, 0, 0, 1, 1, 0, 0, 1, 0, 0]\n",
    "\n",
    "df = pd.DataFrame(data = data, columns = ['product'])\n",
    "df"
   ]
  },
  {
   "cell_type": "code",
   "execution_count": 6,
   "metadata": {},
   "outputs": [
    {
     "data": {
      "text/plain": [
       "(-1.1144881152070183, 0.26506984027306035)"
      ]
     },
     "execution_count": 6,
     "metadata": {},
     "output_type": "execute_result"
    }
   ],
   "source": [
    "# one sample run test\n",
    "from statsmodels.sandbox.stats.runs import runstest_1samp\n",
    "runstest_1samp(df['product'])"
   ]
  },
  {
   "cell_type": "markdown",
   "metadata": {},
   "source": [
    "#### * 첫 번째 값은 검정 통계량, 두 번째 값은 p-value이다.\n",
    "#### * 따라서 p-value가 유의수준 0.05보다 크므로 귀무가설을 채택한다. 따라서 상품 a와 b의 구매에는 연관이 없다고 할 수 있다."
   ]
  },
  {
   "cell_type": "code",
   "execution_count": null,
   "metadata": {},
   "outputs": [],
   "source": []
  }
 ],
 "metadata": {
  "kernelspec": {
   "display_name": "Python 3 (ipykernel)",
   "language": "python",
   "name": "python3"
  },
  "language_info": {
   "codemirror_mode": {
    "name": "ipython",
    "version": 3
   },
   "file_extension": ".py",
   "mimetype": "text/x-python",
   "name": "python",
   "nbconvert_exporter": "python",
   "pygments_lexer": "ipython3",
   "version": "3.9.12"
  }
 },
 "nbformat": 4,
 "nbformat_minor": 1
}

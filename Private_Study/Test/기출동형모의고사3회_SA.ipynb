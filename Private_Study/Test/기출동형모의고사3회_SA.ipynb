{
 "cells": [
  {
   "cell_type": "markdown",
   "source": [
    "1. 공장에서는 시제품의 농도(%)가 60이라고 주장하며 품질관리팀에서 10개의 샘플을 뽑았다. 유의수준 5%에서 다음을 검정하시오.\n",
    "> 데이터 : 52, 50, 62, 75, 26, 45, 62, 35, 57, 14\n",
    "\n",
    "(1) 연구가설, 귀무가설을 작성하시오.\n",
    "(2) 유효한 샘플의 수를 계산하시오.\n",
    "(3) 검정통계량을 구하고 연구가설 채택 여부를 작성하시오."
   ],
   "metadata": {
    "collapsed": false
   }
  },
  {
   "cell_type": "markdown",
   "source": [
    "(1) 연구가설, 귀무가설을 작성하시오.\n",
    "* 연구가설 : 시제품의 농도는 60%가 아니다.\n",
    "* 귀무가설 : 시제품의 농도는 60%이다."
   ],
   "metadata": {
    "collapsed": false
   }
  },
  {
   "cell_type": "markdown",
   "source": [
    "(2) 유효한 샘플의 수를 계산하시오.\n",
    "* 유효한 샘플의 수는 최소 표본크기를 계산하여 설정할 수 있다.\n",
    "* 최소 표본크기의 계산은 허용오차식을 바탕으로 한다.\n",
    "* 허용할 수 있는 오차한계와 신뢰수준이 주어졌을 때, 샘플로부터 추정한 표준편차를 사용해 표본의 크기를 구할 수 있다.\n",
    "* 오차한계를 5, 신뢰수준을 0.05로 설정한 뒤 샘플의 표준편차를 구한다."
   ],
   "metadata": {
    "collapsed": false
   }
  },
  {
   "cell_type": "code",
   "execution_count": 12,
   "outputs": [
    {
     "name": "stdout",
     "output_type": "stream",
     "text": [
      "17.434448657758008\n",
      "유효한 샘플의 수는  41 이상 입니다.\n"
     ]
    }
   ],
   "source": [
    "import pandas as pd\n",
    "\n",
    "x=[52, 50, 62, 75, 26, 45, 62, 35, 57, 14]\n",
    "\n",
    "import numpy as np\n",
    "moe = 5\n",
    "a=0.05\n",
    "std = np.std(x)\n",
    "print(std)\n",
    "\n",
    "# 유효한 샘플의 수 구하기(from scipy)\n",
    "import scipy\n",
    "import math\n",
    "n_sample = (scipy.stats.t.ppf(q=0.05, df=9)*std/5)**2\n",
    "print('유효한 샘플의 수는 ', math.ceil(n_sample), '이상 입니다.')"
   ],
   "metadata": {
    "collapsed": false
   }
  },
  {
   "cell_type": "markdown",
   "source": [
    "(3) 검정통계량을 구하고 연구가설 채택 여부를 작성하시오.\n",
    "* Wilcoxon의 부호검정을 검정방법으로 선정한다. 이 검정방식은 모집단이 정규성을 만족하지 못할 때 사용하는 검정이며, 비교대상들 사이의 차이를 부호와 크기에 대한 정보로 바꾸어 이를 토대로 분포를 비교하는 방식이다."
   ],
   "metadata": {
    "collapsed": false
   }
  },
  {
   "cell_type": "code",
   "execution_count": 14,
   "outputs": [
    {
     "data": {
      "text/plain": "WilcoxonResult(statistic=9.5, pvalue=0.064453125)"
     },
     "execution_count": 14,
     "metadata": {},
     "output_type": "execute_result"
    }
   ],
   "source": [
    "from scipy import stats\n",
    "import pandas as pd\n",
    "stats.wilcoxon(pd.Series(x)-60) # 편차"
   ],
   "metadata": {
    "collapsed": false
   }
  },
  {
   "cell_type": "markdown",
   "source": [
    "#### * p-value가 0.06으로 유의수준 0.05보다 큰 것을 확인할 수 있다.\n",
    "#### * 즉, 유의수준 0.05 하에서 귀무가설을 채택한다. 따라서 시제품의 농도는 60%이라고 판단할 수 있다."
   ],
   "metadata": {
    "collapsed": false
   }
  },
  {
   "cell_type": "markdown",
   "source": [
    "2. 코로나 데이터 시계열 분석(feat.덴드로그램) TBU"
   ],
   "metadata": {
    "collapsed": false
   }
  },
  {
   "cell_type": "markdown",
   "source": [
    "3. 사회과학, 자연과학, 공학 세 개 학과의 평점조사표를 보고, 학과와 성적이 관계있는지 검정하시오.\n",
    "> 데이터 : 세 개 학과의 평점조사표\n",
    "\n",
    "|구분|사회과학|자연과학|공학|\n",
    "|:--:|:--:|:--:|:--:|\n",
    "|3.5~4.5|16|12|18|\n",
    "|2.5~3.5|30|20|13|\n",
    "|1.5~2.5|12|3|14|\n",
    "\n",
    "\n",
    "(1) 귀무가설, 대립가설을 작성하시오.\n",
    "(2) 학과와 성적이 독립일 때, 기댓값을 구하시오.\n",
    "(3) 검정통계량을 구하고 연구가설 채택 여부를 작성하시오."
   ],
   "metadata": {
    "collapsed": false
   }
  },
  {
   "cell_type": "markdown",
   "source": [
    "(1) 귀무가설, 대립가설을 작성하시오.\n",
    "* 귀무가설 : 성적과 학과 간에는 관련성이 없다. 즉, 독립이다.\n",
    "* 대립가설 : 성적과 학과 간에는 관련성이 있다. 즉, 독립이 아니다.\n",
    "\n",
    "이때, 카이제곱 검정을 검정방식으로 채택한다.\n",
    "* 카이제곱 검정은 관찰된 빈도와 기대되는 빈도가 의미 있게 다른지의 여부를 검정하기 위해 사용하는 방법이다.\n",
    "* 명목척도 자료 분석에 이용되며, 자료가 빈도로 주어졌을 때 사용한다.\n",
    "* 카이제곱 검정은 목적에 따라 3가지로 사용될 수 있다.\n",
    "    * 적합도 검정 : 관찰된 비율 값이 기댓값과 같은지 조사(어떤 모집단의 표본이 그 모집단을 대표하는지 검정)\n",
    "    * 동질성 검정 : 두 집단의 분포가 동일한지 검정\n",
    "    * 독립성 검정 : Contigency Table에서 두 개 이상의 변수가 서로 독립인지 검정"
   ],
   "metadata": {
    "collapsed": false
   }
  },
  {
   "cell_type": "code",
   "execution_count": 23,
   "outputs": [
    {
     "data": {
      "text/plain": "         sociery  nature  machine\n3.5~4.5       16      12       18\n2.5~3.5       30      20       13\n1.5~2.5       12       3       14",
      "text/html": "<div>\n<style scoped>\n    .dataframe tbody tr th:only-of-type {\n        vertical-align: middle;\n    }\n\n    .dataframe tbody tr th {\n        vertical-align: top;\n    }\n\n    .dataframe thead th {\n        text-align: right;\n    }\n</style>\n<table border=\"1\" class=\"dataframe\">\n  <thead>\n    <tr style=\"text-align: right;\">\n      <th></th>\n      <th>sociery</th>\n      <th>nature</th>\n      <th>machine</th>\n    </tr>\n  </thead>\n  <tbody>\n    <tr>\n      <th>3.5~4.5</th>\n      <td>16</td>\n      <td>12</td>\n      <td>18</td>\n    </tr>\n    <tr>\n      <th>2.5~3.5</th>\n      <td>30</td>\n      <td>20</td>\n      <td>13</td>\n    </tr>\n    <tr>\n      <th>1.5~2.5</th>\n      <td>12</td>\n      <td>3</td>\n      <td>14</td>\n    </tr>\n  </tbody>\n</table>\n</div>"
     },
     "execution_count": 23,
     "metadata": {},
     "output_type": "execute_result"
    }
   ],
   "source": [
    "# df 구성\n",
    "import pandas as pd\n",
    "society = [16, 30, 12]\n",
    "nature = [12, 20, 3]\n",
    "machine = [18, 13, 14]\n",
    "df = pd.DataFrame({'sociery':society,\n",
    "                   'nature' : nature,\n",
    "                   'machine' : machine},\n",
    "                  index = ['3.5~4.5', '2.5~3.5', '1.5~2.5'])\n",
    "\n",
    "df"
   ],
   "metadata": {
    "collapsed": false
   }
  },
  {
   "cell_type": "markdown",
   "source": [
    "#### * 카이제곱 검정 중 독립성 검정 선택"
   ],
   "metadata": {
    "collapsed": false
   }
  },
  {
   "cell_type": "code",
   "execution_count": 24,
   "outputs": [
    {
     "data": {
      "text/plain": "(10.199441509990177,\n 0.03719883770303157,\n 4,\n array([[19.33333333, 11.66666667, 15.        ],\n        [26.47826087, 15.97826087, 20.54347826],\n        [12.1884058 ,  7.35507246,  9.45652174]]))"
     },
     "execution_count": 24,
     "metadata": {},
     "output_type": "execute_result"
    }
   ],
   "source": [
    "from scipy import stats\n",
    "stats.chi2_contingency(observed=df)"
   ],
   "metadata": {
    "collapsed": false
   }
  },
  {
   "cell_type": "markdown",
   "source": [
    "#### * 카이제곰 검정통계량은 10.199이고, p-value는 0.037이다.\n",
    "#### * 이에 따라 유의수준 0.05 하에서 귀무가설을 기각하고 대립가설을 채택한다.\n",
    "#### 즉, 성적과 학과 간에는 관련성이 있는 것으로 판단할 수 있다."
   ],
   "metadata": {
    "collapsed": false
   }
  }
 ],
 "metadata": {
  "kernelspec": {
   "display_name": "Python 3",
   "language": "python",
   "name": "python3"
  },
  "language_info": {
   "codemirror_mode": {
    "name": "ipython",
    "version": 2
   },
   "file_extension": ".py",
   "mimetype": "text/x-python",
   "name": "python",
   "nbconvert_exporter": "python",
   "pygments_lexer": "ipython2",
   "version": "2.7.6"
  }
 },
 "nbformat": 4,
 "nbformat_minor": 0
}

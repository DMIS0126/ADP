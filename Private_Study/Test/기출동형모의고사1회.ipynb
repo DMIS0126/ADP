{
 "cells": [
  {
   "cell_type": "markdown",
   "source": [
    "> 데이터 : 학생 성적에 관한 소규모 데이터\n",
    "\n",
    "\n",
    "1. 시각화 포함 탐색적 자료 분석 수행\n",
    "2. 결측치 식별, 예측하는 두 가지 방법을 쓰고, 이를 선택한 이유를 설명\n",
    "3. 범주형 변수 인코딩이 필요한 경우를 식별하고, 변환을 적용. 이때, 이를 선택한 이유 설명\n",
    "4. 데이터 분할 방법을 2가지 쓰고 적절한 데이터 분할 적용. 이때, 이를 선택한 이유 설명\n",
    "5. svm, xgboost, randomforest 3개의 알고리즘 공통점을 쓰고, 학생성적 예측 분석에 적합한 알고리즘인지 설명\n",
    "6. 세 가지 모델 모두 모델링해보고 가장 적합한 알고리즘 선택. 이때, 이를 선택한 이유와 모델의 한계점, 보완 가능한 부분을 설명하고 현업에서 주의할 점 기술"
   ],
   "metadata": {
    "collapsed": false
   }
  },
  {
   "cell_type": "markdown",
   "source": [
    "---"
   ],
   "metadata": {
    "collapsed": false
   }
  },
  {
   "cell_type": "markdown",
   "source": [
    "# 1. 시각화 포함 탐색적 자료 분석 수행"
   ],
   "metadata": {
    "collapsed": false
   }
  },
  {
   "cell_type": "code",
   "execution_count": 1,
   "outputs": [
    {
     "name": "stdout",
     "output_type": "stream",
     "text": [
      "<class 'pandas.core.frame.DataFrame'>\n",
      "RangeIndex: 395 entries, 0 to 394\n",
      "Data columns (total 33 columns):\n",
      " #   Column      Non-Null Count  Dtype \n",
      "---  ------      --------------  ----- \n",
      " 0   school      395 non-null    object\n",
      " 1   sex         395 non-null    object\n",
      " 2   age         395 non-null    int64 \n",
      " 3   address     395 non-null    object\n",
      " 4   famsize     395 non-null    object\n",
      " 5   Pstatus     395 non-null    object\n",
      " 6   Medu        395 non-null    int64 \n",
      " 7   Fedu        395 non-null    int64 \n",
      " 8   Mjob        395 non-null    object\n",
      " 9   Fjob        395 non-null    object\n",
      " 10  reason      395 non-null    object\n",
      " 11  guardian    395 non-null    object\n",
      " 12  traveltime  395 non-null    int64 \n",
      " 13  studytime   395 non-null    int64 \n",
      " 14  failures    395 non-null    int64 \n",
      " 15  schoolsup   395 non-null    object\n",
      " 16  famsup      395 non-null    object\n",
      " 17  paid        395 non-null    object\n",
      " 18  activities  395 non-null    object\n",
      " 19  nursery     395 non-null    object\n",
      " 20  higher      395 non-null    object\n",
      " 21  internet    395 non-null    object\n",
      " 22  romantic    395 non-null    object\n",
      " 23  famrel      395 non-null    int64 \n",
      " 24  freetime    395 non-null    int64 \n",
      " 25  goout       395 non-null    int64 \n",
      " 26  Dalc        395 non-null    int64 \n",
      " 27  Walc        395 non-null    int64 \n",
      " 28  health      395 non-null    int64 \n",
      " 29  absences    395 non-null    int64 \n",
      " 30  G1          395 non-null    int64 \n",
      " 31  G2          395 non-null    int64 \n",
      " 32  G3          395 non-null    int64 \n",
      "dtypes: int64(16), object(17)\n",
      "memory usage: 102.0+ KB\n"
     ]
    },
    {
     "data": {
      "text/plain": "    school sex paid activities  famrel  freetime  goout  Dalc  Walc  health  \\\n0       GP   F   no         no       4         3      4     1     1       3   \n1       GP   F   no         no       5         3      3     1     1       3   \n2       GP   F  yes         no       4         3      2     2     3       3   \n3       GP   F  yes        yes       3         2      2     1     1       5   \n4       GP   F  yes         no       4         3      2     1     2       5   \n..     ...  ..  ...        ...     ...       ...    ...   ...   ...     ...   \n390     MS   M  yes         no       5         5      4     4     5       4   \n391     MS   M   no         no       2         4      5     3     4       2   \n392     MS   M   no         no       5         5      3     3     3       3   \n393     MS   M   no         no       4         4      1     3     4       5   \n394     MS   M   no         no       3         2      3     3     3       5   \n\n     absences  G1  G2  grade  \n0           6   5   6      6  \n1           4   5   5      6  \n2          10   7   8     10  \n3           2  15  14     15  \n4           4   6  10     10  \n..        ...  ..  ..    ...  \n390        11   9   9      9  \n391         3  14  16     16  \n392         3  10   8      7  \n393         0  11  12     10  \n394         5   8   9      9  \n\n[395 rows x 14 columns]",
      "text/html": "<div>\n<style scoped>\n    .dataframe tbody tr th:only-of-type {\n        vertical-align: middle;\n    }\n\n    .dataframe tbody tr th {\n        vertical-align: top;\n    }\n\n    .dataframe thead th {\n        text-align: right;\n    }\n</style>\n<table border=\"1\" class=\"dataframe\">\n  <thead>\n    <tr style=\"text-align: right;\">\n      <th></th>\n      <th>school</th>\n      <th>sex</th>\n      <th>paid</th>\n      <th>activities</th>\n      <th>famrel</th>\n      <th>freetime</th>\n      <th>goout</th>\n      <th>Dalc</th>\n      <th>Walc</th>\n      <th>health</th>\n      <th>absences</th>\n      <th>G1</th>\n      <th>G2</th>\n      <th>grade</th>\n    </tr>\n  </thead>\n  <tbody>\n    <tr>\n      <th>0</th>\n      <td>GP</td>\n      <td>F</td>\n      <td>no</td>\n      <td>no</td>\n      <td>4</td>\n      <td>3</td>\n      <td>4</td>\n      <td>1</td>\n      <td>1</td>\n      <td>3</td>\n      <td>6</td>\n      <td>5</td>\n      <td>6</td>\n      <td>6</td>\n    </tr>\n    <tr>\n      <th>1</th>\n      <td>GP</td>\n      <td>F</td>\n      <td>no</td>\n      <td>no</td>\n      <td>5</td>\n      <td>3</td>\n      <td>3</td>\n      <td>1</td>\n      <td>1</td>\n      <td>3</td>\n      <td>4</td>\n      <td>5</td>\n      <td>5</td>\n      <td>6</td>\n    </tr>\n    <tr>\n      <th>2</th>\n      <td>GP</td>\n      <td>F</td>\n      <td>yes</td>\n      <td>no</td>\n      <td>4</td>\n      <td>3</td>\n      <td>2</td>\n      <td>2</td>\n      <td>3</td>\n      <td>3</td>\n      <td>10</td>\n      <td>7</td>\n      <td>8</td>\n      <td>10</td>\n    </tr>\n    <tr>\n      <th>3</th>\n      <td>GP</td>\n      <td>F</td>\n      <td>yes</td>\n      <td>yes</td>\n      <td>3</td>\n      <td>2</td>\n      <td>2</td>\n      <td>1</td>\n      <td>1</td>\n      <td>5</td>\n      <td>2</td>\n      <td>15</td>\n      <td>14</td>\n      <td>15</td>\n    </tr>\n    <tr>\n      <th>4</th>\n      <td>GP</td>\n      <td>F</td>\n      <td>yes</td>\n      <td>no</td>\n      <td>4</td>\n      <td>3</td>\n      <td>2</td>\n      <td>1</td>\n      <td>2</td>\n      <td>5</td>\n      <td>4</td>\n      <td>6</td>\n      <td>10</td>\n      <td>10</td>\n    </tr>\n    <tr>\n      <th>...</th>\n      <td>...</td>\n      <td>...</td>\n      <td>...</td>\n      <td>...</td>\n      <td>...</td>\n      <td>...</td>\n      <td>...</td>\n      <td>...</td>\n      <td>...</td>\n      <td>...</td>\n      <td>...</td>\n      <td>...</td>\n      <td>...</td>\n      <td>...</td>\n    </tr>\n    <tr>\n      <th>390</th>\n      <td>MS</td>\n      <td>M</td>\n      <td>yes</td>\n      <td>no</td>\n      <td>5</td>\n      <td>5</td>\n      <td>4</td>\n      <td>4</td>\n      <td>5</td>\n      <td>4</td>\n      <td>11</td>\n      <td>9</td>\n      <td>9</td>\n      <td>9</td>\n    </tr>\n    <tr>\n      <th>391</th>\n      <td>MS</td>\n      <td>M</td>\n      <td>no</td>\n      <td>no</td>\n      <td>2</td>\n      <td>4</td>\n      <td>5</td>\n      <td>3</td>\n      <td>4</td>\n      <td>2</td>\n      <td>3</td>\n      <td>14</td>\n      <td>16</td>\n      <td>16</td>\n    </tr>\n    <tr>\n      <th>392</th>\n      <td>MS</td>\n      <td>M</td>\n      <td>no</td>\n      <td>no</td>\n      <td>5</td>\n      <td>5</td>\n      <td>3</td>\n      <td>3</td>\n      <td>3</td>\n      <td>3</td>\n      <td>3</td>\n      <td>10</td>\n      <td>8</td>\n      <td>7</td>\n    </tr>\n    <tr>\n      <th>393</th>\n      <td>MS</td>\n      <td>M</td>\n      <td>no</td>\n      <td>no</td>\n      <td>4</td>\n      <td>4</td>\n      <td>1</td>\n      <td>3</td>\n      <td>4</td>\n      <td>5</td>\n      <td>0</td>\n      <td>11</td>\n      <td>12</td>\n      <td>10</td>\n    </tr>\n    <tr>\n      <th>394</th>\n      <td>MS</td>\n      <td>M</td>\n      <td>no</td>\n      <td>no</td>\n      <td>3</td>\n      <td>2</td>\n      <td>3</td>\n      <td>3</td>\n      <td>3</td>\n      <td>5</td>\n      <td>5</td>\n      <td>8</td>\n      <td>9</td>\n      <td>9</td>\n    </tr>\n  </tbody>\n</table>\n<p>395 rows × 14 columns</p>\n</div>"
     },
     "execution_count": 1,
     "metadata": {},
     "output_type": "execute_result"
    }
   ],
   "source": [
    "import pandas as pd\n",
    "\n",
    "# 시험 환경에 맞는 데이터세트로 수정\n",
    "student = pd.read_csv('./data/student.csv')\n",
    "student.head()\n",
    "student.info()\n",
    "\n",
    "student = student[['school', 'sex', 'paid', 'activities', 'famrel', 'freetime', 'goout', 'Dalc', 'Walc', 'health', 'absences', 'G1', 'G2', 'G3']]\n",
    "student.rename(columns = {'G3' :'grade'}, inplace=True)\n",
    "student"
   ],
   "metadata": {
    "collapsed": false
   }
  },
  {
   "cell_type": "markdown",
   "source": [
    "#### * 결측치가 발견되지 않았다."
   ],
   "metadata": {
    "collapsed": false
   }
  },
  {
   "cell_type": "code",
   "execution_count": 2,
   "outputs": [
    {
     "name": "stdout",
     "output_type": "stream",
     "text": [
      "<class 'pandas.core.frame.DataFrame'>\n",
      "RangeIndex: 395 entries, 0 to 394\n",
      "Data columns (total 14 columns):\n",
      " #   Column      Non-Null Count  Dtype \n",
      "---  ------      --------------  ----- \n",
      " 0   school      395 non-null    object\n",
      " 1   sex         395 non-null    object\n",
      " 2   paid        395 non-null    object\n",
      " 3   activities  395 non-null    object\n",
      " 4   famrel      395 non-null    int64 \n",
      " 5   freetime    395 non-null    int64 \n",
      " 6   goout       395 non-null    int64 \n",
      " 7   Dalc        395 non-null    int64 \n",
      " 8   Walc        395 non-null    int64 \n",
      " 9   health      395 non-null    int64 \n",
      " 10  absences    395 non-null    int64 \n",
      " 11  G1          395 non-null    int64 \n",
      " 12  G2          395 non-null    int64 \n",
      " 13  grade       395 non-null    int64 \n",
      "dtypes: int64(10), object(4)\n",
      "memory usage: 43.3+ KB\n"
     ]
    },
    {
     "data": {
      "text/plain": "           famrel    freetime       goout        Dalc        Walc      health  \\\ncount  395.000000  395.000000  395.000000  395.000000  395.000000  395.000000   \nmean     3.944304    3.235443    3.108861    1.481013    2.291139    3.554430   \nstd      0.896659    0.998862    1.113278    0.890741    1.287897    1.390303   \nmin      1.000000    1.000000    1.000000    1.000000    1.000000    1.000000   \n25%      4.000000    3.000000    2.000000    1.000000    1.000000    3.000000   \n50%      4.000000    3.000000    3.000000    1.000000    2.000000    4.000000   \n75%      5.000000    4.000000    4.000000    2.000000    3.000000    5.000000   \nmax      5.000000    5.000000    5.000000    5.000000    5.000000    5.000000   \n\n         absences          G1          G2       grade  \ncount  395.000000  395.000000  395.000000  395.000000  \nmean     5.708861   10.908861   10.713924   10.415190  \nstd      8.003096    3.319195    3.761505    4.581443  \nmin      0.000000    3.000000    0.000000    0.000000  \n25%      0.000000    8.000000    9.000000    8.000000  \n50%      4.000000   11.000000   11.000000   11.000000  \n75%      8.000000   13.000000   13.000000   14.000000  \nmax     75.000000   19.000000   19.000000   20.000000  ",
      "text/html": "<div>\n<style scoped>\n    .dataframe tbody tr th:only-of-type {\n        vertical-align: middle;\n    }\n\n    .dataframe tbody tr th {\n        vertical-align: top;\n    }\n\n    .dataframe thead th {\n        text-align: right;\n    }\n</style>\n<table border=\"1\" class=\"dataframe\">\n  <thead>\n    <tr style=\"text-align: right;\">\n      <th></th>\n      <th>famrel</th>\n      <th>freetime</th>\n      <th>goout</th>\n      <th>Dalc</th>\n      <th>Walc</th>\n      <th>health</th>\n      <th>absences</th>\n      <th>G1</th>\n      <th>G2</th>\n      <th>grade</th>\n    </tr>\n  </thead>\n  <tbody>\n    <tr>\n      <th>count</th>\n      <td>395.000000</td>\n      <td>395.000000</td>\n      <td>395.000000</td>\n      <td>395.000000</td>\n      <td>395.000000</td>\n      <td>395.000000</td>\n      <td>395.000000</td>\n      <td>395.000000</td>\n      <td>395.000000</td>\n      <td>395.000000</td>\n    </tr>\n    <tr>\n      <th>mean</th>\n      <td>3.944304</td>\n      <td>3.235443</td>\n      <td>3.108861</td>\n      <td>1.481013</td>\n      <td>2.291139</td>\n      <td>3.554430</td>\n      <td>5.708861</td>\n      <td>10.908861</td>\n      <td>10.713924</td>\n      <td>10.415190</td>\n    </tr>\n    <tr>\n      <th>std</th>\n      <td>0.896659</td>\n      <td>0.998862</td>\n      <td>1.113278</td>\n      <td>0.890741</td>\n      <td>1.287897</td>\n      <td>1.390303</td>\n      <td>8.003096</td>\n      <td>3.319195</td>\n      <td>3.761505</td>\n      <td>4.581443</td>\n    </tr>\n    <tr>\n      <th>min</th>\n      <td>1.000000</td>\n      <td>1.000000</td>\n      <td>1.000000</td>\n      <td>1.000000</td>\n      <td>1.000000</td>\n      <td>1.000000</td>\n      <td>0.000000</td>\n      <td>3.000000</td>\n      <td>0.000000</td>\n      <td>0.000000</td>\n    </tr>\n    <tr>\n      <th>25%</th>\n      <td>4.000000</td>\n      <td>3.000000</td>\n      <td>2.000000</td>\n      <td>1.000000</td>\n      <td>1.000000</td>\n      <td>3.000000</td>\n      <td>0.000000</td>\n      <td>8.000000</td>\n      <td>9.000000</td>\n      <td>8.000000</td>\n    </tr>\n    <tr>\n      <th>50%</th>\n      <td>4.000000</td>\n      <td>3.000000</td>\n      <td>3.000000</td>\n      <td>1.000000</td>\n      <td>2.000000</td>\n      <td>4.000000</td>\n      <td>4.000000</td>\n      <td>11.000000</td>\n      <td>11.000000</td>\n      <td>11.000000</td>\n    </tr>\n    <tr>\n      <th>75%</th>\n      <td>5.000000</td>\n      <td>4.000000</td>\n      <td>4.000000</td>\n      <td>2.000000</td>\n      <td>3.000000</td>\n      <td>5.000000</td>\n      <td>8.000000</td>\n      <td>13.000000</td>\n      <td>13.000000</td>\n      <td>14.000000</td>\n    </tr>\n    <tr>\n      <th>max</th>\n      <td>5.000000</td>\n      <td>5.000000</td>\n      <td>5.000000</td>\n      <td>5.000000</td>\n      <td>5.000000</td>\n      <td>5.000000</td>\n      <td>75.000000</td>\n      <td>19.000000</td>\n      <td>19.000000</td>\n      <td>20.000000</td>\n    </tr>\n  </tbody>\n</table>\n</div>"
     },
     "execution_count": 2,
     "metadata": {},
     "output_type": "execute_result"
    }
   ],
   "source": [
    "student.info()\n",
    "student.describe()"
   ],
   "metadata": {
    "collapsed": false
   }
  },
  {
   "cell_type": "markdown",
   "source": [
    "#### * 종속변수(grade)는 int형, 독립변수는 object, int형으로 구성되어 있다.\n",
    "#### * object형은 인코딩을 통해 변환해줄 필요가 있다."
   ],
   "metadata": {
    "collapsed": false
   }
  },
  {
   "cell_type": "code",
   "execution_count": 3,
   "outputs": [
    {
     "data": {
      "text/plain": "<Figure size 640x480 with 4 Axes>",
      "image/png": "[encoded data removed]"
     },
     "metadata": {},
     "output_type": "display_data"
    },
    {
     "data": {
      "text/plain": "<Figure size 640x480 with 1 Axes>",
      "image/png": "[encoded data removed]"
     },
     "metadata": {},
     "output_type": "display_data"
    }
   ],
   "source": [
    "# 학교 개수 확인\n",
    "student.school.unique()\n",
    "\n",
    "# 범주형 변수 시각화(school, sex, paid, activities)\n",
    "import matplotlib.pyplot as plt\n",
    "fig, axs = plt.subplots(2,2)\n",
    "axs[0][0].bar(student['school'].value_counts().index, student['school'].value_counts().values)\n",
    "axs[0][1].bar(student['sex'].value_counts().index, student['sex'].value_counts().values)\n",
    "axs[1][0].bar(student['paid'].value_counts().index, student['paid'].value_counts().values)\n",
    "axs[1][1].bar(student['activities'].value_counts().index, student['activities'].value_counts().values)\n",
    "axs[0][0].set_title('school')\n",
    "axs[0][1].set_title('sex')\n",
    "axs[1][0].set_title('paid')\n",
    "axs[1][1].set_title('activities')\n",
    "plt.show()\n",
    "\n",
    "# 성적 분포 확인\n",
    "plt.bar(student['grade'].value_counts().index, student['grade'].value_counts().values)\n",
    "plt.title('student cnt by grade')\n",
    "plt.show()"
   ],
   "metadata": {
    "collapsed": false
   }
  },
  {
   "cell_type": "markdown",
   "source": [
    "#### * school에서 GP학교가 MS학교보다 많다.\n",
    "#### * sex, paid, activities는 거의 동등\n",
    "#### * 성적은 정규분포를 띄지는 않는 것으로 확인된다."
   ],
   "metadata": {
    "collapsed": false
   }
  },
  {
   "cell_type": "code",
   "execution_count": 14,
   "outputs": [
    {
     "ename": "AttributeError",
     "evalue": "module 'numpy' has no attribute 'bool'.\n`np.bool` was a deprecated alias for the builtin `bool`. To avoid this error in existing code, use `bool` by itself. Doing this will not modify any behavior and is safe. If you specifically wanted the numpy scalar type, use `np.bool_` here.\nThe aliases was originally deprecated in NumPy 1.20; for more details and guidance see the original release note at:\n    https://numpy.org/devdocs/release/1.20.0-notes.html#deprecations",
     "output_type": "error",
     "traceback": [
      "\u001B[0;31m---------------------------------------------------------------------------\u001B[0m",
      "\u001B[0;31mAttributeError\u001B[0m                            Traceback (most recent call last)",
      "Cell \u001B[0;32mIn[14], line 4\u001B[0m\n\u001B[1;32m      2\u001B[0m student_corr \u001B[38;5;241m=\u001B[39m student\u001B[38;5;241m.\u001B[39mcorr(method\u001B[38;5;241m=\u001B[39m\u001B[38;5;124m'\u001B[39m\u001B[38;5;124mpearson\u001B[39m\u001B[38;5;124m'\u001B[39m)\n\u001B[1;32m      3\u001B[0m \u001B[38;5;28;01mimport\u001B[39;00m \u001B[38;5;21;01mseaborn\u001B[39;00m \u001B[38;5;28;01mas\u001B[39;00m \u001B[38;5;21;01msns\u001B[39;00m\n\u001B[0;32m----> 4\u001B[0m \u001B[43msns\u001B[49m\u001B[38;5;241;43m.\u001B[39;49m\u001B[43mheatmap\u001B[49m\u001B[43m(\u001B[49m\u001B[43mstudent_corr\u001B[49m\u001B[43m,\u001B[49m\u001B[43m \u001B[49m\u001B[43mannot\u001B[49m\u001B[43m \u001B[49m\u001B[38;5;241;43m=\u001B[39;49m\u001B[43m \u001B[49m\u001B[38;5;28;43;01mTrue\u001B[39;49;00m\u001B[43m,\u001B[49m\u001B[43m \u001B[49m\u001B[43mxticklabels\u001B[49m\u001B[43m \u001B[49m\u001B[38;5;241;43m=\u001B[39;49m\u001B[43m \u001B[49m\u001B[43mstudent_corr\u001B[49m\u001B[38;5;241;43m.\u001B[39;49m\u001B[43mcolumns\u001B[49m\u001B[43m,\u001B[49m\u001B[43m \u001B[49m\u001B[43myticklabels\u001B[49m\u001B[43m \u001B[49m\u001B[38;5;241;43m=\u001B[39;49m\u001B[43m \u001B[49m\u001B[43mstudent_corr\u001B[49m\u001B[38;5;241;43m.\u001B[39;49m\u001B[43mcolumns\u001B[49m\u001B[43m,\u001B[49m\u001B[43m \u001B[49m\u001B[43mcmap\u001B[49m\u001B[43m \u001B[49m\u001B[38;5;241;43m=\u001B[39;49m\u001B[43m \u001B[49m\u001B[38;5;124;43m'\u001B[39;49m\u001B[38;5;124;43mRdBu_r\u001B[39;49m\u001B[38;5;124;43m'\u001B[39;49m\u001B[43m,\u001B[49m\u001B[43m \u001B[49m\u001B[43mlinewidth\u001B[49m\u001B[43m \u001B[49m\u001B[38;5;241;43m=\u001B[39;49m\u001B[43m \u001B[49m\u001B[38;5;241;43m3\u001B[39;49m\u001B[43m)\u001B[49m\n\u001B[1;32m      5\u001B[0m plt\u001B[38;5;241m.\u001B[39mshow()\n",
      "File \u001B[0;32m~/opt/anaconda3/envs/ADP/lib/python3.10/site-packages/seaborn/matrix.py:515\u001B[0m, in \u001B[0;36mheatmap\u001B[0;34m(data, vmin, vmax, cmap, center, robust, annot, fmt, annot_kws, linewidths, linecolor, cbar, cbar_kws, cbar_ax, square, xticklabels, yticklabels, mask, ax, **kwargs)\u001B[0m\n\u001B[1;32m    338\u001B[0m \u001B[38;5;250m\u001B[39m\u001B[38;5;124;03m\"\"\"Plot rectangular data as a color-encoded matrix.\u001B[39;00m\n\u001B[1;32m    339\u001B[0m \n\u001B[1;32m    340\u001B[0m \u001B[38;5;124;03mThis is an Axes-level function and will draw the heatmap into the\u001B[39;00m\n\u001B[0;32m   (...)\u001B[0m\n\u001B[1;32m    512\u001B[0m \n\u001B[1;32m    513\u001B[0m \u001B[38;5;124;03m\"\"\"\u001B[39;00m\n\u001B[1;32m    514\u001B[0m \u001B[38;5;66;03m# Initialize the plotter object\u001B[39;00m\n\u001B[0;32m--> 515\u001B[0m plotter \u001B[38;5;241m=\u001B[39m \u001B[43m_HeatMapper\u001B[49m\u001B[43m(\u001B[49m\u001B[43mdata\u001B[49m\u001B[43m,\u001B[49m\u001B[43m \u001B[49m\u001B[43mvmin\u001B[49m\u001B[43m,\u001B[49m\u001B[43m \u001B[49m\u001B[43mvmax\u001B[49m\u001B[43m,\u001B[49m\u001B[43m \u001B[49m\u001B[43mcmap\u001B[49m\u001B[43m,\u001B[49m\u001B[43m \u001B[49m\u001B[43mcenter\u001B[49m\u001B[43m,\u001B[49m\u001B[43m \u001B[49m\u001B[43mrobust\u001B[49m\u001B[43m,\u001B[49m\u001B[43m \u001B[49m\u001B[43mannot\u001B[49m\u001B[43m,\u001B[49m\u001B[43m \u001B[49m\u001B[43mfmt\u001B[49m\u001B[43m,\u001B[49m\n\u001B[1;32m    516\u001B[0m \u001B[43m                      \u001B[49m\u001B[43mannot_kws\u001B[49m\u001B[43m,\u001B[49m\u001B[43m \u001B[49m\u001B[43mcbar\u001B[49m\u001B[43m,\u001B[49m\u001B[43m \u001B[49m\u001B[43mcbar_kws\u001B[49m\u001B[43m,\u001B[49m\u001B[43m \u001B[49m\u001B[43mxticklabels\u001B[49m\u001B[43m,\u001B[49m\n\u001B[1;32m    517\u001B[0m \u001B[43m                      \u001B[49m\u001B[43myticklabels\u001B[49m\u001B[43m,\u001B[49m\u001B[43m \u001B[49m\u001B[43mmask\u001B[49m\u001B[43m)\u001B[49m\n\u001B[1;32m    519\u001B[0m \u001B[38;5;66;03m# Add the pcolormesh kwargs here\u001B[39;00m\n\u001B[1;32m    520\u001B[0m kwargs[\u001B[38;5;124m\"\u001B[39m\u001B[38;5;124mlinewidths\u001B[39m\u001B[38;5;124m\"\u001B[39m] \u001B[38;5;241m=\u001B[39m linewidths\n",
      "File \u001B[0;32m~/opt/anaconda3/envs/ADP/lib/python3.10/site-packages/seaborn/matrix.py:113\u001B[0m, in \u001B[0;36m_HeatMapper.__init__\u001B[0;34m(self, data, vmin, vmax, cmap, center, robust, annot, fmt, annot_kws, cbar, cbar_kws, xticklabels, yticklabels, mask)\u001B[0m\n\u001B[1;32m    110\u001B[0m     data \u001B[38;5;241m=\u001B[39m pd\u001B[38;5;241m.\u001B[39mDataFrame(plot_data)\n\u001B[1;32m    112\u001B[0m \u001B[38;5;66;03m# Validate the mask and convet to DataFrame\u001B[39;00m\n\u001B[0;32m--> 113\u001B[0m mask \u001B[38;5;241m=\u001B[39m \u001B[43m_matrix_mask\u001B[49m\u001B[43m(\u001B[49m\u001B[43mdata\u001B[49m\u001B[43m,\u001B[49m\u001B[43m \u001B[49m\u001B[43mmask\u001B[49m\u001B[43m)\u001B[49m\n\u001B[1;32m    115\u001B[0m plot_data \u001B[38;5;241m=\u001B[39m np\u001B[38;5;241m.\u001B[39mma\u001B[38;5;241m.\u001B[39mmasked_where(np\u001B[38;5;241m.\u001B[39masarray(mask), plot_data)\n\u001B[1;32m    117\u001B[0m \u001B[38;5;66;03m# Get good names for the rows and columns\u001B[39;00m\n",
      "File \u001B[0;32m~/opt/anaconda3/envs/ADP/lib/python3.10/site-packages/seaborn/matrix.py:70\u001B[0m, in \u001B[0;36m_matrix_mask\u001B[0;34m(data, mask)\u001B[0m\n\u001B[1;32m     61\u001B[0m \u001B[38;5;250m\u001B[39m\u001B[38;5;124;03m\"\"\"Ensure that data and mask are compatabile and add missing values.\u001B[39;00m\n\u001B[1;32m     62\u001B[0m \n\u001B[1;32m     63\u001B[0m \u001B[38;5;124;03mValues will be plotted for cells where ``mask`` is ``False``.\u001B[39;00m\n\u001B[0;32m   (...)\u001B[0m\n\u001B[1;32m     67\u001B[0m \n\u001B[1;32m     68\u001B[0m \u001B[38;5;124;03m\"\"\"\u001B[39;00m\n\u001B[1;32m     69\u001B[0m \u001B[38;5;28;01mif\u001B[39;00m mask \u001B[38;5;129;01mis\u001B[39;00m \u001B[38;5;28;01mNone\u001B[39;00m:\n\u001B[0;32m---> 70\u001B[0m     mask \u001B[38;5;241m=\u001B[39m np\u001B[38;5;241m.\u001B[39mzeros(data\u001B[38;5;241m.\u001B[39mshape, \u001B[43mnp\u001B[49m\u001B[38;5;241;43m.\u001B[39;49m\u001B[43mbool\u001B[49m)\n\u001B[1;32m     72\u001B[0m \u001B[38;5;28;01mif\u001B[39;00m \u001B[38;5;28misinstance\u001B[39m(mask, np\u001B[38;5;241m.\u001B[39mndarray):\n\u001B[1;32m     73\u001B[0m     \u001B[38;5;66;03m# For array masks, ensure that shape matches data then convert\u001B[39;00m\n\u001B[1;32m     74\u001B[0m     \u001B[38;5;28;01mif\u001B[39;00m mask\u001B[38;5;241m.\u001B[39mshape \u001B[38;5;241m!=\u001B[39m data\u001B[38;5;241m.\u001B[39mshape:\n",
      "File \u001B[0;32m~/opt/anaconda3/envs/ADP/lib/python3.10/site-packages/numpy/__init__.py:305\u001B[0m, in \u001B[0;36m__getattr__\u001B[0;34m(attr)\u001B[0m\n\u001B[1;32m    300\u001B[0m     warnings\u001B[38;5;241m.\u001B[39mwarn(\n\u001B[1;32m    301\u001B[0m         \u001B[38;5;124mf\u001B[39m\u001B[38;5;124m\"\u001B[39m\u001B[38;5;124mIn the future `np.\u001B[39m\u001B[38;5;132;01m{\u001B[39;00mattr\u001B[38;5;132;01m}\u001B[39;00m\u001B[38;5;124m` will be defined as the \u001B[39m\u001B[38;5;124m\"\u001B[39m\n\u001B[1;32m    302\u001B[0m         \u001B[38;5;124m\"\u001B[39m\u001B[38;5;124mcorresponding NumPy scalar.\u001B[39m\u001B[38;5;124m\"\u001B[39m, \u001B[38;5;167;01mFutureWarning\u001B[39;00m, stacklevel\u001B[38;5;241m=\u001B[39m\u001B[38;5;241m2\u001B[39m)\n\u001B[1;32m    304\u001B[0m \u001B[38;5;28;01mif\u001B[39;00m attr \u001B[38;5;129;01min\u001B[39;00m __former_attrs__:\n\u001B[0;32m--> 305\u001B[0m     \u001B[38;5;28;01mraise\u001B[39;00m \u001B[38;5;167;01mAttributeError\u001B[39;00m(__former_attrs__[attr])\n\u001B[1;32m    307\u001B[0m \u001B[38;5;66;03m# Importing Tester requires importing all of UnitTest which is not a\u001B[39;00m\n\u001B[1;32m    308\u001B[0m \u001B[38;5;66;03m# cheap import Since it is mainly used in test suits, we lazy import it\u001B[39;00m\n\u001B[1;32m    309\u001B[0m \u001B[38;5;66;03m# here to save on the order of 10 ms of import time for most users\u001B[39;00m\n\u001B[1;32m    310\u001B[0m \u001B[38;5;66;03m#\u001B[39;00m\n\u001B[1;32m    311\u001B[0m \u001B[38;5;66;03m# The previous way Tester was imported also had a side effect of adding\u001B[39;00m\n\u001B[1;32m    312\u001B[0m \u001B[38;5;66;03m# the full `numpy.testing` namespace\u001B[39;00m\n\u001B[1;32m    313\u001B[0m \u001B[38;5;28;01mif\u001B[39;00m attr \u001B[38;5;241m==\u001B[39m \u001B[38;5;124m'\u001B[39m\u001B[38;5;124mtesting\u001B[39m\u001B[38;5;124m'\u001B[39m:\n",
      "\u001B[0;31mAttributeError\u001B[0m: module 'numpy' has no attribute 'bool'.\n`np.bool` was a deprecated alias for the builtin `bool`. To avoid this error in existing code, use `bool` by itself. Doing this will not modify any behavior and is safe. If you specifically wanted the numpy scalar type, use `np.bool_` here.\nThe aliases was originally deprecated in NumPy 1.20; for more details and guidance see the original release note at:\n    https://numpy.org/devdocs/release/1.20.0-notes.html#deprecations"
     ]
    }
   ],
   "source": [
    "# 상관관계 확인\n",
    "student_corr = student.corr(method='pearson')\n",
    "import seaborn as sns\n",
    "sns.heatmap(student_corr, annot = True, xticklabels = student_corr.columns, yticklabels = student_corr.columns, cmap = 'RdBu_r', linewidth = 3)\n",
    "plt.show()"
   ],
   "metadata": {
    "collapsed": false
   }
  },
  {
   "cell_type": "markdown",
   "source": [
    "#### * grade(타깃변수)는 G1, G2와 상관관계가 가장 강하고, G1, G2도 서로 상관관계가 강한 것으로 파악된다.\n",
    "#### * 나머지 변수들은 다중공선성을 의심할만큼(0.9) 상관성이 큰 것들이 발견되지 않았다."
   ],
   "metadata": {
    "collapsed": false
   }
  },
  {
   "cell_type": "markdown",
   "source": [
    "# 2. 결측치 식별, 예측하는 두 가지 방법을 쓰고, 이를 선택한 이유를 설명"
   ],
   "metadata": {
    "collapsed": false
   }
  },
  {
   "cell_type": "markdown",
   "source": [
    "#### * 결측치를 식별하는 방법은 isna().sum()을 이용할 수 있다."
   ],
   "metadata": {
    "collapsed": false
   }
  },
  {
   "cell_type": "code",
   "execution_count": 13,
   "outputs": [
    {
     "data": {
      "text/plain": "school        0\nsex           0\npaid          0\nactivities    0\nfamrel        0\nfreetime      0\ngoout         0\nDalc          0\nWalc          0\nhealth        0\nabsences      0\nG1            0\nG2            0\ngrade         0\ndtype: int64"
     },
     "execution_count": 13,
     "metadata": {},
     "output_type": "execute_result"
    }
   ],
   "source": [
    "student.isna().sum()"
   ],
   "metadata": {
    "collapsed": false
   }
  },
  {
   "cell_type": "markdown",
   "source": [
    "# 3. 범주형 변수 인코딩이 필요한 경우를 식별하고, 변환을 적용. 이때, 이를 선택한 이유 설명"
   ],
   "metadata": {
    "collapsed": false
   }
  },
  {
   "cell_type": "markdown",
   "source": [
    "#### * EDA 과정에서 확인했다시피, school, sex, paid, activites 4개의 변수는 이산형 독립변수이다. -> 원핫인코딩 진행\n",
    "#### * 나머지 변수들은 int형 변수이고, 수치나 순위형 변수로 판단되므로 인코딩을 진행하지 않았다."
   ],
   "metadata": {
    "collapsed": false
   }
  },
  {
   "cell_type": "code",
   "execution_count": 14,
   "outputs": [
    {
     "name": "stdout",
     "output_type": "stream",
     "text": [
      "<class 'pandas.core.frame.DataFrame'>\n",
      "RangeIndex: 395 entries, 0 to 394\n",
      "Data columns (total 14 columns):\n",
      " #   Column          Non-Null Count  Dtype\n",
      "---  ------          --------------  -----\n",
      " 0   famrel          395 non-null    int64\n",
      " 1   freetime        395 non-null    int64\n",
      " 2   goout           395 non-null    int64\n",
      " 3   Dalc            395 non-null    int64\n",
      " 4   Walc            395 non-null    int64\n",
      " 5   health          395 non-null    int64\n",
      " 6   absences        395 non-null    int64\n",
      " 7   G1              395 non-null    int64\n",
      " 8   G2              395 non-null    int64\n",
      " 9   grade           395 non-null    int64\n",
      " 10  school_MS       395 non-null    uint8\n",
      " 11  sex_M           395 non-null    uint8\n",
      " 12  paid_yes        395 non-null    uint8\n",
      " 13  activities_yes  395 non-null    uint8\n",
      "dtypes: int64(10), uint8(4)\n",
      "memory usage: 32.5 KB\n"
     ]
    }
   ],
   "source": [
    "student = pd.get_dummies(data = student, columns = ['school', 'sex', 'paid', 'activities'], drop_first=True)\n",
    "student.info()"
   ],
   "metadata": {
    "collapsed": false
   }
  },
  {
   "cell_type": "markdown",
   "source": [
    "# 4. 데이터 분할 방법을 2가지 쓰고 적절한 데이터 분할 적용. 이때, 이를 선택한 이유 설명"
   ],
   "metadata": {
    "collapsed": false
   }
  },
  {
   "cell_type": "markdown",
   "source": [
    "#### * 데이터 분할 방법은 랜던하게 분할하는 방법(랜덤 분할)과 층화를 이루며 분할하는 방법(층화 추출 기법)이 존재한다.\n",
    "#### 랜덤 분할\n",
    "* train test 데이터세트를 나누어서 학습된 데이터를 검증할 수 있으며, 분할 시 무작위로 사용자가 지정하여 비율로 분할한다.\n",
    "* 전체 분석 데이터 중 머신러닝 모델을 학습시키기 위한 학습용 데이터와 테스트용 데이터를 나누어서 적용시키는 이유는 모델 결과가 다른 데이터에서도 적용 가능한지, 일반화가 가능한지를 검증하기 위함이다.\n",
    "\n",
    "#### 층화 추출 기법(stratify)\n",
    "* 종속변수가 범주형인 경우, 종속변수의 클래스의 비율을 기준으로 학습용 데이터와 테스트용 데이터의 비율이 동일하게 분할되어야 한다.\n",
    "* 이렇게 하여 분할 시 클래스의 편향을 막을 수 있다.\n",
    "\n",
    "#### * 이때, 주어진 데이터 세트의 종속변수(grade)는 범주형 변수가 아닌 연속형 변수이므로 회귀분석을 사용한다.\n",
    "#### * 따라서 층화 추출 기법을 사용하지 않고 7:3 비율로 분할하였다."
   ],
   "metadata": {
    "collapsed": false
   }
  },
  {
   "cell_type": "code",
   "execution_count": 15,
   "outputs": [
    {
     "name": "stdout",
     "output_type": "stream",
     "text": [
      "(276, 13) (119, 13) (276,) (119,)\n"
     ]
    }
   ],
   "source": [
    "# train, test 세트 7:3으로 분할\n",
    "from sklearn.model_selection import train_test_split\n",
    "y = student.pop('grade')\n",
    "x = student\n",
    "\n",
    "x_train, x_test, y_train, y_test = train_test_split(x, y, test_size = 0.3, random_state = 731)\n",
    "print(x_train.shape, x_test.shape, y_train.shape, y_test.shape)"
   ],
   "metadata": {
    "collapsed": false
   }
  },
  {
   "cell_type": "markdown",
   "source": [
    "# 5. svm, xgboost, randomforest 3개의 알고리즘 공통점을 쓰고, 학생성적 예측 분석에 적합한 알고리즘인지 설명"
   ],
   "metadata": {
    "collapsed": false
   }
  },
  {
   "cell_type": "markdown",
   "source": [
    "#### svm, xgboost, randomforest의 공통점\n",
    "* 회귀분석 시 사용할 수 있는 알고리즘이다.\n",
    "* 분류분석 시에도 사용할 수 있는 알고리즘이다.\n",
    "* 모두 범주형 변수를 독립변수(설명변수)로 사용할 수 없어 분석 전 변환(인코딩)이 필요하다.\n",
    "* 과대 적합 또는 과소 적합을 피하기 위핸 매개변수의 설정이 필요하다.\n",
    "* 회귀분석에서 다중공선성의 문제를 해결할 수 있다.\n",
    "    * svm은 커널트릭을 통해, xgboost, randomforest는 트리모델을 통해 해결할 수 있다.\n",
    "\n",
    "#### * 해당 데이터에서는 종속변수(grade)의 값이 연속형이므로 회귀분석이 적합하다.\n",
    "#### * 그러므로 3가지 모두 연속형 변수인 grade를 예측하기에 적합하다."
   ],
   "metadata": {
    "collapsed": false
   }
  },
  {
   "cell_type": "markdown",
   "source": [
    "# 6. 세 가지 모델 모두 모델링해보고 가장 적합한 알고리즘 선택. 이때, 이를 선택한 이유와 모델의 한계점, 보완 가능한 부분을 설명하고 현업에서 주의할 점 기술"
   ],
   "metadata": {
    "collapsed": false
   }
  },
  {
   "cell_type": "markdown",
   "source": [
    "#### 1. svm"
   ],
   "metadata": {
    "collapsed": false
   }
  },
  {
   "cell_type": "code",
   "execution_count": null,
   "outputs": [],
   "source": [
    "from sklearn.svm import SVR\n",
    "\n",
    "# 회귀모델 적합시키기\n",
    "svr_rbf = SVR(kernel = 'rbf', C=100, gamma=0.1, epsilon=0.1)\n",
    "svr_lin = SVR(kernel = 'linear', C=100, gamma='auto', epsilon=0.1)\n",
    "svr_poly = SVR(kernel = 'poly', C=100, gamma='auto', epsilon=0.1, degree=3, coef0=1)\n",
    "\n",
    "svr_rbf.fit(x_train, y_train)\n",
    "svr_lin.fit(x_train, y_train)\n",
    "svr_poly.fit(x_train, y_train)"
   ],
   "metadata": {
    "collapsed": false,
    "pycharm": {
     "is_executing": true
    }
   }
  },
  {
   "cell_type": "code",
   "execution_count": null,
   "outputs": [],
   "source": [
    "rbf_pred = svr_rbf.predict(x_test)\n",
    "lin_pred = svr_lin.predict(x_test)\n",
    "poly_pred = svr_poly.predict(x_test)\n",
    "\n",
    "from sklearn.metrics import mean_absolute_error, mean_squared_error\n",
    "import numpy as np\n",
    "\n",
    "preds = [rbf_pred, lin_pred, poly_pred]\n",
    "evls = ['mse', 'rmse', 'mae']\n",
    "kernel = ['randomforest', 'linear', 'polynomial']\n",
    "\n",
    "results = pd.DataFrame(index=kernel, columns=evls)\n",
    "\n",
    "for pred, nm in zip(preds, kernel):\n",
    "    mse = mean_squared_error(y_test, pred)\n",
    "    rmse = np.sqrt(mse)\n",
    "    mae = mean_absolute_error(y_test, pred)\n",
    "\n",
    "    results.loc[nm]['mse'] = round(mse, 2)\n",
    "    results.loc[nm]['rmse'] = round(rmse, 2)\n",
    "    results.loc[nm]['mae'] = round(mae, 2)\n",
    "\n",
    "results"
   ],
   "metadata": {
    "collapsed": false,
    "pycharm": {
     "is_executing": true
    }
   }
  },
  {
   "cell_type": "markdown",
   "source": [
    "#### 2. xgboost"
   ],
   "metadata": {
    "collapsed": false
   }
  },
  {
   "cell_type": "code",
   "execution_count": null,
   "outputs": [],
   "source": [
    "import xgboost\n",
    "\n",
    "xgb_model = xgboost.XGBRegressor(n_estimators=100, learning_rate=0.08, gamma=0, subsample=0.75, max_depth=5)\n",
    "xgb_model.fit(x_train, y_train)\n",
    "xgb_pred = xgb_model.predict(x_test)\n",
    "\n",
    "mse = mean_squared_error(y_test, xgb_pred)\n",
    "rmse = np.sqrt(mse)\n",
    "mae = mean_absolute_error(y_test, xgb_pred)"
   ],
   "metadata": {
    "collapsed": false,
    "pycharm": {
     "is_executing": true
    }
   }
  },
  {
   "cell_type": "code",
   "execution_count": null,
   "outputs": [],
   "source": [],
   "metadata": {
    "collapsed": false
   }
  }
 ],
 "metadata": {
  "kernelspec": {
   "display_name": "Python 3",
   "language": "python",
   "name": "python3"
  },
  "language_info": {
   "codemirror_mode": {
    "name": "ipython",
    "version": 2
   },
   "file_extension": ".py",
   "mimetype": "text/x-python",
   "name": "python",
   "nbconvert_exporter": "python",
   "pygments_lexer": "ipython2",
   "version": "2.7.6"
  }
 },
 "nbformat": 4,
 "nbformat_minor": 0
}

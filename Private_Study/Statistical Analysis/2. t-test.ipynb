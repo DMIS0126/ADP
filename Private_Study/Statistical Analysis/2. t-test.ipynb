{
 "cells": [
  {
   "cell_type": "markdown",
   "metadata": {},
   "source": [
    "### 일표본 T-검정(One Sample t-test)"
   ]
  },
  {
   "cell_type": "code",
   "execution_count": 1,
   "metadata": {},
   "outputs": [
    {
     "name": "stdout",
     "output_type": "stream",
     "text": [
      "<class 'pandas.core.frame.DataFrame'>\n",
      "RangeIndex: 144 entries, 0 to 143\n",
      "Data columns (total 3 columns):\n",
      " #   Column  Non-Null Count  Dtype  \n",
      "---  ------  --------------  -----  \n",
      " 0   Sex     144 non-null    object \n",
      " 1   Bwt     144 non-null    float64\n",
      " 2   Hwt     144 non-null    float64\n",
      "dtypes: float64(2), object(1)\n",
      "memory usage: 3.5+ KB\n",
      "None\n",
      "\n",
      "=====\n",
      "\n",
      "1. 샤피로 검정(정규성 검정)\n",
      "첫번째값(검정통계치) :  0.9518786668777466\n",
      "두 번째값(p-value) :  6.730248423991725e-05\n",
      "\n",
      "=====\n",
      "\n",
      "2. 윌콕슨 부호 순위 검정(t-검정)\n",
      "첫번째값(검정통계치) :  3573.0\n",
      "두 번째값(p-value) :  0.02524520294814093\n"
     ]
    },
    {
     "data": {
      "image/png": "[encoded data removed]",
      "text/plain": [
       "<Figure size 432x288 with 1 Axes>"
      ]
     },
     "metadata": {
      "needs_background": "light"
     },
     "output_type": "display_data"
    }
   ],
   "source": [
    "# 고양이 데이터로 확인해보기\n",
    "# cats 데이터에서 고양이들의 평균 모무게가 2.6kg인지 아닌지에 대한 통계적 검정\n",
    "    # (양측검정, 유의수준 0.05)\n",
    "\n",
    "import pandas as pd\n",
    "\n",
    "cats = pd.read_csv('./data/cats.csv')\n",
    "\n",
    "# Bwt : 고양이의 몸무게, Hwt : 고양이의 길이\n",
    "print(cats.info())\n",
    "print('\\n=====\\n')\n",
    "\n",
    "# Shapiro test(정규성 검정)\n",
    "# scipy.stats.shapiro(x)\n",
    "# 귀무가설(H0) : 정규성을 가진다.\n",
    "    # 즉, 데이터가 정규분포를 따른다.\n",
    "# 대립가설(H1) : 정규성을 가지지 않는다.\n",
    "    # 즉, 데이터가 정규분포를 따르지 않는다.\n",
    "import scipy.stats as stats\n",
    "from scipy.stats import shapiro\n",
    "mu = 2.6\n",
    "print('1. 샤피로 검정(정규성 검정)')\n",
    "print('첫번째값(검정통계치) : ', shapiro(cats['Bwt'])[0])\n",
    "print('두 번째값(p-value) : ', shapiro(cats['Bwt'])[1])\n",
    "print('\\n=====\\n')\n",
    "\n",
    "# p-value가 유의수준보다 작으므로 '데이터가 정규분포를 따른다'는 귀무가설을 기각한다.\n",
    "    # 즉, cats['Bwt'] 데이터는 정규분포를 따르지 않는다.\n",
    "    # 따라서 wilcoxon test로 t-test를 진행한다.\n",
    "    # 만약 정규분포를 따른다면 stats.ttest_1samp(cats.Bwt, popmean = mu)를 사용하면 된다.\n",
    "print('2. 윌콕슨 부호 순위 검정(t-검정)')\n",
    "print('첫번째값(검정통계치) : ', stats.wilcoxon(cats.Bwt - mu, alternative = 'two-sided')[0])\n",
    "print('두 번째값(p-value) : ', stats.wilcoxon(cats.Bwt - mu, alternative = 'two-sided')[1])\n",
    "\n",
    "# p-value가 유의수준보다 작으므로 귀무가설을 기각하고 대립가설을 채택한다.\n",
    "    # 즉, 유의수준 0.05 하에 고양이의 평균 몸무게는 2.6kg라고 할 수 없다.\n",
    "# 시각화로 분포 확인해보기\n",
    "import matplotlib.pyplot as plt\n",
    "cats['Bwt'].hist(bins = 20)\n",
    "plt.ylabel('Count')\n",
    "plt.title('Bwt')\n",
    "plt.show()\n",
    "\n",
    "# 히스토그램을 봐도 정규성을 띄지 않음을 알 수 있다."
   ]
  },
  {
   "cell_type": "markdown",
   "metadata": {},
   "source": [
    "---"
   ]
  },
  {
   "cell_type": "markdown",
   "metadata": {},
   "source": [
    "### 대응표본 T-검정(Paired Sample t-test)"
   ]
  },
  {
   "cell_type": "code",
   "execution_count": 2,
   "metadata": {},
   "outputs": [
    {
     "name": "stdout",
     "output_type": "stream",
     "text": [
      "   before  after\n",
      "0       7      8\n",
      "1       3      4\n",
      "2       4      5\n",
      "3       5      6\n",
      "4       2      2\n",
      "5       1      3\n",
      "6       6      6\n",
      "7       6      8\n",
      "8       5      6\n",
      "9       4      5\n",
      "1 - (1). before에 대한 샤피로 검정(정규성 검정)\n",
      "첫번째값(검정통계치) :  0.9644595384597778\n",
      "두 번째값(p-value) :  0.8352707624435425\n",
      "1 - (2). after에 대한 샤피로 검정(정규성 검정)\n",
      "첫번째값(검정통계치) :  0.9456837177276611\n",
      "두 번째값(p-value) :  0.6177994012832642\n",
      "\n",
      "=====\n",
      "\n",
      "2. t-검정\n",
      "첫번째값(검정통계치) :  4.743416490252569\n",
      "두 번째값(p-value) :  0.0005269356285082764\n"
     ]
    }
   ],
   "source": [
    "# 10명의 환자 대상 수면영양제 복용 전과 후의 수면시간에 대하여 영양제가 효과가 있는지 판단해보기\n",
    "# 유의수준 = 0.05\n",
    "\n",
    "import pandas as pd\n",
    "data = pd.DataFrame({'before' : [7, 3, 4, 5, 2, 1, 6, 6, 5, 4],\n",
    "                     'after' : [8, 4, 5, 6, 2, 3, 6, 8, 6, 5]})\n",
    "\n",
    "print(data)\n",
    "\n",
    "# 정규성 확인\n",
    "# 귀무가설(H0) : 정규성을 가진다.\n",
    "    # 즉, 데이터가 정규분포를 따른다.\n",
    "# 대립가설(H1) : 정규성을 가지지 않는다.\n",
    "    # 즉, 데이터가 정규분포를 따르지 않는다.\n",
    "import scipy.stats as stats\n",
    "from scipy.stats import shapiro\n",
    "\n",
    "print('1 - (1). before에 대한 샤피로 검정(정규성 검정)')\n",
    "print('첫번째값(검정통계치) : ', shapiro(data['before'])[0])\n",
    "print('두 번째값(p-value) : ', shapiro(data['before'])[1])\n",
    "print('1 - (2). after에 대한 샤피로 검정(정규성 검정)')\n",
    "print('첫번째값(검정통계치) : ', shapiro(data['after'])[0])\n",
    "print('두 번째값(p-value) : ', shapiro(data['after'])[1])\n",
    "print('\\n=====\\n')\n",
    "\n",
    "# p-value가 유의수준보다 크므로 귀무가설을 채택한다.\n",
    "    # 즉, before와 after 두 데이터는 모두 정규성을 갖는다.\n",
    "    # 이에 따라 ttest 진행\n",
    "print('2. t-검정')\n",
    "print('첫번째값(검정통계치) : ', stats.ttest_rel(data['after'], data['before'], alternative = 'greater')[0])\n",
    "print('두 번째값(p-value) : ', stats.ttest_rel(data['after'], data['before'], alternative = 'greater')[1])\n",
    "\n",
    "# p-value가 유의수준보다 작으므로 '수면영양제를 복용하기 전과 후의 평균 수면시간의 차이는 통계적으로 유의하다.'고 해석할 수 있다.\n",
    "    # 또한, alternative를 greater로 설정했기 때문에 '영양제를 복용한 후 수면시간이 늘었다.'는 결론을 낼 수 있다."
   ]
  },
  {
   "cell_type": "markdown",
   "metadata": {},
   "source": [
    "---"
   ]
  },
  {
   "cell_type": "markdown",
   "metadata": {},
   "source": [
    "### 독립표본 t-test(Independent Sample t-test)"
   ]
  },
  {
   "cell_type": "code",
   "execution_count": 43,
   "metadata": {},
   "outputs": [
    {
     "name": "stdout",
     "output_type": "stream",
     "text": [
      "0      1\n",
      "1      1\n",
      "2      1\n",
      "3      1\n",
      "4      1\n",
      "      ..\n",
      "139    0\n",
      "140    0\n",
      "141    0\n",
      "142    0\n",
      "143    0\n",
      "Name: Sex, Length: 144, dtype: int64\n",
      "등분산성 검정\n",
      "첫번째값(검정통계치) :  19.43101190877999\n",
      "두 번째값(p-value) :  2.0435285255189404e-05\n",
      "\n",
      "=====\n",
      "\n",
      "t-검정\n",
      "첫번째값(검정통계치) :  -8.70948849909559\n",
      "두 번째값(p-value) :  8.831034455859356e-15\n",
      "\n",
      "=====\n",
      "\n",
      "Bwt    2.359574\n",
      "dtype: float64 Bwt    2.9\n",
      "dtype: float64\n"
     ]
    },
    {
     "name": "stderr",
     "output_type": "stream",
     "text": [
      "/var/folders/fw/2dys5ylj2x7d0x79mh5jkmy80000gn/T/ipykernel_2438/2286195745.py:47: FutureWarning: The default value of numeric_only in DataFrame.mean is deprecated. In a future version, it will default to False. In addition, specifying 'numeric_only=None' is deprecated. Select only valid columns or specify the value of numeric_only to silence this warning.\n",
      "  print(female.mean(), male.mean())\n",
      "/Users/dominic/opt/anaconda3/lib/python3.9/site-packages/numpy/core/fromnumeric.py:43: VisibleDeprecationWarning: Creating an ndarray from ragged nested sequences (which is a list-or-tuple of lists-or-tuples-or ndarrays with different lengths or shapes) is deprecated. If you meant to do this, you must specify 'dtype=object' when creating the ndarray.\n",
      "  result = getattr(asarray(obj), method)(*args, **kwds)\n"
     ]
    },
    {
     "data": {
      "image/png": "[encoded data removed]",
      "text/plain": [
       "<Figure size 1440x360 with 2 Axes>"
      ]
     },
     "metadata": {
      "needs_background": "light"
     },
     "output_type": "display_data"
    }
   ],
   "source": [
    "# 고양이 데이터로 수컷과 암컷 고양이의 몸무게 차이가 있는지 검정해보기\n",
    "# 일표본 검정에서 정규성을 띄지 않는 것을 확인했지만, 정규성을 띈다고 가정하자.\n",
    "# 즉, 등분산성 검정을 해보자.\n",
    "    # 등분산성 검정에 들어가는 값은 Series 값으로 데이터의 길이가 같아야 한다.\n",
    "import pandas as pd\n",
    "\n",
    "cats = pd.read_csv('./data/cats.csv')\n",
    "\n",
    "female = cats[cats['Sex'] == 'F'][['Sex', 'Bwt']]\n",
    "male = cats[cats['Sex'] == 'M'][['Sex', 'Bwt']]\n",
    "cats['Sex'] = cats['Sex'].map({'F' : 1, 'M' : 0})\n",
    "print(cats['Sex'])\n",
    "\n",
    "\n",
    "\n",
    "# # 여기서 살짝 걸리긴 한다. 데이터의 길이가 같지 않기 때문이다.\n",
    "# # 샘플링을 한 번 해볼까한다. -> 다음에\n",
    "# # SMOTE를 이용한 오버샘플링\n",
    "# !pip install imbalanced-learn\n",
    "# from imblearn.over_sampling import SMOTE\n",
    "# from collections import Counter\n",
    "# import numpy as np\n",
    "\n",
    "\n",
    "# 등분산성 검정\n",
    "# 귀무가설(H0) : 등분산성을 만족시킨다.\n",
    "    # 즉, 두 집단간의 분산이 같다.\n",
    "# 대립가설(H1) : 등분산성을 만족시키지 않는다.\n",
    "    # 즉, 두 집단간의 분산이 같지 않다.\n",
    "import scipy.stats as stats\n",
    "stats.levene(female.Bwt, male.Bwt)\n",
    "print('등분산성 검정')\n",
    "print('첫번째값(검정통계치) : ', stats.levene(female.Bwt, male.Bwt)[0])\n",
    "print('두 번째값(p-value) : ', stats.levene(female.Bwt, male.Bwt)[1])\n",
    "print('\\n=====\\n')\n",
    "\n",
    "# p-value가 유의수준 0.05보다 작으므로 귀무가설을 기각하고 대립가설을 채택한다.\n",
    "    # 즉, 수컷 데이터와 암컷 데이터는 분산이 다르다.\n",
    "    # 따라서 equal_var = False로 독립 t-test 진행하기\n",
    "print('t-검정')\n",
    "print('첫번째값(검정통계치) : ', stats.ttest_ind(female.Bwt, male.Bwt, equal_var = False)[0])\n",
    "print('두 번째값(p-value) : ', stats.ttest_ind(female.Bwt, male.Bwt, equal_var = False)[1])\n",
    "print('\\n=====\\n')\n",
    "\n",
    "# p-value가 유의수준보다 작으므로 귀무가설을 기각하고 대립가설을 채택한다.\n",
    "    # 즉, '수컷과 암컷 고양이의 몸무게 차이는 유의수준 0.05 하에서 통계적으로 유의하다.'라고 해석할 수 있다.\n",
    "print(female.mean(), male.mean())\n",
    "\n",
    "# 시각화해보기\n",
    "import matplotlib.pyplot as plt\n",
    "fig, axs = plt.subplots(1, 2, figsize = (20, 5))\n",
    "fig.suptitle('bar plot')\n",
    "\n",
    "female_Bwt_count = pd.DataFrame(female.value_counts(), columns = ['count'])\n",
    "male_Bwt_count = pd.DataFrame(male.value_counts(), columns = ['count'])\n",
    "\n",
    "\n",
    "\n",
    "axs[0].bar(female_Bwt_count.loc['F'].index, pd.Series(female_Bwt_count.loc['F'].values.tolist()))\n",
    "axs[1].bar(male_Bwt_count.loc['M'].index, pd.Series(male_Bwt_count.loc['M'].values.tolist()))\n",
    "axs[0].set_title('female_Bwt')\n",
    "axs[1].set_title('male_Bwt')\n",
    "axs[0].set_ylabel('Count')\n",
    "axs[1].set_ylabel('Count')\n",
    "plt.show()"
   ]
  }
 ],
 "metadata": {
  "kernelspec": {
   "display_name": "Python 3 (ipykernel)",
   "language": "python",
   "name": "python3"
  },
  "language_info": {
   "codemirror_mode": {
    "name": "ipython",
    "version": 3
   },
   "file_extension": ".py",
   "mimetype": "text/x-python",
   "name": "python",
   "nbconvert_exporter": "python",
   "pygments_lexer": "ipython3",
   "version": "3.9.12"
  }
 },
 "nbformat": 4,
 "nbformat_minor": 1
}

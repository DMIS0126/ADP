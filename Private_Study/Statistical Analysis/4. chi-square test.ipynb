{
 "cells": [
  {
   "cell_type": "markdown",
   "metadata": {},
   "source": [
    "### 적합성 검정"
   ]
  },
  {
   "cell_type": "code",
   "execution_count": 19,
   "metadata": {},
   "outputs": [
    {
     "name": "stdout",
     "output_type": "stream",
     "text": [
      "<class 'pandas.core.frame.DataFrame'>\n",
      "RangeIndex: 891 entries, 0 to 890\n",
      "Data columns (total 12 columns):\n",
      " #   Column       Non-Null Count  Dtype  \n",
      "---  ------       --------------  -----  \n",
      " 0   PassengerId  891 non-null    int64  \n",
      " 1   Survived     891 non-null    int64  \n",
      " 2   Pclass       891 non-null    int64  \n",
      " 3   Name         891 non-null    object \n",
      " 4   Sex          891 non-null    object \n",
      " 5   Age          714 non-null    float64\n",
      " 6   SibSp        891 non-null    int64  \n",
      " 7   Parch        891 non-null    int64  \n",
      " 8   Ticket       891 non-null    object \n",
      " 9   Fare         891 non-null    float64\n",
      " 10  Cabin        204 non-null    object \n",
      " 11  Embarked     889 non-null    object \n",
      "dtypes: float64(2), int64(5), object(5)\n",
      "memory usage: 83.7+ KB\n",
      "None\n",
      "\n",
      "=====\n",
      "\n",
      "female    233\n",
      "male      109\n",
      "Name: Sex, dtype: int64\n",
      "\n",
      "=====\n",
      "\n",
      "적합성 검정\n",
      " Power_divergenceResult(statistic=44.95906432748538, pvalue=2.0119672574477235e-11)\n"
     ]
    }
   ],
   "source": [
    "# 타이타닉 데이터로 적합성 검정해보기\n",
    "    # 귀무가설(H0) : 타이타닉호의 생존자 중 남자의 비율이 50%, 여자의 비율이 50%이다.\n",
    "    # 대립가설(H1) : 타이타닉호의 생존자 중 남자의 비율이 50%, 여자의 비율이 50%이라고 할 수 없다.\n",
    "\n",
    "import pandas as pd\n",
    "df = pd.read_csv('./data/titanic.csv')\n",
    "print(df.info())\n",
    "print('\\n=====\\n')\n",
    "\n",
    "# 생존자 중 남녀 비율 확인\n",
    "df_t = df[df.Survived == 1]\n",
    "print(df_t['Sex'].value_counts())\n",
    "print('\\n=====\\n')\n",
    "# 확인 결과 남자 109, 여자 233이므로 총 342명이다.\n",
    "    # 즉, 비율이 50:50이라면 각 171명이어야 한다.\n",
    "\n",
    "# 유의수준 0.05로 적합성 검정하기\n",
    "from scipy.stats import chisquare\n",
    "chi = chisquare(df_t['Sex'].value_counts(), f_exp = [171, 171])\n",
    "print('적합성 검정\\n', chi)\n",
    "\n",
    "# p-value가 유의수준보다 작으므로 귀무가설을 기각하고 대립가설을 채택한다.\n",
    "    # 즉, 타이타닉호의 생존자 중 남자의 비율이 50%, 여자의 비율이 50%이라고 할 수 없다."
   ]
  },
  {
   "cell_type": "markdown",
   "metadata": {},
   "source": [
    "---"
   ]
  },
  {
   "cell_type": "markdown",
   "metadata": {},
   "source": [
    "### 독립성 검정"
   ]
  },
  {
   "cell_type": "code",
   "execution_count": 20,
   "metadata": {},
   "outputs": [
    {
     "name": "stdout",
     "output_type": "stream",
     "text": [
      "Survived    0    1\n",
      "Pclass            \n",
      "1          80  136\n",
      "2          97   87\n",
      "3         372  119\n",
      "Statistic :  102.88898875696056\n",
      "p-value :  4.549251711298793e-23\n",
      "df :  2\n",
      "expect : \n",
      " [[133.09090909  82.90909091]\n",
      " [113.37373737  70.62626263]\n",
      " [302.53535354 188.46464646]]\n"
     ]
    }
   ],
   "source": [
    "# 귀무가설(H0) : class 변수와 survived 변수는 서로 독립이다.\n",
    "# 대립가설(H1) : class 변수와 survived 변수는 서로 독립이 아니다.\n",
    "\n",
    "# 교차표 만들기 (pd.crosstab(index, column)\n",
    "df_1 = pd.crosstab(df['Pclass'], df['Survived'])\n",
    "print(df_1)\n",
    "\n",
    "# 독립성 검정하기\n",
    "from scipy.stats import chi2_contingency # contingency : 우연\n",
    "chi, p, df, expect = chi2_contingency(df_1)\n",
    "print('Statistic : ', chi)\n",
    "print('p-value : ', p)\n",
    "print('df : ', df)\n",
    "print('expect : \\n', expect)\n",
    "\n",
    "# p-value가 유의수준보다 작으므로 귀무가설을 기각하고 대립가설을 채택한다.\n",
    "    # 즉, class 변수와 survived 변수는 서로 독립이 아니다."
   ]
  }
 ],
 "metadata": {
  "kernelspec": {
   "display_name": "Python 3 (ipykernel)",
   "language": "python",
   "name": "python3"
  },
  "language_info": {
   "codemirror_mode": {
    "name": "ipython",
    "version": 3
   },
   "file_extension": ".py",
   "mimetype": "text/x-python",
   "name": "python",
   "nbconvert_exporter": "python",
   "pygments_lexer": "ipython3",
   "version": "3.9.12"
  }
 },
 "nbformat": 4,
 "nbformat_minor": 1
}

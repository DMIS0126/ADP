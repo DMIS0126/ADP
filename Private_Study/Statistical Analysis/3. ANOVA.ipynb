{
 "cells": [
  {
   "cell_type": "markdown",
   "source": [
    "### 일원배치 분산분석(One-way ANOVA)"
   ],
   "metadata": {
    "collapsed": false
   }
  },
  {
   "cell_type": "code",
   "execution_count": 37,
   "metadata": {
    "collapsed": true
   },
   "outputs": [
    {
     "name": "stdout",
     "output_type": "stream",
     "text": [
      "target\n",
      "Iris-setosa        50\n",
      "Iris-versicolor    50\n",
      "Iris-virginica     50\n",
      "Name: count, dtype: int64\n"
     ]
    },
    {
     "data": {
      "text/plain": "<Figure size 432x288 with 1 Axes>",
      "image/png": "[encoded data removed]"
     },
     "metadata": {
      "needs_background": "light"
     },
     "output_type": "display_data"
    },
    {
     "name": "stdout",
     "output_type": "stream",
     "text": [
      "ShapiroResult(statistic=0.968691885471344, pvalue=0.20465604960918427)\n",
      "ShapiroResult(statistic=0.9741330742835999, pvalue=0.33798879384994507)\n",
      "ShapiroResult(statistic=0.9673910140991211, pvalue=0.1809043288230896)\n",
      "         Multiple Comparison of Means - Tukey HSD, FWER=0.50         \n",
      "=====================================================================\n",
      "     group1          group2     meandiff p-adj  lower   upper  reject\n",
      "---------------------------------------------------------------------\n",
      "    Iris-setosa Iris-versicolor   -0.648   0.0 -0.7246 -0.5714   True\n",
      "    Iris-setosa  Iris-virginica   -0.444   0.0 -0.5206 -0.3674   True\n",
      "Iris-versicolor  Iris-virginica    0.204 0.009  0.1274  0.2806   True\n",
      "---------------------------------------------------------------------\n"
     ]
    },
    {
     "data": {
      "text/plain": "<Figure size 720x432 with 1 Axes>",
      "image/png": "[encoded data removed]"
     },
     "metadata": {
      "needs_background": "light"
     },
     "output_type": "display_data"
    }
   ],
   "source": [
    "# iris 데이터 이용하여 일원배치 분산분석 해보기\n",
    "import pandas as pd\n",
    "\n",
    "iris = pd.read_csv('./data/Iris.csv')\n",
    "iris.columns = ['order', 'sepal length', 'sepal width', 'petal length', 'petal width', 'target']\n",
    "iris.drop(columns='order', inplace=True)\n",
    "\n",
    "# target이 가지고 있는 변수 개수 확인\n",
    "print(iris['target'].value_counts())\n",
    "\n",
    "# target별로 변수에 할당하여 분산분석 해보기\n",
    "target_list = iris.target.unique()\n",
    "setosa = iris[iris['target'] == 'Iris-setosa'][['sepal width']]\n",
    "versicolor = iris[iris['target'] == 'Iris-versicolor'][['sepal width']]\n",
    "virginica = iris[iris['target'] == 'Iris-virginica'][['sepal width']]\n",
    "\n",
    "# target 시각화 및 분포 확인\n",
    "import seaborn as sns\n",
    "import matplotlib.pyplot as plt\n",
    "# scatter plot by groups\n",
    "sns.scatterplot(x='target',\n",
    "                y='sepal width',\n",
    "                hue='target',\n",
    "                style='target',\n",
    "                s=100,\n",
    "                data = iris) # marker size\n",
    "plt.show()\n",
    "\n",
    "# 시각화 결과, 3종류의 sepal width의 평균은 차이가 있어 보인다.\n",
    "  # 통계적으로 차이가 있는지 검정해보자.\n",
    "  # 귀무가설 : 세 가지 종에 대해 Sepal Width의 평균은 모두 같다.\n",
    "  # 대립가설 : 적어도 하나의 종에 대한 Sepal Width 평균값에는 차이가 있다.\n",
    "\n",
    "# shapiro test(정규성 검정)\n",
    "import scipy.stats as stats\n",
    "\n",
    "print(stats.shapiro(setosa))\n",
    "print(stats.shapiro(versicolor))\n",
    "print(stats.shapiro(virginica))\n",
    "# 모두 p-value가 유의수준인 0.05보다 크므로 귀무가설을 채택한다.\n",
    "  # 즉, 정규성을 만족한다.\n",
    "\n",
    "# 이제 등분산성을 검정하자.\n",
    "# levene(등분산성 검정)\n",
    "stats.levene(setosa['sepal width'], versicolor['sepal width'], virginica['sepal width'])\n",
    "# p-value가 유의수준인 0.05보다 크므로 귀무가설을 채택한다.\n",
    "    # 즉, 등분산성을 만족한다.\n",
    "\n",
    "# 이제 ANOVA를 진행해보자\n",
    "stats.f_oneway(setosa, versicolor, virginica)\n",
    "\n",
    "# 검정 결과 p-value가 유의수준 0.05보다 작으므로 귀무가설을 기각하고 대립가설을 채택한다.\n",
    "    # 즉, 세 가지 종의 꽃받침 폭의 평균은 차이가 있다고 할 수 있다.\n",
    "\n",
    "# 그렇다면 세 가지 종들 중 특히 어떤 종들 간 꽃받침 폭에 차이가 있는지 확인해보자\n",
    "# 사후검정\n",
    "from statsmodels.stats.multicomp import pairwise_tukeyhsd\n",
    "from statsmodels.stats.multicomp import MultiComparison\n",
    "mc = MultiComparison(data = iris['sepal width'], groups = iris['target'])\n",
    "tuekeyhsd = pairwise_tukeyhsd(iris['sepal width'], groups= iris['target'], alpha=0.5)\n",
    "fig = tuekeyhsd.plot_simultaneous()\n",
    "print(tuekeyhsd.summary())\n",
    "\n",
    "# 여기서 모든 p-value가 유의수준보다 작으므로 대립가설(집단들 사이의 평균은 같지 않다.)를 채택한다.\n",
    "    # 즉, 모든 집단간 평균은 서로 같지 않다."
   ]
  },
  {
   "cell_type": "markdown",
   "source": [
    "---"
   ],
   "metadata": {
    "collapsed": false
   }
  },
  {
   "cell_type": "markdown",
   "source": [
    "### 이원배치 분산분석(Two-way ANOVA)"
   ],
   "metadata": {
    "collapsed": false
   }
  },
  {
   "cell_type": "code",
   "execution_count": 49,
   "outputs": [
    {
     "name": "stdout",
     "output_type": "stream",
     "text": [
      "<class 'pandas.core.frame.DataFrame'>\n",
      "RangeIndex: 32 entries, 0 to 31\n",
      "Data columns (total 3 columns):\n",
      " #   Column  Non-Null Count  Dtype  \n",
      "---  ------  --------------  -----  \n",
      " 0   mpg     32 non-null     float64\n",
      " 1   am      32 non-null     int64  \n",
      " 2   cyl     32 non-null     int64  \n",
      "dtypes: float64(1), int64(2)\n",
      "memory usage: 896.0 bytes\n",
      "None\n",
      "[1 0]\n",
      "[6 4 8]\n",
      "                  sum_sq    df          F        PR(>F)\n",
      "C(cyl)        456.400921   2.0  24.819011  9.354735e-07\n",
      "C(am)          36.766919   1.0   3.998759  5.608373e-02\n",
      "C(cyl):C(am)   25.436511   2.0   1.383233  2.686140e-01\n",
      "Residual      239.059167  26.0        NaN           NaN\n"
     ]
    }
   ],
   "source": [
    "import pandas as pd\n",
    "\n",
    "mtcars = pd.read_csv('./data/mtcars.csv')\n",
    "\n",
    "# cyl, am, mpg 변수들로만 구성된 데이터세트 생성\n",
    "mtcars = mtcars[['mpg', 'am', 'cyl']]\n",
    "print(mtcars.info())\n",
    "print(mtcars['am'].unique())\n",
    "print(mtcars['cyl'].unique())\n",
    "# 종속변수 mpg는 연속형, 독립변수 am, cyl은 수치형이지만, 의미상 범주형 변수이다.\n",
    "\n",
    "# 교호작용 검정\n",
    "    # 귀무가설 : 변속기 종류와 실린더 개수 간에는 상호작용 효과가 없다.\n",
    "    # 대립가설 : 변속기 종류와 실린더 개수 간에는 상호작용 효과가 있다.\n",
    "# 주효과 검정 1\n",
    "    # 귀무가설 : 실린더 개수에 따른 주행거리의 차이는 존재하지 않는다.\n",
    "    # 대립가설 : 실린더 개수에 따른 주행거리의 차이는 존재한다.\n",
    "# 주효과 검정 2\n",
    "    # 귀무가설 : 변속기 종류에 따른 주행거리의 차이는 존재하지 않는다.\n",
    "    # 대립가설 : 변속기 종류에 따른 주행거리의 차이는 존재한다.\n",
    "\n",
    "# 분산분석하기\n",
    "from statsmodels.formula.api import ols\n",
    "from statsmodels.stats.anova import anova_lm\n",
    "formula = 'mpg ~ C(cyl) + C(am) + C(cyl) : C(am)'\n",
    "model = ols(formula, mtcars).fit()\n",
    "aov_table = anova_lm(model, typ=2)\n",
    "print(aov_table)"
   ],
   "metadata": {
    "collapsed": false
   }
  },
  {
   "cell_type": "markdown",
   "source": [
    "#### 결과 해석\n",
    "1. C(cyl):C(am)의 p-value가 유의수준보다 크므로 귀무가설을 채택한다.\n",
    "2. C(cyl)의 p-value가 유의수준보다 작으므로 귀무가설을 기각하고 대립가설을 채택한다.\n",
    "3. C(am)의 p-value가 유의수준보다 크므로 귀무가설을 채택한다."
   ],
   "metadata": {
    "collapsed": false
   }
  },
  {
   "cell_type": "code",
   "execution_count": null,
   "outputs": [],
   "source": [],
   "metadata": {
    "collapsed": false
   }
  }
 ],
 "metadata": {
  "kernelspec": {
   "display_name": "Python 3",
   "language": "python",
   "name": "python3"
  },
  "language_info": {
   "codemirror_mode": {
    "name": "ipython",
    "version": 2
   },
   "file_extension": ".py",
   "mimetype": "text/x-python",
   "name": "python",
   "nbconvert_exporter": "python",
   "pygments_lexer": "ipython2",
   "version": "2.7.6"
  }
 },
 "nbformat": 4,
 "nbformat_minor": 0
}
